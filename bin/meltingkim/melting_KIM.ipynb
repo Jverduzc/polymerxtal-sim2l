{
 "cells": [
  {
   "cell_type": "code",
   "execution_count": null,
   "metadata": {
    "scrolled": true
   },
   "outputs": [],
   "source": [
    "%load_ext yamlmagic"
   ]
  },
  {
   "cell_type": "code",
   "execution_count": null,
   "metadata": {},
   "outputs": [],
   "source": [
    "%%yaml INPUTS\n",
    "\n",
    "material:\n",
    "    type: Text\n",
    "    value: Ni\n",
    "    maxlen: 2\n",
    "    options: [Ni, Al, Fe, Co, Ti, W]\n",
    "    \n",
    "crystal_structure:\n",
    "    type: Text\n",
    "    value: fcc\n",
    "    options: [fcc, bcc, hcp]\n",
    "\n",
    "lattice_parameter:\n",
    "    type: Number\n",
    "    value: 3.5203\n",
    "    min: 3\n",
    "    max: 5.5\n",
    "    units: angstroms\n",
    "    \n",
    "mass:\n",
    "    type: Element\n",
    "    property: atomic_weight\n",
    "    value: Ni\n",
    "\n",
    "Tsolid:\n",
    "    type: Number\n",
    "    value: 500\n",
    "    min: 1\n",
    "    max: 4000\n",
    "    units: K\n",
    "    \n",
    "Tliquid:\n",
    "    type: Number\n",
    "    value: 2000\n",
    "    min: 1\n",
    "    max: 4000\n",
    "    units: K\n",
    "    \n",
    "kim_model_name:\n",
    "    type: Text\n",
    "    value: \"EAM_Dynamo_PurjaPun_Mishin_NiAl__MO_751354403791_004\"\n",
    "    "
   ]
  },
  {
   "cell_type": "code",
   "execution_count": null,
   "metadata": {},
   "outputs": [],
   "source": [
    "%%yaml OUTPUTS\n",
    "\n",
    "final_snapshot:\n",
    "    desc: JPG of final structure\n",
    "    type: Image\n",
    "\n",
    "melting_temperature:\n",
    "    desc: The melting temperature\n",
    "    type: Number\n",
    "    units: K\n",
    "\n",
    "LAMMPS_log:\n",
    "    desc: Lammps log file\n",
    "    type: Text\n",
    "\n",
    "time_series:\n",
    "    desc: Time\n",
    "    type: Array\n",
    "    units: ps\n",
    "\n",
    "temperature_series:\n",
    "    desc: Temperature\n",
    "    type: Array\n",
    "    units: K\n",
    "    \n",
    "potential_energy_series:\n",
    "    type: Array\n",
    "    units: eV\n",
    "\n",
    "volume_series:\n",
    "    type: Array\n",
    "    units: angstrom^3\n",
    "    "
   ]
  },
  {
   "cell_type": "code",
   "execution_count": null,
   "metadata": {
    "tags": [
     "parameters"
    ]
   },
   "outputs": [],
   "source": [
    "# PARAMETERS (for testing)\n",
    "# These get replaced when SimTool is run\n",
    "material = 'Ni'\n",
    "crystal_structure = 'fcc'\n",
    "lattice_parameter = 3.5203\n",
    "mass = 58.6934\n",
    "Tsolid = 2000\n",
    "Tliquid = 500\n",
    "kim_model_name = \"EAM_Dynamo_PurjaPun_Mishin_NiAl__MO_751354403791_004\""
   ]
  },
  {
   "cell_type": "code",
   "execution_count": null,
   "metadata": {},
   "outputs": [],
   "source": [
    "# put inputs in a dict for easy substitution with python format\n",
    "inputs = {\n",
    "    'crystal_structure': crystal_structure,\n",
    "    'lattice_parameter': lattice_parameter,\n",
    "    'mass': mass,\n",
    "    'KIM_model_name': kim_model_name,\n",
    "    'material': material,\n",
    "    'Tsolid': Tsolid,\n",
    "    'Tliquid': Tliquid\n",
    "}"
   ]
  },
  {
   "cell_type": "code",
   "execution_count": null,
   "metadata": {},
   "outputs": [],
   "source": [
    "#Build LAMMPS input file\n",
    "lammps_name = 'melt-%s.in' % material\n",
    "logname = 'log-%s.lammps' % material\n",
    "\n",
    "inputfile = '''\n",
    "    #LAMMPS input file\n",
    "    boundary        p p p\n",
    "    units           metal\n",
    "\n",
    "    lattice         {crystal_structure} {lattice_parameter} orient x 1 0 0 orient y 0 1 0 orient z 0 0 1 origin 0.01 0.01 0.01\n",
    "    region          box2 block 0 18 0 8 0 8\n",
    "    create_box      1 box2\n",
    "    create_atoms    1 box\n",
    "    mass            * {mass}\n",
    "\n",
    "    region          Rsolid block 0 9 INF INF INF INF\n",
    "    group           Gsolid region Rsolid\n",
    "    region          Rliquid block 9 18 INF INF INF INF\n",
    "    group           Gliquid region Rliquid\n",
    "\n",
    "    pair_style      kim KIMvirial {KIM_model_name}\n",
    "    pair_coeff      * * {material}\n",
    "\n",
    "    compute         Tsolid Gsolid temp\n",
    "    compute         Tliquid Gliquid temp\n",
    "\n",
    "    thermo          100\n",
    "    thermo_style    custom step etotal pe ke temp c_Tsolid c_Tliquid press vol pxx pyy pzz pxy pxz pyz lx ly lz\n",
    "    timestep        0.001\n",
    "    neighbor        1.0 bin\n",
    "    neigh_modify    once no every 1 delay 0 check yes\n",
    "\n",
    "    minimize        1e-6 1e-10 10000 100000\n",
    "\n",
    "    dump            d1 all image 20000 main.*.ppm type type view 90 90\n",
    "    velocity        Gsolid create {Tsolid} 123456 dist gaussian mom yes rot yes\n",
    "    velocity        Gliquid create {Tliquid} 123456 dist gaussian mom yes rot yes\n",
    "\n",
    "    fix             f3 Gsolid npt temp {Tsolid} {Tsolid} 0.1 aniso 1.01 1.01 1\n",
    "    fix             f4 Gliquid npt temp {Tliquid} {Tliquid} 0.1 aniso 1.01 1.01 1\n",
    "    run             10000\n",
    "    unfix           f3\n",
    "    unfix           f4\n",
    "    #write_data      intermediate.data\n",
    "\n",
    "    fix             f1 all nph aniso 1.01 1.01 1\n",
    "    run             50000\n",
    "    #write_data      nph.data\n",
    "'''.format(**inputs)\n",
    "\n",
    "with open(lammps_name, \"w\") as f:\n",
    "    f.write(inputfile)"
   ]
  },
  {
   "cell_type": "code",
   "execution_count": null,
   "metadata": {},
   "outputs": [],
   "source": [
    "write_string = '''#!/bin/sh\n",
    "lammpsInput=$1\n",
    "kimModel=$2\n",
    "logname=$3\n",
    "\n",
    ". /etc/environ.sh\n",
    "\n",
    "if [ -n \"${ANACONDA_CHOICE}\" ] ; then\n",
    "   unuse -e ${ANACONDA_CHOICE}\n",
    "fi\n",
    "\n",
    "use -e -r openkim-1.6.3\n",
    "use -e -r lammps-22Aug18\n",
    "\n",
    "downloadkim.sh ${kimModel}\n",
    "\n",
    "lmp_serial -in ${lammpsInput} -l ${logname}\n",
    "'''\n",
    "with open(\"runlammps.sh\", \"w\") as f:\n",
    "    f.write(write_string)"
   ]
  },
  {
   "cell_type": "code",
   "execution_count": null,
   "metadata": {},
   "outputs": [],
   "source": [
    "!bash runlammps.sh {lammps_name} {kim_model_name} {logname}"
   ]
  },
  {
   "cell_type": "code",
   "execution_count": null,
   "metadata": {},
   "outputs": [],
   "source": [
    "# import lammps reader (Python 3 version)\n",
    "import sys\n",
    "sys.path.append(\"/apps/share64/debian7/lammps/lammps-22Aug18/tools/python/pizza\")\n",
    "from log3 import log"
   ]
  },
  {
   "cell_type": "code",
   "execution_count": null,
   "metadata": {},
   "outputs": [],
   "source": [
    "logfile = log(logname)\n",
    "time, temperature, potential_energy, volume = logfile.get(\"Step\", \"Temp\", \"PotEng\", \"Volume\")\n",
    "\n",
    "import numpy as np\n",
    "time = np.array(time)\n",
    "temperature = np.array(temperature)\n",
    "\n",
    "idx = np.where(time >= 3e4)\n",
    "melting_temperature = np.average(temperature[idx[0]])"
   ]
  },
  {
   "cell_type": "code",
   "execution_count": null,
   "metadata": {},
   "outputs": [],
   "source": [
    "#----------- OUTPUTS ---------#\n",
    "'''\n",
    "Here's a list of outputs:\n",
    "1. Melting temperature (units: K)\n",
    "2. Arrays for time, temperature, potential_energy and volume (units: ps, K, eV, Å^3 respectively)\n",
    "3. JPG of final structure (filename: 'final.jpg')\n",
    "'''\n",
    "print(melting_temperature)\n",
    "!convert main.20000.ppm main.20000.jpg\n",
    "!mv main.20000.jpg final.jpg"
   ]
  },
  {
   "cell_type": "code",
   "execution_count": null,
   "metadata": {},
   "outputs": [],
   "source": [
    "from IPython.display import Image\n",
    "from hublib.tool import save\n",
    "save('final_snapshot', Image('final.jpg'))"
   ]
  },
  {
   "cell_type": "code",
   "execution_count": null,
   "metadata": {},
   "outputs": [],
   "source": [
    "save('melting_temperature', melting_temperature)\n",
    "with open(logname) as fp:\n",
    "    save('LAMMPS_log', fp.read())"
   ]
  },
  {
   "cell_type": "code",
   "execution_count": null,
   "metadata": {},
   "outputs": [],
   "source": [
    "save('time_series', time)\n",
    "save('temperature_series', temperature)\n",
    "save('potential_energy_series', potential_energy)\n",
    "save('volume_series', volume)"
   ]
  }
 ],
 "metadata": {
  "celltoolbar": "Tags",
  "kernelspec": {
   "display_name": "Python 3",
   "language": "python",
   "name": "python3"
  },
  "language_info": {
   "codemirror_mode": {
    "name": "ipython",
    "version": 3
   },
   "file_extension": ".py",
   "mimetype": "text/x-python",
   "name": "python",
   "nbconvert_exporter": "python",
   "pygments_lexer": "ipython3",
   "version": "3.7.1"
  }
 },
 "nbformat": 4,
 "nbformat_minor": 2
}
