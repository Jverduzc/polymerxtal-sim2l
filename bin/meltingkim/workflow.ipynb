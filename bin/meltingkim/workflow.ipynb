{
 "cells": [
  {
   "cell_type": "code",
   "execution_count": 1,
   "metadata": {},
   "outputs": [],
   "source": [
    "from hublib.tool import get_inputs, run_simtool, rdisplay, read, get_outputs_df, get_outputs, get_output_files"
   ]
  },
  {
   "cell_type": "code",
   "execution_count": 2,
   "metadata": {},
   "outputs": [
    {
     "data": {
      "text/plain": [
       "material:\n",
       "    type: Text\n",
       "    value: Ni\n",
       "    maxlen: 2\n",
       "    options: ['Ni', 'Al', 'Fe', 'Co', 'Ti', 'W']\n",
       "\n",
       "crystal_structure:\n",
       "    type: Text\n",
       "    value: fcc\n",
       "    options: ['fcc', 'bcc', 'hcp']\n",
       "\n",
       "lattice_parameter:\n",
       "    type: Number\n",
       "    value: 3.5203\n",
       "    min: 3\n",
       "    max: 5.5\n",
       "    units: angstrom\n",
       "\n",
       "mass:\n",
       "    type: Element\n",
       "    property: atomic_weight\n",
       "    value: 58.6934\n",
       "\n",
       "Tsolid:\n",
       "    type: Number\n",
       "    value: 500\n",
       "    min: 1\n",
       "    max: 4000\n",
       "    units: kelvin\n",
       "\n",
       "Tliquid:\n",
       "    type: Number\n",
       "    value: 2000\n",
       "    min: 1\n",
       "    max: 4000\n",
       "    units: kelvin\n",
       "\n",
       "kim_model_name:\n",
       "    type: Text\n",
       "    value: EAM_Dynamo_PurjaPun_Mishin_NiAl__MO_751354403791_004"
      ]
     },
     "execution_count": 2,
     "metadata": {},
     "output_type": "execute_result"
    }
   ],
   "source": [
    "nb = '/apps/simtools/melting_KIM.ipynb'\n",
    "#nb = 'melting_KIM.ipynb'\n",
    "inputs = get_inputs(nb)\n",
    "inputs"
   ]
  },
  {
   "cell_type": "code",
   "execution_count": 3,
   "metadata": {},
   "outputs": [
    {
     "data": {
      "text/plain": [
       "final_snapshot:\n",
       "    desc: JPG of final structure\n",
       "    type: Image\n",
       "    value: None\n",
       "\n",
       "melting_temperature:\n",
       "    desc: The melting temperature\n",
       "    type: Number\n",
       "    units: kelvin\n",
       "    value: None\n",
       "\n",
       "LAMMPS_log:\n",
       "    desc: Lammps log file\n",
       "    type: Text\n",
       "    value: None\n",
       "\n",
       "time_series:\n",
       "    desc: 'Time'\n",
       "    type: 'Array'\n",
       "    units: 'ps'\n",
       "    value: None\n",
       "\n",
       "temperature_series:\n",
       "    desc: 'Temperature'\n",
       "    type: 'Array'\n",
       "    units: 'K'\n",
       "    value: None\n",
       "\n",
       "potential_energy_series:\n",
       "    type: 'Array'\n",
       "    units: 'eV'\n",
       "    value: None\n",
       "\n",
       "volume_series:\n",
       "    type: 'Array'\n",
       "    units: 'angstrom^3'\n",
       "    value: None"
      ]
     },
     "execution_count": 3,
     "metadata": {},
     "output_type": "execute_result"
    }
   ],
   "source": [
    "# we can get a list of expected outputs\n",
    "get_outputs(nb)"
   ]
  },
  {
   "cell_type": "code",
   "execution_count": 4,
   "metadata": {},
   "outputs": [
    {
     "data": {
      "text/plain": [
       "1273.15"
      ]
     },
     "execution_count": 4,
     "metadata": {},
     "output_type": "execute_result"
    }
   ],
   "source": [
    "# unit conversion\n",
    "inputs.Tsolid.value = '1000 C'\n",
    "inputs.Tsolid.value"
   ]
  },
  {
   "cell_type": "code",
   "execution_count": 5,
   "metadata": {},
   "outputs": [
    {
     "ename": "ValueError",
     "evalue": "Maximum value is 4000",
     "output_type": "error",
     "traceback": [
      "\u001b[0;31m---------------------------------------------------------------------------\u001b[0m",
      "\u001b[0;31mValueError\u001b[0m                                Traceback (most recent call last)",
      "\u001b[0;32m<ipython-input-5-2940c6cdfdd1>\u001b[0m in \u001b[0;36m<module>\u001b[0;34m\u001b[0m\n\u001b[1;32m      1\u001b[0m \u001b[0;31m# range checking\u001b[0m\u001b[0;34m\u001b[0m\u001b[0;34m\u001b[0m\u001b[0;34m\u001b[0m\u001b[0m\n\u001b[0;32m----> 2\u001b[0;31m \u001b[0minputs\u001b[0m\u001b[0;34m.\u001b[0m\u001b[0mTsolid\u001b[0m\u001b[0;34m.\u001b[0m\u001b[0mvalue\u001b[0m \u001b[0;34m=\u001b[0m \u001b[0;34m'5000 C'\u001b[0m\u001b[0;34m\u001b[0m\u001b[0;34m\u001b[0m\u001b[0m\n\u001b[0m",
      "\u001b[0;32m/apps/share64/debian7/anaconda/anaconda3-dev/lib/python3.7/site-packages/hublib/tool/input_types.py\u001b[0m in \u001b[0;36mvalue\u001b[0;34m(self, newval)\u001b[0m\n\u001b[1;32m    268\u001b[0m             \u001b[0;32mraise\u001b[0m \u001b[0mValueError\u001b[0m\u001b[0;34m(\u001b[0m\u001b[0;34m\"Minimum value is %d\"\u001b[0m \u001b[0;34m%\u001b[0m \u001b[0mself\u001b[0m\u001b[0;34m.\u001b[0m\u001b[0mmin\u001b[0m\u001b[0;34m)\u001b[0m\u001b[0;34m\u001b[0m\u001b[0;34m\u001b[0m\u001b[0m\n\u001b[1;32m    269\u001b[0m         \u001b[0;32mif\u001b[0m \u001b[0mself\u001b[0m\u001b[0;34m.\u001b[0m\u001b[0mmax\u001b[0m \u001b[0;32mis\u001b[0m \u001b[0;32mnot\u001b[0m \u001b[0;32mNone\u001b[0m \u001b[0;32mand\u001b[0m \u001b[0mnewval\u001b[0m \u001b[0;34m>\u001b[0m \u001b[0mself\u001b[0m\u001b[0;34m.\u001b[0m\u001b[0mmax\u001b[0m\u001b[0;34m:\u001b[0m\u001b[0;34m\u001b[0m\u001b[0;34m\u001b[0m\u001b[0m\n\u001b[0;32m--> 270\u001b[0;31m             \u001b[0;32mraise\u001b[0m \u001b[0mValueError\u001b[0m\u001b[0;34m(\u001b[0m\u001b[0;34m\"Maximum value is %d\"\u001b[0m \u001b[0;34m%\u001b[0m \u001b[0mself\u001b[0m\u001b[0;34m.\u001b[0m\u001b[0mmax\u001b[0m\u001b[0;34m)\u001b[0m\u001b[0;34m\u001b[0m\u001b[0;34m\u001b[0m\u001b[0m\n\u001b[0m\u001b[1;32m    271\u001b[0m         \u001b[0mself\u001b[0m\u001b[0;34m.\u001b[0m\u001b[0m_value\u001b[0m \u001b[0;34m=\u001b[0m \u001b[0mnewval\u001b[0m\u001b[0;34m\u001b[0m\u001b[0;34m\u001b[0m\u001b[0m\n\u001b[1;32m    272\u001b[0m \u001b[0;34m\u001b[0m\u001b[0m\n",
      "\u001b[0;31mValueError\u001b[0m: Maximum value is 4000"
     ]
    }
   ],
   "source": [
    "# range checking\n",
    "inputs.Tsolid.value = '5000 C'"
   ]
  },
  {
   "cell_type": "code",
   "execution_count": 6,
   "metadata": {},
   "outputs": [
    {
     "data": {
      "text/plain": [
       "1273.15"
      ]
     },
     "execution_count": 6,
     "metadata": {},
     "output_type": "execute_result"
    }
   ],
   "source": [
    "inputs.Tsolid.value"
   ]
  },
  {
   "cell_type": "code",
   "execution_count": 7,
   "metadata": {},
   "outputs": [
    {
     "data": {
      "text/plain": [
       "58.6934"
      ]
     },
     "execution_count": 7,
     "metadata": {},
     "output_type": "execute_result"
    }
   ],
   "source": [
    "inputs.mass.value"
   ]
  },
  {
   "cell_type": "code",
   "execution_count": 8,
   "metadata": {},
   "outputs": [
    {
     "data": {
      "text/plain": [
       "26.9815385"
      ]
     },
     "execution_count": 8,
     "metadata": {},
     "output_type": "execute_result"
    }
   ],
   "source": [
    "# Element type conversion\n",
    "inputs.mass.value = 'Al'\n",
    "inputs.mass.value"
   ]
  },
  {
   "cell_type": "code",
   "execution_count": 9,
   "metadata": {},
   "outputs": [
    {
     "data": {
      "text/plain": [
       "material:\n",
       "    type: Text\n",
       "    value: Ni\n",
       "    maxlen: 2\n",
       "    options: ['Ni', 'Al', 'Fe', 'Co', 'Ti', 'W']\n",
       "\n",
       "crystal_structure:\n",
       "    type: Text\n",
       "    value: fcc\n",
       "    options: ['fcc', 'bcc', 'hcp']\n",
       "\n",
       "lattice_parameter:\n",
       "    type: Number\n",
       "    value: 3.5203\n",
       "    min: 3\n",
       "    max: 5.5\n",
       "    units: angstrom\n",
       "\n",
       "mass:\n",
       "    type: Element\n",
       "    property: atomic_weight\n",
       "    value: 58.6934\n",
       "\n",
       "Tsolid:\n",
       "    type: Number\n",
       "    value: 1273.15\n",
       "    min: 1\n",
       "    max: 4000\n",
       "    units: kelvin\n",
       "\n",
       "Tliquid:\n",
       "    type: Number\n",
       "    value: 2000\n",
       "    min: 1\n",
       "    max: 4000\n",
       "    units: kelvin\n",
       "\n",
       "kim_model_name:\n",
       "    type: Text\n",
       "    value: EAM_Dynamo_PurjaPun_Mishin_NiAl__MO_751354403791_004"
      ]
     },
     "execution_count": 9,
     "metadata": {},
     "output_type": "execute_result"
    }
   ],
   "source": [
    "inputs.mass.value = 58.6934\n",
    "inputs"
   ]
  },
  {
   "cell_type": "code",
   "execution_count": 10,
   "metadata": {},
   "outputs": [
    {
     "data": {
      "application/vnd.jupyter.widget-view+json": {
       "model_id": "df1738fe45de40a8a43dd2642172c7a1",
       "version_major": 2,
       "version_minor": 0
      },
      "text/plain": [
       "HBox(children=(IntProgress(value=0, max=15), HTML(value='')))"
      ]
     },
     "metadata": {},
     "output_type": "display_data"
    },
    {
     "name": "stdout",
     "output_type": "stream",
     "text": [
      "\n"
     ]
    }
   ],
   "source": [
    "# run the SimTool with the input values\n",
    "run_simtool(nb, 'Run0.ipynb', inputs, outdir='RUNS', append=False)\n",
    "\n",
    "# if we want, do more runs for comparison, each with different values\n",
    "#inputs.Tsolid.value = 800\n",
    "#run_simtool(nb, 'Run1.ipynb', inputs, outdir='RUNS', append=True)\n",
    "#inputs.Tsolid.value = 1000\n",
    "#run_simtool(nb, 'Run2.ipynb', inputs, outdir='RUNS', append=True)"
   ]
  },
  {
   "cell_type": "code",
   "execution_count": 11,
   "metadata": {},
   "outputs": [
    {
     "data": {
      "text/html": [
       "<div>\n",
       "<style scoped>\n",
       "    .dataframe tbody tr th:only-of-type {\n",
       "        vertical-align: middle;\n",
       "    }\n",
       "\n",
       "    .dataframe tbody tr th {\n",
       "        vertical-align: top;\n",
       "    }\n",
       "\n",
       "    .dataframe thead th {\n",
       "        text-align: right;\n",
       "    }\n",
       "</style>\n",
       "<table border=\"1\" class=\"dataframe\">\n",
       "  <thead>\n",
       "    <tr style=\"text-align: right;\">\n",
       "      <th></th>\n",
       "      <th>value</th>\n",
       "    </tr>\n",
       "    <tr>\n",
       "      <th>name</th>\n",
       "      <th></th>\n",
       "    </tr>\n",
       "  </thead>\n",
       "  <tbody>\n",
       "    <tr>\n",
       "      <th>LAMMPS_log</th>\n",
       "      <td>LAMMPS (22 Aug 2018)\\n\\n    #LAMMPS input file...</td>\n",
       "    </tr>\n",
       "    <tr>\n",
       "      <th>final_snapshot</th>\n",
       "      <td>{'image/jpeg': '/9j/4AAQSkZJRgABAQEASABIAAD/2w...</td>\n",
       "    </tr>\n",
       "    <tr>\n",
       "      <th>melting_temperature</th>\n",
       "      <td>1771</td>\n",
       "    </tr>\n",
       "    <tr>\n",
       "      <th>potential_energy_series</th>\n",
       "      <td>[-20505.598, -20505.598, -19983.214, -19880.05...</td>\n",
       "    </tr>\n",
       "    <tr>\n",
       "      <th>temperature_series</th>\n",
       "      <td>[0.0, 0.0, 844.11464, 857.81207, 1043.0469, 11...</td>\n",
       "    </tr>\n",
       "    <tr>\n",
       "      <th>time_series</th>\n",
       "      <td>[0.0, 1.0, 100.0, 200.0, 300.0, 400.0, 500.0, ...</td>\n",
       "    </tr>\n",
       "    <tr>\n",
       "      <th>volume_series</th>\n",
       "      <td>[50256.415, 50256.415, 51911.378, 51752.878, 5...</td>\n",
       "    </tr>\n",
       "  </tbody>\n",
       "</table>\n",
       "</div>"
      ],
      "text/plain": [
       "                                                                     value\n",
       "name                                                                      \n",
       "LAMMPS_log               LAMMPS (22 Aug 2018)\\n\\n    #LAMMPS input file...\n",
       "final_snapshot           {'image/jpeg': '/9j/4AAQSkZJRgABAQEASABIAAD/2w...\n",
       "melting_temperature                                                   1771\n",
       "potential_energy_series  [-20505.598, -20505.598, -19983.214, -19880.05...\n",
       "temperature_series       [0.0, 0.0, 844.11464, 857.81207, 1043.0469, 11...\n",
       "time_series              [0.0, 1.0, 100.0, 200.0, 300.0, 400.0, 500.0, ...\n",
       "volume_series            [50256.415, 50256.415, 51911.378, 51752.878, 5..."
      ]
     },
     "execution_count": 11,
     "metadata": {},
     "output_type": "execute_result"
    }
   ],
   "source": [
    "# We can get a dataframe of output values\n",
    "get_outputs_df('RUNS/Run0.ipynb')"
   ]
  },
  {
   "cell_type": "code",
   "execution_count": 12,
   "metadata": {},
   "outputs": [
    {
     "data": {
      "image/jpeg": "[encoded data removed]",
      "text/plain": [
       "<IPython.core.display.Image object>"
      ]
     },
     "metadata": {},
     "output_type": "display_data"
    }
   ],
   "source": [
    "# get a list of notebooks in the RUN directory\n",
    "nbs = get_output_files('RUNS')\n",
    "\n",
    "# display the final image from each run\n",
    "for nb in nbs:\n",
    "    rdisplay(nb, 'final_snapshot')"
   ]
  },
  {
   "cell_type": "code",
   "execution_count": 13,
   "metadata": {},
   "outputs": [
    {
     "name": "stdout",
     "output_type": "stream",
     "text": [
      "Run0.ipynb: Melting Temperature is 1770.9998188741722\n"
     ]
    }
   ],
   "source": [
    "for nb in nbs:\n",
    "    print(\"%s: Melting Temperature is %s\" % (nb.filename, read(nb, 'melting_temperature')))"
   ]
  },
  {
   "cell_type": "code",
   "execution_count": 17,
   "metadata": {},
   "outputs": [
    {
     "data": {
      "application/vnd.jupyter.widget-view+json": {
       "model_id": "c19be7c596774891be67d0920f00dc4c",
       "version_major": 2,
       "version_minor": 0
      },
      "text/plain": [
       "FigureWidget({\n",
       "    'data': [{'type': 'scatter',\n",
       "              'uid': 'ac0647b6-f504-4195-8b76-1ba3e076db91',\n",
       " …"
      ]
     },
     "metadata": {},
     "output_type": "display_data"
    }
   ],
   "source": [
    "import plotly.graph_objs as go\n",
    "for nb in nbs:\n",
    "    time = read(nb, 'time_series')\n",
    "    temp = read(nb, 'temperature_series')\n",
    "    p = go.FigureWidget()\n",
    "    p.add_scatter(x=time, y=temp)\n",
    "    p.layout = {'title': nb.filename}\n",
    "    p.layout.xaxis = {'title': 'Time (picoseconds)'}\n",
    "    p.layout.yaxis = {'title': 'Temperature (K)'}\n",
    "    display(p)"
   ]
  }
 ],
 "metadata": {
  "kernelspec": {
   "display_name": "Python 3",
   "language": "python",
   "name": "python3"
  },
  "language_info": {
   "codemirror_mode": {
    "name": "ipython",
    "version": 3
   },
   "file_extension": ".py",
   "mimetype": "text/x-python",
   "name": "python",
   "nbconvert_exporter": "python",
   "pygments_lexer": "ipython3",
   "version": "3.7.1"
  }
 },
 "nbformat": 4,
 "nbformat_minor": 2
}
