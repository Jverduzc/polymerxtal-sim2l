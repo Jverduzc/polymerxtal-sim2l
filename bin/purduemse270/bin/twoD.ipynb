{
 "cells": [
  {
   "cell_type": "markdown",
   "metadata": {
    "extensions": {
     "jupyter_dashboards": {
      "version": 1,
      "views": {
       "grid_default": {
        "col": 0,
        "height": 6,
        "hidden": false,
        "row": 0,
        "width": 11
       },
       "report_default": {}
      }
     }
    }
   },
   "source": [
    "## Notebook for 2-D patterns\n",
    "\n",
    "#### Instructions\n",
    "[This notebook has been tested for Chrome and Firefox browsers. Other web-browsers may not show visualization properly.]<br>\n",
    "__Select one of the symmetry operations to activate the notebook.__"
   ]
  },
  {
   "cell_type": "code",
   "execution_count": 1,
   "metadata": {
    "extensions": {
     "jupyter_dashboards": {
      "version": 1,
      "views": {
       "grid_default": {
        "col": 0,
        "height": 19,
        "hidden": true,
        "row": 5,
        "width": 9
       },
       "report_default": {}
      }
     }
    }
   },
   "outputs": [],
   "source": [
    "%matplotlib notebook\n",
    "import matplotlib.pyplot as plt\n",
    "from mpl_toolkits.mplot3d import Axes3D\n",
    "\n",
    "from IPython.display import display, Image\n",
    "from ipywidgets import interact, FloatText, Layout, Button, Textarea, Box, Checkbox\n",
    "\n",
    "import numpy as np\n",
    "import math\n",
    "\n",
    "np.set_printoptions(formatter={'float': '{: 0.3f}'.format})\n",
    "plt.style.use('ggplot')"
   ]
  },
  {
   "cell_type": "code",
   "execution_count": 2,
   "metadata": {
    "extensions": {
     "jupyter_dashboards": {
      "version": 1,
      "views": {
       "grid_default": {
        "hidden": true
       },
       "report_default": {}
      }
     }
    }
   },
   "outputs": [],
   "source": [
    "# Calculate symmetry operations\n",
    "def symOp(t_x, t_y, pt_xy):\n",
    "    \n",
    "    ptx = []\n",
    "    pty = []\n",
    "    row, col = pt_xy.shape\n",
    "    \n",
    "    if t_x:\n",
    "        for i in range(0,row):\n",
    "            if pt_xy[i,0] < -1e-6 or pt_xy[i,0] > 1e-6:\n",
    "                ptx.append([pt_xy[i,0], -1.*pt_xy[i,1]])\n",
    "        ptx = np.array(ptx)\n",
    "        ptx = ptx.astype(np.float)\n",
    "                          \n",
    "    if t_y: \n",
    "        for i in range(0,row):\n",
    "            if pt_xy[i,1] < -1e-6 or pt_xy[i,1] > 1e-6:\n",
    "                pty.append([-1.*pt_xy[i,0], pt_xy[i,1]])\n",
    "        pty = np.array(pty)\n",
    "        pty = pty.astype(np.float)\n",
    "     \n",
    "    return ptx, pty"
   ]
  },
  {
   "cell_type": "code",
   "execution_count": 3,
   "metadata": {
    "extensions": {
     "jupyter_dashboards": {
      "version": 1,
      "views": {
       "grid_default": {
        "hidden": true
       },
       "report_default": {}
      }
     }
    }
   },
   "outputs": [],
   "source": [
    "def plot_pts(pts_w, x_w, y_w):\n",
    "          \n",
    "    toread = str(pts_w).split('\\n')\n",
    "    pt_xy  = []\n",
    "    for i in toread:\n",
    "        pt_xy.append(i.split())\n",
    "        \n",
    "    pt_xy = np.array(pt_xy)\n",
    "    pt_xy = pt_xy.astype(np.float)\n",
    "    ptx, pty = symOp(x_w, y_w, pt_xy)\n",
    "        \n",
    "    # plotting\n",
    "    fig, ax = plt.subplots()\n",
    "    ax.scatter(pt_xy[:,0], pt_xy[:,1], color='k')\n",
    "    if x_w:\n",
    "        ax.scatter(ptx[:,0], ptx[:,1], color='r')        \n",
    "    if y_w:\n",
    "        ax.scatter(pty[:,0], pty[:,1], color='g')\n",
    "    ax.set_xlabel('X')\n",
    "    ax.set_ylabel('Y')\n",
    "    ax.set_xlim([-1.2,1.2])\n",
    "    ax.set_ylim([-1.2,1.2])\n",
    "    ax.legend()\n",
    "    plt.show()"
   ]
  },
  {
   "cell_type": "code",
   "execution_count": 4,
   "metadata": {
    "extensions": {
     "jupyter_dashboards": {
      "version": 1,
      "views": {
       "grid_default": {
        "col": 0,
        "height": 22,
        "hidden": true,
        "row": 5,
        "width": 10
       },
       "report_default": {}
      }
     }
    },
    "scrolled": true
   },
   "outputs": [],
   "source": [
    "# Interactive GUI\n",
    "count = 0\n",
    "\n",
    "pts_default = '0.5 0.2\\n0.5 0.4\\n0.5 0.6\\n0.5 0.8\\n0.5 1\\n0.62 0.6\\n0.62 1.\\n0.75 0.6\\n0.75 1\\n0.9 0.65\\n0.9 0.95\\n1. 0.8'\n",
    "\n",
    "cryst_style = {'description_width': '150px'}\n",
    "cryst_layout= Layout(flex='1 1 auto', width='70%')  \n",
    "\n",
    "pts_w = Textarea(\n",
    "    description = 'Point positions',\n",
    "    value = pts_default,\n",
    "    style = cryst_style,\n",
    "    layout= cryst_layout\n",
    ")\n",
    "\n",
    "x_w = Checkbox(\n",
    "    value=False,\n",
    "    description='Reflection to x-axis',\n",
    "    disabled=False,\n",
    "    style = cryst_style,\n",
    "    layout= cryst_layout\n",
    ")\n",
    "\n",
    "y_w = Checkbox(\n",
    "    value=False,\n",
    "    description='Reflection to y-axis',\n",
    "    disabled=False,\n",
    "    style = cryst_style,\n",
    "    layout= cryst_layout\n",
    ")"
   ]
  },
  {
   "cell_type": "code",
   "execution_count": 5,
   "metadata": {
    "extensions": {
     "jupyter_dashboards": {
      "version": 1,
      "views": {
       "grid_default": {
        "col": 0,
        "height": 25,
        "hidden": false,
        "row": 6,
        "width": 11
       },
       "report_default": {}
      }
     }
    }
   },
   "outputs": [
    {
     "data": {
      "application/vnd.jupyter.widget-view+json": {
       "model_id": "6c628e1ef1594b388905eb009ba58392",
       "version_major": 2,
       "version_minor": 0
      },
      "text/plain": [
       "aW50ZXJhY3RpdmUoY2hpbGRyZW49KFRleHRhcmVhKHZhbHVlPXUnMC41IDAuMlxuMC41IDAuNFxuMC41IDAuNlxuMC41IDAuOFxuMC41IDFcbjAuNjIgMC42XG4wLjYyIDEuXG4wLjc1IDAuNlzigKY=\n"
      ]
     },
     "metadata": {},
     "output_type": "display_data"
    }
   ],
   "source": [
    "interact(plot_pts, pts_w=pts_w, x_w=x_w, y_w=y_w);"
   ]
  },
  {
   "cell_type": "code",
   "execution_count": null,
   "metadata": {},
   "outputs": [],
   "source": []
  }
 ],
 "metadata": {
  "extensions": {
   "jupyter_dashboards": {
    "activeView": "grid_default",
    "version": 1,
    "views": {
     "grid_default": {
      "cellMargin": 10,
      "defaultCellHeight": 20,
      "maxColumns": 12,
      "name": "grid",
      "type": "grid"
     },
     "report_default": {
      "name": "report",
      "type": "report"
     }
    }
   }
  },
  "kernelspec": {
   "display_name": "Python2",
   "language": "python",
   "name": "python2"
  },
  "language_info": {
   "codemirror_mode": {
    "name": "ipython",
    "version": 2
   },
   "file_extension": ".py",
   "mimetype": "text/x-python",
   "name": "python",
   "nbconvert_exporter": "python",
   "pygments_lexer": "ipython2",
   "version": "2.7.15"
  },
  "tool": true
 },
 "nbformat": 4,
 "nbformat_minor": 2
}
