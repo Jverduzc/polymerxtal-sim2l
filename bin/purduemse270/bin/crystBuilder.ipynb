{
 "cells": [
  {
   "cell_type": "markdown",
   "metadata": {
    "extensions": {
     "jupyter_dashboards": {
      "version": 1,
      "views": {
       "grid_default": {
        "col": 0,
        "height": 7,
        "hidden": false,
        "row": 0,
        "width": 12
       },
       "report_default": {
        "hidden": false
       }
      }
     }
    }
   },
   "source": [
    "## Crystal Builder\n",
    "This notebook allow users to input unit cell paramters and atom positions for visualization. \n",
    "\n",
    "#### Instructions\n",
    "[This notebook has been tested for Chrome and Firefox browsers. Other web-browsers may not show visualization properly.]\n",
    "<br/>Enter parameters and click **Show** to visualize crystal structure."
   ]
  },
  {
   "cell_type": "code",
   "execution_count": 4,
   "metadata": {
    "extensions": {
     "jupyter_dashboards": {
      "version": 1,
      "views": {
       "grid_default": {
        "hidden": true
       },
       "report_default": {
        "hidden": true
       }
      }
     }
    }
   },
   "outputs": [],
   "source": [
    "import nglview as nv\n",
    "from IPython.display import display, Image\n",
    "from ipywidgets import interact, FloatText, Layout, Button, Textarea, Box\n",
    "\n",
    "from ase.build import *\n",
    "from ase import Atom, Atoms\n",
    "from ase.io import write, read\n",
    "from ase.lattice.triclinic import Triclinic\n",
    "\n",
    "import math\n",
    "import numpy as np\n",
    "np.set_printoptions(formatter={'float': '{: 0.6f}'.format})"
   ]
  },
  {
   "cell_type": "code",
   "execution_count": 5,
   "metadata": {
    "extensions": {
     "jupyter_dashboards": {
      "version": 1,
      "views": {
       "grid_default": {
        "hidden": true
       },
       "report_default": {
        "hidden": true
       }
      }
     }
    }
   },
   "outputs": [],
   "source": [
    "def disp_cell(show_Cryst):\n",
    "    global view\n",
    "    global a_w, b_w, c_w, alpha_w, beta_w, gamma_w, ats_w\n",
    "    global count\n",
    "    if count >0:\n",
    "        view.close()\n",
    "    count += 1    \n",
    "    \n",
    "    a=float(a_w.value)\n",
    "    b=float(b_w.value)\n",
    "    c=float(c_w.value)\n",
    "    alpha=float(alpha_w.value)\n",
    "    beta=float(beta_w.value)\n",
    "    gamma=float(gamma_w.value)\n",
    "    \n",
    "    toread = str(ats_w.value).split('\\n')\n",
    "    at_name= ''\n",
    "    at_xyz = []\n",
    "    for i in toread:\n",
    "        at_name += i.split()[0]\n",
    "        at_xyz.append(i.split()[1:])\n",
    "\n",
    "    at_xyz = np.array(at_xyz)\n",
    "    at_xyz = at_xyz.astype(np.float)\n",
    "    #print at_name\n",
    "    #print at_xyz\n",
    "    \n",
    "    atoms = Triclinic(directions=[[1,0,0], [0,1,0], [0,0,1]],\n",
    "                  symbol='Cu',\n",
    "                  latticeconstant={'a':a, 'b':b, 'c':c, 'alpha':alpha, 'beta':beta, 'gamma':gamma},\n",
    "                  pbc=[1, 1, 1])\n",
    "    \n",
    "    atoms2 = Atoms(at_name, cell=atoms.get_cell(), pbc=[1,1,1], scaled_positions = at_xyz)\n",
    "        \n",
    "    view = nv.show_ase(atoms2)\n",
    "    view.parameters = dict(backgroundColor='white')\n",
    "    view.add_spacefill(radius_type='covalent',scale=0.2)\n",
    "    view.add_unitcell()\n",
    "        \n",
    "    display(view)           "
   ]
  },
  {
   "cell_type": "code",
   "execution_count": 6,
   "metadata": {
    "extensions": {
     "jupyter_dashboards": {
      "version": 1,
      "views": {
       "grid_default": {
        "col": 0,
        "height": 20,
        "hidden": false,
        "row": 7,
        "width": null
       },
       "report_default": {
        "hidden": true
       }
      }
     }
    },
    "scrolled": true
   },
   "outputs": [
    {
     "data": {
      "application/vnd.jupyter.widget-view+json": {
       "model_id": "a52a0a4fa9064ebea5ea989512bd7213",
       "version_major": 2,
       "version_minor": 0
      },
      "text/html": [
       "<p>Failed to display Jupyter Widget of type <code>Box</code>.</p>\n",
       "<p>\n",
       "  If you're reading this message in the Jupyter Notebook or JupyterLab Notebook, it may mean\n",
       "  that the widgets JavaScript is still loading. If this message persists, it\n",
       "  likely means that the widgets JavaScript library is either not installed or\n",
       "  not enabled. See the <a href=\"https://ipywidgets.readthedocs.io/en/stable/user_install.html\">Jupyter\n",
       "  Widgets Documentation</a> for setup instructions.\n",
       "</p>\n",
       "<p>\n",
       "  If you're reading this message in another frontend (for example, a static\n",
       "  rendering on GitHub or <a href=\"https://nbviewer.jupyter.org/\">NBViewer</a>),\n",
       "  it may mean that your frontend doesn't currently support widgets.\n",
       "</p>\n"
      ],
      "text/plain": [
       "Box(children=(FloatText(value=4.0, description=u'Lattice constant a', layout=Layout(flex=u'1 1 auto', width=u'70%'), step=0.1, style=DescriptionStyle(description_width=u'150px')), FloatText(value=4.0, description=u'Lattice constant b', layout=Layout(flex=u'1 1 auto', width=u'70%'), step=0.1, style=DescriptionStyle(description_width=u'150px')), FloatText(value=4.0, description=u'Lattice constant c', layout=Layout(flex=u'1 1 auto', width=u'70%'), step=0.1, style=DescriptionStyle(description_width=u'150px')), FloatText(value=90.0, description=u'Angle $\\\\alpha$', layout=Layout(flex=u'1 1 auto', width=u'70%'), step=5.0, style=DescriptionStyle(description_width=u'150px')), FloatText(value=90.0, description=u'Angle $\\\\beta$', layout=Layout(flex=u'1 1 auto', width=u'70%'), step=5.0, style=DescriptionStyle(description_width=u'150px')), FloatText(value=90.0, description=u'Angle $\\\\gamma$', layout=Layout(flex=u'1 1 auto', width=u'70%'), step=5.0, style=DescriptionStyle(description_width=u'150px')), Textarea(value=u'H 0. 0. 0.\\nH 0.5 0.5 0.5', description=u'Atom positions', layout=Layout(flex=u'1 1 auto', width=u'70%'), style=DescriptionStyle(description_width=u'150px')), Button(description=u'Show', style=ButtonStyle(), tooltip=u'Click to show crystal')), layout=Layout(align_items=u'stretch', display=u'flex', flex_flow=u'column', width=u'70%'))"
      ]
     },
     "metadata": {},
     "output_type": "display_data"
    }
   ],
   "source": [
    "# Interactive GUI\n",
    "count = 0\n",
    "\n",
    "a_default    = 4.\n",
    "b_default    = 4.\n",
    "c_default    = 4.\n",
    "\n",
    "alpha_default = 90.\n",
    "beta_default  = 90.\n",
    "gamma_default = 90.\n",
    "\n",
    "ats_default = 'H 0. 0. 0.\\nH 0.5 0.5 0.5'\n",
    "\n",
    "cryst_style = {'description_width': '150px'}\n",
    "cryst_layout= Layout(flex='1 1 auto', width='70%')  \n",
    "\n",
    "a_w = FloatText(\n",
    "    description = 'Lattice constant a',\n",
    "    value = a_default,\n",
    "    style = cryst_style,\n",
    "    layout= cryst_layout,\n",
    "    step  = 0.1\n",
    ")\n",
    "\n",
    "b_w = FloatText(\n",
    "    description = 'Lattice constant b',\n",
    "    value = b_default,\n",
    "    style = cryst_style,\n",
    "    layout= cryst_layout,\n",
    "    step  = 0.1\n",
    ")\n",
    "\n",
    "c_w = FloatText(\n",
    "    description = 'Lattice constant c',\n",
    "    value = c_default,\n",
    "    style = cryst_style,\n",
    "    layout= cryst_layout,\n",
    "    step  = 0.1\n",
    ")\n",
    "\n",
    "alpha_w = FloatText(\n",
    "    description = r'Angle $\\alpha$',\n",
    "    value = alpha_default,\n",
    "    style = cryst_style,\n",
    "    layout= cryst_layout,\n",
    "    step  = 5.\n",
    ")\n",
    "\n",
    "beta_w = FloatText(\n",
    "    description = r'Angle $\\beta$',\n",
    "    value = beta_default,\n",
    "    style = cryst_style,\n",
    "    layout= cryst_layout,\n",
    "    step  = 5.\n",
    ")\n",
    "\n",
    "gamma_w = FloatText(\n",
    "    description = r'Angle $\\gamma$',\n",
    "    value = gamma_default,\n",
    "    style = cryst_style,\n",
    "    layout= cryst_layout,\n",
    "    step  = 5.\n",
    ")\n",
    "\n",
    "ats_w = Textarea(\n",
    "    description = 'Atom positions',\n",
    "    value = ats_default,\n",
    "    style = cryst_style,\n",
    "    layout= cryst_layout,\n",
    ")\n",
    "\n",
    "show_Cryst = Button(\n",
    "    description = \"Show\",\n",
    "    tooltip='Click to show crystal'\n",
    ")\n",
    "show_Cryst.on_click(disp_cell)\n",
    "\n",
    "box_layout = Layout(display='flex',\n",
    "                    flex_flow='column',\n",
    "                    align_items='stretch',\n",
    "#                   border='solid',\n",
    "                    width='70%')\n",
    "\n",
    "items = [a_w,b_w,c_w,alpha_w,beta_w,gamma_w,ats_w,show_Cryst]\n",
    "box = Box(children=items, layout=box_layout)\n",
    "box"
   ]
  }
 ],
 "metadata": {
  "extensions": {
   "jupyter_dashboards": {
    "activeView": "grid_default",
    "version": 1,
    "views": {
     "grid_default": {
      "cellMargin": 10,
      "defaultCellHeight": 20,
      "maxColumns": 12,
      "name": "grid",
      "type": "grid"
     },
     "report_default": {
      "name": "report",
      "type": "report"
     }
    }
   }
  },
  "kernelspec": {
   "display_name": "Python2",
   "language": "python",
   "name": "python2"
  },
  "language_info": {
   "codemirror_mode": {
    "name": "ipython",
    "version": 2
   },
   "file_extension": ".py",
   "mimetype": "text/x-python",
   "name": "python",
   "nbconvert_exporter": "python",
   "pygments_lexer": "ipython2",
   "version": "2.7.14"
  },
  "tool": true
 },
 "nbformat": 4,
 "nbformat_minor": 2
}
