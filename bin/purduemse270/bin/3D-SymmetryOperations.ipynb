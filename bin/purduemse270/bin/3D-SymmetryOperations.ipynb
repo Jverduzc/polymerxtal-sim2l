{
 "cells": [
  {
   "cell_type": "code",
   "execution_count": 1,
   "metadata": {
    "extensions": {
     "jupyter_dashboards": {
      "version": 1,
      "views": {
       "grid_default": {
        "hidden": true
       },
       "report_default": {}
      }
     }
    }
   },
   "outputs": [],
   "source": [
    "%matplotlib notebook\n",
    "import matplotlib.pyplot as plt\n",
    "from mpl_toolkits.mplot3d import Axes3D\n",
    "#from matplotlib.patches import FancyArrowPatch\n",
    "#from mpl_toolkits.mplot3d.art3d import Poly3DCollection\n",
    "#import mpl_toolkits.mplot3d as a3\n",
    "\n",
    "from IPython.display import display, Image\n",
    "from ipywidgets import interact, FloatText, Layout, Button, Textarea, Box, Checkbox, widgets, FloatSlider, HBox\n",
    "\n",
    "import numpy as np\n",
    "#from numpy import linalg as LA\n",
    "#import math\n",
    "\n",
    "np.set_printoptions(formatter={'float': '{: 0.3f}'.format})\n",
    "plt.style.use('ggplot')"
   ]
  },
  {
   "cell_type": "code",
   "execution_count": 2,
   "metadata": {
    "extensions": {
     "jupyter_dashboards": {
      "version": 1,
      "views": {
       "grid_default": {
        "hidden": true
       },
       "report_default": {}
      }
     }
    }
   },
   "outputs": [],
   "source": [
    "# Choose which symmetry oepration(s) to apply\n",
    "\n",
    "sym_default = 1\n",
    "sym_w = widgets.Dropdown(\n",
    "    options={'Screw': 1, 'Glide': 2, 'Another': 3},\n",
    "    value=sym_default,\n",
    "    description='Symmetry Operation:',\n",
    ")"
   ]
  },
  {
   "cell_type": "code",
   "execution_count": 3,
   "metadata": {
    "extensions": {
     "jupyter_dashboards": {
      "version": 1,
      "views": {
       "grid_default": {
        "hidden": true
       },
       "report_default": {}
      }
     }
    }
   },
   "outputs": [],
   "source": [
    "count = 1\n",
    "def symmetry(sym):\n",
    "    if sym == 1:\n",
    "        \n",
    "        m_w = widgets.Dropdown(\n",
    "            options={2, 3, 4, 6}, \n",
    "            description='m = ',\n",
    "        )\n",
    "        \n",
    "        n_options = []\n",
    "        for i in range(1, m_w.value):\n",
    "            n_options.append(i)\n",
    "        \n",
    "        def update_n(*args):\n",
    "            n_options = range(1, m_w.value)\n",
    "            n_w.options = n_options\n",
    "            print(n_options)\n",
    "        m_w.observe(update_n, 'value')\n",
    "            \n",
    "        n_w = widgets.Dropdown(\n",
    "            options=n_options, \n",
    "            description='n = '\n",
    "        )\n",
    "        \n",
    "        def screw(m,n):   \n",
    "            global count\n",
    "            \n",
    "            for i in range(0, count):\n",
    "                Zs = np.array ###\n",
    "            \n",
    "            plt.rcParams[\"figure.figsize\"] = [10, 5]\n",
    "            fig = plt.figure()\n",
    "            ax = fig.add_subplot(1, 2, 1, projection='3d')\n",
    "            ax.plot3D([1, 2, 3], [1, 2, 3], [1, 2, 3], 'ko')\n",
    "            \n",
    "            forw = Button(\n",
    "            description='Next',\n",
    "            tooltip='Shows the next step of screw symmetry.'\n",
    "            )\n",
    "            \n",
    "            def forward(b):\n",
    "                global count\n",
    "                count+=1\n",
    "                print(count)\n",
    "                return(count)\n",
    "            def backward(b):\n",
    "                global count\n",
    "                count -= 1\n",
    "                print(count)\n",
    "                return(count)\n",
    "            \n",
    "            forw.on_click(forward)\n",
    "\n",
    "            back = Button(\n",
    "            description='Previous',\n",
    "            tooltip='Shows the previous step of the screw symmetry.'\n",
    "            )\n",
    "\n",
    "            back.on_click(backward)\n",
    "            display(HBox([back, forw]))\n",
    "            \n",
    "            print(m,n)\n",
    "    \n",
    "        interact(screw, m=m_w, n=n_w)\n",
    "        \n",
    "    elif sym == 2:\n",
    "        print(sym)\n",
    "    elif sym == 3:\n",
    "        print(sym)"
   ]
  },
  {
   "cell_type": "code",
   "execution_count": 4,
   "metadata": {
    "extensions": {
     "jupyter_dashboards": {
      "version": 1,
      "views": {
       "grid_default": {
        "col": 0,
        "height": 8,
        "hidden": false,
        "row": 0,
        "width": 5
       },
       "report_default": {}
      }
     }
    }
   },
   "outputs": [
    {
     "data": {
      "application/vnd.jupyter.widget-view+json": {
       "model_id": "d0b0e36665e84893b84877ddee562145",
       "version_major": 2,
       "version_minor": 0
      },
      "text/html": [
       "<p>Failed to display Jupyter Widget of type <code>interactive</code>.</p>\n",
       "<p>\n",
       "  If you're reading this message in the Jupyter Notebook or JupyterLab Notebook, it may mean\n",
       "  that the widgets JavaScript is still loading. If this message persists, it\n",
       "  likely means that the widgets JavaScript library is either not installed or\n",
       "  not enabled. See the <a href=\"https://ipywidgets.readthedocs.io/en/stable/user_install.html\">Jupyter\n",
       "  Widgets Documentation</a> for setup instructions.\n",
       "</p>\n",
       "<p>\n",
       "  If you're reading this message in another frontend (for example, a static\n",
       "  rendering on GitHub or <a href=\"https://nbviewer.jupyter.org/\">NBViewer</a>),\n",
       "  it may mean that your frontend doesn't currently support widgets.\n",
       "</p>\n"
      ],
      "text/plain": [
       "interactive(children=(Dropdown(description=u'Symmetry Operation:', options={'Screw': 1, 'Another': 3, 'Glide': 2}, value=1), Output()), _dom_classes=('widget-interact',))"
      ]
     },
     "metadata": {},
     "output_type": "display_data"
    }
   ],
   "source": [
    "interact(symmetry, sym=sym_w);"
   ]
  }
 ],
 "metadata": {
  "extensions": {
   "jupyter_dashboards": {
    "activeView": "grid_default",
    "version": 1,
    "views": {
     "grid_default": {
      "cellMargin": 10,
      "defaultCellHeight": 20,
      "maxColumns": 12,
      "name": "grid",
      "type": "grid"
     },
     "report_default": {
      "name": "report",
      "type": "report"
     }
    }
   }
  },
  "kernelspec": {
   "display_name": "Python2",
   "language": "python",
   "name": "python2"
  },
  "language_info": {
   "codemirror_mode": {
    "name": "ipython",
    "version": 2
   },
   "file_extension": ".py",
   "mimetype": "text/x-python",
   "name": "python",
   "nbconvert_exporter": "python",
   "pygments_lexer": "ipython2",
   "version": "2.7.14"
  }
 },
 "nbformat": 4,
 "nbformat_minor": 2
}
