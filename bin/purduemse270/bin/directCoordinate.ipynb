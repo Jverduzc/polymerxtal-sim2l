{
 "cells": [
  {
   "cell_type": "markdown",
   "metadata": {
    "extensions": {
     "jupyter_dashboards": {
      "version": 1,
      "views": {
       "grid_default": {
        "col": 0,
        "height": 5,
        "hidden": false,
        "row": 0,
        "width": 11
       },
       "report_default": {}
      }
     }
    }
   },
   "source": [
    "## Cell Builder & Coordinates Notebook\n",
    "In this notebook, users can enter unit cell paramters to build unit cells. They can input direct coordinates for visualization and get outputs of the corresponding Cartesian coordinates. <br>\n",
    "__Edit one of the entries and press Enter to activate notebook.__"
   ]
  },
  {
   "cell_type": "code",
   "execution_count": 1,
   "metadata": {
    "extensions": {
     "jupyter_dashboards": {
      "version": 1,
      "views": {
       "grid_default": {
        "hidden": true
       },
       "report_default": {}
      }
     }
    }
   },
   "outputs": [],
   "source": [
    "%matplotlib notebook\n",
    "import matplotlib.pyplot as plt\n",
    "from mpl_toolkits.mplot3d import Axes3D\n",
    "from matplotlib.patches import FancyArrowPatch\n",
    "from mpl_toolkits.mplot3d.art3d import Poly3DCollection\n",
    "import mpl_toolkits.mplot3d as a3\n",
    "\n",
    "from IPython.display import display, Image\n",
    "from ipywidgets import interact, FloatText, Layout, Button, Textarea, Box, Checkbox\n",
    "\n",
    "import numpy as np\n",
    "from numpy import linalg as LA\n",
    "import math\n",
    "\n",
    "np.set_printoptions(formatter={'float': '{: 0.3f}'.format})\n",
    "plt.style.use('ggplot')"
   ]
  },
  {
   "cell_type": "code",
   "execution_count": 2,
   "metadata": {
    "extensions": {
     "jupyter_dashboards": {
      "version": 1,
      "views": {
       "grid_default": {
        "hidden": true
       },
       "report_default": {}
      }
     }
    }
   },
   "outputs": [],
   "source": [
    "# Define input for scattered plot\n",
    "\n",
    "input_style = {'description_width': '200px'}\n",
    "input_layout= Layout(flex='1 1 auto', width='50%')\n",
    "\n",
    "a_default = '3.'\n",
    "a_w = FloatText(\n",
    "    description = 'Lattice constant a [Angstrom]',\n",
    "    value = a_default,\n",
    "    step  = 0.01,\n",
    "    style = input_style,\n",
    "    layout= input_layout\n",
    ")\n",
    "\n",
    "b_default = '3.'\n",
    "b_w = FloatText(\n",
    "    description = 'Lattice constant b [Angstrom]',\n",
    "    value = b_default,\n",
    "    step  = 0.01,\n",
    "    style = input_style,\n",
    "    layout= input_layout\n",
    ")\n",
    "\n",
    "c_default = '3.'\n",
    "c_w = FloatText(\n",
    "    description = 'Lattice constant c [Angstrom]',\n",
    "    value = c_default,\n",
    "    step  = 0.01,\n",
    "    style = input_style,\n",
    "    layout= input_layout\n",
    ")\n",
    "\n",
    "alpha_default = '90.'\n",
    "alpha_w = FloatText(\n",
    "    description = r'Angle $\\alpha$ [degree]',\n",
    "    value = alpha_default,\n",
    "    step  = 0.1,\n",
    "    style = input_style,\n",
    "    layout= input_layout\n",
    ")\n",
    "\n",
    "beta_default = '90.'\n",
    "beta_w = FloatText(\n",
    "    description = r'Angle $\\beta$ [degree]',\n",
    "    value = beta_default,\n",
    "    step  = 0.1,\n",
    "    style = input_style,\n",
    "    layout= input_layout\n",
    ")\n",
    "\n",
    "gamma_default = '90.'\n",
    "gamma_w = FloatText(\n",
    "    description = r'Angle $\\gamma$ [degree]',\n",
    "    value = gamma_default,\n",
    "    step  = 0.1,\n",
    "    style = input_style,\n",
    "    layout= input_layout\n",
    ")\n",
    "\n",
    "ats_default = '0. 0. 0.\\n0.5 0.5 0.5'\n",
    "ats_w = Textarea(\n",
    "    description = 'Atom positions',\n",
    "    value = ats_default,\n",
    "    style = input_style,\n",
    "    layout= input_layout,\n",
    ")"
   ]
  },
  {
   "cell_type": "code",
   "execution_count": 3,
   "metadata": {
    "extensions": {
     "jupyter_dashboards": {
      "version": 1,
      "views": {
       "grid_default": {
        "hidden": true
       },
       "report_default": {}
      }
     }
    }
   },
   "outputs": [],
   "source": [
    "# Plot reciprocal lattice\n",
    "\n",
    "def plot_lattice(a, b, c, alpha, beta, gamma, ats):\n",
    "  \n",
    "    # Create Real Lattice\n",
    "    alpha_d = alpha*math.pi/180\n",
    "    beta_d  = beta*math.pi/180\n",
    "    gamma_d = gamma*math.pi/180\n",
    "    \n",
    "    a3 = np.array([a*math.sin(beta_d), 0, a*math.cos(beta_d)])\n",
    "    b3 = np.array([b*math.cos(gamma_d), b*math.sin(gamma_d),0])\n",
    "    c3 = np.array([0, c*math.cos(alpha_d), c*math.sin(alpha_d)])\n",
    "    \n",
    "    a_v = a3[0:3]\n",
    "    b_v = b3[0:3]\n",
    "    c_v = c3[0:3]\n",
    "    \n",
    "    # Create List of a, b, and c values based on input\n",
    "    a_list = []\n",
    "    b_list = []\n",
    "    c_list = []\n",
    "    \n",
    "    mulx = 1\n",
    "    muly = 1\n",
    "    mulz = 1\n",
    "    \n",
    "    for i in range(0, int(mulx+1)):\n",
    "        for j in range(0, int(muly+1)):\n",
    "            for k in range(0, int(mulz+1)):\n",
    "                tmp = a_v*i+b_v*j+c_v*k\n",
    "                a_list.append(tmp[0])\n",
    "                b_list.append(tmp[1])\n",
    "                c_list.append(tmp[2])\n",
    "     \n",
    "    toread = str(ats).split('\\n')\n",
    "    at_xyz = []\n",
    "    for i in toread:\n",
    "        at_xyz.append(i.split())\n",
    "\n",
    "    at_xyz = np.array(at_xyz)\n",
    "    at_xyz = at_xyz.astype(np.float)\n",
    "    \n",
    "    plt.rcParams[\"figure.figsize\"] = [5, 5]\n",
    "    fig = plt.figure()\n",
    "    ax = fig.add_subplot(1,1,1,projection='3d')\n",
    "    ax.plot3D(a_list, b_list, c_list , 'ko')\n",
    "    \n",
    "    # Adjust limits of each axis of the plot\n",
    "    xrange = max(a_list) - min(a_list) \n",
    "    yrange = max(b_list) - min(b_list)\n",
    "    zrange = max(c_list) - min(c_list)\n",
    "    plrange= max(xrange,yrange,zrange)\n",
    "    plint  = plrange/5.\n",
    "    tmpx = (plrange-xrange+plint)/2.\n",
    "    tmpy = (plrange-yrange+plint)/2.\n",
    "    tmpz = (plrange-zrange+plint)/2.\n",
    "    ax.set_xlim(min(a_list)-tmpx,max(a_list)+tmpx)\n",
    "    ax.set_ylim(min(b_list)-tmpy,max(b_list)+tmpy)\n",
    "    ax.set_zlim(min(c_list)-tmpz,max(c_list)+tmpz)\n",
    "    \n",
    "    # Plots a, b, and c vectors along respective axes\n",
    "    ap = [a_list[int((muly+1)*(mulz+1))],b_list[int((muly+1)*(mulz+1))], c_list[int((muly+1)*(mulz+1))]]\n",
    "    bp = [a_list[int(mulz+1)],b_list[int(mulz+1)],c_list[int(mulz+1)]]\n",
    "    cp = [a_list[1],b_list[1],c_list[1]]\n",
    "\n",
    "    ax.plot([0,ap[0]], [0,ap[1]], [0,ap[2]], 'r', linewidth=4)\n",
    "    ax.plot([0,bp[0]], [0,bp[1]], [0,bp[2]], 'g', linewidth=4)\n",
    "    ax.plot([0,cp[0]], [0,cp[1]], [0,cp[2]], 'b', linewidth=4)\n",
    "\n",
    "    # Plotting the Polygon for the real lattice\n",
    "\n",
    "    # Create Points from input multiplicity values\n",
    "    #Point1 = Origin [0, 0, 0]\n",
    "    Point2 = [a_list[1], b_list[1], c_list[1]]\n",
    "    Point3 = [a_list[int(mulz+1)], b_list[int(mulz+1)], c_list[int(mulz+1)]]\n",
    "    Point4 = [a_list[int(mulz+2)], b_list[int(mulz+2)], c_list[int(mulz+2)]]\n",
    "    Point5 = [a_list[int((mulz+1)*(muly+1))], b_list[int((mulz+1)*(muly+1))], c_list[int((mulz+1)*(muly+1))]]\n",
    "    Point6 = [a_list[int((mulz+1)*(muly+1))+1], b_list[int((mulz+1)*(muly+1))+1], c_list[int((mulz+1)*(muly+1))+1]]\n",
    "    Point7 = [a_list[int((mulz+1)*(muly+1)+(mulz+1))], b_list[int((mulz+1)*(muly+1)+(mulz+1))], c_list[int((mulz+1)*(muly+1)+(mulz+1))]]\n",
    "    Point8 = [a_list[int((mulz+1)*(muly+1)+(mulz+2))], b_list[int((mulz+1)*(muly+1)+(mulz+2))], c_list[int((mulz+1)*(muly+1)+(mulz+2))]]\n",
    "    \n",
    "    # Separate values into respective X, Y, and Z coordinates\n",
    "    X1 = [0, Point2[0], Point4[0], Point3[0], 0]\n",
    "    X2 = [0, Point2[0], Point6[0], Point5[0], 0] \n",
    "    X3 = [0, Point3[0], Point7[0], Point5[0], 0]\n",
    "    X4 = [Point8[0], Point4[0], Point2[0], Point6[0], Point8[0]]\n",
    "    X5 = [Point8[0], Point4[0], Point3[0], Point7[0], Point8[0]]\n",
    "    X6 = [Point8[0], Point6[0], Point5[0], Point7[0], Point8[0]]\n",
    "    \n",
    "    Y1 = [0, Point2[1], Point4[1], Point3[1], 0]\n",
    "    Y2 = [0, Point2[1], Point6[1], Point5[1], 0]\n",
    "    Y3 = [0, Point3[1], Point7[1], Point5[1], 0]\n",
    "    Y4 = [Point8[1], Point4[1], Point2[1], Point6[1], Point8[1]]\n",
    "    Y5 = [Point8[1], Point4[1], Point3[1], Point7[1], Point8[1]]\n",
    "    Y6 = [Point8[1], Point6[1], Point5[1], Point7[1], Point8[1]]\n",
    "    \n",
    "    Z1 = [0, Point2[2], Point4[2], Point3[2], 0]\n",
    "    Z2 = [0, Point2[2], Point6[2], Point5[2], 0] \n",
    "    Z3 = [0, Point3[2], Point7[2], Point5[2], 0]\n",
    "    Z4 = [Point8[2], Point4[2], Point2[2], Point6[2], Point8[2]]\n",
    "    Z5 = [Point8[2], Point4[2], Point3[2], Point7[2], Point8[2]]\n",
    "    Z6 = [Point8[2], Point6[2], Point5[2], Point7[2], Point8[2]]\n",
    "    \n",
    "    # Outlines each face\n",
    "    outline1 = [zip(X1, Y1, Z1)]\n",
    "    outline2 = [zip(X2, Y2, Z2)]\n",
    "    outline3 = [zip(X3, Y3, Z3)]\n",
    "    outline4 = [zip(X4, Y4, Z4)]\n",
    "    outline5 = [zip(X5, Y5, Z5)]\n",
    "    outline6 = [zip(X6, Y6, Z6)]\n",
    "    \n",
    "    # Creates 2D Face between vertices\n",
    "    alphat = 0.1\n",
    "    facec  = (1, 1, 1, 0.5)\n",
    "    Face1 = Poly3DCollection(outline1, facecolors=facec)\n",
    "    Face2 = Poly3DCollection(outline2, facecolors=facec)\n",
    "    Face3 = Poly3DCollection(outline3, facecolors=facec)\n",
    "    Face4 = Poly3DCollection(outline4, facecolors=facec)\n",
    "    Face5 = Poly3DCollection(outline5, facecolors=facec)\n",
    "    Face6 = Poly3DCollection(outline6, facecolors=facec)\n",
    "    \n",
    "    Face1.set_edgecolor('k')\n",
    "    Face2.set_edgecolor('k')\n",
    "    Face3.set_edgecolor('k')\n",
    "    Face4.set_edgecolor('k')\n",
    "    Face5.set_edgecolor('k')\n",
    "    Face6.set_edgecolor('k')\n",
    "    \n",
    "    # Plots Faces\n",
    "    ax.add_collection3d(Face1)\n",
    "    ax.add_collection3d(Face2)\n",
    "    ax.add_collection3d(Face3)\n",
    "    ax.add_collection3d(Face4)\n",
    "    ax.add_collection3d(Face5)\n",
    "    ax.add_collection3d(Face6)\n",
    "    \n",
    "    # Plot Labels\n",
    "    ax.set_xlabel('X')\n",
    "    ax.set_ylabel('Y')\n",
    "    ax.set_zlabel('Z')\n",
    "      \n",
    "    at_xyz_dir = []\n",
    "    for i in at_xyz:\n",
    "        tmp = i[0]*a_v + i[1]*b_v + i[2]*c_v\n",
    "        at_xyz_dir.append(tmp)\n",
    "        ax.scatter(tmp[0],tmp[1],tmp[2], s=100, c='w', edgecolors='orange',linewidths=4, marker='o',)\n",
    "            \n",
    "    at_xyz_dir = np.array(at_xyz_dir)\n",
    "    at_xyz_dir = at_xyz_dir.astype(np.float)\n",
    "    \n",
    "    #Print useful information\n",
    "    print(\"Vector coordinates from the origin:\")\n",
    "    print('a:  [{:9.4f}, {:9.4f}, {:9.4f}]'.format(a_v[0],a_v[1],a_v[2]))\n",
    "    print('b:  [{:9.4f}, {:9.4f}, {:9.4f}]'.format(b_v[0],b_v[1],b_v[2]))\n",
    "    print('c:  [{:9.4f}, {:9.4f}, {:9.4f}]'.format(c_v[0],c_v[1],c_v[2]))\n",
    "    print(\"Direct coordinates for input atoms:\")\n",
    "    for i in at_xyz_dir:\n",
    "        print('[{:9.4f}, {:9.4f}, {:9.4f}]'.format(i[0],i[1],i[2]))\n",
    "        \n",
    "    plt.show()"
   ]
  },
  {
   "cell_type": "code",
   "execution_count": 4,
   "metadata": {
    "extensions": {
     "jupyter_dashboards": {
      "version": 1,
      "views": {
       "grid_default": {
        "col": 0,
        "height": 33,
        "hidden": false,
        "row": 7,
        "width": 11
       },
       "report_default": {}
      }
     }
    },
    "scrolled": false
   },
   "outputs": [
    {
     "data": {
      "application/vnd.jupyter.widget-view+json": {
       "model_id": "ed131c91753c4443b95abd369d33ce90",
       "version_major": 2,
       "version_minor": 0
      },
      "text/plain": [
       "aW50ZXJhY3RpdmUoY2hpbGRyZW49KEZsb2F0VGV4dCh2YWx1ZT0zLjAsIGRlc2NyaXB0aW9uPXUnTGF0dGljZSBjb25zdGFudCBhIFtBbmdzdHJvbV0nLCBsYXlvdXQ9TGF5b3V0KGZsZXg9dSfigKY=\n"
      ]
     },
     "metadata": {},
     "output_type": "display_data"
    }
   ],
   "source": [
    "interact(plot_lattice, a=a_w, b=b_w, c=c_w, alpha = alpha_w, beta=beta_w, gamma=gamma_w, ats=ats_w);"
   ]
  },
  {
   "cell_type": "code",
   "execution_count": 5,
   "metadata": {
    "extensions": {
     "jupyter_dashboards": {
      "version": 1,
      "views": {
       "grid_default": {
        "col": 0,
        "height": 2,
        "hidden": false,
        "row": 5,
        "width": 2
       },
       "report_default": {}
      }
     }
    },
    "scrolled": false
   },
   "outputs": [
    {
     "data": {
      "application/vnd.jupyter.widget-view+json": {
       "model_id": "e65734b6595045539e56e89d9f52f225",
       "version_major": 2,
       "version_minor": 0
      },
      "text/plain": [
       "Button(description=u'Reset', style=ButtonStyle(), tooltip=u'Reset entry to default values.')"
      ]
     },
     "metadata": {},
     "output_type": "display_data"
    }
   ],
   "source": [
    "# Reset entry \n",
    "def reset_plot_defaults(b):\n",
    "    a_w.value     = a_default\n",
    "    b_w.value     = b_default\n",
    "    c_w.value     = c_default\n",
    "    alpha_w.value = alpha_default\n",
    "    beta_w.value  = beta_default\n",
    "    gamma_w.value = gamma_default\n",
    "    ats_w.value  = ats_default\n",
    "        \n",
    "bp = Button(\n",
    "    description='Reset',\n",
    "    tooltip='Reset entry to default values.',\n",
    ")\n",
    "\n",
    "bp.on_click(reset_plot_defaults)\n",
    "bp"
   ]
  },
  {
   "cell_type": "code",
   "execution_count": null,
   "metadata": {},
   "outputs": [],
   "source": []
  }
 ],
 "metadata": {
  "extensions": {
   "jupyter_dashboards": {
    "activeView": "grid_default",
    "version": 1,
    "views": {
     "grid_default": {
      "cellMargin": 10,
      "defaultCellHeight": 20,
      "maxColumns": 12,
      "name": "grid",
      "type": "grid"
     },
     "report_default": {
      "name": "report",
      "type": "report"
     }
    }
   }
  },
  "kernelspec": {
   "display_name": "Python2",
   "language": "python",
   "name": "python2"
  },
  "language_info": {
   "codemirror_mode": {
    "name": "ipython",
    "version": 2
   },
   "file_extension": ".py",
   "mimetype": "text/x-python",
   "name": "python",
   "nbconvert_exporter": "python",
   "pygments_lexer": "ipython2",
   "version": "2.7.15"
  },
  "tool": true
 },
 "nbformat": 4,
 "nbformat_minor": 2
}
