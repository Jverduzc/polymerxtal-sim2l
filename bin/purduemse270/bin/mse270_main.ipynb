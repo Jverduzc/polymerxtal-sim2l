{
 "cells": [
  {
   "cell_type": "markdown",
   "metadata": {
    "extensions": {
     "jupyter_dashboards": {
      "version": 1,
      "views": {
       "grid_default": {
        "col": 0,
        "height": 3,
        "hidden": false,
        "row": 0,
        "width": 12
       },
       "report_default": {}
      }
     }
    }
   },
   "source": [
    "# Notebooks for studying crystals, reciprocal lattice & symmetry"
   ]
  },
  {
   "cell_type": "markdown",
   "metadata": {
    "extensions": {
     "jupyter_dashboards": {
      "version": 1,
      "views": {
       "grid_default": {
        "col": 0,
        "height": 20,
        "hidden": false,
        "row": 3,
        "width": 12
       },
       "report_default": {}
      }
     }
    }
   },
   "source": [
    "## [2D Reciprocal Lattice Builder](2D-reciprocalLattice.ipynb) \n",
    "A notebook for studying 2D reciprocal lattices. For equations, see description of \"3D Reciprocal Lattice Builder\" below.\n",
    "<br>\n",
    "\n",
    "## [3D Reciprocal Lattice Builder](3D-reciprocalLattice.ipynb) \n",
    "This notebook outputs 3-dimensional plots of a real lattice and a reciprocal lattice based on the inputs: a, b, and c vectors; alpha, beta, and gamma angles; and multiplicity along each vector. The notebook utilizes the following equations to calculate the reciprocal lattice. <br>\n",
    "Note: the 2$\\pi$ factor is not included for calculation of the reciprocal lattice.\n",
    "\n",
    "$$\n",
    "\\begin{equation*}\n",
    "a^* = \\frac{\\vec{b} \\times \\vec{c}}{\\vec{a} \\cdot (\\vec{b} \\times \\vec{c})}, ~~~~~~ b^* = \\frac{\\vec{c} \\times \\vec{a}}{\\vec{a} \\cdot (\\vec{b} \\times \\vec{c})}, ~~~~~~ c^* = \\frac{\\vec{a} \\times \\vec{b}}{\\vec{a} \\cdot (\\vec{b} \\times \\vec{c})}\n",
    "\\end{equation*}\n",
    "$$\n",
    "\n",
    "$$\n",
    "\\begin{equation*}\n",
    "\\alpha^* = 180^\\circ-\\alpha, ~~~~~~~~ \\beta^* = 180^\\circ-\\beta, ~~~~~~~~ \\gamma^* = 180^\\circ-\\gamma\n",
    "\\end{equation*}\n",
    "$$\n",
    "<br>\n",
    "\n",
    "## [Cell Builder & Coordinates Notebook](directCoordinate.ipynb)\n",
    "In this notebook, users can enter unit cell paramters to build unit cells. They can input direct coordinates for visualization and get outputs of the corresponding Cartesian coordinates.\n",
    "<br>\n",
    "\n",
    "## [2D Symmetry Operation Notebook](twoD.ipynb) \n",
    "A notebook for investigating 2D symmetry operations. \n",
    "<br/>[2D Symmmetry Operation Notebook](twoD_full.ipynb): notebook with full python code. "
   ]
  }
 ],
 "metadata": {
  "extensions": {
   "jupyter_dashboards": {
    "activeView": "grid_default",
    "version": 1,
    "views": {
     "grid_default": {
      "cellMargin": 10,
      "defaultCellHeight": 20,
      "maxColumns": 12,
      "name": "grid",
      "type": "grid"
     },
     "report_default": {
      "name": "report",
      "type": "report"
     }
    }
   }
  },
  "kernelspec": {
   "display_name": "Python2",
   "language": "python",
   "name": "python2"
  },
  "language_info": {
   "codemirror_mode": {
    "name": "ipython",
    "version": 2
   },
   "file_extension": ".py",
   "mimetype": "text/x-python",
   "name": "python",
   "nbconvert_exporter": "python",
   "pygments_lexer": "ipython2",
   "version": "2.7.15"
  },
  "tool": true
 },
 "nbformat": 4,
 "nbformat_minor": 2
}
