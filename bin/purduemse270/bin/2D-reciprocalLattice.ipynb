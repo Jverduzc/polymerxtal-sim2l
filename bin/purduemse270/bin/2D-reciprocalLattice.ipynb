{
 "cells": [
  {
   "cell_type": "markdown",
   "metadata": {
    "extensions": {
     "jupyter_dashboards": {
      "version": 1,
      "views": {
       "grid_default": {
        "col": 0,
        "height": 6,
        "hidden": false,
        "row": 0,
        "width": 11
       },
       "report_default": {}
      }
     }
    }
   },
   "source": [
    "# 2D Reciprocal Lattice Tool\n",
    "\n",
    "Users can vary the lattice constants (a and b), angle between the lattice vectors (gamma), and multiplicity along each vector of the unit cell. These input values will be used to calculate and plot the reciprocal lattice.<br>\n",
    "The vector coordinates and the length of the reciprocal lattice vectors will be calculated and displayed below the figure.<br>\n",
    "__Edit one of the entries and press Enter to activate the notebook.__"
   ]
  },
  {
   "cell_type": "code",
   "execution_count": 1,
   "metadata": {
    "extensions": {
     "jupyter_dashboards": {
      "version": 1,
      "views": {
       "grid_default": {
        "hidden": true
       },
       "report_default": {}
      }
     }
    }
   },
   "outputs": [],
   "source": [
    "%matplotlib notebook\n",
    "import matplotlib.pyplot as plt\n",
    "from mpl_toolkits.mplot3d import Axes3D\n",
    "\n",
    "from IPython.display import display, Image\n",
    "from ipywidgets import interact, FloatText, Layout, Button, Textarea, Box, Checkbox\n",
    "\n",
    "import numpy as np\n",
    "from numpy import linalg as LA\n",
    "import math\n",
    "\n",
    "np.set_printoptions(formatter={'float': '{: 0.3f}'.format})\n",
    "plt.style.use('ggplot')\n"
   ]
  },
  {
   "cell_type": "code",
   "execution_count": 2,
   "metadata": {
    "extensions": {
     "jupyter_dashboards": {
      "version": 1,
      "views": {
       "grid_default": {
        "hidden": true
       },
       "report_default": {}
      }
     }
    }
   },
   "outputs": [],
   "source": [
    "# Define input for scattered plot\n",
    "\n",
    "input_style = {'description_width': '200px'}\n",
    "input_layout= Layout(flex='1 1 auto', width='50%')\n",
    "\n",
    "a_default = '3.'\n",
    "a_w = FloatText(\n",
    "    description = 'Lattice constant a [Angstrom]',\n",
    "    value = a_default,\n",
    "    step  = 0.01,\n",
    "    style = input_style,\n",
    "    layout= input_layout\n",
    ")\n",
    "\n",
    "b_default = '3.'\n",
    "b_w = FloatText(\n",
    "    description = 'Lattice constant b [Angstrom]',\n",
    "    value = b_default,\n",
    "    step  = 0.01,\n",
    "    style = input_style,\n",
    "    layout= input_layout\n",
    ")\n",
    "\n",
    "gamma_default = '90.'\n",
    "gamma_w = FloatText(\n",
    "    description = r'Angle $\\gamma$ [degree]',\n",
    "    value = gamma_default,\n",
    "    step  = 0.1,\n",
    "    style = input_style,\n",
    "    layout= input_layout\n",
    ")\n",
    "\n",
    "mulx_default = '3.'\n",
    "mulx_w = FloatText(\n",
    "    description = 'Multiplicity along x-axis',\n",
    "    value = mulx_default,\n",
    "    step  = 1,\n",
    "    style = input_style,\n",
    "    layout= input_layout\n",
    ")\n",
    "\n",
    "muly_default = '3.'\n",
    "muly_w = FloatText(\n",
    "    description = 'Multiplicity along y-axis',\n",
    "    value = muly_default,\n",
    "    step  = 1,\n",
    "    style = input_style,\n",
    "    layout= input_layout\n",
    ")"
   ]
  },
  {
   "cell_type": "code",
   "execution_count": 3,
   "metadata": {
    "extensions": {
     "jupyter_dashboards": {
      "version": 1,
      "views": {
       "grid_default": {
        "hidden": true
       },
       "report_default": {}
      }
     }
    }
   },
   "outputs": [],
   "source": [
    "# Plot reciprocal lattice\n",
    "\n",
    "def plot_lattice(a, b, gamma, mulx, muly):\n",
    "  \n",
    "    #Create Real Lattice\n",
    "    gamma_d = gamma*math.pi/180\n",
    "    \n",
    "    a3 = np.array([a, 0, 0])\n",
    "    b3 = np.array([b*math.cos(gamma_d), b*math.sin(gamma_d),0])\n",
    "    c3 = np.array([0, 0, 1.])\n",
    "    \n",
    "    a_v = a3[0:2]\n",
    "    b_v = b3[0:2]\n",
    "    \n",
    "    a_list = []\n",
    "    b_list = []\n",
    "    for i in range(0, int(mulx+1)):\n",
    "        for j in range(0, int(muly+1)):\n",
    "            tmp = a_v*i+b_v*j\n",
    "            a_list.append(tmp[0])\n",
    "            b_list.append(tmp[1])\n",
    "    \n",
    "    plt.rcParams[\"figure.figsize\"] = [8, 4]\n",
    "    \n",
    "    fig, (ax, ax2) = plt.subplots(1, 2)\n",
    "    ax.plot(a_list, b_list, 'ko')\n",
    "\n",
    "    xrange = max(a_list) - min(a_list) \n",
    "    yrange = max(b_list) - min(b_list)\n",
    "    plrange= max(xrange,yrange)\n",
    "    plint  = plrange/5.\n",
    "    tmpx = (plrange-xrange+plint)/2.\n",
    "    tmpy = (plrange-yrange+plint)/2.\n",
    "    ax.set_xlim(min(a_list)-tmpx,max(a_list)+tmpx)\n",
    "    ax.set_ylim(min(b_list)-tmpy,max(b_list)+tmpy)\n",
    "   \n",
    "    ax.set_xlabel('X')\n",
    "    ax.set_ylabel('Y')\n",
    "    ax.set_title('Real Lattice')\n",
    "    ax.arrow( 0, 0, a_v[0], a_v[1], head_width=0.5, head_length=0.5, width=0.05, fc='k', ec='k',zorder=5)\n",
    "    ax.arrow( 0, 0, b_v[0], b_v[1], head_width=0.5, head_length=0.5, width=0.05, fc='r', ec='r',zorder=5)\n",
    "  \n",
    "    # Calculate reciprocal Lattice\n",
    "    gamma_star = math.pi-(gamma*math.pi/180)\n",
    "    \n",
    "    vol = np.dot(a3,np.cross(b3,c3))\n",
    "    \n",
    "    a_star3 = np.cross(b3,c3)/vol\n",
    "    b_star3 = np.cross(c3,a3)/vol\n",
    "    #c_star3 = np.cross(a3,b3)/vol\n",
    "    \n",
    "    a_vstar = a_star3[0:2]\n",
    "    b_vstar = b_star3[0:2]\n",
    "    \n",
    "    ap_list = []\n",
    "    bp_list = []\n",
    "    for i in range(0, int(mulx+1)):\n",
    "        for j in range(0, int(muly+1)):\n",
    "            tmp = a_vstar*i+b_vstar*j\n",
    "            ap_list.append(tmp[0])\n",
    "            bp_list.append(tmp[1])\n",
    "            \n",
    "    ax2.plot(ap_list, bp_list, 'ro')\n",
    "        \n",
    "    xrange = max(ap_list) - min(ap_list) \n",
    "    yrange = max(bp_list) - min(bp_list)\n",
    "    plrange= max(xrange,yrange)\n",
    "    plint  = plrange/5.\n",
    "    tmpx = (plrange-xrange+plint)/2.\n",
    "    tmpy = (plrange-yrange+plint)/2.\n",
    "    ax2.set_xlim(min(ap_list)-tmpx,max(ap_list)+tmpx)\n",
    "    ax2.set_ylim(min(bp_list)-tmpy,max(bp_list)+tmpy)\n",
    "    ax2.arrow( 0, 0, a_vstar[0], a_vstar[1], head_width=0.05, head_length=0.05, width=0.002, fc='k', ec='k',zorder=5)\n",
    "    ax2.arrow( 0, 0, b_vstar[0], b_vstar[1], head_width=0.05, head_length=0.05, width=0.002, fc='r', ec='r',zorder=5)\n",
    "    \n",
    "    ax2.set_xlabel('X')\n",
    "    fig.autofmt_xdate()\n",
    "    ax2.set_title('Reciprocal Lattice')\n",
    "    \n",
    "    print(\"Vector coordinates from the origin:\")\n",
    "    print('a:  [{:9.4f}, {:9.4f}]'.format(a_v[0],a_v[1]))\n",
    "    print('b:  [{:9.4f}, {:9.4f}]'.format(b_v[0],b_v[1]))\n",
    "    print('a*: [{:9.4f}, {:9.4f}]'.format(a_vstar[0],a_vstar[1]))\n",
    "    print('b*: [{:9.4f}, {:9.4f}]'.format(b_vstar[0],b_vstar[1]))\n",
    "    print\n",
    "    print('Length of a* and b* [1/Angstrom]:')\n",
    "    print('a* = {:9.4f}'.format(LA.norm(a_vstar)))\n",
    "    print('b* = {:9.4f}'.format(LA.norm(b_vstar)))\n",
    "\n",
    "    plt.show()"
   ]
  },
  {
   "cell_type": "code",
   "execution_count": 4,
   "metadata": {
    "extensions": {
     "jupyter_dashboards": {
      "version": 1,
      "views": {
       "grid_default": {
        "col": 0,
        "height": 28,
        "hidden": false,
        "row": 8,
        "width": 11
       },
       "report_default": {}
      }
     }
    },
    "scrolled": false
   },
   "outputs": [
    {
     "data": {
      "application/vnd.jupyter.widget-view+json": {
       "model_id": "8b0719e20bb7404db9f1a5c122477dbc",
       "version_major": 2,
       "version_minor": 0
      },
      "text/plain": [
       "aW50ZXJhY3RpdmUoY2hpbGRyZW49KEZsb2F0VGV4dCh2YWx1ZT0zLjAsIGRlc2NyaXB0aW9uPXUnTGF0dGljZSBjb25zdGFudCBhIFtBbmdzdHJvbV0nLCBsYXlvdXQ9TGF5b3V0KGZsZXg9dSfigKY=\n"
      ]
     },
     "metadata": {},
     "output_type": "display_data"
    }
   ],
   "source": [
    "interact(plot_lattice, a=a_w, b=b_w, gamma=gamma_w, mulx=mulx_w, muly=muly_w);"
   ]
  },
  {
   "cell_type": "code",
   "execution_count": 5,
   "metadata": {
    "extensions": {
     "jupyter_dashboards": {
      "version": 1,
      "views": {
       "grid_default": {
        "col": 0,
        "height": 2,
        "hidden": false,
        "row": 6,
        "width": 4
       },
       "report_default": {}
      }
     }
    },
    "scrolled": false
   },
   "outputs": [
    {
     "data": {
      "application/vnd.jupyter.widget-view+json": {
       "model_id": "14e18905382c47c0a22a79a96308bb9e",
       "version_major": 2,
       "version_minor": 0
      },
      "text/plain": [
       "Button(description=u'Reset', style=ButtonStyle(), tooltip=u'Reset entry to default values.')"
      ]
     },
     "metadata": {},
     "output_type": "display_data"
    }
   ],
   "source": [
    "# Reset entry \n",
    "def reset_plot_defaults(b):\n",
    "    a_w.value     = a_default\n",
    "    b_w.value     = b_default\n",
    "    gamma_w.value = gamma_default\n",
    "    mulx_w.value   = mulx_default\n",
    "    muly_w.value = muly_default\n",
    "     \n",
    "bp = Button(\n",
    "    description='Reset',\n",
    "    tooltip='Reset entry to default values.',\n",
    ")\n",
    "\n",
    "bp.on_click(reset_plot_defaults)\n",
    "bp"
   ]
  },
  {
   "cell_type": "code",
   "execution_count": null,
   "metadata": {},
   "outputs": [],
   "source": []
  }
 ],
 "metadata": {
  "extensions": {
   "jupyter_dashboards": {
    "activeView": "grid_default",
    "version": 1,
    "views": {
     "grid_default": {
      "cellMargin": 10,
      "defaultCellHeight": 20,
      "maxColumns": 12,
      "name": "grid",
      "type": "grid"
     },
     "report_default": {
      "name": "report",
      "type": "report"
     }
    }
   }
  },
  "kernelspec": {
   "display_name": "Python2",
   "language": "python",
   "name": "python2"
  },
  "language_info": {
   "codemirror_mode": {
    "name": "ipython",
    "version": 2
   },
   "file_extension": ".py",
   "mimetype": "text/x-python",
   "name": "python",
   "nbconvert_exporter": "python",
   "pygments_lexer": "ipython2",
   "version": "2.7.15"
  },
  "tool": true
 },
 "nbformat": 4,
 "nbformat_minor": 2
}
