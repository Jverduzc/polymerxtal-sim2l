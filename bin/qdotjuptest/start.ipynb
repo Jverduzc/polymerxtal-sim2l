{
 "cells": [
  {
   "cell_type": "markdown",
   "metadata": {},
   "source": [
    "# QDOT SimTool and GUI\n",
    "\n",
    "1. This is a test project to demonstrate and develop the new hub scientific tool development process.\n",
    "\n",
    "2. The SimTool is defined in /apps/simtools/qdot/qdot_simtool.ipynb\n",
    "\n",
    "3. These GUIs are quick prototypes and are not fully functional tools (yet).  They are demos."
   ]
  },
  {
   "cell_type": "markdown",
   "metadata": {},
   "source": [
    "# SimTool Development Process\n",
    "\n",
    "SimTools can be created in any notebook.  The inputs and (later) outputs are defined in the notebook and the notebook controls the running of the simulation and  the saving of results.  Optionally a SimTool Builder can be  used to interactively create a notebook that can then be edited and finished.  We have not defined the publishing process, but they will likely just b a new kind of tool in /apps.  SimTools can be tested by just running the notebook.  We will have an automatic web api for published SimTools.\n",
    "\n",
    "SimTools will be automatically packaged in Docker (and Singularity?) containers."
   ]
  },
  {
   "cell_type": "markdown",
   "metadata": {},
   "source": [
    "# GUIs\n",
    "\n",
    "GUIs can be written in any way that can talk to the SimTool web api or call the hublib tool api. \n",
    "\n",
    "**The source code does not show how these tools will be developed in the future**.  Instead we will use YAML to define all the parameters in the GUI, with the same syntax as the SimTool.  Then we will have an optional Layout YAML description of how the GUI should look.  For example, we will select a template (TabbedTool, Wizard, etc) and extra items to include (images, animations, anything not an input parameter).  Then we use simple lists to indicate which items are grouped together and which Tab or Page they are on.\n",
    "\n",
    "For outputs, we will have a default layout, very much like Rappture.  And some optional layouts, or the developer can write a custom one.\n",
    "\n",
    "Limitations:  Jupyter cells expand vertically as needed.  The ipywidgets do not understand about strecthing to fill vertical space, like they do horizintally.  This places some restrictions on intelligent resizing.  This can and should be fixed as the Jupyter community works adds support for apps (or dashboards)."
   ]
  },
  {
   "cell_type": "markdown",
   "metadata": {},
   "source": [
    "# RUN THE GUI here"
   ]
  },
  {
   "cell_type": "markdown",
   "metadata": {},
   "source": [
    "[Gui](qdot_workflow.ipynb)  The GUI is simpler but functional, so you can try runs with different values."
   ]
  }
 ],
 "metadata": {
  "kernelspec": {
   "display_name": "Python 3",
   "language": "python",
   "name": "python3"
  },
  "language_info": {
   "codemirror_mode": {
    "name": "ipython",
    "version": 3
   },
   "file_extension": ".py",
   "mimetype": "text/x-python",
   "name": "python",
   "nbconvert_exporter": "python",
   "pygments_lexer": "ipython3",
   "version": "3.7.7"
  }
 },
 "nbformat": 4,
 "nbformat_minor": 2
}
