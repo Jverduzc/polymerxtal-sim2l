{
 "cells": [
  {
   "cell_type": "markdown",
   "metadata": {},
   "source": [
    "# Introducing nanoHUB's SimTools #\n",
    "\n",
    "*Steven Clark, Saaketh Desai, and Alejandro Strachan*\n",
    "\n",
    "This notebook is a quick start guide to SimTools, nanoHUB's new way of delivering online simulations.\n",
    "\n",
    "SimTools in a nutshell:\n",
    "\n",
    " * Define the inputs, outputs, and the compute required to generate outputs from inputs\n",
    "   * Inputs can include ranges and units that are checked before running\n",
    " * SimTools can invoke function calls, simple scripts or run parallel jobs on HPC resources\n",
    " * The SimToolLib library validates inputs and outputs and performs automatic unit conversion\n",
    " * Succesful runs are added to nanoHUB's simulation cache\n",
    " * If a user requests a previosuly executed run, we pull it from the cache with no delays and saving computing resources\n",
    " * SimTools can be invoked from graphical user interfaces (https://nanohub.org/tools/qdotjuptest) or from a scientific/engineering script (see https://nanohub.org/tools/meltingkim)\n",
    "\n",
    "The documentation for SimTools can be found [here](https://simtool.readthedocs.io/en/latest/).\n",
    "\n",
    "This notebook invokes a SimTool that defines ALL possible types of inputs and outputs. You can see the actual SimTool [here](./simtool/introtosimtools.ipynb).\n",
    " "
   ]
  },
  {
   "cell_type": "markdown",
   "metadata": {},
   "source": [
    "## Step 1. Setting things up ##"
   ]
  },
  {
   "cell_type": "code",
   "execution_count": 1,
   "metadata": {},
   "outputs": [],
   "source": [
    "# We will import various libraries including key elements of nanoHUB's simtool library\n",
    "%load_ext yamlmagic\n",
    "\n",
    "import os\n",
    "import numpy as np\n",
    "import PIL.Image\n",
    "\n",
    "from simtool import findInstalledSimToolNotebooks,searchForSimTool\n",
    "from simtool import getSimToolInputs,getSimToolOutputs,Run"
   ]
  },
  {
   "cell_type": "code",
   "execution_count": 2,
   "metadata": {},
   "outputs": [
    {
     "name": "stdout",
     "output_type": "stream",
     "text": [
      "      notebookPath = /home/nanohub/strachan/ioexamples/simtool/ioexamples.ipynb\n",
      "       simToolName = ioexamples\n",
      "   simToolRevision = None\n",
      "         published = False\n"
     ]
    }
   ],
   "source": [
    "# Identify the simtool of interest (in this case introducingsimtools) and retrieve its status\n",
    "simToolName = \"introtosimtools\"\n",
    "simToolLocation = searchForSimTool('introtosimtools')\n",
    "for key in simToolLocation.keys():\n",
    "    print(\"%18s = %s\" % (key,simToolLocation[key]))"
   ]
  },
  {
   "cell_type": "markdown",
   "metadata": {},
   "source": [
    "## Step 2. Inputs ##"
   ]
  },
  {
   "cell_type": "code",
   "execution_count": 5,
   "metadata": {
    "scrolled": true
   },
   "outputs": [
    {
     "data": {
      "text/plain": [
       "booleanValue:\n",
       "    type: Boolean\n",
       "    description: Execute bogus save operations\n",
       "    value: False\n",
       "\n",
       "textString:\n",
       "    type: Text\n",
       "    description: Text supplied as string\n",
       "    value: textString\n",
       "\n",
       "textFile:\n",
       "    type: Text\n",
       "    description: Text supplied as file\n",
       "\n",
       "integerValue:\n",
       "    type: Integer\n",
       "    description: Simple integer\n",
       "    value: 10\n",
       "\n",
       "numberValue:\n",
       "    type: Number\n",
       "    description: Simple number\n",
       "    min: 0.0\n",
       "    max: 100.0\n",
       "    value: 10.5\n",
       "\n",
       "arrayValue:\n",
       "    type: Array\n",
       "    description: Array of numbers\n",
       "    value: [1, 2, 3]\n",
       "\n",
       "arrayFile:\n",
       "    type: Array\n",
       "    description: Array as file\n",
       "\n",
       "listValue:\n",
       "    type: List\n",
       "    description: List of values\n",
       "    value: ['one', 'two', 'three']\n",
       "\n",
       "listFile:\n",
       "    type: List\n",
       "    description: List as file\n",
       "\n",
       "dictValue:\n",
       "    type: Dict\n",
       "    description: Dict of values\n",
       "    value: {'one': 2, 'two': 2, 'three': 3}\n",
       "\n",
       "dictFile:\n",
       "    type: Dict\n",
       "    description: Dict as file\n",
       "\n",
       "imageValue:\n",
       "    type: Image\n",
       "    description: Image as value\n",
       "\n",
       "imageFile:\n",
       "    type: Image\n",
       "    description: Image as file\n",
       "\n",
       "choiceValue:\n",
       "    type: Choice\n",
       "    description: Pick option from choices\n",
       "    options: ['pear', 'apple', 'banana', 'grape', 'orange']\n",
       "    value: pear\n",
       "\n",
       "elementValue:\n",
       "    type: Element\n",
       "    description: Element as value\n",
       "    value: Ni"
      ]
     },
     "execution_count": 5,
     "metadata": {},
     "output_type": "execute_result"
    }
   ],
   "source": [
    "# get the list of inputs for the simtool. This is an exhausitive list of inputs for SimTools.\n",
    "inputs = getSimToolInputs(simToolLocation)\n",
    "inputs"
   ]
  },
  {
   "cell_type": "code",
   "execution_count": 6,
   "metadata": {
    "scrolled": true
   },
   "outputs": [
    {
     "data": {
      "text/plain": [
       "booleanValue:\n",
       "    type: Boolean\n",
       "    description: Execute bogus save operations\n",
       "    value: False\n",
       "\n",
       "textString:\n",
       "    type: Text\n",
       "    description: Text supplied as string\n",
       "    value: Now is the time for all good men to come to the aid of their party\n",
       "\n",
       "textFile:\n",
       "    type: Text\n",
       "    description: Text supplied as file\n",
       "\n",
       "integerValue:\n",
       "    type: Integer\n",
       "    description: Simple integer\n",
       "    value: 5\n",
       "\n",
       "numberValue:\n",
       "    type: Number\n",
       "    description: Simple number\n",
       "    min: 0.0\n",
       "    max: 100.0\n",
       "    value: 10.7\n",
       "\n",
       "arrayValue:\n",
       "    type: Array\n",
       "    description: Array of numbers\n",
       "    value: [[1.0, 2.0, 3.0], [4.0, 5.0, 6.0], [7.0, 8.0, 9.0]]\n",
       "\n",
       "arrayFile:\n",
       "    type: Array\n",
       "    description: Array as file\n",
       "\n",
       "listValue:\n",
       "    type: List\n",
       "    description: List of values\n",
       "    value: ['one', 'two', 'three', 'seven']\n",
       "\n",
       "listFile:\n",
       "    type: List\n",
       "    description: List as file\n",
       "\n",
       "dictValue:\n",
       "    type: Dict\n",
       "    description: Dict of values\n",
       "    value: {'one': 2, 'two': 2, 'three': 3}\n",
       "\n",
       "dictFile:\n",
       "    type: Dict\n",
       "    description: Dict as file\n",
       "\n",
       "imageValue:\n",
       "    type: Image\n",
       "    description: Image as value\n",
       "    value: <image>\n",
       "\n",
       "imageFile:\n",
       "    type: Image\n",
       "    description: Image as file\n",
       "\n",
       "choiceValue:\n",
       "    type: Choice\n",
       "    description: Pick option from choices\n",
       "    options: ['pear', 'apple', 'banana', 'grape', 'orange']\n",
       "    value: apple\n",
       "\n",
       "elementValue:\n",
       "    type: Element\n",
       "    description: Element as value\n",
       "    value: Fe"
      ]
     },
     "execution_count": 6,
     "metadata": {},
     "output_type": "execute_result"
    }
   ],
   "source": [
    "inputs['booleanValue'].value = False\n",
    "inputs['integerValue'].value = 5\n",
    "inputs['numberValue'].value = 10.7\n",
    "inputs['textString'].value = \"Now is the time for all good men to come to the aid of their party\"\n",
    "inputs['textFile'].file = os.path.join(\"data\",\"Text\",\"party.txt\")\n",
    "inputs['imageFile'].file = os.path.join(\"data\",\"Images\",\"dome_qd_simple.png\")\n",
    "inputs['imageValue'].value = PIL.Image.open(os.path.join(\"data\",\"Images\",\"jup.png\"))\n",
    "inputs['arrayValue'].value = np.array([[1.,2.,3.],[4.,5.,6.],[7.,8.,9.]])\n",
    "inputs['arrayFile'].file = os.path.join(\"data\",\"Array\",\"2Darray.json\")\n",
    "inputs['listValue'].value = ['one', 'two', 'three','seven']\n",
    "inputs['listFile'].file = os.path.join(\"data\",\"List\",\"list.json\")\n",
    "inputs['dictValue'].value = {'one': 2, 'two': 2, 'three': 3}\n",
    "inputs['dictFile'].file = os.path.join(\"data\",\"Dict\",\"dict.json\")\n",
    "inputs['choiceValue'].value = \"apple\"\n",
    "inputs['elementValue'].value = \"Fe\"\n",
    "\n",
    "inputs"
   ]
  },
  {
   "cell_type": "code",
   "execution_count": 7,
   "metadata": {
    "scrolled": true
   },
   "outputs": [
    {
     "data": {
      "text/plain": [
       "booleanValue:\n",
       "    type: Boolean\n",
       "    description: Execute bogus save operations\n",
       "    value: False\n",
       "\n",
       "textString:\n",
       "    type: Text\n",
       "    description: Text supplied as string\n",
       "    value: textString\n",
       "\n",
       "textFile:\n",
       "    type: Text\n",
       "    description: Text supplied as file\n",
       "\n",
       "integerValue:\n",
       "    type: Integer\n",
       "    description: Simple integer\n",
       "    value: 10\n",
       "\n",
       "numberValue:\n",
       "    type: Number\n",
       "    description: Simple number\n",
       "    min: 0.0\n",
       "    max: 100.0\n",
       "    value: 10.5\n",
       "\n",
       "arrayValue:\n",
       "    type: Array\n",
       "    description: Array of numbers\n",
       "    value: [1, 2, 3]\n",
       "\n",
       "arrayFile:\n",
       "    type: Array\n",
       "    description: Array as file\n",
       "\n",
       "listValue:\n",
       "    type: List\n",
       "    description: List of values\n",
       "    value: ['one', 'two', 'three']\n",
       "\n",
       "listFile:\n",
       "    type: List\n",
       "    description: List as file\n",
       "\n",
       "dictValue:\n",
       "    type: Dict\n",
       "    description: Dict of values\n",
       "    value: {'one': 2, 'two': 2, 'three': 3}\n",
       "\n",
       "dictFile:\n",
       "    type: Dict\n",
       "    description: Dict as file\n",
       "\n",
       "imageValue:\n",
       "    type: Image\n",
       "    description: Image as value\n",
       "\n",
       "imageFile:\n",
       "    type: Image\n",
       "    description: Image as file\n",
       "\n",
       "choiceValue:\n",
       "    type: Choice\n",
       "    description: Pick option from choices\n",
       "    options: ['pear', 'apple', 'banana', 'grape', 'orange']\n",
       "    value: pear\n",
       "\n",
       "elementValue:\n",
       "    type: Element\n",
       "    description: Element as value\n",
       "    value: Ni"
      ]
     },
     "execution_count": 7,
     "metadata": {},
     "output_type": "execute_result"
    }
   ],
   "source": [
    "# We can explore the outputs the SimTool will produce before running the simulation.\n",
    "# Of course, at this point all output variables are empty\n",
    "outputs = getSimToolOutputs(simToolLocation)\n",
    "outputs"
   ]
  },
  {
   "cell_type": "markdown",
   "metadata": {},
   "source": [
    "## Step 3. Run the SimTool ##"
   ]
  },
  {
   "cell_type": "code",
   "execution_count": 9,
   "metadata": {
    "scrolled": false
   },
   "outputs": [
    {
     "name": "stdout",
     "output_type": "stream",
     "text": [
      "runname   = 6dcaa06d2b684b97ad6f9efcfde1685b\n",
      "outdir    = RUNS/6dcaa06d2b684b97ad6f9efcfde1685b\n",
      "cached    = False\n",
      "published = False\n",
      "submit --local papermill -f inputs.yaml\n",
      "       /home/nanohub/strachan/ioexamples/simtool/ioexamples.ipynb\n",
      "       ioexamples.ipynb\n"
     ]
    },
    {
     "name": "stderr",
     "output_type": "stream",
     "text": [
      "Input Notebook:  /home/nanohub/strachan/ioexamples/simtool/ioexamples.ipynb\n",
      "Output Notebook: ioexamples.ipynb\n",
      "Executing: 100%|██████████| 13/13 [00:34<00:00,  2.65s/cell]\n"
     ]
    }
   ],
   "source": [
    "r = Run(simToolLocation,inputs)"
   ]
  },
  {
   "cell_type": "markdown",
   "metadata": {},
   "source": [
    "## Step 4. Get the outputs ##"
   ]
  },
  {
   "cell_type": "code",
   "execution_count": 10,
   "metadata": {},
   "outputs": [
    {
     "data": {
      "text/html": [
       "<div>\n",
       "<style scoped>\n",
       "    .dataframe tbody tr th:only-of-type {\n",
       "        vertical-align: middle;\n",
       "    }\n",
       "\n",
       "    .dataframe tbody tr th {\n",
       "        vertical-align: top;\n",
       "    }\n",
       "\n",
       "    .dataframe thead th {\n",
       "        text-align: right;\n",
       "    }\n",
       "</style>\n",
       "<table border=\"1\" class=\"dataframe\">\n",
       "  <thead>\n",
       "    <tr style=\"text-align: right;\">\n",
       "      <th></th>\n",
       "      <th>name</th>\n",
       "      <th>data</th>\n",
       "      <th>encoder</th>\n",
       "      <th>display</th>\n",
       "      <th>filename</th>\n",
       "    </tr>\n",
       "  </thead>\n",
       "  <tbody>\n",
       "    <tr>\n",
       "      <th>0</th>\n",
       "      <td>simToolSaveErrorOccurred</td>\n",
       "      <td>0</td>\n",
       "      <td>text</td>\n",
       "      <td>None</td>\n",
       "      <td>ioexamples.ipynb</td>\n",
       "    </tr>\n",
       "    <tr>\n",
       "      <th>1</th>\n",
       "      <td>simToolAllOutputsSaved</td>\n",
       "      <td>1</td>\n",
       "      <td>text</td>\n",
       "      <td>None</td>\n",
       "      <td>ioexamples.ipynb</td>\n",
       "    </tr>\n",
       "    <tr>\n",
       "      <th>2</th>\n",
       "      <td>booleanValue</td>\n",
       "      <td>false</td>\n",
       "      <td>text</td>\n",
       "      <td>None</td>\n",
       "      <td>ioexamples.ipynb</td>\n",
       "    </tr>\n",
       "    <tr>\n",
       "      <th>3</th>\n",
       "      <td>integerValue</td>\n",
       "      <td>5</td>\n",
       "      <td>text</td>\n",
       "      <td>None</td>\n",
       "      <td>ioexamples.ipynb</td>\n",
       "    </tr>\n",
       "    <tr>\n",
       "      <th>4</th>\n",
       "      <td>numberValue</td>\n",
       "      <td>10.7</td>\n",
       "      <td>text</td>\n",
       "      <td>None</td>\n",
       "      <td>ioexamples.ipynb</td>\n",
       "    </tr>\n",
       "    <tr>\n",
       "      <th>5</th>\n",
       "      <td>textString</td>\n",
       "      <td>\"Now is the time for all good men to come to t...</td>\n",
       "      <td>text</td>\n",
       "      <td>None</td>\n",
       "      <td>ioexamples.ipynb</td>\n",
       "    </tr>\n",
       "    <tr>\n",
       "      <th>6</th>\n",
       "      <td>textFile</td>\n",
       "      <td>file://party.txt</td>\n",
       "      <td>text</td>\n",
       "      <td>None</td>\n",
       "      <td>ioexamples.ipynb</td>\n",
       "    </tr>\n",
       "    <tr>\n",
       "      <th>7</th>\n",
       "      <td>imageFile</td>\n",
       "      <td>file://dome_qd_simple.png</td>\n",
       "      <td>text</td>\n",
       "      <td>None</td>\n",
       "      <td>ioexamples.ipynb</td>\n",
       "    </tr>\n",
       "    <tr>\n",
       "      <th>8</th>\n",
       "      <td>imageValue</td>\n",
       "      <td>[[[255, 255, 255], [255, 255, 255], [255, 255,...</td>\n",
       "      <td>text</td>\n",
       "      <td>None</td>\n",
       "      <td>ioexamples.ipynb</td>\n",
       "    </tr>\n",
       "    <tr>\n",
       "      <th>9</th>\n",
       "      <td>arrayValue</td>\n",
       "      <td>[[1.0, 2.0, 3.0], [4.0, 5.0, 6.0], [7.0, 8.0, ...</td>\n",
       "      <td>text</td>\n",
       "      <td>None</td>\n",
       "      <td>ioexamples.ipynb</td>\n",
       "    </tr>\n",
       "    <tr>\n",
       "      <th>10</th>\n",
       "      <td>arrayFile</td>\n",
       "      <td>file://2Darray.json</td>\n",
       "      <td>text</td>\n",
       "      <td>None</td>\n",
       "      <td>ioexamples.ipynb</td>\n",
       "    </tr>\n",
       "    <tr>\n",
       "      <th>11</th>\n",
       "      <td>listValue</td>\n",
       "      <td>[\"one\", \"two\", \"three\", \"seven\"]</td>\n",
       "      <td>text</td>\n",
       "      <td>None</td>\n",
       "      <td>ioexamples.ipynb</td>\n",
       "    </tr>\n",
       "    <tr>\n",
       "      <th>12</th>\n",
       "      <td>listFile</td>\n",
       "      <td>file://list.json</td>\n",
       "      <td>text</td>\n",
       "      <td>None</td>\n",
       "      <td>ioexamples.ipynb</td>\n",
       "    </tr>\n",
       "    <tr>\n",
       "      <th>13</th>\n",
       "      <td>dictValue</td>\n",
       "      <td>{\"one\": 2, \"three\": 3, \"two\": 2}</td>\n",
       "      <td>text</td>\n",
       "      <td>None</td>\n",
       "      <td>ioexamples.ipynb</td>\n",
       "    </tr>\n",
       "    <tr>\n",
       "      <th>14</th>\n",
       "      <td>dictFile</td>\n",
       "      <td>file://dict.json</td>\n",
       "      <td>text</td>\n",
       "      <td>None</td>\n",
       "      <td>ioexamples.ipynb</td>\n",
       "    </tr>\n",
       "    <tr>\n",
       "      <th>15</th>\n",
       "      <td>choiceValue</td>\n",
       "      <td>\"apple\"</td>\n",
       "      <td>text</td>\n",
       "      <td>None</td>\n",
       "      <td>ioexamples.ipynb</td>\n",
       "    </tr>\n",
       "    <tr>\n",
       "      <th>16</th>\n",
       "      <td>elementValue</td>\n",
       "      <td>\"Fe\"</td>\n",
       "      <td>text</td>\n",
       "      <td>None</td>\n",
       "      <td>ioexamples.ipynb</td>\n",
       "    </tr>\n",
       "  </tbody>\n",
       "</table>\n",
       "</div>"
      ],
      "text/plain": [
       "                        name  \\\n",
       "0   simToolSaveErrorOccurred   \n",
       "1     simToolAllOutputsSaved   \n",
       "2               booleanValue   \n",
       "3               integerValue   \n",
       "4                numberValue   \n",
       "5                 textString   \n",
       "6                   textFile   \n",
       "7                  imageFile   \n",
       "8                 imageValue   \n",
       "9                 arrayValue   \n",
       "10                 arrayFile   \n",
       "11                 listValue   \n",
       "12                  listFile   \n",
       "13                 dictValue   \n",
       "14                  dictFile   \n",
       "15               choiceValue   \n",
       "16              elementValue   \n",
       "\n",
       "                                                 data encoder display  \\\n",
       "0                                                   0    text    None   \n",
       "1                                                   1    text    None   \n",
       "2                                               false    text    None   \n",
       "3                                                   5    text    None   \n",
       "4                                                10.7    text    None   \n",
       "5   \"Now is the time for all good men to come to t...    text    None   \n",
       "6                                    file://party.txt    text    None   \n",
       "7                           file://dome_qd_simple.png    text    None   \n",
       "8   [[[255, 255, 255], [255, 255, 255], [255, 255,...    text    None   \n",
       "9   [[1.0, 2.0, 3.0], [4.0, 5.0, 6.0], [7.0, 8.0, ...    text    None   \n",
       "10                                file://2Darray.json    text    None   \n",
       "11                   [\"one\", \"two\", \"three\", \"seven\"]    text    None   \n",
       "12                                   file://list.json    text    None   \n",
       "13                   {\"one\": 2, \"three\": 3, \"two\": 2}    text    None   \n",
       "14                                   file://dict.json    text    None   \n",
       "15                                            \"apple\"    text    None   \n",
       "16                                               \"Fe\"    text    None   \n",
       "\n",
       "            filename  \n",
       "0   ioexamples.ipynb  \n",
       "1   ioexamples.ipynb  \n",
       "2   ioexamples.ipynb  \n",
       "3   ioexamples.ipynb  \n",
       "4   ioexamples.ipynb  \n",
       "5   ioexamples.ipynb  \n",
       "6   ioexamples.ipynb  \n",
       "7   ioexamples.ipynb  \n",
       "8   ioexamples.ipynb  \n",
       "9   ioexamples.ipynb  \n",
       "10  ioexamples.ipynb  \n",
       "11  ioexamples.ipynb  \n",
       "12  ioexamples.ipynb  \n",
       "13  ioexamples.ipynb  \n",
       "14  ioexamples.ipynb  \n",
       "15  ioexamples.ipynb  \n",
       "16  ioexamples.ipynb  "
      ]
     },
     "execution_count": 10,
     "metadata": {},
     "output_type": "execute_result"
    }
   ],
   "source": [
    "r.getResultSummary()"
   ]
  },
  {
   "cell_type": "code",
   "execution_count": null,
   "metadata": {},
   "outputs": [],
   "source": [
    "resultBooleanValue = r.read('booleanValue')\n",
    "print(resultBooleanValue)"
   ]
  },
  {
   "cell_type": "code",
   "execution_count": null,
   "metadata": {},
   "outputs": [],
   "source": [
    "resultIntegerValue = r.read('integerValue')\n",
    "print(resultIntegerValue)"
   ]
  },
  {
   "cell_type": "code",
   "execution_count": null,
   "metadata": {},
   "outputs": [],
   "source": [
    "resultNumberValue = r.read('numberValue')\n",
    "print(resultNumberValue)"
   ]
  },
  {
   "cell_type": "code",
   "execution_count": null,
   "metadata": {},
   "outputs": [],
   "source": [
    "resultTextString = r.read('textString')\n",
    "print(resultTextString)"
   ]
  },
  {
   "cell_type": "code",
   "execution_count": null,
   "metadata": {},
   "outputs": [],
   "source": [
    "resultTextFile = r.read('textFile')\n",
    "print(resultTextFile)\n",
    "\n",
    "resultTextFile = r.read('textFile',raw=True)\n",
    "print(resultTextFile)"
   ]
  },
  {
   "cell_type": "code",
   "execution_count": null,
   "metadata": {},
   "outputs": [],
   "source": [
    "resultImageFile = r.read('imageFile',display=True)\n",
    "\n",
    "resultImageFile = r.read('imageFile',raw=True)\n",
    "print(resultImageFile)"
   ]
  },
  {
   "cell_type": "code",
   "execution_count": null,
   "metadata": {},
   "outputs": [],
   "source": [
    "resultImageValue = r.read('imageValue',display=True)\n",
    "#resultImageValue"
   ]
  },
  {
   "cell_type": "code",
   "execution_count": null,
   "metadata": {},
   "outputs": [],
   "source": [
    "resultArrayValue = r.read('arrayValue')\n",
    "print(resultArrayValue)"
   ]
  },
  {
   "cell_type": "code",
   "execution_count": null,
   "metadata": {},
   "outputs": [],
   "source": [
    "resultArrayFile = r.read('arrayFile')\n",
    "print(resultArrayFile)\n",
    "\n",
    "resultArrayFile = r.read('arrayFile',raw=True)\n",
    "print(resultArrayFile)"
   ]
  },
  {
   "cell_type": "code",
   "execution_count": null,
   "metadata": {},
   "outputs": [],
   "source": [
    "resultListValue = r.read('listValue')\n",
    "print(resultListValue)"
   ]
  },
  {
   "cell_type": "code",
   "execution_count": null,
   "metadata": {},
   "outputs": [],
   "source": [
    "resultListFile = r.read('listFile')\n",
    "print(resultListFile)\n",
    "\n",
    "resultListFile = r.read('listFile',raw=True)\n",
    "print(resultListFile)"
   ]
  },
  {
   "cell_type": "code",
   "execution_count": null,
   "metadata": {},
   "outputs": [],
   "source": [
    "resultDictValue = r.read('dictValue')\n",
    "print(resultDictValue)"
   ]
  },
  {
   "cell_type": "code",
   "execution_count": null,
   "metadata": {},
   "outputs": [],
   "source": [
    "resultDictFile = r.read('dictFile')\n",
    "print(resultDictFile)\n",
    "\n",
    "resultDictFile = r.read('dictFile',raw=True)\n",
    "print(resultDictFile)"
   ]
  },
  {
   "cell_type": "code",
   "execution_count": null,
   "metadata": {},
   "outputs": [],
   "source": [
    "resultChoiceValue = r.read('choiceValue')\n",
    "print(resultChoiceValue)"
   ]
  },
  {
   "cell_type": "code",
   "execution_count": null,
   "metadata": {},
   "outputs": [],
   "source": [
    "resultElementValue = r.read('elementValue')\n",
    "print(resultElementValue)"
   ]
  }
 ],
 "metadata": {
  "kernelspec": {
   "display_name": "Python 3",
   "language": "python",
   "name": "python3"
  },
  "language_info": {
   "codemirror_mode": {
    "name": "ipython",
    "version": 3
   },
   "file_extension": ".py",
   "mimetype": "text/x-python",
   "name": "python",
   "nbconvert_exporter": "python",
   "pygments_lexer": "ipython3",
   "version": "3.7.3"
  }
 },
 "nbformat": 4,
 "nbformat_minor": 2
}
