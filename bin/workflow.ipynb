{
 "cells": [
  {
   "cell_type": "markdown",
   "metadata": {},
   "source": [
    "# Workflow notebook for the PolymerXtal SimTool #\n",
    "### Tongtong Shen, Jessica Nash and Alejandro Strachan ###\n",
    "### School of Materials Engineering, Purdue University and The Molecular Sciences Software Institute###\n",
    "\n",
    "The PolymerXtal SimTool is based on PolymerXtal software designed to build and analyze molecular-level polymer crystal structures. PolymerXtal provides a standardized process to generate polymer crystal structure based on monomer, tacticity, helicity, chiriality and unit cell information and analyze the crystallinity in polymer systems with given atom trajectories. These features have allowed PolymerXtal to lead further investigations of semi-crystalline polymers where most properties are governed by the crystalline microstructure and promote future research endeavors in the area of crystalline polymer simulations.\n",
    "\n",
    "In general, users need to specify as inputs the polymer type they wish to run, the helice structure, tacticity and chiriality. The SimTool generates the chain helix structure and a visual snapshot of it.\n",
    "\n",
    "The goal of the workflow notebook is to set up and run the PolymerXtal SimTool, which is demonstrated both for the case a single build, or as a high-throughput study, exploring various polymer types and helicity at once."
   ]
  },
  {
   "cell_type": "markdown",
   "metadata": {},
   "source": [
    "## Set up imports ##\n",
    "\n",
    "We will first import the necessary libraries and packages, including the simtool package which helps locate the SimTool we wish to run and pass it inputs and outputs"
   ]
  },
  {
   "cell_type": "code",
   "execution_count": 1,
   "metadata": {},
   "outputs": [],
   "source": [
    "from hublib.tool import get_inputs, run_simtool, rdisplay, read, get_outputs_df, get_outputs, get_output_files\n",
    "from simtool import findInstalledSimToolNotebooks, searchForSimTool, findSimToolNotebook\n",
    "from simtool import getSimToolInputs, getSimToolOutputs, Run\n",
    "\n",
    "import os"
   ]
  },
  {
   "cell_type": "markdown",
   "metadata": {},
   "source": [
    "## SimTool information ##\n",
    "\n",
    "We will first create a dictionary containing the SimTool information using the \"findSimToolNotebook\" function"
   ]
  },
  {
   "cell_type": "code",
   "execution_count": 2,
   "metadata": {},
   "outputs": [
    {
     "name": "stdout",
     "output_type": "stream",
     "text": [
      "      notebookPath = /home/nanohub/shen276/polymerxtal/simtool/polymerxtal.ipynb\n",
      "       simToolName = polymerxtal\n",
      "   simToolRevision = None\n",
      "         published = False\n"
     ]
    }
   ],
   "source": [
    "# Identify the simtool and retrieve its status\n",
    "simToolName = \"polymerxtal\"\n",
    "nb = searchForSimTool('polymerxtal')\n",
    "for key in nb.keys():\n",
    "    print(\"%18s = %s\" % (key,nb[key]))"
   ]
  },
  {
   "cell_type": "markdown",
   "metadata": {},
   "source": [
    "### SimTool Inputs and Outputs ###\n",
    "We will then create an object for the simtool inputs using the \"getSimToolInputs\" function - this object is validated by the simtool library so only allowed values are passed to the simtool"
   ]
  },
  {
   "cell_type": "code",
   "execution_count": 3,
   "metadata": {},
   "outputs": [
    {
     "name": "stdout",
     "output_type": "stream",
     "text": [
      "polymer_type:\n",
      "    type: Text\n",
      "    description: Select the polymer type.\n",
      "    options: ['PAN', 'PE', 'PP', 'PS', 'POM', 'PTFE', 'PVC']\n",
      "    value: PAN\n",
      "\n",
      "helicity:\n",
      "    type: Text\n",
      "    description: Select the helicity of the polymer chain.\n",
      "    options: ['Helix 2*3/1', 'Helix 2*2/1', 'Helix 2*1/1']\n",
      "    value: Helix 2*3/1\n",
      "\n",
      "monomers:\n",
      "    type: Number\n",
      "    description: Number of monomers\n",
      "    min: 1\n",
      "    max: 100\n",
      "    value: 30\n",
      "\n",
      "tacticity:\n",
      "    type: Text\n",
      "    description: Select the tacticity of the polymer chain.\n",
      "    options: ['isotactic', 'atactic', 'syndiotactic', 'None']\n",
      "    value: isotactic\n",
      "\n",
      "chiriality:\n",
      "    type: Text\n",
      "    description: Select the chiriality of the polymer chain.\n",
      "    options: ['left', 'right', 'None']\n",
      "    value: right\n",
      "\n",
      "head_tail_defect_ratio:\n",
      "    type: Number\n",
      "    description: Ratio of head-to-head and tail-to-tail connections\n",
      "    min: 0\n",
      "    max: 1\n",
      "    value: 0\n",
      "\n",
      "configs:\n",
      "    type: Number\n",
      "    description: Number of attempts to find a configuration\n",
      "    min: 1\n",
      "    max: 5000\n",
      "    value: 30\n",
      "\n",
      "infinite:\n",
      "    type: Boolean\n",
      "    description: Whether to create corresponding LAMMPS Data File or not\n",
      "    value: True\n",
      "\n",
      "create_lmpdata_file:\n",
      "    type: Boolean\n",
      "    description: Whether to create corresponding LAMMPS Data File or not\n",
      "    value: True\n",
      "\n",
      "create_lmpinput_file:\n",
      "    type: Boolean\n",
      "    description: Whether to create corresponding LAMMPS input File or not\n",
      "    value: True\n",
      "\n",
      "ffield:\n",
      "    type: Text\n",
      "    description: Force field\n",
      "    options: ['Dreiding', 'PCFF']\n",
      "    value: Dreiding\n",
      "\n",
      "bondscale:\n",
      "    type: Number\n",
      "    description: Applied to equilibrium bond lengths\n",
      "    min: 1\n",
      "    max: 2\n",
      "    value: 1.1\n",
      "\n",
      "charge:\n",
      "    type: Text\n",
      "    description: Charge\n",
      "    options: ['Gasteiger']\n",
      "    value: Gasteiger\n",
      "\n"
     ]
    }
   ],
   "source": [
    "# get the list of inputs\n",
    "inputs = getSimToolInputs(nb)\n",
    "print(inputs)"
   ]
  },
  {
   "cell_type": "code",
   "execution_count": 4,
   "metadata": {},
   "outputs": [
    {
     "data": {
      "text/plain": [
       "HelixName:\n",
       "    type: Text\n",
       "\n",
       "PDBview:\n",
       "    type: Text\n",
       "\n",
       "PDB:\n",
       "    type: Text\n",
       "\n",
       "LAMMPSDataFile:\n",
       "    type: Text\n",
       "\n",
       "Datafile_warnings:\n",
       "    type: Text\n",
       "\n",
       "X6paircoeffs:\n",
       "    type: Text\n",
       "\n",
       "LAMMPSinputfile:\n",
       "    type: Text"
      ]
     },
     "execution_count": 4,
     "metadata": {},
     "output_type": "execute_result"
    }
   ],
   "source": [
    "# we can get a list of expected outputs\n",
    "getSimToolOutputs(nb)"
   ]
  },
  {
   "cell_type": "markdown",
   "metadata": {},
   "source": [
    "## Setting SimTool Inputs ##\n",
    "\n",
    "Now we will setup the inputs and run a first simulation. Important aspects on SimTool inputs are:\n",
    " * Inputs are validated"
   ]
  },
  {
   "cell_type": "code",
   "execution_count": 5,
   "metadata": {},
   "outputs": [
    {
     "ename": "ValueError",
     "evalue": "Maximum value is 100",
     "output_type": "error",
     "traceback": [
      "\u001b[0;31m---------------------------------------------------------------------------\u001b[0m",
      "\u001b[0;31mValueError\u001b[0m                                Traceback (most recent call last)",
      "\u001b[0;32m<ipython-input-5-0a4459da09b4>\u001b[0m in \u001b[0;36m<module>\u001b[0;34m\u001b[0m\n\u001b[1;32m      1\u001b[0m \u001b[0;31m# range checking\u001b[0m\u001b[0;34m\u001b[0m\u001b[0;34m\u001b[0m\u001b[0;34m\u001b[0m\u001b[0m\n\u001b[0;32m----> 2\u001b[0;31m \u001b[0minputs\u001b[0m\u001b[0;34m.\u001b[0m\u001b[0mmonomers\u001b[0m\u001b[0;34m.\u001b[0m\u001b[0mvalue\u001b[0m \u001b[0;34m=\u001b[0m \u001b[0;36m6000\u001b[0m\u001b[0;34m\u001b[0m\u001b[0;34m\u001b[0m\u001b[0m\n\u001b[0m",
      "\u001b[0;32m/apps/share64/debian7/anaconda/anaconda-6/lib/python3.7/site-packages/simtool/params.py\u001b[0m in \u001b[0;36mvalue\u001b[0;34m(self, newval)\u001b[0m\n\u001b[1;32m    491\u001b[0m                     \u001b[0;32mraise\u001b[0m \u001b[0mValueError\u001b[0m\u001b[0;34m(\u001b[0m\u001b[0;34m\"Minimum value is %g\"\u001b[0m \u001b[0;34m%\u001b[0m \u001b[0mself\u001b[0m\u001b[0;34m.\u001b[0m\u001b[0mmin\u001b[0m\u001b[0;34m)\u001b[0m\u001b[0;34m\u001b[0m\u001b[0;34m\u001b[0m\u001b[0m\n\u001b[1;32m    492\u001b[0m                 \u001b[0;32mif\u001b[0m \u001b[0mself\u001b[0m\u001b[0;34m.\u001b[0m\u001b[0mmax\u001b[0m \u001b[0;32mis\u001b[0m \u001b[0;32mnot\u001b[0m \u001b[0;32mNone\u001b[0m \u001b[0;32mand\u001b[0m \u001b[0mnewval\u001b[0m \u001b[0;34m>\u001b[0m \u001b[0mself\u001b[0m\u001b[0;34m.\u001b[0m\u001b[0mmax\u001b[0m\u001b[0;34m:\u001b[0m\u001b[0;34m\u001b[0m\u001b[0;34m\u001b[0m\u001b[0m\n\u001b[0;32m--> 493\u001b[0;31m                     \u001b[0;32mraise\u001b[0m \u001b[0mValueError\u001b[0m\u001b[0;34m(\u001b[0m\u001b[0;34m\"Maximum value is %g\"\u001b[0m \u001b[0;34m%\u001b[0m \u001b[0mself\u001b[0m\u001b[0;34m.\u001b[0m\u001b[0mmax\u001b[0m\u001b[0;34m)\u001b[0m\u001b[0;34m\u001b[0m\u001b[0;34m\u001b[0m\u001b[0m\n\u001b[0m\u001b[1;32m    494\u001b[0m         \u001b[0mself\u001b[0m\u001b[0;34m.\u001b[0m\u001b[0m_value\u001b[0m \u001b[0;34m=\u001b[0m \u001b[0mnewval\u001b[0m\u001b[0;34m\u001b[0m\u001b[0;34m\u001b[0m\u001b[0m\n\u001b[1;32m    495\u001b[0m \u001b[0;34m\u001b[0m\u001b[0m\n",
      "\u001b[0;31mValueError\u001b[0m: Maximum value is 100"
     ]
    }
   ],
   "source": [
    "# range checking\n",
    "inputs.monomers.value = 6000"
   ]
  },
  {
   "cell_type": "markdown",
   "metadata": {},
   "source": [
    "## Run the SimTool ###"
   ]
  },
  {
   "cell_type": "code",
   "execution_count": 6,
   "metadata": {},
   "outputs": [],
   "source": [
    "inputs.polymer_type.value = 'PE'\n",
    "inputs.infinite.value = False\n",
    "inputs.create_lmpdata_file.value = False\n",
    "inputs.create_lmpinput_file.value = False"
   ]
  },
  {
   "cell_type": "code",
   "execution_count": 7,
   "metadata": {},
   "outputs": [
    {
     "name": "stdout",
     "output_type": "stream",
     "text": [
      "runname   = b165d92490274fae99554be9e4ad1859\n",
      "outdir    = RUNS/b165d92490274fae99554be9e4ad1859\n",
      "cached    = False\n",
      "published = False\n",
      "submit --local papermill -f inputs.yaml\n",
      "       /home/nanohub/shen276/polymerxtal/simtool/polymerxtal.ipynb\n",
      "       polymerxtal.ipynb\n"
     ]
    },
    {
     "name": "stderr",
     "output_type": "stream",
     "text": [
      "Input Notebook:  /home/nanohub/shen276/polymerxtal/simtool/polymerxtal.ipynb\n",
      "Output Notebook: polymerxtal.ipynb\n",
      "Executing: 100%|██████████| 13/13 [00:38<00:00,  2.94s/cell]\n"
     ]
    },
    {
     "name": "stdout",
     "output_type": "stream",
     "text": [
      "The following outputs are missing: ['LAMMPSinputfile', 'LAMMPSDataFile', 'Datafile_warnings', 'X6paircoeffs']\n"
     ]
    }
   ],
   "source": [
    "r = Run(nb, inputs)"
   ]
  },
  {
   "cell_type": "markdown",
   "metadata": {},
   "source": [
    "## Explore PolymerXtal outputs ##\n",
    "The Run object contains a useful method called \"getResultSummary\", which we can use to view the SimTool outputs at a high level in a pandas dataframe."
   ]
  },
  {
   "cell_type": "code",
   "execution_count": 8,
   "metadata": {},
   "outputs": [
    {
     "data": {
      "text/html": [
       "<div>\n",
       "<style scoped>\n",
       "    .dataframe tbody tr th:only-of-type {\n",
       "        vertical-align: middle;\n",
       "    }\n",
       "\n",
       "    .dataframe tbody tr th {\n",
       "        vertical-align: top;\n",
       "    }\n",
       "\n",
       "    .dataframe thead th {\n",
       "        text-align: right;\n",
       "    }\n",
       "</style>\n",
       "<table border=\"1\" class=\"dataframe\">\n",
       "  <thead>\n",
       "    <tr style=\"text-align: right;\">\n",
       "      <th></th>\n",
       "      <th>name</th>\n",
       "      <th>data</th>\n",
       "      <th>encoder</th>\n",
       "      <th>display</th>\n",
       "      <th>filename</th>\n",
       "    </tr>\n",
       "  </thead>\n",
       "  <tbody>\n",
       "    <tr>\n",
       "      <th>0</th>\n",
       "      <td>simToolSaveErrorOccurred</td>\n",
       "      <td>0</td>\n",
       "      <td>text</td>\n",
       "      <td>None</td>\n",
       "      <td>polymerxtal.ipynb</td>\n",
       "    </tr>\n",
       "    <tr>\n",
       "      <th>1</th>\n",
       "      <td>simToolAllOutputsSaved</td>\n",
       "      <td>0</td>\n",
       "      <td>text</td>\n",
       "      <td>None</td>\n",
       "      <td>polymerxtal.ipynb</td>\n",
       "    </tr>\n",
       "    <tr>\n",
       "      <th>2</th>\n",
       "      <td>HelixName</td>\n",
       "      <td>\"PE_helix_2_3_1_iso+\"</td>\n",
       "      <td>text</td>\n",
       "      <td>None</td>\n",
       "      <td>polymerxtal.ipynb</td>\n",
       "    </tr>\n",
       "    <tr>\n",
       "      <th>3</th>\n",
       "      <td>PDBview</td>\n",
       "      <td>file://PE_helix_2_3_1_iso+_view.pdb</td>\n",
       "      <td>text</td>\n",
       "      <td>None</td>\n",
       "      <td>polymerxtal.ipynb</td>\n",
       "    </tr>\n",
       "    <tr>\n",
       "      <th>4</th>\n",
       "      <td>PDB</td>\n",
       "      <td>file://PE_helix_2_3_1_iso+.pdb</td>\n",
       "      <td>text</td>\n",
       "      <td>None</td>\n",
       "      <td>polymerxtal.ipynb</td>\n",
       "    </tr>\n",
       "  </tbody>\n",
       "</table>\n",
       "</div>"
      ],
      "text/plain": [
       "                       name                                 data encoder  \\\n",
       "0  simToolSaveErrorOccurred                                    0    text   \n",
       "1    simToolAllOutputsSaved                                    0    text   \n",
       "2                 HelixName                \"PE_helix_2_3_1_iso+\"    text   \n",
       "3                   PDBview  file://PE_helix_2_3_1_iso+_view.pdb    text   \n",
       "4                       PDB       file://PE_helix_2_3_1_iso+.pdb    text   \n",
       "\n",
       "  display           filename  \n",
       "0    None  polymerxtal.ipynb  \n",
       "1    None  polymerxtal.ipynb  \n",
       "2    None  polymerxtal.ipynb  \n",
       "3    None  polymerxtal.ipynb  \n",
       "4    None  polymerxtal.ipynb  "
      ]
     },
     "execution_count": 8,
     "metadata": {},
     "output_type": "execute_result"
    }
   ],
   "source": [
    "r.getResultSummary()"
   ]
  },
  {
   "cell_type": "code",
   "execution_count": 9,
   "metadata": {},
   "outputs": [
    {
     "data": {
      "text/html": [
       "<div id=\"molecule_ef50012d-ddc5-4020-becd-bbd210fe707a\"></div>\n",
       "           <script type=\"text/javascript\">\n",
       "           require.config({baseUrl: '/',\n",
       "                           paths: {imolecule: ['nbextensions/imolecule.min', 'https://rawgit.com/patrickfuller/imolecule/master/imolecule/js/build/imolecule.min']}});\n",
       "           require(['imolecule'], function () {\n",
       "               var $d = $('#molecule_ef50012d-ddc5-4020-becd-bbd210fe707a');\n",
       "               $d.width(1000); $d.height(300);\n",
       "               $d.imolecule = jQuery.extend({}, imolecule);\n",
       "               $d.imolecule.create($d, {drawingType: 'ball and stick',\n",
       "                                        cameraType: 'perspective',\n",
       "                                        shader: 'lambert',\n",
       "                                        showSave: false});\n",
       "               $d.imolecule.addElements({});\n",
       "               $d.imolecule.draw({\"atoms\":[{\"charge\":0.022977512114045025,\"element\":\"H\",\"location\":[0.6026538461538453,0.5410549450549462,-31.959593406593406]},{\"charge\":-0.06527627911912873,\"element\":\"C\",\"location\":[0.6026538461538453,0.5410549450549462,-30.869593406593406]},{\"charge\":-0.0559109602061563,\"element\":\"C\",\"location\":[0.1626538461538456,-0.8079450549450539,-30.295593406593404]},{\"charge\":-0.053305879218276994,\"element\":\"C\",\"location\":[0.1626538461538456,-0.8079450549450539,-28.760593406593408]},{\"charge\":0.022977512114045025,\"element\":\"H\",\"location\":[1.5936538461538454,0.749054945054946,-30.462593406593406]},{\"charge\":0.022977512114045025,\"element\":\"H\",\"location\":[-0.0043461538461544436,1.3480549450549462,-30.461593406593405]},{\"charge\":0.026264641346796454,\"element\":\"H\",\"location\":[0.8376538461538456,-1.5589450549450539,-30.704593406593407]},{\"charge\":0.026264641346796454,\"element\":\"H\",\"location\":[-0.8603461538461544,-0.9739450549450538,-30.632593406593408]},{\"charge\":-0.053065378113835784,\"element\":\"C\",\"location\":[-0.7853461538461545,0.24805494505494607,-28.187593406593408]},{\"charge\":-0.053057015807534656,\"element\":\"C\",\"location\":[-0.7853461538461545,0.24905494505494596,-26.652593406593404]},{\"charge\":0.026520049006504384,\"element\":\"H\",\"location\":[-0.15334615384615446,-1.7689450549450538,-28.353593406593404]},{\"charge\":0.026520049006504384,\"element\":\"H\",\"location\":[1.1656538461538455,-0.6849450549450538,-28.353593406593404]},{\"charge\":0.02652834582757616,\"element\":\"H\",\"location\":[-1.7733461538461546,0.04005494505494611,-28.596593406593406]},{\"charge\":0.02652834582757616,\"element\":\"H\",\"location\":[-0.4173461538461545,1.2170549450549464,-28.524593406593407]},{\"charge\":-0.05305690552499095,\"element\":\"C\",\"location\":[0.6026538461538453,0.5410549450549462,-26.079593406593407]},{\"charge\":-0.05305690507293987,\"element\":\"C\",\"location\":[0.6026538461538453,0.5420549450549461,-24.544593406593407]},{\"charge\":0.026528452106547227,\"element\":\"H\",\"location\":[-1.4603461538461544,1.0010549450549462,-26.244593406593406]},{\"charge\":0.026528452106547227,\"element\":\"H\",\"location\":[-1.1813461538461545,-0.6819450549450539,-26.244593406593406]},{\"charge\":0.02652845253646993,\"element\":\"H\",\"location\":[0.9166538461538454,1.5010549450549462,-26.488593406593406]},{\"charge\":0.02652845253646993,\"element\":\"H\",\"location\":[1.2586538461538455,-0.26194505494505393,-26.416593406593407]},{\"charge\":-0.05305690507293987,\"element\":\"C\",\"location\":[0.1626538461538456,-0.8079450549450539,-23.971593406593406]},{\"charge\":-0.05305690507293987,\"element\":\"C\",\"location\":[0.1626538461538456,-0.8079450549450539,-22.436593406593406]},{\"charge\":0.02652845253646993,\"element\":\"H\",\"location\":[1.5926538461538455,0.749054945054946,-24.136593406593406]},{\"charge\":0.02652845253646993,\"element\":\"H\",\"location\":[-0.0043461538461544436,1.349054945054946,-24.136593406593406]},{\"charge\":0.02652845253646993,\"element\":\"H\",\"location\":[0.8376538461538456,-1.5589450549450539,-24.380593406593405]},{\"charge\":0.02652845253646993,\"element\":\"H\",\"location\":[-0.8603461538461544,-0.9739450549450538,-24.307593406593405]},{\"charge\":-0.05305690507293987,\"element\":\"C\",\"location\":[-0.7853461538461545,0.24805494505494607,-21.862593406593405]},{\"charge\":-0.05305690507293987,\"element\":\"C\",\"location\":[-0.7853461538461545,0.24805494505494607,-20.327593406593408]},{\"charge\":0.02652845253646993,\"element\":\"H\",\"location\":[-0.15234615384615435,-1.7689450549450538,-22.02859340659341]},{\"charge\":0.02652845253646993,\"element\":\"H\",\"location\":[1.1656538461538455,-0.6859450549450539,-22.027593406593404]},{\"charge\":0.02652845253646993,\"element\":\"H\",\"location\":[-1.7743461538461545,0.04005494505494611,-22.27259340659341]},{\"charge\":0.02652845253646993,\"element\":\"H\",\"location\":[-0.41834615384615437,1.2180549450549463,-22.199593406593408]},{\"charge\":-0.05305690507293987,\"element\":\"C\",\"location\":[0.6026538461538453,0.5410549450549462,-19.754593406593408]},{\"charge\":-0.05305690507293987,\"element\":\"C\",\"location\":[0.6026538461538453,0.5410549450549462,-18.219593406593404]},{\"charge\":0.02652845253646993,\"element\":\"H\",\"location\":[-1.4603461538461544,1.002054945054946,-19.919593406593407]},{\"charge\":0.02652845253646993,\"element\":\"H\",\"location\":[-1.1813461538461545,-0.6819450549450539,-19.919593406593407]},{\"charge\":0.02652845253646993,\"element\":\"H\",\"location\":[0.9166538461538454,1.502054945054946,-20.163593406593407]},{\"charge\":0.02652845253646993,\"element\":\"H\",\"location\":[1.2586538461538455,-0.2609450549450538,-20.091593406593404]},{\"charge\":-0.05305690507293987,\"element\":\"C\",\"location\":[0.1626538461538456,-0.8079450549450539,-17.646593406593404]},{\"charge\":-0.05305690507293987,\"element\":\"C\",\"location\":[0.1626538461538456,-0.8079450549450539,-16.110593406593406]},{\"charge\":0.02652845253646993,\"element\":\"H\",\"location\":[1.5926538461538455,0.7480549450549461,-17.812593406593408]},{\"charge\":0.02652845253646993,\"element\":\"H\",\"location\":[-0.0043461538461544436,1.349054945054946,-17.811593406593406]},{\"charge\":0.02652845253646993,\"element\":\"H\",\"location\":[0.8376538461538456,-1.5599450549450538,-18.054593406593405]},{\"charge\":0.02652845253646993,\"element\":\"H\",\"location\":[-0.8603461538461544,-0.9739450549450538,-17.983593406593407]},{\"charge\":-0.05305690507293987,\"element\":\"C\",\"location\":[-0.7853461538461545,0.24805494505494607,-15.537593406593405]},{\"charge\":-0.05305690507293987,\"element\":\"C\",\"location\":[-0.7853461538461545,0.24805494505494607,-14.002593406593405]},{\"charge\":0.02652845253646993,\"element\":\"H\",\"location\":[-0.15234615384615435,-1.7689450549450538,-15.702593406593405]},{\"charge\":0.02652845253646993,\"element\":\"H\",\"location\":[1.1646538461538456,-0.6859450549450539,-15.703593406593406]},{\"charge\":0.02652845253646993,\"element\":\"H\",\"location\":[-1.7743461538461545,0.03905494505494622,-15.946593406593404]},{\"charge\":0.02652845253646993,\"element\":\"H\",\"location\":[-0.41834615384615437,1.2170549450549464,-15.874593406593405]},{\"charge\":-0.05305690507293987,\"element\":\"C\",\"location\":[0.6026538461538453,0.5420549450549461,-13.429593406593405]},{\"charge\":-0.05305690507293987,\"element\":\"C\",\"location\":[0.6036538461538457,0.5410549450549462,-11.894593406593405]},{\"charge\":0.02652845253646993,\"element\":\"H\",\"location\":[-1.4593461538461545,1.002054945054946,-13.595593406593405]},{\"charge\":0.02652845253646993,\"element\":\"H\",\"location\":[-1.1813461538461545,-0.6809450549450538,-13.594593406593408]},{\"charge\":0.02652845253646993,\"element\":\"H\",\"location\":[0.9166538461538454,1.502054945054946,-13.838593406593407]},{\"charge\":0.02652845253646993,\"element\":\"H\",\"location\":[1.2586538461538455,-0.26194505494505393,-13.765593406593407]},{\"charge\":-0.05305690507293987,\"element\":\"C\",\"location\":[0.1626538461538456,-0.8079450549450539,-11.320593406593407]},{\"charge\":-0.05305690507293987,\"element\":\"C\",\"location\":[0.1626538461538456,-0.8079450549450539,-9.785593406593406]},{\"charge\":0.02652845253646993,\"element\":\"H\",\"location\":[1.5926538461538455,0.749054945054946,-11.487593406593405]},{\"charge\":0.02652845253646993,\"element\":\"H\",\"location\":[-0.0043461538461544436,1.349054945054946,-11.485593406593406]},{\"charge\":0.02652845253646993,\"element\":\"H\",\"location\":[0.8366538461538457,-1.5589450549450539,-11.729593406593406]},{\"charge\":0.02652845253646993,\"element\":\"H\",\"location\":[-0.8603461538461544,-0.9739450549450538,-11.657593406593406]},{\"charge\":-0.05305690507293987,\"element\":\"C\",\"location\":[-0.7853461538461545,0.24805494505494607,-9.212593406593406]},{\"charge\":-0.05305690507293987,\"element\":\"C\",\"location\":[-0.7863461538461545,0.24905494505494596,-7.677593406593406]},{\"charge\":0.02652845253646993,\"element\":\"H\",\"location\":[-0.15234615384615435,-1.7689450549450538,-9.378593406593406]},{\"charge\":0.02652845253646993,\"element\":\"H\",\"location\":[1.1656538461538455,-0.6849450549450538,-9.378593406593406]},{\"charge\":0.02652845253646993,\"element\":\"H\",\"location\":[-1.7743461538461545,0.04005494505494611,-9.621593406593405]},{\"charge\":0.02652845253646993,\"element\":\"H\",\"location\":[-0.41834615384615437,1.2170549450549464,-9.549593406593406]},{\"charge\":-0.05305690507293987,\"element\":\"C\",\"location\":[0.6026538461538453,0.5410549450549462,-7.103593406593404]},{\"charge\":-0.05305690507293987,\"element\":\"C\",\"location\":[0.6036538461538457,0.5420549450549461,-5.569593406593405]},{\"charge\":0.02652845253646993,\"element\":\"H\",\"location\":[-1.4603461538461544,1.0010549450549462,-7.269593406593405]},{\"charge\":0.02652845253646993,\"element\":\"H\",\"location\":[-1.1803461538461546,-0.6819450549450539,-7.269593406593405]},{\"charge\":0.02652845253646993,\"element\":\"H\",\"location\":[0.9156538461538455,1.5010549450549462,-7.5135934065934045]},{\"charge\":0.02652845253646993,\"element\":\"H\",\"location\":[1.2576538461538456,-0.26194505494505393,-7.441593406593405]},{\"charge\":-0.05305690507293987,\"element\":\"C\",\"location\":[0.1626538461538456,-0.8069450549450539,-4.995593406593407]},{\"charge\":-0.05305690507293987,\"element\":\"C\",\"location\":[0.1626538461538456,-0.8079450549450539,-3.460593406593407]},{\"charge\":0.02652845253646993,\"element\":\"H\",\"location\":[1.5926538461538455,0.749054945054946,-5.161593406593408]},{\"charge\":0.02652845253646993,\"element\":\"H\",\"location\":[-0.0043461538461544436,1.349054945054946,-5.161593406593408]},{\"charge\":0.02652845253646993,\"element\":\"H\",\"location\":[0.8376538461538456,-1.5589450549450539,-5.4055934065934075]},{\"charge\":0.02652845253646993,\"element\":\"H\",\"location\":[-0.8603461538461544,-0.9739450549450538,-5.332593406593407]},{\"charge\":-0.05305690507293987,\"element\":\"C\",\"location\":[-0.7853461538461545,0.24805494505494607,-2.8865934065934056]},{\"charge\":-0.05305690507293987,\"element\":\"C\",\"location\":[-0.7853461538461545,0.24805494505494607,-1.3515934065934054]},{\"charge\":0.02652845253646993,\"element\":\"H\",\"location\":[-0.15334615384615446,-1.7689450549450538,-3.053593406593407]},{\"charge\":0.02652845253646993,\"element\":\"H\",\"location\":[1.1656538461538455,-0.6859450549450539,-3.052593406593406]},{\"charge\":0.02652845253646993,\"element\":\"H\",\"location\":[-1.7733461538461546,0.03905494505494622,-3.2965934065934057]},{\"charge\":0.02652845253646993,\"element\":\"H\",\"location\":[-0.4173461538461545,1.2180549450549463,-3.2245934065934065]},{\"charge\":-0.05305690507293987,\"element\":\"C\",\"location\":[0.6026538461538453,0.5410549450549462,-0.7795934065934063]},{\"charge\":-0.05305690507293987,\"element\":\"C\",\"location\":[0.6026538461538453,0.5410549450549462,0.7564065934065951]},{\"charge\":0.02652845253646993,\"element\":\"H\",\"location\":[-1.4603461538461544,1.002054945054946,-0.9445934065934054]},{\"charge\":0.02652845253646993,\"element\":\"H\",\"location\":[-1.1813461538461545,-0.6819450549450539,-0.9445934065934054]},{\"charge\":0.02652845253646993,\"element\":\"H\",\"location\":[0.9166538461538454,1.502054945054946,-1.1885934065934052]},{\"charge\":0.02652845253646993,\"element\":\"H\",\"location\":[1.2576538461538456,-0.2609450549450538,-1.1155934065934048]},{\"charge\":-0.05305690507293987,\"element\":\"C\",\"location\":[0.1626538461538456,-0.8079450549450539,1.3294065934065955]},{\"charge\":-0.05305690507293987,\"element\":\"C\",\"location\":[0.1626538461538456,-0.8079450549450539,2.864406593406592]},{\"charge\":0.02652845253646993,\"element\":\"H\",\"location\":[1.5936538461538454,0.749054945054946,1.1634065934065916]},{\"charge\":0.02652845253646993,\"element\":\"H\",\"location\":[-0.0043461538461544436,1.349054945054946,1.1634065934065916]},{\"charge\":0.02652845253646993,\"element\":\"H\",\"location\":[0.8376538461538456,-1.5599450549450538,0.9204065934065966]},{\"charge\":0.02652845253646993,\"element\":\"H\",\"location\":[-0.8603461538461544,-0.9739450549450538,0.9924065934065922]},{\"charge\":-0.05305690507293987,\"element\":\"C\",\"location\":[-0.7853461538461545,0.24805494505494607,3.4374065934065925]},{\"charge\":-0.05305690507293987,\"element\":\"C\",\"location\":[-0.7853461538461545,0.24805494505494607,4.972406593406596]},{\"charge\":0.02652845253646993,\"element\":\"H\",\"location\":[-0.15334615384615446,-1.7689450549450538,3.2724065934065933]},{\"charge\":0.02652845253646993,\"element\":\"H\",\"location\":[1.1656538461538455,-0.6849450549450538,3.2724065934065933]},{\"charge\":0.02652845253646993,\"element\":\"H\",\"location\":[-1.7733461538461546,0.03905494505494622,3.0284065934065936]},{\"charge\":0.02652845253646993,\"element\":\"H\",\"location\":[-0.41834615384615437,1.2170549450549464,3.1004065934065963]},{\"charge\":-0.05305690507293987,\"element\":\"C\",\"location\":[0.6026538461538453,0.5420549450549461,5.545406593406597]},{\"charge\":-0.05305690507293987,\"element\":\"C\",\"location\":[0.6026538461538453,0.5410549450549462,7.081406593406591]},{\"charge\":0.02652845253646993,\"element\":\"H\",\"location\":[-1.4603461538461544,1.002054945054946,5.379406593406593]},{\"charge\":0.02652845253646993,\"element\":\"H\",\"location\":[-1.1813461538461545,-0.6809450549450538,5.380406593406597]},{\"charge\":0.02652845253646993,\"element\":\"H\",\"location\":[0.9166538461538454,1.502054945054946,5.137406593406595]},{\"charge\":0.02652845253646993,\"element\":\"H\",\"location\":[1.2586538461538455,-0.26194505494505393,5.209406593406591]},{\"charge\":-0.05305690507293987,\"element\":\"C\",\"location\":[0.1626538461538456,-0.8079450549450539,7.654406593406591]},{\"charge\":-0.05305690507293987,\"element\":\"C\",\"location\":[0.1626538461538456,-0.8079450549450539,9.190406593406593]},{\"charge\":0.02652845253646993,\"element\":\"H\",\"location\":[1.5926538461538455,0.749054945054946,7.488406593406594]},{\"charge\":0.02652845253646993,\"element\":\"H\",\"location\":[-0.0043461538461544436,1.349054945054946,7.489406593406592]},{\"charge\":0.02652845253646993,\"element\":\"H\",\"location\":[0.8376538461538456,-1.5589450549450539,7.245406593406592]},{\"charge\":0.02652845253646993,\"element\":\"H\",\"location\":[-0.8603461538461544,-0.9739450549450538,7.318406593406593]},{\"charge\":-0.05305690507293987,\"element\":\"C\",\"location\":[-0.7853461538461545,0.24805494505494607,9.763406593406593]},{\"charge\":-0.05305690507293987,\"element\":\"C\",\"location\":[-0.7853461538461545,0.24905494505494596,11.297406593406592]},{\"charge\":0.02652845253646993,\"element\":\"H\",\"location\":[-0.15234615384615435,-1.7689450549450538,9.596406593406591]},{\"charge\":0.02652845253646993,\"element\":\"H\",\"location\":[1.1656538461538455,-0.6849450549450538,9.597406593406596]},{\"charge\":0.02652845253646993,\"element\":\"H\",\"location\":[-1.7743461538461545,0.04005494505494611,9.354406593406594]},{\"charge\":0.02652845253646993,\"element\":\"H\",\"location\":[-0.41834615384615437,1.2170549450549464,9.426406593406597]},{\"charge\":-0.05305690507293987,\"element\":\"C\",\"location\":[0.6026538461538453,0.5410549450549462,11.871406593406597]},{\"charge\":-0.05305690507293987,\"element\":\"C\",\"location\":[0.6026538461538453,0.5420549450549461,13.406406593406594]},{\"charge\":0.02652845253646993,\"element\":\"H\",\"location\":[-1.4603461538461544,1.0010549450549462,11.705406593406593]},{\"charge\":0.02652845253646993,\"element\":\"H\",\"location\":[-1.1813461538461545,-0.6819450549450539,11.70640659340659]},{\"charge\":0.02652845253646993,\"element\":\"H\",\"location\":[0.9166538461538454,1.5010549450549462,11.462406593406591]},{\"charge\":0.02652845253646993,\"element\":\"H\",\"location\":[1.2586538461538455,-0.2609450549450538,11.534406593406594]},{\"charge\":-0.05305690507293987,\"element\":\"C\",\"location\":[0.1626538461538456,-0.8069450549450539,13.980406593406592]},{\"charge\":-0.05305690507293987,\"element\":\"C\",\"location\":[0.1626538461538456,-0.8079450549450539,15.515406593406595]},{\"charge\":0.02652845253646993,\"element\":\"H\",\"location\":[1.5926538461538455,0.749054945054946,13.814406593406595]},{\"charge\":0.02652845253646993,\"element\":\"H\",\"location\":[-0.0053461538461545555,1.349054945054946,13.813406593406597]},{\"charge\":0.02652845253646993,\"element\":\"H\",\"location\":[0.8376538461538456,-1.5589450549450539,13.570406593406595]},{\"charge\":0.02652845253646993,\"element\":\"H\",\"location\":[-0.8603461538461544,-0.9739450549450538,13.643406593406596]},{\"charge\":-0.05305690507293987,\"element\":\"C\",\"location\":[-0.7853461538461545,0.24805494505494607,16.088406593406596]},{\"charge\":-0.05305690507293987,\"element\":\"C\",\"location\":[-0.7863461538461545,0.24805494505494607,17.623406593406592]},{\"charge\":0.02652845253646993,\"element\":\"H\",\"location\":[-0.15234615384615435,-1.7689450549450538,15.921406593406594]},{\"charge\":0.02652845253646993,\"element\":\"H\",\"location\":[1.1646538461538456,-0.6859450549450539,15.922406593406592]},{\"charge\":0.02652845253646993,\"element\":\"H\",\"location\":[-1.7743461538461545,0.04005494505494611,15.679406593406597]},{\"charge\":0.02652845253646993,\"element\":\"H\",\"location\":[-0.41834615384615437,1.2180549450549463,15.751406593406593]},{\"charge\":-0.05305690507293987,\"element\":\"C\",\"location\":[0.6026538461538453,0.5410549450549462,18.196406593406593]},{\"charge\":-0.05305690507293987,\"element\":\"C\",\"location\":[0.6036538461538457,0.5420549450549461,19.732406593406594]},{\"charge\":0.02652845253646993,\"element\":\"H\",\"location\":[-1.4593461538461545,1.002054945054946,18.030406593406596]},{\"charge\":0.02652845253646993,\"element\":\"H\",\"location\":[-1.1813461538461545,-0.6819450549450539,18.030406593406596]},{\"charge\":0.02652845253646993,\"element\":\"H\",\"location\":[0.9156538461538455,1.502054945054946,17.787406593406594]},{\"charge\":0.02652845253646993,\"element\":\"H\",\"location\":[1.2586538461538455,-0.2609450549450538,17.859406593406597]},{\"charge\":-0.05305690507293987,\"element\":\"C\",\"location\":[0.16165384615384548,-0.8079450549450539,20.304406593406597]},{\"charge\":-0.05305690507293987,\"element\":\"C\",\"location\":[0.1626538461538456,-0.8079450549450539,21.839406593406594]},{\"charge\":0.02652845253646993,\"element\":\"H\",\"location\":[1.5926538461538455,0.749054945054946,20.13940659340659]},{\"charge\":0.02652845253646993,\"element\":\"H\",\"location\":[-0.0043461538461544436,1.349054945054946,20.13940659340659]},{\"charge\":0.02652845253646993,\"element\":\"H\",\"location\":[0.8366538461538457,-1.5599450549450538,19.89540659340659]},{\"charge\":0.02652845253646993,\"element\":\"H\",\"location\":[-0.8603461538461544,-0.9729450549450538,19.96840659340659]},{\"charge\":-0.05305690507293987,\"element\":\"C\",\"location\":[-0.7853461538461545,0.24805494505494607,22.412406593406594]},{\"charge\":-0.05305690507293987,\"element\":\"C\",\"location\":[-0.7863461538461545,0.24805494505494607,23.948406593406595]},{\"charge\":0.02652845253646993,\"element\":\"H\",\"location\":[-0.15234615384615435,-1.7689450549450538,22.247406593406595]},{\"charge\":0.02652845253646993,\"element\":\"H\",\"location\":[1.1656538461538455,-0.6849450549450538,22.247406593406595]},{\"charge\":0.02652845253646993,\"element\":\"H\",\"location\":[-1.7733461538461546,0.03905494505494622,22.004406593406593]},{\"charge\":0.02652845253646993,\"element\":\"H\",\"location\":[-0.41834615384615437,1.2180549450549463,22.077406593406593]},{\"charge\":-0.05305690507293987,\"element\":\"C\",\"location\":[0.6026538461538453,0.5420549450549461,24.521406593406596]},{\"charge\":-0.05305690552499095,\"element\":\"C\",\"location\":[0.6026538461538453,0.5410549450549462,26.056406593406592]},{\"charge\":0.02652845253646993,\"element\":\"H\",\"location\":[-1.4603461538461544,1.002054945054946,24.35540659340659]},{\"charge\":0.02652845253646993,\"element\":\"H\",\"location\":[-1.1813461538461545,-0.6809450549450538,24.35540659340659]},{\"charge\":0.02652845253646993,\"element\":\"H\",\"location\":[0.9156538461538455,1.502054945054946,24.112406593406597]},{\"charge\":0.02652845253646993,\"element\":\"H\",\"location\":[1.2576538461538456,-0.26194505494505393,24.185406593406597]},{\"charge\":-0.053057015807534656,\"element\":\"C\",\"location\":[0.1626538461538456,-0.8069450549450539,26.629406593406593]},{\"charge\":-0.053065378113835784,\"element\":\"C\",\"location\":[0.1626538461538456,-0.8079450549450539,28.165406593406594]},{\"charge\":0.02652845253646993,\"element\":\"H\",\"location\":[1.5926538461538455,0.749054945054946,26.463406593406596]},{\"charge\":0.02652845253646993,\"element\":\"H\",\"location\":[-0.0043461538461544436,1.349054945054946,26.464406593406594]},{\"charge\":0.026528452106547227,\"element\":\"H\",\"location\":[0.8376538461538456,-1.5589450549450539,26.220406593406594]},{\"charge\":0.026528452106547227,\"element\":\"H\",\"location\":[-0.8603461538461544,-0.9739450549450538,26.293406593406594]},{\"charge\":-0.053305879218276994,\"element\":\"C\",\"location\":[-0.7853461538461545,0.24805494505494607,28.738406593406594]},{\"charge\":-0.0559109602061563,\"element\":\"C\",\"location\":[-0.7853461538461545,0.24905494505494596,30.27340659340659]},{\"charge\":0.02652834582757616,\"element\":\"H\",\"location\":[-0.15334615384615446,-1.767945054945054,28.57240659340659]},{\"charge\":0.02652834582757616,\"element\":\"H\",\"location\":[1.1656538461538455,-0.6849450549450538,28.57240659340659]},{\"charge\":0.026520049006504384,\"element\":\"H\",\"location\":[-1.7733461538461546,0.04005494505494611,28.329406593406596]},{\"charge\":0.026520049006504384,\"element\":\"H\",\"location\":[-0.4173461538461545,1.2170549450549464,28.40140659340659]},{\"charge\":-0.06527627911912873,\"element\":\"C\",\"location\":[0.6026538461538453,0.5410549450549462,30.847406593406596]},{\"charge\":0.022977512114045025,\"element\":\"H\",\"location\":[0.6026538461538453,0.5410549450549462,31.936406593406595]},{\"charge\":0.026264641346796454,\"element\":\"H\",\"location\":[-1.4603461538461544,1.0010549450549462,30.681406593406592]},{\"charge\":0.026264641346796454,\"element\":\"H\",\"location\":[-1.1813461538461545,-0.6819450549450539,30.681406593406592]},{\"charge\":0.022977512114045025,\"element\":\"H\",\"location\":[0.9166538461538454,1.502054945054946,30.438406593406597]},{\"charge\":0.022977512114045025,\"element\":\"H\",\"location\":[1.2586538461538455,-0.2609450549450538,30.510406593406593]}],\"bonds\":[{\"atoms\":[0,1],\"order\":1},{\"atoms\":[1,4],\"order\":1},{\"atoms\":[1,5],\"order\":1},{\"atoms\":[1,2],\"order\":1},{\"atoms\":[6,2],\"order\":1},{\"atoms\":[7,2],\"order\":1},{\"atoms\":[2,3],\"order\":1},{\"atoms\":[3,11],\"order\":1},{\"atoms\":[3,10],\"order\":1},{\"atoms\":[3,8],\"order\":1},{\"atoms\":[12,8],\"order\":1},{\"atoms\":[13,8],\"order\":1},{\"atoms\":[8,9],\"order\":1},{\"atoms\":[9,16],\"order\":1},{\"atoms\":[9,17],\"order\":1},{\"atoms\":[9,14],\"order\":1},{\"atoms\":[18,14],\"order\":1},{\"atoms\":[19,14],\"order\":1},{\"atoms\":[14,15],\"order\":1},{\"atoms\":[15,22],\"order\":1},{\"atoms\":[15,23],\"order\":1},{\"atoms\":[15,20],\"order\":1},{\"atoms\":[24,20],\"order\":1},{\"atoms\":[25,20],\"order\":1},{\"atoms\":[20,21],\"order\":1},{\"atoms\":[21,28],\"order\":1},{\"atoms\":[21,29],\"order\":1},{\"atoms\":[21,26],\"order\":1},{\"atoms\":[30,26],\"order\":1},{\"atoms\":[31,26],\"order\":1},{\"atoms\":[26,27],\"order\":1},{\"atoms\":[27,35],\"order\":1},{\"atoms\":[27,34],\"order\":1},{\"atoms\":[27,32],\"order\":1},{\"atoms\":[36,32],\"order\":1},{\"atoms\":[37,32],\"order\":1},{\"atoms\":[32,33],\"order\":1},{\"atoms\":[33,40],\"order\":1},{\"atoms\":[33,41],\"order\":1},{\"atoms\":[33,38],\"order\":1},{\"atoms\":[42,38],\"order\":1},{\"atoms\":[43,38],\"order\":1},{\"atoms\":[38,39],\"order\":1},{\"atoms\":[39,47],\"order\":1},{\"atoms\":[39,46],\"order\":1},{\"atoms\":[39,44],\"order\":1},{\"atoms\":[48,44],\"order\":1},{\"atoms\":[49,44],\"order\":1},{\"atoms\":[44,45],\"order\":1},{\"atoms\":[45,52],\"order\":1},{\"atoms\":[45,53],\"order\":1},{\"atoms\":[45,50],\"order\":1},{\"atoms\":[54,50],\"order\":1},{\"atoms\":[55,50],\"order\":1},{\"atoms\":[50,51],\"order\":1},{\"atoms\":[51,58],\"order\":1},{\"atoms\":[51,59],\"order\":1},{\"atoms\":[51,56],\"order\":1},{\"atoms\":[60,56],\"order\":1},{\"atoms\":[61,56],\"order\":1},{\"atoms\":[56,57],\"order\":1},{\"atoms\":[57,64],\"order\":1},{\"atoms\":[57,65],\"order\":1},{\"atoms\":[57,62],\"order\":1},{\"atoms\":[66,62],\"order\":1},{\"atoms\":[67,62],\"order\":1},{\"atoms\":[62,63],\"order\":1},{\"atoms\":[63,70],\"order\":1},{\"atoms\":[63,71],\"order\":1},{\"atoms\":[63,68],\"order\":1},{\"atoms\":[72,68],\"order\":1},{\"atoms\":[73,68],\"order\":1},{\"atoms\":[68,69],\"order\":1},{\"atoms\":[69,76],\"order\":1},{\"atoms\":[69,77],\"order\":1},{\"atoms\":[69,74],\"order\":1},{\"atoms\":[78,74],\"order\":1},{\"atoms\":[79,74],\"order\":1},{\"atoms\":[74,75],\"order\":1},{\"atoms\":[75,82],\"order\":1},{\"atoms\":[75,83],\"order\":1},{\"atoms\":[75,80],\"order\":1},{\"atoms\":[84,80],\"order\":1},{\"atoms\":[85,80],\"order\":1},{\"atoms\":[80,81],\"order\":1},{\"atoms\":[81,89],\"order\":1},{\"atoms\":[81,88],\"order\":1},{\"atoms\":[81,86],\"order\":1},{\"atoms\":[90,86],\"order\":1},{\"atoms\":[91,86],\"order\":1},{\"atoms\":[86,87],\"order\":1},{\"atoms\":[87,94],\"order\":1},{\"atoms\":[87,95],\"order\":1},{\"atoms\":[87,92],\"order\":1},{\"atoms\":[96,92],\"order\":1},{\"atoms\":[97,92],\"order\":1},{\"atoms\":[92,93],\"order\":1},{\"atoms\":[93,100],\"order\":1},{\"atoms\":[93,101],\"order\":1},{\"atoms\":[93,98],\"order\":1},{\"atoms\":[102,98],\"order\":1},{\"atoms\":[103,98],\"order\":1},{\"atoms\":[98,99],\"order\":1},{\"atoms\":[99,106],\"order\":1},{\"atoms\":[99,107],\"order\":1},{\"atoms\":[99,104],\"order\":1},{\"atoms\":[108,104],\"order\":1},{\"atoms\":[109,104],\"order\":1},{\"atoms\":[104,105],\"order\":1},{\"atoms\":[105,112],\"order\":1},{\"atoms\":[105,113],\"order\":1},{\"atoms\":[105,110],\"order\":1},{\"atoms\":[114,110],\"order\":1},{\"atoms\":[115,110],\"order\":1},{\"atoms\":[110,111],\"order\":1},{\"atoms\":[111,118],\"order\":1},{\"atoms\":[111,119],\"order\":1},{\"atoms\":[111,116],\"order\":1},{\"atoms\":[120,116],\"order\":1},{\"atoms\":[121,116],\"order\":1},{\"atoms\":[116,117],\"order\":1},{\"atoms\":[117,124],\"order\":1},{\"atoms\":[117,125],\"order\":1},{\"atoms\":[117,122],\"order\":1},{\"atoms\":[126,122],\"order\":1},{\"atoms\":[127,122],\"order\":1},{\"atoms\":[122,123],\"order\":1},{\"atoms\":[123,131],\"order\":1},{\"atoms\":[123,130],\"order\":1},{\"atoms\":[123,128],\"order\":1},{\"atoms\":[132,128],\"order\":1},{\"atoms\":[133,128],\"order\":1},{\"atoms\":[128,129],\"order\":1},{\"atoms\":[129,136],\"order\":1},{\"atoms\":[129,137],\"order\":1},{\"atoms\":[129,134],\"order\":1},{\"atoms\":[138,134],\"order\":1},{\"atoms\":[139,134],\"order\":1},{\"atoms\":[134,135],\"order\":1},{\"atoms\":[135,142],\"order\":1},{\"atoms\":[135,143],\"order\":1},{\"atoms\":[135,140],\"order\":1},{\"atoms\":[144,140],\"order\":1},{\"atoms\":[145,140],\"order\":1},{\"atoms\":[140,141],\"order\":1},{\"atoms\":[141,148],\"order\":1},{\"atoms\":[141,149],\"order\":1},{\"atoms\":[141,146],\"order\":1},{\"atoms\":[150,146],\"order\":1},{\"atoms\":[151,146],\"order\":1},{\"atoms\":[146,147],\"order\":1},{\"atoms\":[147,154],\"order\":1},{\"atoms\":[147,155],\"order\":1},{\"atoms\":[147,152],\"order\":1},{\"atoms\":[156,152],\"order\":1},{\"atoms\":[157,152],\"order\":1},{\"atoms\":[152,153],\"order\":1},{\"atoms\":[153,161],\"order\":1},{\"atoms\":[153,160],\"order\":1},{\"atoms\":[153,158],\"order\":1},{\"atoms\":[162,158],\"order\":1},{\"atoms\":[163,158],\"order\":1},{\"atoms\":[158,159],\"order\":1},{\"atoms\":[159,166],\"order\":1},{\"atoms\":[159,167],\"order\":1},{\"atoms\":[159,164],\"order\":1},{\"atoms\":[168,164],\"order\":1},{\"atoms\":[169,164],\"order\":1},{\"atoms\":[164,165],\"order\":1},{\"atoms\":[165,172],\"order\":1},{\"atoms\":[165,173],\"order\":1},{\"atoms\":[165,170],\"order\":1},{\"atoms\":[174,170],\"order\":1},{\"atoms\":[175,170],\"order\":1},{\"atoms\":[170,171],\"order\":1},{\"atoms\":[171,178],\"order\":1},{\"atoms\":[171,179],\"order\":1},{\"atoms\":[171,176],\"order\":1},{\"atoms\":[180,176],\"order\":1},{\"atoms\":[181,176],\"order\":1},{\"atoms\":[176,177],\"order\":1}],\"formula\":\"C60H122\",\"molecular_weight\":843.6106799999992,\"units\":{\"molecular_weight\":\"g / mol\"}});\n",
       "\n",
       "               $d.resizable({\n",
       "                   aspectRatio: 1000 / 300,\n",
       "                   resize: function (evt, ui) {\n",
       "                       $d.imolecule.renderer.setSize(ui.size.width,\n",
       "                                                     ui.size.height);\n",
       "                   }\n",
       "               });\n",
       "           });\n",
       "           </script>"
      ],
      "text/plain": [
       "<IPython.core.display.HTML object>"
      ]
     },
     "metadata": {},
     "output_type": "display_data"
    }
   ],
   "source": [
    "# Let's look at the final structure first\n",
    "pdbFile = r.read('PDBview',raw=True)\n",
    "import imolecule\n",
    "imolecule.draw(pdbFile[7:],size=(1000, 300))\n",
    "#imolecule.draw(r.outdir+\"/\"+r.read('Helix Name')+\".pdb\",size=(1000, 300))#, camera_type=\"orthographic\") "
   ]
  },
  {
   "cell_type": "markdown",
   "metadata": {},
   "source": [
    "## Scripting multiple PolymerXtal builds ##\n",
    "\n",
    "The above cells demonstrated a single build using the simtool library. We will now demonstrate a high-throughput approach to setting up multiple builds, where will demonstrated various polymer types and helices."
   ]
  },
  {
   "cell_type": "code",
   "execution_count": 10,
   "metadata": {},
   "outputs": [
    {
     "name": "stdout",
     "output_type": "stream",
     "text": [
      "Polymer Type:  PP\n",
      "runname   = 76e6a68219a9475888321eab0659da2c\n",
      "outdir    = RUNS/76e6a68219a9475888321eab0659da2c\n",
      "cached    = False\n",
      "published = False\n",
      "submit --local papermill -f inputs.yaml\n",
      "       /home/nanohub/shen276/polymerxtal/simtool/polymerxtal.ipynb\n",
      "       polymerxtal.ipynb\n"
     ]
    },
    {
     "name": "stderr",
     "output_type": "stream",
     "text": [
      "Input Notebook:  /home/nanohub/shen276/polymerxtal/simtool/polymerxtal.ipynb\n",
      "Output Notebook: polymerxtal.ipynb\n",
      "Executing:  62%|██████▏   | 8/13 [00:12<00:08,  1.62s/cell]1 molecule converted\n",
      "1 molecule converted\n",
      "Executing: 100%|██████████| 13/13 [00:57<00:00,  4.41s/cell]\n"
     ]
    },
    {
     "name": "stdout",
     "output_type": "stream",
     "text": [
      "The following outputs are missing: ['Datafile_warnings']\n",
      "Polymer Type:  PS\n",
      "runname   = f21a3648e4a646d6bc6e0237b2b27e58\n",
      "outdir    = RUNS/f21a3648e4a646d6bc6e0237b2b27e58\n",
      "cached    = False\n",
      "published = False\n",
      "submit --local papermill -f inputs.yaml\n",
      "       /home/nanohub/shen276/polymerxtal/simtool/polymerxtal.ipynb\n",
      "       polymerxtal.ipynb\n"
     ]
    },
    {
     "name": "stderr",
     "output_type": "stream",
     "text": [
      "Input Notebook:  /home/nanohub/shen276/polymerxtal/simtool/polymerxtal.ipynb\n",
      "Output Notebook: polymerxtal.ipynb\n",
      "Executing:  62%|██████▏   | 8/13 [00:14<00:09,  1.82s/cell]1 molecule converted\n",
      "1 molecule converted\n",
      "Executing: 100%|██████████| 13/13 [03:40<00:00, 16.99s/cell]\n"
     ]
    },
    {
     "name": "stdout",
     "output_type": "stream",
     "text": [
      "The following outputs are missing: ['Datafile_warnings', 'X6paircoeffs']\n"
     ]
    }
   ],
   "source": [
    "polymer_type_list = ['PP', 'PS']\n",
    "inputs.infinite.value = True\n",
    "inputs.create_lmpdata_file.value = True\n",
    "inputs.create_lmpinput_file.value = True\n",
    "\n",
    "for i,polymer_type in enumerate(polymer_type_list):\n",
    "    print (\"Polymer Type: \", polymer_type)\n",
    "   \n",
    "    inputs.polymer_type.value = polymer_type\n",
    "    if i:\n",
    "        inputs.ffield.value = \"PCFF\"\n",
    "    \n",
    "    # run the SimTool with the input values\n",
    "    r = Run(nb, inputs)\n",
    "    "
   ]
  },
  {
   "cell_type": "code",
   "execution_count": 11,
   "metadata": {},
   "outputs": [
    {
     "data": {
      "text/html": [
       "<div id=\"molecule_bbc73a24-5237-420b-84a0-9cdd1bbaaa1b\"></div>\n",
       "           <script type=\"text/javascript\">\n",
       "           require.config({baseUrl: '/',\n",
       "                           paths: {imolecule: ['nbextensions/imolecule.min', 'https://rawgit.com/patrickfuller/imolecule/master/imolecule/js/build/imolecule.min']}});\n",
       "           require(['imolecule'], function () {\n",
       "               var $d = $('#molecule_bbc73a24-5237-420b-84a0-9cdd1bbaaa1b');\n",
       "               $d.width(1000); $d.height(300);\n",
       "               $d.imolecule = jQuery.extend({}, imolecule);\n",
       "               $d.imolecule.create($d, {drawingType: 'ball and stick',\n",
       "                                        cameraType: 'perspective',\n",
       "                                        shader: 'lambert',\n",
       "                                        showSave: false});\n",
       "               $d.imolecule.addElements({});\n",
       "               $d.imolecule.draw({\"atoms\":[{\"charge\":-0.045641613875987704,\"element\":\"C\",\"location\":[0.7940791666666644,0.2601833333333321,-31.65524375]},{\"charge\":-0.015284016248213565,\"element\":\"C\",\"location\":[0.793079166666665,0.25918333333333266,-30.12424375]},{\"charge\":-0.039344575287683155,\"element\":\"C\",\"location\":[-0.1719208333333353,-0.8178166666666682,-29.61224375]},{\"charge\":0.02712494237916344,\"element\":\"H\",\"location\":[1.495079166666665,0.9741833333333325,-32.08724375]},{\"charge\":0.02712494237916344,\"element\":\"H\",\"location\":[1.1140791666666647,-0.7168166666666682,-32.01624375]},{\"charge\":0.0348970929123312,\"element\":\"H\",\"location\":[0.5570791666666648,1.260183333333332,-29.761243750000002]},{\"charge\":-0.044253062489588886,\"element\":\"C\",\"location\":[2.181079166666665,-0.031816666666667714,-29.55124375]},{\"charge\":-0.05830659125002761,\"element\":\"C\",\"location\":[3.3240791666666647,0.21818333333333229,-30.32024375]},{\"charge\":-0.0583065912500276,\"element\":\"C\",\"location\":[2.3100791666666645,-0.500816666666668,-28.238243750000002]},{\"charge\":-0.061492586737945554,\"element\":\"C\",\"location\":[4.595079166666665,-0.0028166666666677997,-29.77724375]},{\"charge\":0.06203762109486897,\"element\":\"H\",\"location\":[3.224079166666665,0.6201833333333324,-31.32824375]},{\"charge\":-0.061492586737945554,\"element\":\"C\",\"location\":[3.5810791666666644,-0.7218166666666681,-27.69524375]},{\"charge\":0.06203762109486897,\"element\":\"H\",\"location\":[1.4200791666666648,-0.694816666666668,-27.63824375]},{\"charge\":-0.0617414849269433,\"element\":\"C\",\"location\":[4.724079166666664,-0.4738166666666679,-28.46524375]},{\"charge\":0.061766555669687265,\"element\":\"H\",\"location\":[5.484079166666664,0.19018333333333182,-30.37724375]},{\"charge\":0.061766555669687265,\"element\":\"H\",\"location\":[3.6830791666666647,-1.0878166666666678,-26.674243750000002]},{\"charge\":0.06175835637668205,\"element\":\"H\",\"location\":[5.714079166666664,-0.6468166666666679,-28.04424375]},{\"charge\":-0.01475504600157922,\"element\":\"C\",\"location\":[-0.1709208333333354,-0.8168166666666679,-28.08324375]},{\"charge\":-0.03932650489236828,\"element\":\"C\",\"location\":[-0.6229208333333354,0.5571833333333318,-27.57124375]},{\"charge\":0.027686636281323257,\"element\":\"H\",\"location\":[0.09707916666666483,-1.7818166666666677,-30.04524375]},{\"charge\":0.027686636281323257,\"element\":\"H\",\"location\":[-1.1789208333333354,-0.6068166666666679,-29.97424375]},{\"charge\":0.034915016865956494,\"element\":\"H\",\"location\":[0.8130791666666646,-1.1128166666666677,-27.71924375]},{\"charge\":-0.04423477651735536,\"element\":\"C\",\"location\":[-1.1169208333333351,-1.872816666666668,-27.50824375]},{\"charge\":-0.05830635603376135,\"element\":\"C\",\"location\":[-1.4729208333333352,-2.9878166666666677,-28.27824375]},{\"charge\":-0.058306356033761345,\"element\":\"C\",\"location\":[-1.5889208333333353,-1.7508166666666676,-26.19624375]},{\"charge\":-0.06149258579804686,\"element\":\"C\",\"location\":[-2.299920833333335,-3.978816666666668,-27.73624375]},{\"charge\":0.06203762201598847,\"element\":\"H\",\"location\":[-1.0749208333333353,-3.103816666666668,-29.28524375]},{\"charge\":-0.06149258579804686,\"element\":\"C\",\"location\":[-2.4159208333333355,-2.740816666666668,-25.65324375]},{\"charge\":0.06203762201598847,\"element\":\"H\",\"location\":[-1.3129208333333353,-0.8828166666666677,-25.59624375]},{\"charge\":-0.0617414849269433,\"element\":\"C\",\"location\":[-2.7729208333333353,-3.853816666666668,-26.42324375]},{\"charge\":0.061766555669687265,\"element\":\"H\",\"location\":[-2.5779208333333354,-4.844816666666667,-28.33524375]},{\"charge\":0.061766555669687265,\"element\":\"H\",\"location\":[-2.7829208333333355,-2.6458166666666676,-24.63124375]},{\"charge\":0.06175835637668205,\"element\":\"H\",\"location\":[-3.4169208333333354,-4.625816666666668,-26.00224375]},{\"charge\":-0.014754809694131099,\"element\":\"C\",\"location\":[-0.6219208333333355,0.5571833333333318,-26.04124375]},{\"charge\":-0.039326503913762335,\"element\":\"C\",\"location\":[0.7940791666666644,0.2601833333333321,-25.52924375]},{\"charge\":0.02768686409625518,\"element\":\"H\",\"location\":[-1.5909208333333353,0.8071833333333318,-28.00324375]},{\"charge\":0.02768686409625518,\"element\":\"H\",\"location\":[0.06307916666666458,1.3241833333333322,-27.93224375]},{\"charge\":0.034915017796658655,\"element\":\"H\",\"location\":[-1.3709208333333351,-0.14681666666666793,-25.677243750000002]},{\"charge\":-0.04423477553874942,\"element\":\"C\",\"location\":[-1.0639208333333352,1.9041833333333322,-25.46724375]},{\"charge\":-0.05830635603376135,\"element\":\"C\",\"location\":[-1.8509208333333353,2.7691833333333324,-26.23624375]},{\"charge\":-0.058306356033761345,\"element\":\"C\",\"location\":[-0.7199208333333353,2.2511833333333326,-24.15424375]},{\"charge\":-0.06149258579804686,\"element\":\"C\",\"location\":[-2.294920833333335,3.981183333333332,-25.69424375]},{\"charge\":0.06203762201598847,\"element\":\"H\",\"location\":[-2.1509208333333354,2.4821833333333325,-27.244243750000003]},{\"charge\":-0.06149258579804686,\"element\":\"C\",\"location\":[-1.1659208333333355,3.462183333333332,-23.61124375]},{\"charge\":0.06203762201598847,\"element\":\"H\",\"location\":[-0.10792083333333524,1.5781833333333326,-23.554243749999998]},{\"charge\":-0.0617414849269433,\"element\":\"C\",\"location\":[-1.9519208333333353,4.329183333333333,-24.38224375]},{\"charge\":0.061766555669687265,\"element\":\"H\",\"location\":[-2.9079208333333355,4.654183333333332,-26.293243750000002]},{\"charge\":0.061766555669687265,\"element\":\"H\",\"location\":[-0.8999208333333355,3.733183333333333,-22.58924375]},{\"charge\":0.06175835637668205,\"element\":\"H\",\"location\":[-2.2969208333333353,5.2721833333333326,-23.96024375]},{\"charge\":-0.014754809694131099,\"element\":\"C\",\"location\":[0.793079166666665,0.2601833333333321,-23.99924375]},{\"charge\":-0.039326503913762335,\"element\":\"C\",\"location\":[-0.1709208333333354,-0.8188166666666676,-23.48624375]},{\"charge\":0.02768686409625518,\"element\":\"H\",\"location\":[1.4940791666666646,0.9741833333333325,-25.96124375]},{\"charge\":0.02768686409625518,\"element\":\"H\",\"location\":[1.115079166666665,-0.7168166666666682,-25.89124375]},{\"charge\":0.034915017796658655,\"element\":\"H\",\"location\":[0.5570791666666648,1.2611833333333324,-23.63524375]},{\"charge\":-0.04423477553874942,\"element\":\"C\",\"location\":[2.1800791666666646,-0.03081666666666738,-23.424243750000002]},{\"charge\":-0.05830635603376135,\"element\":\"C\",\"location\":[3.3240791666666647,0.21818333333333229,-24.19424375]},{\"charge\":-0.058306356033761345,\"element\":\"C\",\"location\":[2.3100791666666645,-0.500816666666668,-22.11224375]},{\"charge\":-0.06149258579804686,\"element\":\"C\",\"location\":[4.595079166666665,-0.0028166666666677997,-23.65224375]},{\"charge\":0.06203762201598847,\"element\":\"H\",\"location\":[3.224079166666665,0.6211833333333319,-25.20224375]},{\"charge\":-0.06149258579804686,\"element\":\"C\",\"location\":[3.5820791666666647,-0.7218166666666681,-21.56924375]},{\"charge\":0.06203762201598847,\"element\":\"H\",\"location\":[1.4210791666666651,-0.6958166666666674,-21.51224375]},{\"charge\":-0.0617414849269433,\"element\":\"C\",\"location\":[4.725079166666665,-0.47481666666666733,-22.33924375]},{\"charge\":0.061766555669687265,\"element\":\"H\",\"location\":[5.485079166666665,0.19118333333333215,-24.25224375]},{\"charge\":0.061766555669687265,\"element\":\"H\",\"location\":[3.6830791666666647,-1.0878166666666678,-20.54724375]},{\"charge\":0.06175835637668205,\"element\":\"H\",\"location\":[5.714079166666664,-0.6468166666666679,-21.91724375]},{\"charge\":-0.014754809694131099,\"element\":\"C\",\"location\":[-0.1719208333333353,-0.8168166666666679,-21.95624375]},{\"charge\":-0.039326503913762335,\"element\":\"C\",\"location\":[-0.6229208333333354,0.5571833333333318,-21.44524375]},{\"charge\":0.02768686409625518,\"element\":\"H\",\"location\":[0.0960791666666645,-1.7818166666666677,-23.91924375]},{\"charge\":0.02768686409625518,\"element\":\"H\",\"location\":[-1.177920833333335,-0.6078166666666673,-23.84824375]},{\"charge\":0.034915017796658655,\"element\":\"H\",\"location\":[0.8130791666666646,-1.1128166666666677,-21.59324375]},{\"charge\":-0.04423477553874942,\"element\":\"C\",\"location\":[-1.1179208333333355,-1.8738166666666678,-21.38324375]},{\"charge\":-0.05830635603376135,\"element\":\"C\",\"location\":[-1.4729208333333352,-2.9878166666666677,-22.15124375]},{\"charge\":-0.058306356033761345,\"element\":\"C\",\"location\":[-1.5899208333333352,-1.7508166666666676,-20.07024375]},{\"charge\":-0.06149258579804686,\"element\":\"C\",\"location\":[-2.3009208333333353,-3.978816666666668,-21.610243750000002]},{\"charge\":0.06203762201598847,\"element\":\"H\",\"location\":[-1.0749208333333353,-3.103816666666668,-23.16024375]},{\"charge\":-0.06149258579804686,\"element\":\"C\",\"location\":[-2.4159208333333355,-2.740816666666668,-19.52724375]},{\"charge\":0.06203762201598847,\"element\":\"H\",\"location\":[-1.3129208333333353,-0.8828166666666677,-19.47024375]},{\"charge\":-0.0617414849269433,\"element\":\"C\",\"location\":[-2.7729208333333353,-3.8548166666666677,-20.29724375]},{\"charge\":0.061766555669687265,\"element\":\"H\",\"location\":[-2.576920833333335,-4.845816666666668,-22.20924375]},{\"charge\":0.061766555669687265,\"element\":\"H\",\"location\":[-2.7829208333333355,-2.6458166666666676,-18.50424375]},{\"charge\":0.06175835637668205,\"element\":\"H\",\"location\":[-3.4169208333333354,-4.625816666666668,-19.875243750000003]},{\"charge\":-0.014754809694131099,\"element\":\"C\",\"location\":[-0.6229208333333354,0.5571833333333318,-19.915243750000002]},{\"charge\":-0.039326503913762335,\"element\":\"C\",\"location\":[0.7950791666666648,0.2601833333333321,-19.40324375]},{\"charge\":0.02768686409625518,\"element\":\"H\",\"location\":[-1.5919208333333352,0.8071833333333318,-21.877243749999998]},{\"charge\":0.02768686409625518,\"element\":\"H\",\"location\":[0.06307916666666458,1.3231833333333318,-21.80624375]},{\"charge\":0.034915017796658655,\"element\":\"H\",\"location\":[-1.3699208333333353,-0.14781666666666737,-19.55124375]},{\"charge\":-0.04423477553874942,\"element\":\"C\",\"location\":[-1.0639208333333352,1.9041833333333322,-19.34024375]},{\"charge\":-0.05830635603376135,\"element\":\"C\",\"location\":[-1.8509208333333353,2.7691833333333324,-20.10924375]},{\"charge\":-0.058306356033761345,\"element\":\"C\",\"location\":[-0.7209208333333352,2.2511833333333326,-18.02824375]},{\"charge\":-0.06149258579804686,\"element\":\"C\",\"location\":[-2.294920833333335,3.981183333333332,-19.567243750000003]},{\"charge\":0.06203762201598847,\"element\":\"H\",\"location\":[-2.1499208333333355,2.4821833333333325,-21.118243749999998]},{\"charge\":-0.06149258579804686,\"element\":\"C\",\"location\":[-1.1659208333333355,3.462183333333332,-17.485243750000002]},{\"charge\":0.06203762201598847,\"element\":\"H\",\"location\":[-0.10892083333333513,1.5781833333333326,-17.42824375]},{\"charge\":-0.0617414849269433,\"element\":\"C\",\"location\":[-1.9519208333333353,4.329183333333333,-18.255243749999998]},{\"charge\":0.061766555669687265,\"element\":\"H\",\"location\":[-2.9079208333333355,4.654183333333332,-20.16724375]},{\"charge\":0.061766555669687265,\"element\":\"H\",\"location\":[-0.8999208333333355,3.733183333333333,-16.46324375]},{\"charge\":0.06175835637668205,\"element\":\"H\",\"location\":[-2.2969208333333353,5.2721833333333326,-17.83424375]},{\"charge\":-0.014754809694131099,\"element\":\"C\",\"location\":[0.7940791666666644,0.2601833333333321,-17.87324375]},{\"charge\":-0.039326503913762335,\"element\":\"C\",\"location\":[-0.1719208333333353,-0.8188166666666676,-17.360243750000002]},{\"charge\":0.02768686409625518,\"element\":\"H\",\"location\":[1.4940791666666646,0.9741833333333325,-19.83524375]},{\"charge\":0.02768686409625518,\"element\":\"H\",\"location\":[1.115079166666665,-0.7168166666666682,-19.76424375]},{\"charge\":0.034915017796658655,\"element\":\"H\",\"location\":[0.5580791666666647,1.260183333333332,-17.50924375]},{\"charge\":-0.04423477553874942,\"element\":\"C\",\"location\":[2.181079166666665,-0.03081666666666738,-17.299243750000002]},{\"charge\":-0.05830635603376135,\"element\":\"C\",\"location\":[3.3240791666666647,0.21818333333333229,-18.06824375]},{\"charge\":-0.058306356033761345,\"element\":\"C\",\"location\":[2.311079166666665,-0.5018166666666675,-15.98624375]},{\"charge\":-0.06149258579804686,\"element\":\"C\",\"location\":[4.595079166666665,-0.0028166666666677997,-17.52524375]},{\"charge\":0.06203762201598847,\"element\":\"H\",\"location\":[3.2250791666666645,0.6211833333333319,-19.07624375]},{\"charge\":-0.06149258579804686,\"element\":\"C\",\"location\":[3.5820791666666647,-0.7218166666666681,-15.44224375]},{\"charge\":0.06203762201598847,\"element\":\"H\",\"location\":[1.4210791666666651,-0.6958166666666674,-15.386243750000002]},{\"charge\":-0.0617414849269433,\"element\":\"C\",\"location\":[4.724079166666664,-0.47481666666666733,-16.21324375]},{\"charge\":0.061766555669687265,\"element\":\"H\",\"location\":[5.485079166666665,0.19118333333333215,-18.125243750000003]},{\"charge\":0.061766555669687265,\"element\":\"H\",\"location\":[3.6830791666666647,-1.0878166666666678,-14.421243749999999]},{\"charge\":0.06175835637668205,\"element\":\"H\",\"location\":[5.714079166666664,-0.6468166666666679,-15.79224375]},{\"charge\":-0.014754809694131099,\"element\":\"C\",\"location\":[-0.1709208333333354,-0.8168166666666679,-15.830243750000001]},{\"charge\":-0.039326503913762335,\"element\":\"C\",\"location\":[-0.6239208333333353,0.5581833333333321,-15.31824375]},{\"charge\":0.02768686409625518,\"element\":\"H\",\"location\":[0.0960791666666645,-1.7818166666666677,-17.793243750000002]},{\"charge\":0.02768686409625518,\"element\":\"H\",\"location\":[-1.177920833333335,-0.6068166666666679,-17.72224375]},{\"charge\":0.034915017796658655,\"element\":\"H\",\"location\":[0.8130791666666646,-1.1138166666666676,-15.46624375]},{\"charge\":-0.04423477553874942,\"element\":\"C\",\"location\":[-1.1179208333333355,-1.8738166666666678,-15.25624375]},{\"charge\":-0.05830635603376135,\"element\":\"C\",\"location\":[-1.4729208333333352,-2.9888166666666676,-16.02624375]},{\"charge\":-0.058306356033761345,\"element\":\"C\",\"location\":[-1.5899208333333352,-1.7508166666666676,-13.944243750000002]},{\"charge\":-0.06149258579804686,\"element\":\"C\",\"location\":[-2.3009208333333353,-3.977816666666668,-15.48324375]},{\"charge\":0.06203762201598847,\"element\":\"H\",\"location\":[-1.0749208333333353,-3.1028166666666674,-17.03424375]},{\"charge\":-0.06149258579804686,\"element\":\"C\",\"location\":[-2.4159208333333355,-2.740816666666668,-13.401243749999999]},{\"charge\":0.06203762201598847,\"element\":\"H\",\"location\":[-1.3119208333333354,-0.8828166666666677,-13.34424375]},{\"charge\":-0.0617414849269433,\"element\":\"C\",\"location\":[-2.773920833333335,-3.8548166666666677,-14.171243749999999]},{\"charge\":0.061766555669687265,\"element\":\"H\",\"location\":[-2.576920833333335,-4.845816666666668,-16.08224375]},{\"charge\":0.061766555669687265,\"element\":\"H\",\"location\":[-2.7839208333333354,-2.6458166666666676,-12.37924375]},{\"charge\":0.06175835637668205,\"element\":\"H\",\"location\":[-3.4179208333333353,-4.625816666666668,-13.749243750000002]},{\"charge\":-0.014754809694131099,\"element\":\"C\",\"location\":[-0.6219208333333355,0.5571833333333318,-13.78924375]},{\"charge\":-0.039326503913762335,\"element\":\"C\",\"location\":[0.7950791666666648,0.26118333333333243,-13.27724375]},{\"charge\":0.02768686409625518,\"element\":\"H\",\"location\":[-1.5919208333333352,0.8071833333333318,-15.75124375]},{\"charge\":0.02768686409625518,\"element\":\"H\",\"location\":[0.06207916666666469,1.3231833333333318,-15.68024375]},{\"charge\":0.034915017796658655,\"element\":\"H\",\"location\":[-1.3699208333333353,-0.14681666666666793,-13.424243749999999]},{\"charge\":-0.04423477553874942,\"element\":\"C\",\"location\":[-1.0639208333333352,1.9041833333333322,-13.214243750000001]},{\"charge\":-0.05830635603376135,\"element\":\"C\",\"location\":[-1.8509208333333353,2.7691833333333324,-13.984243750000001]},{\"charge\":-0.058306356033761345,\"element\":\"C\",\"location\":[-0.7209208333333352,2.2511833333333326,-11.901243749999999]},{\"charge\":-0.06149258579804686,\"element\":\"C\",\"location\":[-2.294920833333335,3.981183333333332,-13.441243750000002]},{\"charge\":0.06203762201598847,\"element\":\"H\",\"location\":[-2.1499208333333355,2.4821833333333325,-14.99224375]},{\"charge\":-0.06149258579804686,\"element\":\"C\",\"location\":[-1.1659208333333355,3.4631833333333315,-11.359243750000001]},{\"charge\":0.06203762201598847,\"element\":\"H\",\"location\":[-0.10792083333333524,1.5781833333333326,-11.302243749999999]},{\"charge\":-0.0617414849269433,\"element\":\"C\",\"location\":[-1.9509208333333352,4.328183333333332,-12.12924375]},{\"charge\":0.061766555669687265,\"element\":\"H\",\"location\":[-2.9079208333333355,4.654183333333332,-14.040243750000002]},{\"charge\":0.061766555669687265,\"element\":\"H\",\"location\":[-0.8989208333333352,3.733183333333333,-10.336243750000001]},{\"charge\":0.06175835637668205,\"element\":\"H\",\"location\":[-2.297920833333335,5.2721833333333326,-11.708243750000001]},{\"charge\":-0.014754809694131099,\"element\":\"C\",\"location\":[0.7940791666666644,0.2601833333333321,-11.746243750000001]},{\"charge\":-0.039326503913762335,\"element\":\"C\",\"location\":[-0.1719208333333353,-0.8188166666666676,-11.235243749999999]},{\"charge\":0.02768686409625518,\"element\":\"H\",\"location\":[1.495079166666665,0.9741833333333325,-13.709243749999999]},{\"charge\":0.02768686409625518,\"element\":\"H\",\"location\":[1.1140791666666647,-0.7168166666666682,-13.639243750000002]},{\"charge\":0.034915017796658655,\"element\":\"H\",\"location\":[0.5570791666666648,1.260183333333332,-11.383243750000002]},{\"charge\":-0.04423477553874942,\"element\":\"C\",\"location\":[2.181079166666665,-0.03081666666666738,-11.17224375]},{\"charge\":-0.05830635603376135,\"element\":\"C\",\"location\":[3.3240791666666647,0.21818333333333229,-11.941243750000002]},{\"charge\":-0.058306356033761345,\"element\":\"C\",\"location\":[2.3100791666666645,-0.5018166666666675,-9.860243749999999]},{\"charge\":-0.06149258579804686,\"element\":\"C\",\"location\":[4.595079166666665,-0.0028166666666677997,-11.39924375]},{\"charge\":0.06203762201598847,\"element\":\"H\",\"location\":[3.2250791666666645,0.6211833333333319,-12.950243750000002]},{\"charge\":-0.06149258579804686,\"element\":\"C\",\"location\":[3.5810791666666644,-0.7228166666666676,-9.31724375]},{\"charge\":0.06203762201598847,\"element\":\"H\",\"location\":[1.4210791666666651,-0.694816666666668,-9.25924375]},{\"charge\":-0.0617414849269433,\"element\":\"C\",\"location\":[4.724079166666664,-0.47481666666666733,-10.087243749999999]},{\"charge\":0.061766555669687265,\"element\":\"H\",\"location\":[5.485079166666665,0.19118333333333215,-11.999243750000002]},{\"charge\":0.061766555669687265,\"element\":\"H\",\"location\":[3.6830791666666647,-1.0868166666666679,-8.29424375]},{\"charge\":0.06175835637668205,\"element\":\"H\",\"location\":[5.714079166666664,-0.6468166666666679,-9.66624375]},{\"charge\":-0.014754809694131099,\"element\":\"C\",\"location\":[-0.1719208333333353,-0.8178166666666682,-9.70424375]},{\"charge\":-0.039326503913762335,\"element\":\"C\",\"location\":[-0.6229208333333354,0.5571833333333318,-9.19224375]},{\"charge\":0.02768686409625518,\"element\":\"H\",\"location\":[0.0960791666666645,-1.7818166666666677,-11.66724375]},{\"charge\":0.02768686409625518,\"element\":\"H\",\"location\":[-1.177920833333335,-0.6068166666666679,-11.59624375]},{\"charge\":0.034915017796658655,\"element\":\"H\",\"location\":[0.8130791666666646,-1.1128166666666677,-9.340243749999999]},{\"charge\":-0.04423477553874942,\"element\":\"C\",\"location\":[-1.1179208333333355,-1.872816666666668,-9.130243750000002]},{\"charge\":-0.05830635603376135,\"element\":\"C\",\"location\":[-1.4729208333333352,-2.9878166666666677,-9.89924375]},{\"charge\":-0.058306356033761345,\"element\":\"C\",\"location\":[-1.5889208333333353,-1.7498166666666677,-7.818243750000001]},{\"charge\":-0.06149258579804686,\"element\":\"C\",\"location\":[-2.299920833333335,-3.978816666666668,-9.357243750000002]},{\"charge\":0.06203762201598847,\"element\":\"H\",\"location\":[-1.0749208333333353,-3.1028166666666674,-10.90824375]},{\"charge\":-0.06149258579804686,\"element\":\"C\",\"location\":[-2.4159208333333355,-2.7418166666666677,-7.27424375]},{\"charge\":0.06203762201598847,\"element\":\"H\",\"location\":[-1.3119208333333354,-0.8828166666666677,-7.2172437500000015]},{\"charge\":-0.0617414849269433,\"element\":\"C\",\"location\":[-2.773920833333335,-3.853816666666668,-8.045243750000001]},{\"charge\":0.061766555669687265,\"element\":\"H\",\"location\":[-2.576920833333335,-4.845816666666668,-9.956243749999999]},{\"charge\":0.061766555669687265,\"element\":\"H\",\"location\":[-2.7839208333333354,-2.6458166666666676,-6.253243749999999]},{\"charge\":0.06175835637668205,\"element\":\"H\",\"location\":[-3.4179208333333353,-4.625816666666668,-7.62324375]},{\"charge\":-0.014754809694131099,\"element\":\"C\",\"location\":[-0.6219208333333355,0.5571833333333318,-7.662243750000002]},{\"charge\":-0.039326503913762335,\"element\":\"C\",\"location\":[0.7950791666666648,0.26118333333333243,-7.150243750000001]},{\"charge\":0.02768686409625518,\"element\":\"H\",\"location\":[-1.5909208333333353,0.8071833333333318,-9.62524375]},{\"charge\":0.02768686409625518,\"element\":\"H\",\"location\":[0.06307916666666458,1.3231833333333318,-9.555243749999999]},{\"charge\":0.034915017796658655,\"element\":\"H\",\"location\":[-1.3709208333333351,-0.14781666666666737,-7.299243749999999]},{\"charge\":-0.04423477553874942,\"element\":\"C\",\"location\":[-1.0639208333333352,1.9041833333333322,-7.08824375]},{\"charge\":-0.05830635603376135,\"element\":\"C\",\"location\":[-1.8519208333333352,2.7691833333333324,-7.85824375]},{\"charge\":-0.058306356033761345,\"element\":\"C\",\"location\":[-0.7209208333333352,2.2511833333333326,-5.775243750000001]},{\"charge\":-0.06149258579804686,\"element\":\"C\",\"location\":[-2.294920833333335,3.981183333333332,-7.3152437500000005]},{\"charge\":0.06203762201598847,\"element\":\"H\",\"location\":[-2.1509208333333354,2.4821833333333325,-8.865243750000001]},{\"charge\":-0.06149258579804686,\"element\":\"C\",\"location\":[-1.1649208333333352,3.462183333333332,-5.23324375]},{\"charge\":0.06203762201598847,\"element\":\"H\",\"location\":[-0.10892083333333513,1.5781833333333326,-5.176243750000001]},{\"charge\":-0.0617414849269433,\"element\":\"C\",\"location\":[-1.9509208333333352,4.329183333333333,-6.003243749999999]},{\"charge\":0.061766555669687265,\"element\":\"H\",\"location\":[-2.9079208333333355,4.654183333333332,-7.914243750000001]},{\"charge\":0.061766555669687265,\"element\":\"H\",\"location\":[-0.8999208333333355,3.733183333333333,-4.211243750000001]},{\"charge\":0.06175835637668205,\"element\":\"H\",\"location\":[-2.2969208333333353,5.271183333333333,-5.58224375]},{\"charge\":-0.014754809694131099,\"element\":\"C\",\"location\":[0.793079166666665,0.2601833333333321,-5.62024375]},{\"charge\":-0.039326503913762335,\"element\":\"C\",\"location\":[-0.1719208333333353,-0.8178166666666682,-5.109243750000001]},{\"charge\":0.02768686409625518,\"element\":\"H\",\"location\":[1.495079166666665,0.9741833333333325,-7.583243750000001]},{\"charge\":0.02768686409625518,\"element\":\"H\",\"location\":[1.1140791666666647,-0.7168166666666682,-7.51224375]},{\"charge\":0.034915017796658655,\"element\":\"H\",\"location\":[0.5570791666666648,1.260183333333332,-5.256243749999999]},{\"charge\":-0.04423477553874942,\"element\":\"C\",\"location\":[2.181079166666665,-0.03081666666666738,-5.046243749999999]},{\"charge\":-0.05830635603376135,\"element\":\"C\",\"location\":[3.3240791666666647,0.21818333333333229,-5.8152437500000005]},{\"charge\":-0.058306356033761345,\"element\":\"C\",\"location\":[2.3100791666666645,-0.5018166666666675,-3.734243750000001]},{\"charge\":-0.06149258579804686,\"element\":\"C\",\"location\":[4.595079166666665,-0.0028166666666677997,-5.273243749999999]},{\"charge\":0.06203762201598847,\"element\":\"H\",\"location\":[3.2250791666666645,0.6211833333333319,-6.824243750000001]},{\"charge\":-0.06149258579804686,\"element\":\"C\",\"location\":[3.5810791666666644,-0.7218166666666681,-3.1902437500000005]},{\"charge\":0.06203762201598847,\"element\":\"H\",\"location\":[1.4210791666666651,-0.6958166666666674,-3.133243750000002]},{\"charge\":-0.0617414849269433,\"element\":\"C\",\"location\":[4.724079166666664,-0.47481666666666733,-3.9612437500000013]},{\"charge\":0.061766555669687265,\"element\":\"H\",\"location\":[5.485079166666665,0.19118333333333215,-5.87324375]},{\"charge\":0.061766555669687265,\"element\":\"H\",\"location\":[3.6830791666666647,-1.0878166666666678,-2.1692437499999997]},{\"charge\":0.06175835637668205,\"element\":\"H\",\"location\":[5.715079166666664,-0.6468166666666679,-3.5392437500000007]},{\"charge\":-0.014754809694131099,\"element\":\"C\",\"location\":[-0.1719208333333353,-0.8178166666666682,-3.5782437499999986]},{\"charge\":-0.039326503913762335,\"element\":\"C\",\"location\":[-0.6229208333333354,0.5581833333333321,-3.0662437500000017]},{\"charge\":0.02768686409625518,\"element\":\"H\",\"location\":[0.0960791666666645,-1.7818166666666677,-5.54124375]},{\"charge\":0.02768686409625518,\"element\":\"H\",\"location\":[-1.177920833333335,-0.6068166666666679,-5.470243750000002]},{\"charge\":0.034915017796658655,\"element\":\"H\",\"location\":[0.8120791666666651,-1.1128166666666677,-3.2142437500000014]},{\"charge\":-0.04423477553874942,\"element\":\"C\",\"location\":[-1.1169208333333351,-1.872816666666668,-3.0042437500000005]},{\"charge\":-0.05830635603376135,\"element\":\"C\",\"location\":[-1.4729208333333352,-2.9878166666666677,-3.773243749999999]},{\"charge\":-0.058306356033761345,\"element\":\"C\",\"location\":[-1.5899208333333352,-1.7498166666666677,-1.6912437500000017]},{\"charge\":-0.06149258579804686,\"element\":\"C\",\"location\":[-2.299920833333335,-3.977816666666668,-3.231243750000001]},{\"charge\":0.06203762201598847,\"element\":\"H\",\"location\":[-1.0749208333333353,-3.103816666666668,-4.782243749999999]},{\"charge\":-0.06149258579804686,\"element\":\"C\",\"location\":[-2.4159208333333355,-2.740816666666668,-1.148243749999999]},{\"charge\":0.06203762201598847,\"element\":\"H\",\"location\":[-1.3129208333333353,-0.8828166666666677,-1.0912437500000003]},{\"charge\":-0.0617414849269433,\"element\":\"C\",\"location\":[-2.7729208333333353,-3.853816666666668,-1.9192437499999997]},{\"charge\":0.061766555669687265,\"element\":\"H\",\"location\":[-2.576920833333335,-4.844816666666667,-3.8312437499999987]},{\"charge\":0.061766555669687265,\"element\":\"H\",\"location\":[-2.7829208333333355,-2.6458166666666676,-0.12724375000000165]},{\"charge\":0.06175835637668205,\"element\":\"H\",\"location\":[-3.4169208333333354,-4.624816666666668,-1.497243749999999]},{\"charge\":-0.014754809694131099,\"element\":\"C\",\"location\":[-0.6219208333333355,0.5561833333333324,-1.5362437500000006]},{\"charge\":-0.039326503913762335,\"element\":\"C\",\"location\":[0.7940791666666644,0.2601833333333321,-1.0252437500000013]},{\"charge\":0.02768686409625518,\"element\":\"H\",\"location\":[-1.5909208333333353,0.8071833333333318,-3.4992437500000015]},{\"charge\":0.02768686409625518,\"element\":\"H\",\"location\":[0.06307916666666458,1.3241833333333322,-3.42824375]},{\"charge\":0.034915017796658655,\"element\":\"H\",\"location\":[-1.3709208333333351,-0.14781666666666737,-1.1722437499999998]},{\"charge\":-0.04423477553874942,\"element\":\"C\",\"location\":[-1.0639208333333352,1.9041833333333322,-0.962243749999999]},{\"charge\":-0.05830635603376135,\"element\":\"C\",\"location\":[-1.8519208333333352,2.7691833333333324,-1.7312437500000009]},{\"charge\":-0.058306356033761345,\"element\":\"C\",\"location\":[-0.7209208333333352,2.2511833333333326,0.3507562499999999]},{\"charge\":-0.06149258579804686,\"element\":\"C\",\"location\":[-2.294920833333335,3.9801833333333327,-1.1882437500000016]},{\"charge\":0.06203762201598847,\"element\":\"H\",\"location\":[-2.1499208333333355,2.4821833333333325,-2.73924375]},{\"charge\":-0.06149258579804686,\"element\":\"C\",\"location\":[-1.1659208333333355,3.462183333333332,0.8927562500000015]},{\"charge\":0.06203762201598847,\"element\":\"H\",\"location\":[-0.10892083333333513,1.5781833333333326,0.9507562500000013]},{\"charge\":-0.0617414849269433,\"element\":\"C\",\"location\":[-1.9509208333333352,4.328183333333332,0.12375624999999957]},{\"charge\":0.061766555669687265,\"element\":\"H\",\"location\":[-2.9079208333333355,4.654183333333332,-1.7892437500000007]},{\"charge\":0.061766555669687265,\"element\":\"H\",\"location\":[-0.8999208333333355,3.733183333333333,1.91475625]},{\"charge\":0.06175835637668205,\"element\":\"H\",\"location\":[-2.2969208333333353,5.2721833333333326,0.5447562500000025]},{\"charge\":-0.014754809694131099,\"element\":\"C\",\"location\":[0.793079166666665,0.2601833333333321,0.505756250000001]},{\"charge\":-0.039326503913762335,\"element\":\"C\",\"location\":[-0.1719208333333353,-0.8178166666666682,1.0177562500000015]},{\"charge\":0.02768686409625518,\"element\":\"H\",\"location\":[1.495079166666665,0.975183333333332,-1.4562437499999987]},{\"charge\":0.02768686409625518,\"element\":\"H\",\"location\":[1.1140791666666647,-0.7168166666666682,-1.386243750000002]},{\"charge\":0.034915017796658655,\"element\":\"H\",\"location\":[0.5570791666666648,1.260183333333332,0.8697562499999982]},{\"charge\":-0.04423477553874942,\"element\":\"C\",\"location\":[2.181079166666665,-0.03081666666666738,1.079756249999999]},{\"charge\":-0.05830635603376135,\"element\":\"C\",\"location\":[3.3230791666666644,0.21818333333333229,0.31075625000000073]},{\"charge\":-0.058306356033761345,\"element\":\"C\",\"location\":[2.3100791666666645,-0.5018166666666675,2.3927562500000015]},{\"charge\":-0.06149258579804686,\"element\":\"C\",\"location\":[4.595079166666665,-0.0028166666666677997,0.85375625]},{\"charge\":0.06203762201598847,\"element\":\"H\",\"location\":[3.2250791666666645,0.6211833333333319,-0.6972437500000019]},{\"charge\":-0.06149258579804686,\"element\":\"C\",\"location\":[3.5810791666666644,-0.7208166666666678,2.934756250000003]},{\"charge\":0.06203762201598847,\"element\":\"H\",\"location\":[1.4210791666666651,-0.694816666666668,2.991756249999998]},{\"charge\":-0.0617414849269433,\"element\":\"C\",\"location\":[4.724079166666664,-0.47481666666666733,2.1657562499999976]},{\"charge\":0.061766555669687265,\"element\":\"H\",\"location\":[5.484079166666664,0.19118333333333215,0.2527562500000009]},{\"charge\":0.061766555669687265,\"element\":\"H\",\"location\":[3.6820791666666643,-1.0878166666666678,3.957756249999999]},{\"charge\":0.06175835637668205,\"element\":\"H\",\"location\":[5.715079166666664,-0.6468166666666679,2.586756249999997]},{\"charge\":-0.014754809694131099,\"element\":\"C\",\"location\":[-0.1719208333333353,-0.8178166666666682,2.5477562500000026]},{\"charge\":-0.039326503913762335,\"element\":\"C\",\"location\":[-0.6219208333333355,0.5581833333333321,3.059756250000003]},{\"charge\":0.02768686409625518,\"element\":\"H\",\"location\":[0.0960791666666645,-1.7818166666666677,0.5857562499999993]},{\"charge\":0.02768686409625518,\"element\":\"H\",\"location\":[-1.177920833333335,-0.6068166666666679,0.6557562499999996]},{\"charge\":0.034915017796658655,\"element\":\"H\",\"location\":[0.8130791666666646,-1.1128166666666677,2.910756250000002]},{\"charge\":-0.04423477553874942,\"element\":\"C\",\"location\":[-1.1169208333333351,-1.872816666666668,3.1217562500000007]},{\"charge\":-0.05830635603376135,\"element\":\"C\",\"location\":[-1.4729208333333352,-2.9878166666666677,2.3527562500000023]},{\"charge\":-0.058306356033761345,\"element\":\"C\",\"location\":[-1.5889208333333353,-1.7498166666666677,4.434756250000003]},{\"charge\":-0.06149258579804686,\"element\":\"C\",\"location\":[-2.299920833333335,-3.977816666666668,2.8957562500000016]},{\"charge\":0.06203762201598847,\"element\":\"H\",\"location\":[-1.0749208333333353,-3.1028166666666674,1.3447562499999997]},{\"charge\":-0.06149258579804686,\"element\":\"C\",\"location\":[-2.4159208333333355,-2.739816666666668,4.977756250000002]},{\"charge\":0.06203762201598847,\"element\":\"H\",\"location\":[-1.3129208333333353,-0.8828166666666677,5.03375625]},{\"charge\":-0.0617414849269433,\"element\":\"C\",\"location\":[-2.7729208333333353,-3.853816666666668,4.207756249999999]},{\"charge\":0.061766555669687265,\"element\":\"H\",\"location\":[-2.576920833333335,-4.844816666666667,2.2947562500000025]},{\"charge\":0.061766555669687265,\"element\":\"H\",\"location\":[-2.7829208333333355,-2.6458166666666676,5.999756250000001]},{\"charge\":0.06175835637668205,\"element\":\"H\",\"location\":[-3.4169208333333354,-4.625816666666668,4.628756249999999]},{\"charge\":-0.014754809694131099,\"element\":\"C\",\"location\":[-0.6219208333333355,0.5571833333333318,4.589756249999997]},{\"charge\":-0.039326503913762335,\"element\":\"C\",\"location\":[0.7940791666666644,0.2601833333333321,5.1017562499999976]},{\"charge\":0.02768686409625518,\"element\":\"H\",\"location\":[-1.5909208333333353,0.8071833333333318,2.626756249999996]},{\"charge\":0.02768686409625518,\"element\":\"H\",\"location\":[0.06307916666666458,1.3241833333333322,2.697756250000001]},{\"charge\":0.034915017796658655,\"element\":\"H\",\"location\":[-1.3709208333333351,-0.14781666666666737,4.953756250000001]},{\"charge\":-0.04423477553874942,\"element\":\"C\",\"location\":[-1.0639208333333352,1.9041833333333322,5.163756250000002]},{\"charge\":-0.05830635603376135,\"element\":\"C\",\"location\":[-1.8509208333333353,2.7691833333333324,4.394756249999997]},{\"charge\":-0.058306356033761345,\"element\":\"C\",\"location\":[-0.7209208333333352,2.252183333333332,6.4767562499999976]},{\"charge\":-0.06149258579804686,\"element\":\"C\",\"location\":[-2.2959208333333354,3.9801833333333327,4.936756249999998]},{\"charge\":0.06203762201598847,\"element\":\"H\",\"location\":[-2.1509208333333354,2.4821833333333325,3.3867562500000012]},{\"charge\":-0.06149258579804686,\"element\":\"C\",\"location\":[-1.1659208333333355,3.4631833333333315,7.019756249999997]},{\"charge\":0.06203762201598847,\"element\":\"H\",\"location\":[-0.10792083333333524,1.5781833333333326,7.076756249999999]},{\"charge\":-0.0617414849269433,\"element\":\"C\",\"location\":[-1.9509208333333352,4.329183333333333,6.249756250000001]},{\"charge\":0.061766555669687265,\"element\":\"H\",\"location\":[-2.9079208333333355,4.654183333333332,4.336756249999997]},{\"charge\":0.061766555669687265,\"element\":\"H\",\"location\":[-0.8989208333333352,3.733183333333333,8.040756249999998]},{\"charge\":0.06175835637668205,\"element\":\"H\",\"location\":[-2.2969208333333353,5.2721833333333326,6.67075625]},{\"charge\":-0.014754809694131099,\"element\":\"C\",\"location\":[0.793079166666665,0.2601833333333321,6.631756249999999]},{\"charge\":-0.039326503913762335,\"element\":\"C\",\"location\":[-0.1709208333333354,-0.8188166666666676,7.143756249999999]},{\"charge\":0.02768686409625518,\"element\":\"H\",\"location\":[1.4940791666666646,0.9741833333333325,4.668756249999998]},{\"charge\":0.02768686409625518,\"element\":\"H\",\"location\":[1.115079166666665,-0.7168166666666682,4.7407562500000004]},{\"charge\":0.034915017796658655,\"element\":\"H\",\"location\":[0.5570791666666648,1.260183333333332,6.995756250000003]},{\"charge\":-0.04423477553874942,\"element\":\"C\",\"location\":[2.181079166666665,-0.03081666666666738,7.205756249999997]},{\"charge\":-0.05830635603376135,\"element\":\"C\",\"location\":[3.3240791666666647,0.21918333333333262,6.436756249999998]},{\"charge\":-0.058306356033761345,\"element\":\"C\",\"location\":[2.3100791666666645,-0.500816666666668,8.51875625]},{\"charge\":-0.06149258579804686,\"element\":\"C\",\"location\":[4.596079166666664,-0.0028166666666677997,6.97875625]},{\"charge\":0.06203762201598847,\"element\":\"H\",\"location\":[3.224079166666665,0.6211833333333319,5.428756250000003]},{\"charge\":-0.06149258579804686,\"element\":\"C\",\"location\":[3.5820791666666647,-0.7218166666666681,9.061756249999998]},{\"charge\":0.06203762201598847,\"element\":\"H\",\"location\":[1.4200791666666648,-0.694816666666668,9.117756250000003]},{\"charge\":-0.0617414849269433,\"element\":\"C\",\"location\":[4.725079166666665,-0.47481666666666733,8.291756250000002]},{\"charge\":0.061766555669687265,\"element\":\"H\",\"location\":[5.485079166666665,0.19018333333333182,6.379756249999996]},{\"charge\":0.061766555669687265,\"element\":\"H\",\"location\":[3.6830791666666647,-1.0878166666666678,10.083756249999997]},{\"charge\":0.06175835637668205,\"element\":\"H\",\"location\":[5.714079166666664,-0.6468166666666679,8.712756250000002]},{\"charge\":-0.014754809694131099,\"element\":\"C\",\"location\":[-0.1709208333333354,-0.8168166666666679,8.67375625]},{\"charge\":-0.039326503913762335,\"element\":\"C\",\"location\":[-0.6229208333333354,0.5581833333333321,9.18575625]},{\"charge\":0.02768686409625518,\"element\":\"H\",\"location\":[0.09707916666666483,-1.7808166666666678,6.711756249999997]},{\"charge\":0.02768686409625518,\"element\":\"H\",\"location\":[-1.177920833333335,-0.6078166666666673,6.781756249999997]},{\"charge\":0.034915017796658655,\"element\":\"H\",\"location\":[0.8130791666666646,-1.1128166666666677,9.037756249999997]},{\"charge\":-0.04423477553874942,\"element\":\"C\",\"location\":[-1.1169208333333351,-1.8738166666666678,9.247756249999998]},{\"charge\":-0.05830635603376135,\"element\":\"C\",\"location\":[-1.4719208333333353,-2.9878166666666677,8.47875625]},{\"charge\":-0.058306356033761345,\"element\":\"C\",\"location\":[-1.5889208333333353,-1.7498166666666677,10.56075625]},{\"charge\":-0.06149258579804686,\"element\":\"C\",\"location\":[-2.299920833333335,-3.977816666666668,9.020756250000002]},{\"charge\":0.06203762201598847,\"element\":\"H\",\"location\":[-1.0749208333333353,-3.103816666666668,7.470756249999997]},{\"charge\":-0.06149258579804686,\"element\":\"C\",\"location\":[-2.4159208333333355,-2.740816666666668,11.102756250000002]},{\"charge\":0.06203762201598847,\"element\":\"H\",\"location\":[-1.3129208333333353,-0.8828166666666677,11.160756250000002]},{\"charge\":-0.0617414849269433,\"element\":\"C\",\"location\":[-2.7729208333333353,-3.8548166666666677,10.333756249999997]},{\"charge\":0.061766555669687265,\"element\":\"H\",\"location\":[-2.576920833333335,-4.845816666666668,8.421756249999998]},{\"charge\":0.061766555669687265,\"element\":\"H\",\"location\":[-2.7829208333333355,-2.6448166666666677,12.125756249999998]},{\"charge\":0.06175835637668205,\"element\":\"H\",\"location\":[-3.4169208333333354,-4.624816666666668,10.754756249999996]},{\"charge\":-0.014754809694131099,\"element\":\"C\",\"location\":[-0.6219208333333355,0.5571833333333318,10.71675625]},{\"charge\":-0.039326503913762335,\"element\":\"C\",\"location\":[0.7950791666666648,0.2601833333333321,11.227756250000002]},{\"charge\":0.02768686409625518,\"element\":\"H\",\"location\":[-1.5909208333333353,0.8071833333333318,8.753756249999999]},{\"charge\":0.02768686409625518,\"element\":\"H\",\"location\":[0.06407916666666491,1.3231833333333318,8.824756249999997]},{\"charge\":0.034915017796658655,\"element\":\"H\",\"location\":[-1.3699208333333353,-0.14681666666666793,11.079756249999999]},{\"charge\":-0.04423477553874942,\"element\":\"C\",\"location\":[-1.0639208333333352,1.9041833333333322,11.28975625]},{\"charge\":-0.05830635603376135,\"element\":\"C\",\"location\":[-1.8509208333333353,2.7691833333333324,10.520756250000002]},{\"charge\":-0.058306356033761345,\"element\":\"C\",\"location\":[-0.7199208333333353,2.252183333333332,12.602756250000002]},{\"charge\":-0.06149258579804686,\"element\":\"C\",\"location\":[-2.294920833333335,3.981183333333332,11.062756250000003]},{\"charge\":0.06203762201598847,\"element\":\"H\",\"location\":[-2.1499208333333355,2.4821833333333325,9.511756250000001]},{\"charge\":-0.06149258579804686,\"element\":\"C\",\"location\":[-1.1659208333333355,3.462183333333332,13.145756250000002]},{\"charge\":0.06203762201598847,\"element\":\"H\",\"location\":[-0.10792083333333524,1.5781833333333326,13.202756249999997]},{\"charge\":-0.0617414849269433,\"element\":\"C\",\"location\":[-1.9519208333333353,4.329183333333333,12.375756249999998]},{\"charge\":0.061766555669687265,\"element\":\"H\",\"location\":[-2.9079208333333355,4.654183333333332,10.46375625]},{\"charge\":0.061766555669687265,\"element\":\"H\",\"location\":[-0.8999208333333355,3.733183333333333,14.16775625]},{\"charge\":0.06175835637668205,\"element\":\"H\",\"location\":[-2.2969208333333353,5.2721833333333326,12.796756249999998]},{\"charge\":-0.014754809694131099,\"element\":\"C\",\"location\":[0.7940791666666644,0.2601833333333321,12.758756250000001]},{\"charge\":-0.039326503913762335,\"element\":\"C\",\"location\":[-0.1709208333333354,-0.8178166666666682,13.270756250000002]},{\"charge\":0.02768686409625518,\"element\":\"H\",\"location\":[1.4940791666666646,0.9741833333333325,10.79575625]},{\"charge\":0.02768686409625518,\"element\":\"H\",\"location\":[1.115079166666665,-0.7168166666666682,10.866756249999998]},{\"charge\":0.034915017796658655,\"element\":\"H\",\"location\":[0.5580791666666647,1.2611833333333324,13.12175625]},{\"charge\":-0.04423477553874942,\"element\":\"C\",\"location\":[2.181079166666665,-0.03081666666666738,13.331756250000002]},{\"charge\":-0.05830635603376135,\"element\":\"C\",\"location\":[3.3240791666666647,0.21818333333333229,12.562756250000003]},{\"charge\":-0.058306356033761345,\"element\":\"C\",\"location\":[2.311079166666665,-0.500816666666668,14.644756249999997]},{\"charge\":-0.06149258579804686,\"element\":\"C\",\"location\":[4.595079166666665,-0.0028166666666677997,13.104756249999998]},{\"charge\":0.06203762201598847,\"element\":\"H\",\"location\":[3.2250791666666645,0.6201833333333324,11.55475625]},{\"charge\":-0.06149258579804686,\"element\":\"C\",\"location\":[3.5820791666666647,-0.7218166666666681,15.187756250000003]},{\"charge\":0.06203762201598847,\"element\":\"H\",\"location\":[1.4210791666666651,-0.694816666666668,15.244756249999998]},{\"charge\":-0.0617414849269433,\"element\":\"C\",\"location\":[4.724079166666664,-0.4738166666666679,14.416756250000002]},{\"charge\":0.061766555669687265,\"element\":\"H\",\"location\":[5.484079166666664,0.19118333333333215,12.505756250000001]},{\"charge\":0.061766555669687265,\"element\":\"H\",\"location\":[3.6830791666666647,-1.0868166666666679,16.208756249999997]},{\"charge\":0.06175835637668205,\"element\":\"H\",\"location\":[5.714079166666664,-0.6468166666666679,14.83875625]},{\"charge\":-0.014754809694131099,\"element\":\"C\",\"location\":[-0.1709208333333354,-0.8168166666666679,14.799756249999998]},{\"charge\":-0.039326503913762335,\"element\":\"C\",\"location\":[-0.6229208333333354,0.5581833333333321,15.311756249999998]},{\"charge\":0.02768686409625518,\"element\":\"H\",\"location\":[0.09707916666666483,-1.7818166666666677,12.837756250000002]},{\"charge\":0.02768686409625518,\"element\":\"H\",\"location\":[-1.177920833333335,-0.6068166666666679,12.90875625]},{\"charge\":0.034915017796658655,\"element\":\"H\",\"location\":[0.8130791666666646,-1.1128166666666677,15.163756250000002]},{\"charge\":-0.04423477553874942,\"element\":\"C\",\"location\":[-1.1179208333333355,-1.8738166666666678,15.373756250000003]},{\"charge\":-0.05830635603376135,\"element\":\"C\",\"location\":[-1.4729208333333352,-2.9878166666666677,14.604756249999998]},{\"charge\":-0.058306356033761345,\"element\":\"C\",\"location\":[-1.5899208333333352,-1.7508166666666676,16.68675625]},{\"charge\":-0.06149258579804686,\"element\":\"C\",\"location\":[-2.3009208333333353,-3.977816666666668,15.14675625]},{\"charge\":0.06203762201598847,\"element\":\"H\",\"location\":[-1.0749208333333353,-3.103816666666668,13.596756250000002]},{\"charge\":-0.06149258579804686,\"element\":\"C\",\"location\":[-2.4159208333333355,-2.740816666666668,17.229756249999998]},{\"charge\":0.06203762201598847,\"element\":\"H\",\"location\":[-1.3119208333333354,-0.8828166666666677,17.28675625]},{\"charge\":-0.0617414849269433,\"element\":\"C\",\"location\":[-2.7729208333333353,-3.853816666666668,16.45975625]},{\"charge\":0.061766555669687265,\"element\":\"H\",\"location\":[-2.576920833333335,-4.844816666666667,14.547756250000003]},{\"charge\":0.061766555669687265,\"element\":\"H\",\"location\":[-2.7839208333333354,-2.6458166666666676,18.251756249999996]},{\"charge\":0.06175835637668205,\"element\":\"H\",\"location\":[-3.4169208333333354,-4.624816666666668,16.88175625]},{\"charge\":-0.014754809694131099,\"element\":\"C\",\"location\":[-0.6219208333333355,0.5571833333333318,16.84175625]},{\"charge\":-0.039326503913762335,\"element\":\"C\",\"location\":[0.7940791666666644,0.2601833333333321,17.35375625]},{\"charge\":0.02768686409625518,\"element\":\"H\",\"location\":[-1.5919208333333352,0.8071833333333318,14.879756249999996]},{\"charge\":0.02768686409625518,\"element\":\"H\",\"location\":[0.06307916666666458,1.3241833333333322,14.950756250000001]},{\"charge\":0.034915017796658655,\"element\":\"H\",\"location\":[-1.3699208333333353,-0.14681666666666793,17.205756249999997]},{\"charge\":-0.04423477553874942,\"element\":\"C\",\"location\":[-1.0639208333333352,1.9051833333333326,17.416756250000002]},{\"charge\":-0.05830635603376135,\"element\":\"C\",\"location\":[-1.8509208333333353,2.7691833333333324,16.64675625]},{\"charge\":-0.058306356033761345,\"element\":\"C\",\"location\":[-0.7209208333333352,2.252183333333332,18.72875625]},{\"charge\":-0.06149258579804686,\"element\":\"C\",\"location\":[-2.294920833333335,3.981183333333332,17.18875625]},{\"charge\":0.06203762201598847,\"element\":\"H\",\"location\":[-2.1499208333333355,2.4821833333333325,15.638756249999997]},{\"charge\":-0.06149258579804686,\"element\":\"C\",\"location\":[-1.1659208333333355,3.462183333333332,19.27175625]},{\"charge\":0.06203762201598847,\"element\":\"H\",\"location\":[-0.10792083333333524,1.5781833333333326,19.327756249999997]},{\"charge\":-0.0617414849269433,\"element\":\"C\",\"location\":[-1.9509208333333352,4.329183333333333,18.50075625]},{\"charge\":0.061766555669687265,\"element\":\"H\",\"location\":[-2.9079208333333355,4.655183333333332,16.589756249999997]},{\"charge\":0.061766555669687265,\"element\":\"H\",\"location\":[-0.8989208333333352,3.733183333333333,20.293756249999998]},{\"charge\":0.06175835637668205,\"element\":\"H\",\"location\":[-2.2969208333333353,5.2721833333333326,18.922756250000003]},{\"charge\":-0.014754809694131099,\"element\":\"C\",\"location\":[0.7940791666666644,0.2601833333333321,18.88375625]},{\"charge\":-0.039326503913762335,\"element\":\"C\",\"location\":[-0.1719208333333353,-0.8188166666666676,19.39575625]},{\"charge\":0.02768686409625518,\"element\":\"H\",\"location\":[1.495079166666665,0.9741833333333325,16.921756249999998]},{\"charge\":0.02768686409625518,\"element\":\"H\",\"location\":[1.115079166666665,-0.7158166666666679,16.992756250000003]},{\"charge\":0.034915017796658655,\"element\":\"H\",\"location\":[0.5580791666666647,1.2611833333333324,19.24775625]},{\"charge\":-0.04423477553874942,\"element\":\"C\",\"location\":[2.181079166666665,-0.03081666666666738,19.458756249999997]},{\"charge\":-0.05830635603376135,\"element\":\"C\",\"location\":[3.3240791666666647,0.21918333333333262,18.68875625]},{\"charge\":-0.058306356033761345,\"element\":\"C\",\"location\":[2.311079166666665,-0.500816666666668,20.77075625]},{\"charge\":-0.06149258579804686,\"element\":\"C\",\"location\":[4.595079166666665,-0.0028166666666677997,19.23175625]},{\"charge\":0.06203762201598847,\"element\":\"H\",\"location\":[3.2250791666666645,0.6211833333333319,17.680756249999998]},{\"charge\":-0.06149258579804686,\"element\":\"C\",\"location\":[3.5820791666666647,-0.7208166666666678,21.31475625]},{\"charge\":0.06203762201598847,\"element\":\"H\",\"location\":[1.4210791666666651,-0.694816666666668,21.370756250000003]},{\"charge\":-0.0617414849269433,\"element\":\"C\",\"location\":[4.725079166666665,-0.47481666666666733,20.54275625]},{\"charge\":0.061766555669687265,\"element\":\"H\",\"location\":[5.485079166666665,0.19118333333333215,18.63175625]},{\"charge\":0.061766555669687265,\"element\":\"H\",\"location\":[3.6830791666666647,-1.0868166666666679,22.33575625]},{\"charge\":0.06175835637668205,\"element\":\"H\",\"location\":[5.714079166666664,-0.6468166666666679,20.965756250000002]},{\"charge\":-0.014754809694131099,\"element\":\"C\",\"location\":[-0.1709208333333354,-0.8168166666666679,20.92675625]},{\"charge\":-0.039326503913762335,\"element\":\"C\",\"location\":[-0.6229208333333354,0.5571833333333318,21.437756250000003]},{\"charge\":0.02768686409625518,\"element\":\"H\",\"location\":[0.0960791666666645,-1.7818166666666677,18.96375625]},{\"charge\":0.02768686409625518,\"element\":\"H\",\"location\":[-1.177920833333335,-0.6068166666666679,19.034756249999997]},{\"charge\":0.034915017796658655,\"element\":\"H\",\"location\":[0.8130791666666646,-1.1128166666666677,21.28975625]},{\"charge\":-0.04423477553874942,\"element\":\"C\",\"location\":[-1.1179208333333355,-1.872816666666668,21.50075625]},{\"charge\":-0.05830635603376135,\"element\":\"C\",\"location\":[-1.4729208333333352,-2.9878166666666677,20.730756250000002]},{\"charge\":-0.058306356033761345,\"element\":\"C\",\"location\":[-1.5899208333333352,-1.7498166666666677,22.812756250000003]},{\"charge\":-0.06149258579804686,\"element\":\"C\",\"location\":[-2.299920833333335,-3.977816666666668,21.272756249999997]},{\"charge\":0.06203762201598847,\"element\":\"H\",\"location\":[-1.0749208333333353,-3.1028166666666674,19.72275625]},{\"charge\":-0.06149258579804686,\"element\":\"C\",\"location\":[-2.414920833333335,-2.740816666666668,23.355756250000002]},{\"charge\":0.06203762201598847,\"element\":\"H\",\"location\":[-1.3119208333333354,-0.8828166666666677,23.412756249999997]},{\"charge\":-0.0617414849269433,\"element\":\"C\",\"location\":[-2.773920833333335,-3.853816666666668,22.58575625]},{\"charge\":0.061766555669687265,\"element\":\"H\",\"location\":[-2.576920833333335,-4.845816666666668,20.67375625]},{\"charge\":0.061766555669687265,\"element\":\"H\",\"location\":[-2.7839208333333354,-2.6458166666666676,24.37775625]},{\"charge\":0.06175835637668205,\"element\":\"H\",\"location\":[-3.4169208333333354,-4.625816666666668,23.00675625]},{\"charge\":-0.014754809694131099,\"element\":\"C\",\"location\":[-0.6219208333333355,0.5571833333333318,22.967756249999997]},{\"charge\":-0.039326503913762335,\"element\":\"C\",\"location\":[0.7950791666666648,0.26118333333333243,23.479756249999998]},{\"charge\":0.02768686409625518,\"element\":\"H\",\"location\":[-1.5909208333333353,0.8071833333333318,21.00575625]},{\"charge\":0.02768686409625518,\"element\":\"H\",\"location\":[0.06307916666666458,1.3231833333333318,21.07675625]},{\"charge\":0.034915017796658655,\"element\":\"H\",\"location\":[-1.3699208333333353,-0.14681666666666793,23.33275625]},{\"charge\":-0.04423477553874942,\"element\":\"C\",\"location\":[-1.0629208333333353,1.9041833333333322,23.54275625]},{\"charge\":-0.05830635603376135,\"element\":\"C\",\"location\":[-1.8509208333333353,2.7691833333333324,22.77375625]},{\"charge\":-0.058306356033761345,\"element\":\"C\",\"location\":[-0.7209208333333352,2.2511833333333326,24.854756249999998]},{\"charge\":-0.06149258579804686,\"element\":\"C\",\"location\":[-2.294920833333335,3.981183333333332,23.315756249999996]},{\"charge\":0.06203762201598847,\"element\":\"H\",\"location\":[-2.1499208333333355,2.483183333333332,21.76475625]},{\"charge\":-0.06149258579804686,\"element\":\"C\",\"location\":[-1.1649208333333352,3.4631833333333315,25.397756249999997]},{\"charge\":0.06203762201598847,\"element\":\"H\",\"location\":[-0.10792083333333524,1.5781833333333326,25.45475625]},{\"charge\":-0.0617414849269433,\"element\":\"C\",\"location\":[-1.9509208333333352,4.329183333333333,24.62775625]},{\"charge\":0.061766555669687265,\"element\":\"H\",\"location\":[-2.906920833333335,4.654183333333332,22.715756250000002]},{\"charge\":0.061766555669687265,\"element\":\"H\",\"location\":[-0.8989208333333352,3.733183333333333,26.419756250000002]},{\"charge\":0.06175835637668205,\"element\":\"H\",\"location\":[-2.297920833333335,5.2721833333333326,25.04875625]},{\"charge\":-0.014754808712181594,\"element\":\"C\",\"location\":[0.7940791666666644,0.26118333333333243,25.010756249999996]},{\"charge\":-0.03932626436256212,\"element\":\"C\",\"location\":[-0.1719208333333353,-0.8188166666666676,25.522756249999997]},{\"charge\":0.02768686409625518,\"element\":\"H\",\"location\":[1.495079166666665,0.975183333333332,23.047756250000003]},{\"charge\":0.02768686409625518,\"element\":\"H\",\"location\":[1.115079166666665,-0.7168166666666682,23.117756250000003]},{\"charge\":0.034915017796658655,\"element\":\"H\",\"location\":[0.5570791666666648,1.260183333333332,25.373756250000003]},{\"charge\":-0.04423477553874942,\"element\":\"C\",\"location\":[2.181079166666665,-0.029816666666667935,25.58475625]},{\"charge\":-0.05830635603376135,\"element\":\"C\",\"location\":[3.3240791666666647,0.21818333333333229,24.81475625]},{\"charge\":-0.058306356033761345,\"element\":\"C\",\"location\":[2.3100791666666645,-0.5018166666666675,26.89675625]},{\"charge\":-0.06149258579804686,\"element\":\"C\",\"location\":[4.595079166666665,-0.0028166666666677997,25.357756249999998]},{\"charge\":0.06203762201598847,\"element\":\"H\",\"location\":[3.2250791666666645,0.6211833333333319,23.806756250000003]},{\"charge\":-0.06149258579804686,\"element\":\"C\",\"location\":[3.5810791666666644,-0.7218166666666681,27.43975625]},{\"charge\":0.06203762201598847,\"element\":\"H\",\"location\":[1.4210791666666651,-0.694816666666668,27.49675625]},{\"charge\":-0.0617414849269433,\"element\":\"C\",\"location\":[4.724079166666664,-0.47481666666666733,26.669756250000002]},{\"charge\":0.061766555669687265,\"element\":\"H\",\"location\":[5.485079166666665,0.19118333333333215,24.757756249999996]},{\"charge\":0.061766555669687265,\"element\":\"H\",\"location\":[3.6830791666666647,-1.0878166666666678,28.461756249999997]},{\"charge\":0.06175835637668205,\"element\":\"H\",\"location\":[5.715079166666664,-0.6468166666666679,27.090756250000002]},{\"charge\":-0.014736698554931768,\"element\":\"C\",\"location\":[-0.1709208333333354,-0.8178166666666682,27.05175625]},{\"charge\":-0.03879011320264148,\"element\":\"C\",\"location\":[-0.6229208333333354,0.5581833333333321,27.56475625]},{\"charge\":0.027686865030137228,\"element\":\"H\",\"location\":[0.0960791666666645,-1.7808166666666678,25.089756249999997]},{\"charge\":0.027686865030137228,\"element\":\"H\",\"location\":[-1.1769208333333352,-0.6068166666666679,25.160756250000002]},{\"charge\":0.03491524865589348,\"element\":\"H\",\"location\":[0.8130791666666646,-1.1128166666666677,27.416756250000002]},{\"charge\":-0.04423453509354747,\"element\":\"C\",\"location\":[-1.1169208333333351,-1.8738166666666678,27.626756249999996]},{\"charge\":-0.05830635506438401,\"element\":\"C\",\"location\":[-1.4729208333333352,-2.9878166666666677,26.85675625]},{\"charge\":-0.058306355064384,\"element\":\"C\",\"location\":[-1.5899208333333352,-1.7498166666666677,28.93975625]},{\"charge\":-0.06149258579804686,\"element\":\"C\",\"location\":[-2.299920833333335,-3.977816666666668,27.39975625]},{\"charge\":0.06203762201598847,\"element\":\"H\",\"location\":[-1.0739208333333354,-3.1028166666666674,25.848756249999997]},{\"charge\":-0.06149258579804686,\"element\":\"C\",\"location\":[-2.4159208333333355,-2.740816666666668,29.48175625]},{\"charge\":0.06203762201598847,\"element\":\"H\",\"location\":[-1.3119208333333354,-0.8818166666666678,29.53975625]},{\"charge\":-0.0617414849269433,\"element\":\"C\",\"location\":[-2.7729208333333353,-3.8548166666666677,28.711756249999997]},{\"charge\":0.061766555669687265,\"element\":\"H\",\"location\":[-2.576920833333335,-4.844816666666667,26.800756250000003]},{\"charge\":0.061766555669687265,\"element\":\"H\",\"location\":[-2.7839208333333354,-2.6458166666666676,30.504756249999996]},{\"charge\":0.06175835637668205,\"element\":\"H\",\"location\":[-3.4169208333333354,-4.625816666666668,29.13375625]},{\"charge\":-0.008481057863612801,\"element\":\"C\",\"location\":[-0.6219208333333355,0.5571833333333318,29.093756250000002]},{\"charge\":0.0277048489680112,\"element\":\"H\",\"location\":[-1.5909208333333353,0.8071833333333318,27.13175625]},{\"charge\":0.0277048489680112,\"element\":\"H\",\"location\":[0.06307916666666458,1.3231833333333318,27.202756249999997]},{\"charge\":0.035483068605888984,\"element\":\"H\",\"location\":[-1.3699208333333353,-0.14781666666666737,29.45775625]},{\"charge\":-0.04368179113068766,\"element\":\"C\",\"location\":[-1.0639208333333352,1.9041833333333322,29.668756249999998]},{\"charge\":-0.05828800240467291,\"element\":\"C\",\"location\":[-1.8509208333333353,2.770183333333332,28.89875625]},{\"charge\":-0.05828800240467291,\"element\":\"C\",\"location\":[-0.7209208333333352,2.2511833333333326,30.98175625]},{\"charge\":-0.061492352791038866,\"element\":\"C\",\"location\":[-2.294920833333335,3.981183333333332,29.44175625]},{\"charge\":0.06203785247223468,\"element\":\"H\",\"location\":[-2.1499208333333355,2.4821833333333325,27.89075625]},{\"charge\":-0.061492352791038866,\"element\":\"C\",\"location\":[-1.1649208333333352,3.4631833333333315,31.52375625]},{\"charge\":0.06203785247223468,\"element\":\"H\",\"location\":[-0.10792083333333524,1.5781833333333326,31.580756249999997]},{\"charge\":-0.06174148307396156,\"element\":\"C\",\"location\":[-1.9509208333333352,4.329183333333333,30.75375625]},{\"charge\":0.061766556577666824,\"element\":\"H\",\"location\":[-2.9079208333333355,4.654183333333332,28.842756249999997]},{\"charge\":0.061766556577666824,\"element\":\"H\",\"location\":[-0.8999208333333355,3.733183333333333,32.54575625]},{\"charge\":0.06175835637668205,\"element\":\"H\",\"location\":[-2.2969208333333353,5.2721833333333326,31.174756249999998]}],\"bonds\":[{\"atoms\":[3,0],\"order\":1},{\"atoms\":[4,0],\"order\":1},{\"atoms\":[0,1],\"order\":1},{\"atoms\":[10,7],\"order\":1},{\"atoms\":[14,9],\"order\":1},{\"atoms\":[7,9],\"order\":2},{\"atoms\":[7,6],\"order\":1},{\"atoms\":[1,5],\"order\":1},{\"atoms\":[1,2],\"order\":1},{\"atoms\":[1,6],\"order\":1},{\"atoms\":[19,2],\"order\":1},{\"atoms\":[20,2],\"order\":1},{\"atoms\":[9,13],\"order\":1},{\"atoms\":[2,17],\"order\":1},{\"atoms\":[6,8],\"order\":2},{\"atoms\":[26,23],\"order\":1},{\"atoms\":[13,16],\"order\":1},{\"atoms\":[13,11],\"order\":2},{\"atoms\":[30,25],\"order\":1},{\"atoms\":[23,25],\"order\":2},{\"atoms\":[23,22],\"order\":1},{\"atoms\":[8,11],\"order\":1},{\"atoms\":[8,12],\"order\":1},{\"atoms\":[17,21],\"order\":1},{\"atoms\":[17,18],\"order\":1},{\"atoms\":[17,22],\"order\":1},{\"atoms\":[35,18],\"order\":1},{\"atoms\":[36,18],\"order\":1},{\"atoms\":[25,29],\"order\":1},{\"atoms\":[11,15],\"order\":1},{\"atoms\":[18,33],\"order\":1},{\"atoms\":[22,24],\"order\":2},{\"atoms\":[42,39],\"order\":1},{\"atoms\":[29,32],\"order\":1},{\"atoms\":[29,27],\"order\":2},{\"atoms\":[46,41],\"order\":1},{\"atoms\":[39,41],\"order\":2},{\"atoms\":[39,38],\"order\":1},{\"atoms\":[24,27],\"order\":1},{\"atoms\":[24,28],\"order\":1},{\"atoms\":[33,37],\"order\":1},{\"atoms\":[33,34],\"order\":1},{\"atoms\":[33,38],\"order\":1},{\"atoms\":[51,34],\"order\":1},{\"atoms\":[52,34],\"order\":1},{\"atoms\":[41,45],\"order\":1},{\"atoms\":[27,31],\"order\":1},{\"atoms\":[34,49],\"order\":1},{\"atoms\":[38,40],\"order\":2},{\"atoms\":[58,55],\"order\":1},{\"atoms\":[45,48],\"order\":1},{\"atoms\":[45,43],\"order\":2},{\"atoms\":[62,57],\"order\":1},{\"atoms\":[55,57],\"order\":2},{\"atoms\":[55,54],\"order\":1},{\"atoms\":[40,43],\"order\":1},{\"atoms\":[40,44],\"order\":1},{\"atoms\":[49,53],\"order\":1},{\"atoms\":[49,50],\"order\":1},{\"atoms\":[49,54],\"order\":1},{\"atoms\":[67,50],\"order\":1},{\"atoms\":[68,50],\"order\":1},{\"atoms\":[57,61],\"order\":1},{\"atoms\":[43,47],\"order\":1},{\"atoms\":[50,65],\"order\":1},{\"atoms\":[54,56],\"order\":2},{\"atoms\":[74,71],\"order\":1},{\"atoms\":[61,64],\"order\":1},{\"atoms\":[61,59],\"order\":2},{\"atoms\":[78,73],\"order\":1},{\"atoms\":[71,73],\"order\":2},{\"atoms\":[71,70],\"order\":1},{\"atoms\":[56,59],\"order\":1},{\"atoms\":[56,60],\"order\":1},{\"atoms\":[65,69],\"order\":1},{\"atoms\":[65,66],\"order\":1},{\"atoms\":[65,70],\"order\":1},{\"atoms\":[83,66],\"order\":1},{\"atoms\":[84,66],\"order\":1},{\"atoms\":[73,77],\"order\":1},{\"atoms\":[59,63],\"order\":1},{\"atoms\":[66,81],\"order\":1},{\"atoms\":[70,72],\"order\":2},{\"atoms\":[90,87],\"order\":1},{\"atoms\":[77,80],\"order\":1},{\"atoms\":[77,75],\"order\":2},{\"atoms\":[94,89],\"order\":1},{\"atoms\":[87,89],\"order\":2},{\"atoms\":[87,86],\"order\":1},{\"atoms\":[72,75],\"order\":1},{\"atoms\":[72,76],\"order\":1},{\"atoms\":[81,85],\"order\":1},{\"atoms\":[81,82],\"order\":1},{\"atoms\":[81,86],\"order\":1},{\"atoms\":[99,82],\"order\":1},{\"atoms\":[100,82],\"order\":1},{\"atoms\":[89,93],\"order\":1},{\"atoms\":[75,79],\"order\":1},{\"atoms\":[82,97],\"order\":1},{\"atoms\":[86,88],\"order\":2},{\"atoms\":[106,103],\"order\":1},{\"atoms\":[93,96],\"order\":1},{\"atoms\":[93,91],\"order\":2},{\"atoms\":[110,105],\"order\":1},{\"atoms\":[103,105],\"order\":2},{\"atoms\":[103,102],\"order\":1},{\"atoms\":[88,91],\"order\":1},{\"atoms\":[88,92],\"order\":1},{\"atoms\":[97,101],\"order\":1},{\"atoms\":[97,98],\"order\":1},{\"atoms\":[97,102],\"order\":1},{\"atoms\":[115,98],\"order\":1},{\"atoms\":[116,98],\"order\":1},{\"atoms\":[105,109],\"order\":1},{\"atoms\":[91,95],\"order\":1},{\"atoms\":[98,113],\"order\":1},{\"atoms\":[102,104],\"order\":2},{\"atoms\":[122,119],\"order\":1},{\"atoms\":[109,112],\"order\":1},{\"atoms\":[109,107],\"order\":2},{\"atoms\":[126,121],\"order\":1},{\"atoms\":[119,121],\"order\":2},{\"atoms\":[119,118],\"order\":1},{\"atoms\":[104,107],\"order\":1},{\"atoms\":[104,108],\"order\":1},{\"atoms\":[113,117],\"order\":1},{\"atoms\":[113,114],\"order\":1},{\"atoms\":[113,118],\"order\":1},{\"atoms\":[131,114],\"order\":1},{\"atoms\":[132,114],\"order\":1},{\"atoms\":[121,125],\"order\":1},{\"atoms\":[107,111],\"order\":1},{\"atoms\":[114,129],\"order\":1},{\"atoms\":[118,120],\"order\":2},{\"atoms\":[138,135],\"order\":1},{\"atoms\":[125,128],\"order\":1},{\"atoms\":[125,123],\"order\":2},{\"atoms\":[142,137],\"order\":1},{\"atoms\":[135,137],\"order\":2},{\"atoms\":[135,134],\"order\":1},{\"atoms\":[120,123],\"order\":1},{\"atoms\":[120,124],\"order\":1},{\"atoms\":[129,133],\"order\":1},{\"atoms\":[129,130],\"order\":1},{\"atoms\":[129,134],\"order\":1},{\"atoms\":[147,130],\"order\":1},{\"atoms\":[148,130],\"order\":1},{\"atoms\":[137,141],\"order\":1},{\"atoms\":[123,127],\"order\":1},{\"atoms\":[130,145],\"order\":1},{\"atoms\":[134,136],\"order\":2},{\"atoms\":[154,151],\"order\":1},{\"atoms\":[141,144],\"order\":1},{\"atoms\":[141,139],\"order\":2},{\"atoms\":[158,153],\"order\":1},{\"atoms\":[151,153],\"order\":2},{\"atoms\":[151,150],\"order\":1},{\"atoms\":[136,139],\"order\":1},{\"atoms\":[136,140],\"order\":1},{\"atoms\":[145,149],\"order\":1},{\"atoms\":[145,146],\"order\":1},{\"atoms\":[145,150],\"order\":1},{\"atoms\":[163,146],\"order\":1},{\"atoms\":[164,146],\"order\":1},{\"atoms\":[153,157],\"order\":1},{\"atoms\":[139,143],\"order\":1},{\"atoms\":[146,161],\"order\":1},{\"atoms\":[150,152],\"order\":2},{\"atoms\":[170,167],\"order\":1},{\"atoms\":[157,160],\"order\":1},{\"atoms\":[157,155],\"order\":2},{\"atoms\":[174,169],\"order\":1},{\"atoms\":[167,169],\"order\":2},{\"atoms\":[167,166],\"order\":1},{\"atoms\":[152,155],\"order\":1},{\"atoms\":[152,156],\"order\":1},{\"atoms\":[161,165],\"order\":1},{\"atoms\":[161,162],\"order\":1},{\"atoms\":[161,166],\"order\":1},{\"atoms\":[179,162],\"order\":1},{\"atoms\":[180,162],\"order\":1},{\"atoms\":[169,173],\"order\":1},{\"atoms\":[155,159],\"order\":1},{\"atoms\":[162,177],\"order\":1},{\"atoms\":[166,168],\"order\":2},{\"atoms\":[186,183],\"order\":1},{\"atoms\":[173,176],\"order\":1},{\"atoms\":[173,171],\"order\":2},{\"atoms\":[190,185],\"order\":1},{\"atoms\":[183,185],\"order\":2},{\"atoms\":[183,182],\"order\":1},{\"atoms\":[168,171],\"order\":1},{\"atoms\":[168,172],\"order\":1},{\"atoms\":[177,181],\"order\":1},{\"atoms\":[177,178],\"order\":1},{\"atoms\":[177,182],\"order\":1},{\"atoms\":[195,178],\"order\":1},{\"atoms\":[196,178],\"order\":1},{\"atoms\":[185,189],\"order\":1},{\"atoms\":[171,175],\"order\":1},{\"atoms\":[178,193],\"order\":1},{\"atoms\":[182,184],\"order\":2},{\"atoms\":[202,199],\"order\":1},{\"atoms\":[189,192],\"order\":1},{\"atoms\":[189,187],\"order\":2},{\"atoms\":[206,201],\"order\":1},{\"atoms\":[199,201],\"order\":2},{\"atoms\":[199,198],\"order\":1},{\"atoms\":[184,187],\"order\":1},{\"atoms\":[184,188],\"order\":1},{\"atoms\":[193,197],\"order\":1},{\"atoms\":[193,194],\"order\":1},{\"atoms\":[193,198],\"order\":1},{\"atoms\":[211,194],\"order\":1},{\"atoms\":[212,194],\"order\":1},{\"atoms\":[201,205],\"order\":1},{\"atoms\":[187,191],\"order\":1},{\"atoms\":[194,209],\"order\":1},{\"atoms\":[198,200],\"order\":2},{\"atoms\":[218,215],\"order\":1},{\"atoms\":[205,208],\"order\":1},{\"atoms\":[205,203],\"order\":2},{\"atoms\":[222,217],\"order\":1},{\"atoms\":[215,217],\"order\":2},{\"atoms\":[215,214],\"order\":1},{\"atoms\":[200,203],\"order\":1},{\"atoms\":[200,204],\"order\":1},{\"atoms\":[209,213],\"order\":1},{\"atoms\":[209,210],\"order\":1},{\"atoms\":[209,214],\"order\":1},{\"atoms\":[227,210],\"order\":1},{\"atoms\":[228,210],\"order\":1},{\"atoms\":[217,221],\"order\":1},{\"atoms\":[203,207],\"order\":1},{\"atoms\":[210,225],\"order\":1},{\"atoms\":[214,216],\"order\":2},{\"atoms\":[234,231],\"order\":1},{\"atoms\":[221,224],\"order\":1},{\"atoms\":[221,219],\"order\":2},{\"atoms\":[238,233],\"order\":1},{\"atoms\":[231,233],\"order\":2},{\"atoms\":[231,230],\"order\":1},{\"atoms\":[216,219],\"order\":1},{\"atoms\":[216,220],\"order\":1},{\"atoms\":[225,229],\"order\":1},{\"atoms\":[225,226],\"order\":1},{\"atoms\":[225,230],\"order\":1},{\"atoms\":[243,226],\"order\":1},{\"atoms\":[244,226],\"order\":1},{\"atoms\":[233,237],\"order\":1},{\"atoms\":[219,223],\"order\":1},{\"atoms\":[226,241],\"order\":1},{\"atoms\":[230,232],\"order\":2},{\"atoms\":[250,247],\"order\":1},{\"atoms\":[237,240],\"order\":1},{\"atoms\":[237,235],\"order\":2},{\"atoms\":[254,249],\"order\":1},{\"atoms\":[247,249],\"order\":2},{\"atoms\":[247,246],\"order\":1},{\"atoms\":[232,235],\"order\":1},{\"atoms\":[232,236],\"order\":1},{\"atoms\":[241,245],\"order\":1},{\"atoms\":[241,242],\"order\":1},{\"atoms\":[241,246],\"order\":1},{\"atoms\":[259,242],\"order\":1},{\"atoms\":[260,242],\"order\":1},{\"atoms\":[249,253],\"order\":1},{\"atoms\":[235,239],\"order\":1},{\"atoms\":[242,257],\"order\":1},{\"atoms\":[246,248],\"order\":2},{\"atoms\":[266,263],\"order\":1},{\"atoms\":[253,256],\"order\":1},{\"atoms\":[253,251],\"order\":2},{\"atoms\":[270,265],\"order\":1},{\"atoms\":[263,265],\"order\":2},{\"atoms\":[263,262],\"order\":1},{\"atoms\":[248,251],\"order\":1},{\"atoms\":[248,252],\"order\":1},{\"atoms\":[257,261],\"order\":1},{\"atoms\":[257,258],\"order\":1},{\"atoms\":[257,262],\"order\":1},{\"atoms\":[275,258],\"order\":1},{\"atoms\":[276,258],\"order\":1},{\"atoms\":[265,269],\"order\":1},{\"atoms\":[251,255],\"order\":1},{\"atoms\":[258,273],\"order\":1},{\"atoms\":[262,264],\"order\":2},{\"atoms\":[282,279],\"order\":1},{\"atoms\":[269,272],\"order\":1},{\"atoms\":[269,267],\"order\":2},{\"atoms\":[286,281],\"order\":1},{\"atoms\":[279,281],\"order\":2},{\"atoms\":[279,278],\"order\":1},{\"atoms\":[264,267],\"order\":1},{\"atoms\":[264,268],\"order\":1},{\"atoms\":[273,277],\"order\":1},{\"atoms\":[273,274],\"order\":1},{\"atoms\":[273,278],\"order\":1},{\"atoms\":[291,274],\"order\":1},{\"atoms\":[292,274],\"order\":1},{\"atoms\":[281,285],\"order\":1},{\"atoms\":[267,271],\"order\":1},{\"atoms\":[274,289],\"order\":1},{\"atoms\":[278,280],\"order\":2},{\"atoms\":[298,295],\"order\":1},{\"atoms\":[285,288],\"order\":1},{\"atoms\":[285,283],\"order\":2},{\"atoms\":[302,297],\"order\":1},{\"atoms\":[295,297],\"order\":2},{\"atoms\":[295,294],\"order\":1},{\"atoms\":[280,283],\"order\":1},{\"atoms\":[280,284],\"order\":1},{\"atoms\":[289,293],\"order\":1},{\"atoms\":[289,290],\"order\":1},{\"atoms\":[289,294],\"order\":1},{\"atoms\":[307,290],\"order\":1},{\"atoms\":[308,290],\"order\":1},{\"atoms\":[297,301],\"order\":1},{\"atoms\":[283,287],\"order\":1},{\"atoms\":[290,305],\"order\":1},{\"atoms\":[294,296],\"order\":2},{\"atoms\":[314,311],\"order\":1},{\"atoms\":[301,304],\"order\":1},{\"atoms\":[301,299],\"order\":2},{\"atoms\":[318,313],\"order\":1},{\"atoms\":[311,313],\"order\":2},{\"atoms\":[311,310],\"order\":1},{\"atoms\":[296,299],\"order\":1},{\"atoms\":[296,300],\"order\":1},{\"atoms\":[305,309],\"order\":1},{\"atoms\":[305,306],\"order\":1},{\"atoms\":[305,310],\"order\":1},{\"atoms\":[323,306],\"order\":1},{\"atoms\":[324,306],\"order\":1},{\"atoms\":[313,317],\"order\":1},{\"atoms\":[299,303],\"order\":1},{\"atoms\":[306,321],\"order\":1},{\"atoms\":[310,312],\"order\":2},{\"atoms\":[330,327],\"order\":1},{\"atoms\":[317,320],\"order\":1},{\"atoms\":[317,315],\"order\":2},{\"atoms\":[334,329],\"order\":1},{\"atoms\":[327,329],\"order\":2},{\"atoms\":[327,326],\"order\":1},{\"atoms\":[312,315],\"order\":1},{\"atoms\":[312,316],\"order\":1},{\"atoms\":[321,325],\"order\":1},{\"atoms\":[321,322],\"order\":1},{\"atoms\":[321,326],\"order\":1},{\"atoms\":[339,322],\"order\":1},{\"atoms\":[340,322],\"order\":1},{\"atoms\":[329,333],\"order\":1},{\"atoms\":[315,319],\"order\":1},{\"atoms\":[322,337],\"order\":1},{\"atoms\":[326,328],\"order\":2},{\"atoms\":[346,343],\"order\":1},{\"atoms\":[333,336],\"order\":1},{\"atoms\":[333,331],\"order\":2},{\"atoms\":[350,345],\"order\":1},{\"atoms\":[343,345],\"order\":2},{\"atoms\":[343,342],\"order\":1},{\"atoms\":[328,331],\"order\":1},{\"atoms\":[328,332],\"order\":1},{\"atoms\":[337,341],\"order\":1},{\"atoms\":[337,338],\"order\":1},{\"atoms\":[337,342],\"order\":1},{\"atoms\":[355,338],\"order\":1},{\"atoms\":[356,338],\"order\":1},{\"atoms\":[345,349],\"order\":1},{\"atoms\":[331,335],\"order\":1},{\"atoms\":[338,353],\"order\":1},{\"atoms\":[342,344],\"order\":2},{\"atoms\":[362,359],\"order\":1},{\"atoms\":[349,352],\"order\":1},{\"atoms\":[349,347],\"order\":2},{\"atoms\":[366,361],\"order\":1},{\"atoms\":[359,361],\"order\":2},{\"atoms\":[359,358],\"order\":1},{\"atoms\":[344,347],\"order\":1},{\"atoms\":[344,348],\"order\":1},{\"atoms\":[353,357],\"order\":1},{\"atoms\":[353,354],\"order\":1},{\"atoms\":[353,358],\"order\":1},{\"atoms\":[371,354],\"order\":1},{\"atoms\":[372,354],\"order\":1},{\"atoms\":[361,365],\"order\":1},{\"atoms\":[347,351],\"order\":1},{\"atoms\":[354,369],\"order\":1},{\"atoms\":[358,360],\"order\":2},{\"atoms\":[378,375],\"order\":1},{\"atoms\":[365,368],\"order\":1},{\"atoms\":[365,363],\"order\":2},{\"atoms\":[382,377],\"order\":1},{\"atoms\":[375,377],\"order\":2},{\"atoms\":[375,374],\"order\":1},{\"atoms\":[360,363],\"order\":1},{\"atoms\":[360,364],\"order\":1},{\"atoms\":[369,373],\"order\":1},{\"atoms\":[369,370],\"order\":1},{\"atoms\":[369,374],\"order\":1},{\"atoms\":[387,370],\"order\":1},{\"atoms\":[388,370],\"order\":1},{\"atoms\":[377,381],\"order\":1},{\"atoms\":[363,367],\"order\":1},{\"atoms\":[370,385],\"order\":1},{\"atoms\":[374,376],\"order\":2},{\"atoms\":[394,391],\"order\":1},{\"atoms\":[381,384],\"order\":1},{\"atoms\":[381,379],\"order\":2},{\"atoms\":[398,393],\"order\":1},{\"atoms\":[391,393],\"order\":2},{\"atoms\":[391,390],\"order\":1},{\"atoms\":[376,379],\"order\":1},{\"atoms\":[376,380],\"order\":1},{\"atoms\":[385,389],\"order\":1},{\"atoms\":[385,386],\"order\":1},{\"atoms\":[385,390],\"order\":1},{\"atoms\":[403,386],\"order\":1},{\"atoms\":[404,386],\"order\":1},{\"atoms\":[393,397],\"order\":1},{\"atoms\":[379,383],\"order\":1},{\"atoms\":[386,401],\"order\":1},{\"atoms\":[390,392],\"order\":2},{\"atoms\":[410,407],\"order\":1},{\"atoms\":[397,400],\"order\":1},{\"atoms\":[397,395],\"order\":2},{\"atoms\":[414,409],\"order\":1},{\"atoms\":[407,409],\"order\":2},{\"atoms\":[407,406],\"order\":1},{\"atoms\":[392,395],\"order\":1},{\"atoms\":[392,396],\"order\":1},{\"atoms\":[401,405],\"order\":1},{\"atoms\":[401,402],\"order\":1},{\"atoms\":[401,406],\"order\":1},{\"atoms\":[419,402],\"order\":1},{\"atoms\":[420,402],\"order\":1},{\"atoms\":[409,413],\"order\":1},{\"atoms\":[395,399],\"order\":1},{\"atoms\":[402,417],\"order\":1},{\"atoms\":[406,408],\"order\":2},{\"atoms\":[426,423],\"order\":1},{\"atoms\":[413,416],\"order\":1},{\"atoms\":[413,411],\"order\":2},{\"atoms\":[430,425],\"order\":1},{\"atoms\":[423,425],\"order\":2},{\"atoms\":[423,422],\"order\":1},{\"atoms\":[408,411],\"order\":1},{\"atoms\":[408,412],\"order\":1},{\"atoms\":[417,421],\"order\":1},{\"atoms\":[417,418],\"order\":1},{\"atoms\":[417,422],\"order\":1},{\"atoms\":[435,418],\"order\":1},{\"atoms\":[436,418],\"order\":1},{\"atoms\":[425,429],\"order\":1},{\"atoms\":[411,415],\"order\":1},{\"atoms\":[418,433],\"order\":1},{\"atoms\":[422,424],\"order\":2},{\"atoms\":[442,439],\"order\":1},{\"atoms\":[429,432],\"order\":1},{\"atoms\":[429,427],\"order\":2},{\"atoms\":[446,441],\"order\":1},{\"atoms\":[439,441],\"order\":2},{\"atoms\":[439,438],\"order\":1},{\"atoms\":[424,427],\"order\":1},{\"atoms\":[424,428],\"order\":1},{\"atoms\":[433,437],\"order\":1},{\"atoms\":[433,434],\"order\":1},{\"atoms\":[433,438],\"order\":1},{\"atoms\":[451,434],\"order\":1},{\"atoms\":[452,434],\"order\":1},{\"atoms\":[441,445],\"order\":1},{\"atoms\":[427,431],\"order\":1},{\"atoms\":[434,449],\"order\":1},{\"atoms\":[438,440],\"order\":2},{\"atoms\":[458,455],\"order\":1},{\"atoms\":[445,448],\"order\":1},{\"atoms\":[445,443],\"order\":2},{\"atoms\":[462,457],\"order\":1},{\"atoms\":[455,457],\"order\":2},{\"atoms\":[455,454],\"order\":1},{\"atoms\":[440,443],\"order\":1},{\"atoms\":[440,444],\"order\":1},{\"atoms\":[449,453],\"order\":1},{\"atoms\":[449,450],\"order\":1},{\"atoms\":[449,454],\"order\":1},{\"atoms\":[466,450],\"order\":1},{\"atoms\":[467,450],\"order\":1},{\"atoms\":[457,461],\"order\":1},{\"atoms\":[443,447],\"order\":1},{\"atoms\":[450,465],\"order\":1},{\"atoms\":[454,456],\"order\":2},{\"atoms\":[473,470],\"order\":1},{\"atoms\":[461,464],\"order\":1},{\"atoms\":[461,459],\"order\":2},{\"atoms\":[477,472],\"order\":1},{\"atoms\":[470,472],\"order\":2},{\"atoms\":[470,469],\"order\":1},{\"atoms\":[456,459],\"order\":1},{\"atoms\":[456,460],\"order\":1},{\"atoms\":[465,468],\"order\":1},{\"atoms\":[465,469],\"order\":1},{\"atoms\":[472,476],\"order\":1},{\"atoms\":[459,463],\"order\":1},{\"atoms\":[469,471],\"order\":2},{\"atoms\":[476,479],\"order\":1},{\"atoms\":[476,474],\"order\":2},{\"atoms\":[471,474],\"order\":1},{\"atoms\":[471,475],\"order\":1},{\"atoms\":[474,478],\"order\":1}],\"formula\":\"C240H240\",\"molecular_weight\":3126.489479999982,\"units\":{\"molecular_weight\":\"g / mol\"}});\n",
       "\n",
       "               $d.resizable({\n",
       "                   aspectRatio: 1000 / 300,\n",
       "                   resize: function (evt, ui) {\n",
       "                       $d.imolecule.renderer.setSize(ui.size.width,\n",
       "                                                     ui.size.height);\n",
       "                   }\n",
       "               });\n",
       "           });\n",
       "           </script>"
      ],
      "text/plain": [
       "<IPython.core.display.HTML object>"
      ]
     },
     "metadata": {},
     "output_type": "display_data"
    }
   ],
   "source": [
    "#visualize final snapshot of structure\n",
    "pdbFile = r.read('PDBview',raw=True)\n",
    "imolecule.draw(pdbFile[7:],size=(1000, 300))\n",
    "#imolecule.draw(r.outdir+\"/\"+r.read('Helix Name')+\".pdb\",size=(1000, 300))#, camera_type=\"orthographic\") "
   ]
  },
  {
   "cell_type": "code",
   "execution_count": null,
   "metadata": {},
   "outputs": [],
   "source": []
  }
 ],
 "metadata": {
  "kernelspec": {
   "display_name": "Python 3",
   "language": "python",
   "name": "python3"
  },
  "language_info": {
   "codemirror_mode": {
    "name": "ipython",
    "version": 3
   },
   "file_extension": ".py",
   "mimetype": "text/x-python",
   "name": "python",
   "nbconvert_exporter": "python",
   "pygments_lexer": "ipython3",
   "version": "3.7.7"
  }
 },
 "nbformat": 4,
 "nbformat_minor": 2
}
