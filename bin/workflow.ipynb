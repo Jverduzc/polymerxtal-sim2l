{
 "cells": [
  {
   "cell_type": "markdown",
   "metadata": {},
   "source": [
    "# Workflow notebook for the PolymerXtal SimTool #\n",
    "### Tongtong Shen, Jessica Nash and Alejandro Strachan ###\n",
    "### School of Materials Engineering, Purdue University and The Molecular Sciences Software Institute###\n",
    "\n",
    "The PolymerXtal SimTool is based on PolymerXtal software designed to build and analyze molecular-level polymer crystal structures. PolymerXtal provides a standardized process to generate polymer crystal structure based on monomer, tacticity, helicity, chiriality and unit cell information and analyze the crystallinity in polymer systems with given atom trajectories. These features have allowed PolymerXtal to lead further investigations of semi-crystalline polymers where most properties are governed by the crystalline microstructure and promote future research endeavors in the area of crystalline polymer simulations.\n",
    "\n",
    "In general, users need to specify as inputs the polymer type they wish to run, the helice structure, tacticity and chiriality. The SimTool generates the chain helix structure and a visual snapshot of it.\n",
    "\n",
    "The goal of the workflow notebook is to set up and run the PolymerXtal SimTool, which is demonstrated both for the case a single build, or as a high-throughput study, exploring various polymer types and helicity at once.\n",
    "\n",
    "To access the code, please use \"Edit App\" (top right).\n",
    " * **Important** \"Terminate Session\" (top right) will kill your entire Jupyter session."
   ]
  },
  {
   "cell_type": "markdown",
   "metadata": {},
   "source": [
    "## Set up imports ##\n",
    "\n",
    "We will first import the necessary libraries and packages, including the simtool package which helps locate the SimTool we wish to run and pass it inputs and outputs"
   ]
  },
  {
   "cell_type": "code",
   "execution_count": 1,
   "metadata": {},
   "outputs": [],
   "source": [
    "from hublib.tool import get_inputs, run_simtool, rdisplay, read, get_outputs_df, get_outputs, get_output_files\n",
    "from simtool import findInstalledSimToolNotebooks, searchForSimTool, findSimToolNotebook\n",
    "from simtool import getSimToolInputs, getSimToolOutputs, Run\n",
    "\n",
    "import os"
   ]
  },
  {
   "cell_type": "markdown",
   "metadata": {},
   "source": [
    "## SimTool information ##\n",
    "\n",
    "We will first create a dictionary containing the SimTool information using the \"findSimToolNotebook\" function"
   ]
  },
  {
   "cell_type": "code",
   "execution_count": 2,
   "metadata": {},
   "outputs": [
    {
     "name": "stdout",
     "output_type": "stream",
     "text": [
      "      notebookPath = /home/nanohub/shen276/polymerxtal/simtool/polymerxtal.ipynb\n",
      "       simToolName = polymerxtal\n",
      "   simToolRevision = None\n",
      "         published = False\n"
     ]
    }
   ],
   "source": [
    "# Identify the simtool and retrieve its status\n",
    "simToolName = \"polymerxtal\"\n",
    "nb = searchForSimTool('polymerxtal')\n",
    "for key in nb.keys():\n",
    "    print(\"%18s = %s\" % (key,nb[key]))"
   ]
  },
  {
   "cell_type": "markdown",
   "metadata": {},
   "source": [
    "### SimTool Inputs and Outputs ###\n",
    "We will then create an object for the simtool inputs using the \"getSimToolInputs\" function - this object is validated by the simtool library so only allowed values are passed to the simtool"
   ]
  },
  {
   "cell_type": "code",
   "execution_count": 3,
   "metadata": {},
   "outputs": [
    {
     "name": "stdout",
     "output_type": "stream",
     "text": [
      "polymer_type:\n",
      "    type: Text\n",
      "    description: Select the polymer type.\n",
      "    options: ['PAN', 'PE', 'PP', 'PS', 'POM', 'PTFE', 'PVC']\n",
      "    value: PAN\n",
      "\n",
      "helicity:\n",
      "    type: Text\n",
      "    description: Select the helicity of the polymer chain.\n",
      "    options: ['Helix 2*3/1', 'Helix 2*2/1', 'Helix 2*1/1']\n",
      "    value: Helix 2*3/1\n",
      "\n",
      "monomers:\n",
      "    type: Number\n",
      "    description: Number of monomers\n",
      "    min: 1\n",
      "    max: 100\n",
      "    value: 30\n",
      "\n",
      "tacticity:\n",
      "    type: Text\n",
      "    description: Select the tacticity of the polymer chain.\n",
      "    options: ['isotactic', 'atactic', 'syndiotactic', 'None']\n",
      "    value: isotactic\n",
      "\n",
      "chiriality:\n",
      "    type: Text\n",
      "    description: Select the chiriality of the polymer chain.\n",
      "    options: ['left', 'right', 'None']\n",
      "    value: right\n",
      "\n",
      "head_tail_defect_ratio:\n",
      "    type: Number\n",
      "    description: Ratio of head-to-head and tail-to-tail connections\n",
      "    min: 0\n",
      "    max: 1\n",
      "    value: 0\n",
      "\n",
      "configs:\n",
      "    type: Number\n",
      "    description: Number of attempts to find a configuration\n",
      "    min: 1\n",
      "    max: 5000\n",
      "    value: 30\n",
      "\n",
      "infinite:\n",
      "    type: Boolean\n",
      "    description: Whether to create corresponding LAMMPS Data File or not\n",
      "    value: True\n",
      "\n",
      "create_lmpdata_file:\n",
      "    type: Boolean\n",
      "    description: Whether to create corresponding LAMMPS Data File or not\n",
      "    value: True\n",
      "\n",
      "create_lmpinput_file:\n",
      "    type: Boolean\n",
      "    description: Whether to create corresponding LAMMPS input File or not\n",
      "    value: True\n",
      "\n",
      "ffield:\n",
      "    type: Text\n",
      "    description: Force field\n",
      "    options: ['Dreiding', 'PCFF']\n",
      "    value: Dreiding\n",
      "\n",
      "bondscale:\n",
      "    type: Number\n",
      "    description: Applied to equilibrium bond lengths\n",
      "    min: 1\n",
      "    max: 2\n",
      "    value: 1.1\n",
      "\n",
      "charge:\n",
      "    type: Text\n",
      "    description: Charge\n",
      "    options: ['Gasteiger']\n",
      "    value: Gasteiger\n",
      "\n"
     ]
    }
   ],
   "source": [
    "# get the list of inputs\n",
    "inputs = getSimToolInputs(nb)\n",
    "print(inputs)"
   ]
  },
  {
   "cell_type": "code",
   "execution_count": 4,
   "metadata": {},
   "outputs": [
    {
     "data": {
      "text/plain": [
       "HelixName:\n",
       "    type: Text\n",
       "\n",
       "PDBview:\n",
       "    type: Text\n",
       "\n",
       "PDB:\n",
       "    type: Text\n",
       "\n",
       "LAMMPSDataFile:\n",
       "    type: Text\n",
       "\n",
       "Datafile_warnings:\n",
       "    type: Text\n",
       "\n",
       "X6paircoeffs:\n",
       "    type: Text\n",
       "\n",
       "LAMMPSinputfile:\n",
       "    type: Text"
      ]
     },
     "execution_count": 4,
     "metadata": {},
     "output_type": "execute_result"
    }
   ],
   "source": [
    "# we can get a list of expected outputs\n",
    "getSimToolOutputs(nb)"
   ]
  },
  {
   "cell_type": "markdown",
   "metadata": {},
   "source": [
    "## Setting SimTool Inputs ##\n",
    "\n",
    "Now we will setup the inputs and run a first simulation. Important aspects on SimTool inputs are:\n",
    " * Inputs are validated"
   ]
  },
  {
   "cell_type": "code",
   "execution_count": 5,
   "metadata": {},
   "outputs": [],
   "source": [
    "# range checking\n",
    "inputs.polymer_type.value = 'PE'\n",
    "inputs.monomers.value = 6\n",
    "inputs.infinite.value = False\n",
    "inputs.create_lmpdata_file.value = False\n",
    "inputs.create_lmpinput_file.value = False"
   ]
  },
  {
   "cell_type": "markdown",
   "metadata": {},
   "source": [
    "## Run the SimTool ###"
   ]
  },
  {
   "cell_type": "code",
   "execution_count": 6,
   "metadata": {},
   "outputs": [
    {
     "name": "stdout",
     "output_type": "stream",
     "text": [
      "runname   = e3667aa7f0d0472e9db1bc560fe21527\n",
      "outdir    = RUNS/e3667aa7f0d0472e9db1bc560fe21527\n",
      "cached    = False\n",
      "published = False\n",
      "submit --local papermill -f inputs.yaml\n",
      "       /home/nanohub/shen276/polymerxtal/simtool/polymerxtal.ipynb\n",
      "       polymerxtal.ipynb\n"
     ]
    },
    {
     "name": "stderr",
     "output_type": "stream",
     "text": [
      "Input Notebook:  /home/nanohub/shen276/polymerxtal/simtool/polymerxtal.ipynb\n",
      "Output Notebook: polymerxtal.ipynb\n",
      "Executing: 100%|██████████| 13/13 [00:14<00:00,  1.12s/cell]\n"
     ]
    },
    {
     "name": "stdout",
     "output_type": "stream",
     "text": [
      "The following outputs are missing: ['LAMMPSDataFile', 'X6paircoeffs', 'Datafile_warnings', 'LAMMPSinputfile']\n"
     ]
    }
   ],
   "source": [
    "r = Run(nb, inputs)"
   ]
  },
  {
   "cell_type": "markdown",
   "metadata": {},
   "source": [
    "## Explore PolymerXtal outputs ##\n",
    "The Run object contains a useful method called \"getResultSummary\", which we can use to view the SimTool outputs at a high level in a pandas dataframe."
   ]
  },
  {
   "cell_type": "code",
   "execution_count": 7,
   "metadata": {},
   "outputs": [
    {
     "data": {
      "text/html": [
       "<div>\n",
       "<style scoped>\n",
       "    .dataframe tbody tr th:only-of-type {\n",
       "        vertical-align: middle;\n",
       "    }\n",
       "\n",
       "    .dataframe tbody tr th {\n",
       "        vertical-align: top;\n",
       "    }\n",
       "\n",
       "    .dataframe thead th {\n",
       "        text-align: right;\n",
       "    }\n",
       "</style>\n",
       "<table border=\"1\" class=\"dataframe\">\n",
       "  <thead>\n",
       "    <tr style=\"text-align: right;\">\n",
       "      <th></th>\n",
       "      <th>name</th>\n",
       "      <th>data</th>\n",
       "      <th>encoder</th>\n",
       "      <th>display</th>\n",
       "      <th>filename</th>\n",
       "    </tr>\n",
       "  </thead>\n",
       "  <tbody>\n",
       "    <tr>\n",
       "      <th>0</th>\n",
       "      <td>simToolSaveErrorOccurred</td>\n",
       "      <td>0</td>\n",
       "      <td>text</td>\n",
       "      <td>None</td>\n",
       "      <td>polymerxtal.ipynb</td>\n",
       "    </tr>\n",
       "    <tr>\n",
       "      <th>1</th>\n",
       "      <td>simToolAllOutputsSaved</td>\n",
       "      <td>0</td>\n",
       "      <td>text</td>\n",
       "      <td>None</td>\n",
       "      <td>polymerxtal.ipynb</td>\n",
       "    </tr>\n",
       "    <tr>\n",
       "      <th>2</th>\n",
       "      <td>HelixName</td>\n",
       "      <td>\"PE_helix_2_3_1_iso+\"</td>\n",
       "      <td>text</td>\n",
       "      <td>None</td>\n",
       "      <td>polymerxtal.ipynb</td>\n",
       "    </tr>\n",
       "    <tr>\n",
       "      <th>3</th>\n",
       "      <td>PDBview</td>\n",
       "      <td>file://PE_helix_2_3_1_iso+_view.pdb</td>\n",
       "      <td>text</td>\n",
       "      <td>None</td>\n",
       "      <td>polymerxtal.ipynb</td>\n",
       "    </tr>\n",
       "    <tr>\n",
       "      <th>4</th>\n",
       "      <td>PDB</td>\n",
       "      <td>file://PE_helix_2_3_1_iso+.pdb</td>\n",
       "      <td>text</td>\n",
       "      <td>None</td>\n",
       "      <td>polymerxtal.ipynb</td>\n",
       "    </tr>\n",
       "  </tbody>\n",
       "</table>\n",
       "</div>"
      ],
      "text/plain": [
       "                       name                                 data encoder  \\\n",
       "0  simToolSaveErrorOccurred                                    0    text   \n",
       "1    simToolAllOutputsSaved                                    0    text   \n",
       "2                 HelixName                \"PE_helix_2_3_1_iso+\"    text   \n",
       "3                   PDBview  file://PE_helix_2_3_1_iso+_view.pdb    text   \n",
       "4                       PDB       file://PE_helix_2_3_1_iso+.pdb    text   \n",
       "\n",
       "  display           filename  \n",
       "0    None  polymerxtal.ipynb  \n",
       "1    None  polymerxtal.ipynb  \n",
       "2    None  polymerxtal.ipynb  \n",
       "3    None  polymerxtal.ipynb  \n",
       "4    None  polymerxtal.ipynb  "
      ]
     },
     "execution_count": 7,
     "metadata": {},
     "output_type": "execute_result"
    }
   ],
   "source": [
    "r.getResultSummary()"
   ]
  },
  {
   "cell_type": "code",
   "execution_count": 8,
   "metadata": {},
   "outputs": [
    {
     "data": {
      "text/html": [
       "<div id=\"molecule_bb35119b-0305-4e08-8918-d010f9d661bb\"></div>\n",
       "           <script type=\"text/javascript\">\n",
       "           require.config({baseUrl: '/',\n",
       "                           paths: {imolecule: ['nbextensions/imolecule.min', 'https://rawgit.com/patrickfuller/imolecule/master/imolecule/js/build/imolecule.min']}});\n",
       "           require(['imolecule'], function () {\n",
       "               var $d = $('#molecule_bb35119b-0305-4e08-8918-d010f9d661bb');\n",
       "               $d.width(1000); $d.height(300);\n",
       "               $d.imolecule = jQuery.extend({}, imolecule);\n",
       "               $d.imolecule.create($d, {drawingType: 'ball and stick',\n",
       "                                        cameraType: 'perspective',\n",
       "                                        shader: 'lambert',\n",
       "                                        showSave: false});\n",
       "               $d.imolecule.addElements({});\n",
       "               $d.imolecule.draw({\"atoms\":[{\"charge\":0.022977512114045025,\"element\":\"H\",\"location\":[0.3871578947368419,-0.6728947368421048,-6.658894736842103]},{\"charge\":-0.06527627911912873,\"element\":\"C\",\"location\":[0.3871578947368419,-0.6728947368421048,-5.568894736842103]},{\"charge\":-0.0559109602061563,\"element\":\"C\",\"location\":[-0.8398421052631582,0.0391052631578952,-4.994894736842103]},{\"charge\":-0.053305879218276994,\"element\":\"C\",\"location\":[-0.8408421052631582,0.0391052631578952,-3.460894736842103]},{\"charge\":0.022977512114045025,\"element\":\"H\",\"location\":[0.3831578947368419,-1.6848947368421048,-5.160894736842103]},{\"charge\":0.022977512114045025,\"element\":\"H\",\"location\":[1.3041578947368417,-0.24789473684210472,-5.160894736842103]},{\"charge\":0.026264641346796454,\"element\":\"H\",\"location\":[-1.7168421052631582,-0.4638947368421047,-5.403894736842103]},{\"charge\":0.026264641346796454,\"element\":\"H\",\"location\":[-0.7888421052631581,1.075105263157895,-5.331894736842103]},{\"charge\":-0.053065378113835784,\"element\":\"C\",\"location\":[0.39015789473684204,0.7451052631578954,-2.885894736842103]},{\"charge\":-0.053057015807534656,\"element\":\"C\",\"location\":[0.3891578947368417,0.7461052631578953,-1.3518947368421026]},{\"charge\":0.026520049006504384,\"element\":\"H\",\"location\":[-1.7148421052631582,0.5481052631578953,-3.052894736842103]},{\"charge\":0.026520049006504384,\"element\":\"H\",\"location\":[-0.9308421052631581,-0.9668947368421048,-3.0518947368421028]},{\"charge\":0.02652834582757616,\"element\":\"H\",\"location\":[0.3921578947368418,1.756105263157895,-3.295894736842103]},{\"charge\":0.02652834582757616,\"element\":\"H\",\"location\":[1.261157894736842,0.18410526315789522,-3.223894736842103]},{\"charge\":-0.05305690552499095,\"element\":\"C\",\"location\":[0.38615789473684203,-0.6728947368421048,-0.7788947368421031]},{\"charge\":-0.05305690552499095,\"element\":\"C\",\"location\":[0.3871578947368419,-0.6728947368421048,0.7571052631578974]},{\"charge\":0.026528452106547227,\"element\":\"H\",\"location\":[1.2681578947368417,1.248105263157895,-0.9438947368421031]},{\"charge\":0.026528452106547227,\"element\":\"H\",\"location\":[-0.43684210526315814,1.3271052631578952,-0.9438947368421031]},{\"charge\":0.02652845253646993,\"element\":\"H\",\"location\":[1.2601578947368417,-1.1808947368421048,-1.187894736842103]},{\"charge\":0.02652845253646993,\"element\":\"H\",\"location\":[-0.5358421052631581,-1.1458947368421049,-1.1148947368421034]},{\"charge\":-0.053057015807534656,\"element\":\"C\",\"location\":[-0.8408421052631582,0.0391052631578952,1.3291052631578975]},{\"charge\":-0.053065378113835784,\"element\":\"C\",\"location\":[-0.8408421052631582,0.0391052631578952,2.865105263157896]},{\"charge\":0.02652845253646993,\"element\":\"H\",\"location\":[0.38215789473684203,-1.6838947368421049,1.1641052631578974]},{\"charge\":0.02652845253646993,\"element\":\"H\",\"location\":[1.3031578947368418,-0.24789473684210472,1.1651052631578969]},{\"charge\":0.026528452106547227,\"element\":\"H\",\"location\":[-1.7168421052631582,-0.4628947368421048,0.9201052631578968]},{\"charge\":0.026528452106547227,\"element\":\"H\",\"location\":[-0.7898421052631581,1.075105263157895,0.9931052631578972]},{\"charge\":-0.053305879218276994,\"element\":\"C\",\"location\":[0.3891578947368417,0.7461052631578953,3.4381052631578966]},{\"charge\":-0.0559109602061563,\"element\":\"C\",\"location\":[0.3891578947368417,0.7461052631578953,4.973105263157897]},{\"charge\":0.02652834582757616,\"element\":\"H\",\"location\":[-1.7148421052631582,0.5481052631578953,3.272105263157896]},{\"charge\":0.02652834582757616,\"element\":\"H\",\"location\":[-0.9308421052631581,-0.9668947368421048,3.2731052631578974]},{\"charge\":0.026520049006504384,\"element\":\"H\",\"location\":[0.3921578947368418,1.756105263157895,3.0291052631578976]},{\"charge\":0.026520049006504384,\"element\":\"H\",\"location\":[1.261157894736842,0.18410526315789522,3.101105263157897]},{\"charge\":-0.06527627911912873,\"element\":\"C\",\"location\":[0.38615789473684203,-0.6728947368421048,5.5471052631578965]},{\"charge\":0.022977512114045025,\"element\":\"H\",\"location\":[0.38615789473684203,-0.6728947368421048,6.636105263157897]},{\"charge\":0.026264641346796454,\"element\":\"H\",\"location\":[1.2671578947368418,1.248105263157895,5.381105263157896]},{\"charge\":0.026264641346796454,\"element\":\"H\",\"location\":[-0.43684210526315814,1.3271052631578952,5.381105263157896]},{\"charge\":0.022977512114045025,\"element\":\"H\",\"location\":[1.2591578947368418,-1.1808947368421048,5.138105263157898]},{\"charge\":0.022977512114045025,\"element\":\"H\",\"location\":[-0.5358421052631581,-1.1468947368421047,5.209105263157897]}],\"bonds\":[{\"atoms\":[0,1],\"order\":1},{\"atoms\":[1,4],\"order\":1},{\"atoms\":[1,5],\"order\":1},{\"atoms\":[1,2],\"order\":1},{\"atoms\":[6,2],\"order\":1},{\"atoms\":[7,2],\"order\":1},{\"atoms\":[2,3],\"order\":1},{\"atoms\":[3,10],\"order\":1},{\"atoms\":[3,11],\"order\":1},{\"atoms\":[3,8],\"order\":1},{\"atoms\":[12,8],\"order\":1},{\"atoms\":[13,8],\"order\":1},{\"atoms\":[8,9],\"order\":1},{\"atoms\":[9,17],\"order\":1},{\"atoms\":[9,16],\"order\":1},{\"atoms\":[9,14],\"order\":1},{\"atoms\":[18,14],\"order\":1},{\"atoms\":[19,14],\"order\":1},{\"atoms\":[14,15],\"order\":1},{\"atoms\":[15,22],\"order\":1},{\"atoms\":[15,23],\"order\":1},{\"atoms\":[15,20],\"order\":1},{\"atoms\":[24,20],\"order\":1},{\"atoms\":[25,20],\"order\":1},{\"atoms\":[20,21],\"order\":1},{\"atoms\":[21,28],\"order\":1},{\"atoms\":[21,29],\"order\":1},{\"atoms\":[21,26],\"order\":1},{\"atoms\":[30,26],\"order\":1},{\"atoms\":[31,26],\"order\":1},{\"atoms\":[26,27],\"order\":1},{\"atoms\":[27,34],\"order\":1},{\"atoms\":[27,35],\"order\":1},{\"atoms\":[27,32],\"order\":1},{\"atoms\":[36,32],\"order\":1},{\"atoms\":[37,32],\"order\":1},{\"atoms\":[32,33],\"order\":1}],\"formula\":\"C12H26\",\"molecular_weight\":170.33483999999996,\"units\":{\"molecular_weight\":\"g / mol\"}});\n",
       "\n",
       "               $d.resizable({\n",
       "                   aspectRatio: 1000 / 300,\n",
       "                   resize: function (evt, ui) {\n",
       "                       $d.imolecule.renderer.setSize(ui.size.width,\n",
       "                                                     ui.size.height);\n",
       "                   }\n",
       "               });\n",
       "           });\n",
       "           </script>"
      ],
      "text/plain": [
       "<IPython.core.display.HTML object>"
      ]
     },
     "metadata": {},
     "output_type": "display_data"
    }
   ],
   "source": [
    "# Let's look at the final structure first\n",
    "pdbFile = r.read('PDBview',raw=True)\n",
    "import imolecule\n",
    "imolecule.draw(pdbFile[7:],size=(1000, 300))\n",
    "#imolecule.draw(r.outdir+\"/\"+r.read('Helix Name')+\".pdb\",size=(1000, 300))#, camera_type=\"orthographic\") "
   ]
  },
  {
   "cell_type": "markdown",
   "metadata": {},
   "source": [
    "## Scripting multiple PolymerXtal builds ##\n",
    "\n",
    "The above cells demonstrated a single build using the simtool library. We will now demonstrate a high-throughput approach to setting up multiple builds, where will demonstrated various polymer types and helices."
   ]
  },
  {
   "cell_type": "code",
   "execution_count": 9,
   "metadata": {},
   "outputs": [
    {
     "name": "stdout",
     "output_type": "stream",
     "text": [
      "Polymer Type:  PP\n",
      "runname   = a48e0a93d77b4d16b2c27c0fe248e2eb\n",
      "outdir    = RUNS/a48e0a93d77b4d16b2c27c0fe248e2eb\n",
      "cached    = False\n",
      "published = False\n",
      "submit --local papermill -f inputs.yaml\n",
      "       /home/nanohub/shen276/polymerxtal/simtool/polymerxtal.ipynb\n",
      "       polymerxtal.ipynb\n"
     ]
    },
    {
     "name": "stderr",
     "output_type": "stream",
     "text": [
      "Input Notebook:  /home/nanohub/shen276/polymerxtal/simtool/polymerxtal.ipynb\n",
      "Output Notebook: polymerxtal.ipynb\n",
      "Executing:  62%|██████▏   | 8/13 [00:05<00:04,  1.22cell/s]1 molecule converted\n",
      "1 molecule converted\n",
      "Executing: 100%|██████████| 13/13 [00:18<00:00,  1.44s/cell]\n"
     ]
    },
    {
     "name": "stdout",
     "output_type": "stream",
     "text": [
      "The following outputs are missing: ['Datafile_warnings']\n",
      "Polymer Type:  PS\n",
      "runname   = 291e8967be4f40968ce3734d2f02a034\n",
      "outdir    = RUNS/291e8967be4f40968ce3734d2f02a034\n",
      "cached    = False\n",
      "published = False\n",
      "submit --local papermill -f inputs.yaml\n",
      "       /home/nanohub/shen276/polymerxtal/simtool/polymerxtal.ipynb\n",
      "       polymerxtal.ipynb\n"
     ]
    },
    {
     "name": "stderr",
     "output_type": "stream",
     "text": [
      "Input Notebook:  /home/nanohub/shen276/polymerxtal/simtool/polymerxtal.ipynb\n",
      "Output Notebook: polymerxtal.ipynb\n",
      "Executing:  62%|██████▏   | 8/13 [00:06<00:04,  1.03cell/s]1 molecule converted\n",
      "1 molecule converted\n",
      "Executing: 100%|██████████| 13/13 [00:44<00:00,  3.45s/cell]\n"
     ]
    },
    {
     "name": "stdout",
     "output_type": "stream",
     "text": [
      "The following outputs are missing: ['X6paircoeffs', 'Datafile_warnings']\n"
     ]
    }
   ],
   "source": [
    "polymer_type_list = ['PP', 'PS']\n",
    "inputs.infinite.value = True\n",
    "inputs.create_lmpdata_file.value = True\n",
    "inputs.create_lmpinput_file.value = True\n",
    "\n",
    "for i,polymer_type in enumerate(polymer_type_list):\n",
    "    print (\"Polymer Type: \", polymer_type)\n",
    "   \n",
    "    inputs.polymer_type.value = polymer_type\n",
    "    if i:\n",
    "        inputs.ffield.value = \"PCFF\"\n",
    "    \n",
    "    # run the SimTool with the input values\n",
    "    r = Run(nb, inputs)\n",
    "    "
   ]
  },
  {
   "cell_type": "code",
   "execution_count": 10,
   "metadata": {},
   "outputs": [
    {
     "data": {
      "text/html": [
       "<div id=\"molecule_2ebee3f0-17cf-4193-a43d-120547261621\"></div>\n",
       "           <script type=\"text/javascript\">\n",
       "           require.config({baseUrl: '/',\n",
       "                           paths: {imolecule: ['nbextensions/imolecule.min', 'https://rawgit.com/patrickfuller/imolecule/master/imolecule/js/build/imolecule.min']}});\n",
       "           require(['imolecule'], function () {\n",
       "               var $d = $('#molecule_2ebee3f0-17cf-4193-a43d-120547261621');\n",
       "               $d.width(1000); $d.height(300);\n",
       "               $d.imolecule = jQuery.extend({}, imolecule);\n",
       "               $d.imolecule.create($d, {drawingType: 'ball and stick',\n",
       "                                        cameraType: 'perspective',\n",
       "                                        shader: 'lambert',\n",
       "                                        showSave: false});\n",
       "               $d.imolecule.addElements({});\n",
       "               $d.imolecule.draw({\"atoms\":[{\"charge\":-0.045641613875987704,\"element\":\"C\",\"location\":[-0.04171874999999847,0.8351145833333335,-7.150666666666667]},{\"charge\":-0.015284016248213565,\"element\":\"C\",\"location\":[-0.04171874999999847,0.8331145833333329,-5.619666666666667]},{\"charge\":-0.039344575287683155,\"element\":\"C\",\"location\":[0.7442812500000011,-0.38088541666666664,-5.108666666666667]},{\"charge\":0.02712494237916344,\"element\":\"H\",\"location\":[-0.5447187499999986,1.6991145833333334,-7.582666666666667]},{\"charge\":0.02712494237916344,\"element\":\"H\",\"location\":[0.9852812500000008,0.8861145833333328,-7.512666666666667]},{\"charge\":0.0348970929123312,\"element\":\"H\",\"location\":[-1.0687187499999986,0.8701145833333328,-5.256666666666667]},{\"charge\":-0.044253062489588886,\"element\":\"C\",\"location\":[0.6052812500000009,2.0951145833333333,-5.045666666666667]},{\"charge\":-0.05830659125002761,\"element\":\"C\",\"location\":[0.6662812500000008,3.264114583333333,-5.815666666666667]},{\"charge\":-0.0583065912500276,\"element\":\"C\",\"location\":[1.0932812500000013,2.0961145833333337,-3.733666666666667]},{\"charge\":-0.061492586737945554,\"element\":\"C\",\"location\":[1.2152812500000012,4.432114583333333,-5.273666666666667]},{\"charge\":0.06203762109486897,\"element\":\"H\",\"location\":[0.2512812500000008,3.275114583333333,-6.823666666666667]},{\"charge\":-0.061492586737945554,\"element\":\"C\",\"location\":[1.6412812500000014,3.264114583333333,-3.190666666666667]},{\"charge\":0.06203762109486897,\"element\":\"H\",\"location\":[1.0452812500000013,1.187114583333333,-3.1336666666666666]},{\"charge\":-0.0617414849269433,\"element\":\"C\",\"location\":[1.704281250000001,4.431114583333334,-3.960666666666667]},{\"charge\":0.061766555669687265,\"element\":\"H\",\"location\":[1.262281250000001,5.341114583333334,-5.872666666666667]},{\"charge\":0.061766555669687265,\"element\":\"H\",\"location\":[2.020281250000001,3.2651145833333333,-2.1686666666666667]},{\"charge\":0.06175835637668205,\"element\":\"H\",\"location\":[2.1312812500000016,5.341114583333334,-3.538666666666667]},{\"charge\":-0.01475504600157922,\"element\":\"C\",\"location\":[0.7432812500000008,-0.3798854166666672,-3.578666666666667]},{\"charge\":-0.03932650489236828,\"element\":\"C\",\"location\":[-0.702718749999999,-0.45388541666666704,-3.0666666666666673]},{\"charge\":0.027686636281323257,\"element\":\"H\",\"location\":[1.7432812500000008,-0.3768854166666671,-5.541666666666667]},{\"charge\":0.027686636281323257,\"element\":\"H\",\"location\":[0.2752812500000008,-1.2958854166666667,-5.470666666666667]},{\"charge\":0.034915016865956494,\"element\":\"H\",\"location\":[1.2882812500000016,0.49111458333333324,-3.214666666666667]},{\"charge\":-0.04423477651735536,\"element\":\"C\",\"location\":[1.512281250000001,-1.571885416666667,-3.0036666666666667]},{\"charge\":-0.05830635603376135,\"element\":\"C\",\"location\":[2.494281250000001,-2.208885416666667,-3.773666666666667]},{\"charge\":-0.058306356033761345,\"element\":\"C\",\"location\":[1.2692812500000015,-1.994885416666667,-1.690666666666667]},{\"charge\":-0.06149258579804686,\"element\":\"C\",\"location\":[3.2302812500000018,-3.2678854166666667,-3.231666666666667]},{\"charge\":0.06203762201598847,\"element\":\"H\",\"location\":[2.7102812500000004,-1.8548854166666668,-4.781666666666666]},{\"charge\":-0.06149258579804686,\"element\":\"C\",\"location\":[2.0062812500000016,-3.0538854166666667,-1.1486666666666672]},{\"charge\":0.06203762201598847,\"element\":\"H\",\"location\":[0.5052812500000012,-1.498885416666667,-1.0916666666666668]},{\"charge\":-0.0617414849269433,\"element\":\"C\",\"location\":[2.986281250000002,-3.6918854166666666,-1.9186666666666667]},{\"charge\":0.061766555669687265,\"element\":\"H\",\"location\":[3.9932812500000017,-3.7638854166666667,-3.830666666666667]},{\"charge\":0.061766555669687265,\"element\":\"H\",\"location\":[1.818281250000001,-3.382885416666667,-0.12666666666666693]},{\"charge\":0.06175835637668205,\"element\":\"H\",\"location\":[3.560281250000002,-4.515885416666666,-1.496666666666667]},{\"charge\":-0.014754809694131099,\"element\":\"C\",\"location\":[-0.7017187499999986,-0.4528854166666667,-1.536666666666667]},{\"charge\":-0.039326503913762335,\"element\":\"C\",\"location\":[-0.04171874999999847,0.8351145833333335,-1.0236666666666672]},{\"charge\":0.02768686409625518,\"element\":\"H\",\"location\":[-1.1987187499999985,-1.3208854166666666,-3.498666666666667]},{\"charge\":0.02768686409625518,\"element\":\"H\",\"location\":[-1.2597187499999984,0.41011458333333284,-3.427666666666667]},{\"charge\":0.034915017796658655,\"element\":\"H\",\"location\":[-0.21871874999999896,-1.3598854166666667,-1.1716666666666669]},{\"charge\":-0.04423477553874942,\"element\":\"C\",\"location\":[-2.1167187499999986,-0.5238854166666669,-0.9616666666666669]},{\"charge\":-0.05830635603376135,\"element\":\"C\",\"location\":[-3.159718749999999,-1.0548854166666666,-1.7316666666666674]},{\"charge\":-0.058306356033761345,\"element\":\"C\",\"location\":[-2.3627187499999986,-0.1008854166666664,0.3503333333333334]},{\"charge\":-0.06149258579804686,\"element\":\"C\",\"location\":[-4.445718749999999,-1.1638854166666666,-1.1896666666666667]},{\"charge\":0.06203762201598847,\"element\":\"H\",\"location\":[-2.961718749999999,-1.418885416666667,-2.7396666666666674]},{\"charge\":-0.06149258579804686,\"element\":\"C\",\"location\":[-3.647718749999999,-0.21088541666666671,0.8933333333333335]},{\"charge\":0.06203762201598847,\"element\":\"H\",\"location\":[-1.5507187499999988,0.3111145833333335,0.9503333333333339]},{\"charge\":-0.0617414849269433,\"element\":\"C\",\"location\":[-4.689718749999999,-0.7398854166666666,0.12233333333333274]},{\"charge\":0.061766555669687265,\"element\":\"H\",\"location\":[-5.256718749999999,-1.5768854166666668,-1.7886666666666668]},{\"charge\":0.061766555669687265,\"element\":\"H\",\"location\":[-3.838718749999999,0.11711458333333358,1.9143333333333326]},{\"charge\":0.06175835637668205,\"element\":\"H\",\"location\":[-5.691718749999999,-0.8248854166666666,0.5443333333333333]},{\"charge\":-0.014754808712181594,\"element\":\"C\",\"location\":[-0.04171874999999847,0.8341145833333332,0.5053333333333327]},{\"charge\":-0.03932626436256212,\"element\":\"C\",\"location\":[0.7442812500000011,-0.381885416666667,1.0183333333333335]},{\"charge\":0.02768686409625518,\"element\":\"H\",\"location\":[-0.5457187499999989,1.698114583333333,-1.456666666666667]},{\"charge\":0.02768686409625518,\"element\":\"H\",\"location\":[0.9852812500000008,0.8861145833333328,-1.3856666666666673]},{\"charge\":0.034915017796658655,\"element\":\"H\",\"location\":[-1.0687187499999986,0.8701145833333328,0.8693333333333326]},{\"charge\":-0.04423477553874942,\"element\":\"C\",\"location\":[0.6042812500000014,2.0961145833333337,1.0793333333333335]},{\"charge\":-0.05830635603376135,\"element\":\"C\",\"location\":[0.6662812500000008,3.264114583333333,0.3113333333333328]},{\"charge\":-0.058306356033761345,\"element\":\"C\",\"location\":[1.0932812500000013,2.0961145833333337,2.3933333333333335]},{\"charge\":-0.06149258579804686,\"element\":\"C\",\"location\":[1.2152812500000012,4.431114583333334,0.8533333333333326]},{\"charge\":0.06203762201598847,\"element\":\"H\",\"location\":[0.2512812500000008,3.2741145833333336,-0.6976666666666667]},{\"charge\":-0.06149258579804686,\"element\":\"C\",\"location\":[1.640281250000001,3.264114583333333,2.9353333333333333]},{\"charge\":0.06203762201598847,\"element\":\"H\",\"location\":[1.0452812500000013,1.187114583333333,2.9923333333333337]},{\"charge\":-0.0617414849269433,\"element\":\"C\",\"location\":[1.7032812500000007,4.432114583333333,2.1653333333333338]},{\"charge\":0.061766555669687265,\"element\":\"H\",\"location\":[1.2632812500000012,5.3401145833333326,0.25333333333333297]},{\"charge\":0.061766555669687265,\"element\":\"H\",\"location\":[2.020281250000001,3.2661145833333336,3.9573333333333336]},{\"charge\":0.06175835637668205,\"element\":\"H\",\"location\":[2.1312812500000016,5.342114583333333,2.586333333333333]},{\"charge\":-0.014736698554931768,\"element\":\"C\",\"location\":[0.7432812500000008,-0.38088541666666664,2.5473333333333334]},{\"charge\":-0.03879011320264148,\"element\":\"C\",\"location\":[-0.7017187499999986,-0.45388541666666704,3.059333333333334]},{\"charge\":0.027686865030137228,\"element\":\"H\",\"location\":[1.7442812500000011,-0.3768854166666671,0.5843333333333334]},{\"charge\":0.027686865030137228,\"element\":\"H\",\"location\":[0.27428125000000136,-1.2968854166666666,0.6563333333333334]},{\"charge\":0.03491524865589348,\"element\":\"H\",\"location\":[1.2882812500000016,0.4901145833333329,2.9123333333333337]},{\"charge\":-0.04423453509354747,\"element\":\"C\",\"location\":[1.512281250000001,-1.571885416666667,3.1213333333333333]},{\"charge\":-0.05830635506438401,\"element\":\"C\",\"location\":[2.4932812500000017,-2.208885416666667,2.3533333333333326]},{\"charge\":-0.058306355064384,\"element\":\"C\",\"location\":[1.2692812500000015,-1.994885416666667,4.434333333333334]},{\"charge\":-0.06149258579804686,\"element\":\"C\",\"location\":[3.2302812500000018,-3.2678854166666667,2.8953333333333324]},{\"charge\":0.06203762201598847,\"element\":\"H\",\"location\":[2.7102812500000004,-1.8558854166666667,1.3453333333333335]},{\"charge\":-0.06149258579804686,\"element\":\"C\",\"location\":[2.0062812500000016,-3.052885416666667,4.977333333333333]},{\"charge\":0.06203762201598847,\"element\":\"H\",\"location\":[0.5052812500000012,-1.498885416666667,5.033333333333332]},{\"charge\":-0.0617414849269433,\"element\":\"C\",\"location\":[2.9852812500000008,-3.6918854166666666,4.206333333333332]},{\"charge\":0.061766555669687265,\"element\":\"H\",\"location\":[3.994281250000001,-3.7638854166666667,2.295333333333333]},{\"charge\":0.061766555669687265,\"element\":\"H\",\"location\":[1.8172812500000015,-3.381885416666667,5.999333333333333]},{\"charge\":0.06175835637668205,\"element\":\"H\",\"location\":[3.560281250000002,-4.516885416666667,4.628333333333333]},{\"charge\":-0.008481057863612801,\"element\":\"C\",\"location\":[-0.7007187499999992,-0.45388541666666704,4.589333333333333]},{\"charge\":0.0277048489680112,\"element\":\"H\",\"location\":[-1.1987187499999985,-1.321885416666667,2.6273333333333335]},{\"charge\":0.0277048489680112,\"element\":\"H\",\"location\":[-1.2597187499999984,0.41011458333333284,2.697333333333334]},{\"charge\":0.035483068605888984,\"element\":\"H\",\"location\":[-0.2197187499999984,-1.3608854166666666,4.953333333333332]},{\"charge\":-0.04368179113068766,\"element\":\"C\",\"location\":[-2.117718749999999,-0.5238854166666669,5.1643333333333326]},{\"charge\":-0.05828800240467291,\"element\":\"C\",\"location\":[-3.159718749999999,-1.0548854166666666,4.394333333333333]},{\"charge\":-0.05828800240467291,\"element\":\"C\",\"location\":[-2.3617187499999988,-0.10188541666666673,6.477333333333333]},{\"charge\":-0.061492352791038866,\"element\":\"C\",\"location\":[-4.444718749999999,-1.1638854166666666,4.936333333333333]},{\"charge\":0.06203785247223468,\"element\":\"H\",\"location\":[-2.961718749999999,-1.418885416666667,3.386333333333334]},{\"charge\":-0.061492352791038866,\"element\":\"C\",\"location\":[-3.647718749999999,-0.21188541666666705,7.019333333333333]},{\"charge\":0.06203785247223468,\"element\":\"H\",\"location\":[-1.5507187499999988,0.312114583333333,7.076333333333333]},{\"charge\":-0.06174148307396156,\"element\":\"C\",\"location\":[-4.6907187499999985,-0.7398854166666666,6.249333333333333]},{\"charge\":0.061766556577666824,\"element\":\"H\",\"location\":[-5.256718749999999,-1.5768854166666668,4.337333333333333]},{\"charge\":0.061766556577666824,\"element\":\"H\",\"location\":[-3.838718749999999,0.11711458333333358,8.041333333333334]},{\"charge\":0.06175835637668205,\"element\":\"H\",\"location\":[-5.6907187499999985,-0.8248854166666666,6.670333333333333]}],\"bonds\":[{\"atoms\":[3,0],\"order\":1},{\"atoms\":[4,0],\"order\":1},{\"atoms\":[0,1],\"order\":1},{\"atoms\":[10,7],\"order\":1},{\"atoms\":[14,9],\"order\":1},{\"atoms\":[7,9],\"order\":2},{\"atoms\":[7,6],\"order\":1},{\"atoms\":[1,5],\"order\":1},{\"atoms\":[1,2],\"order\":1},{\"atoms\":[1,6],\"order\":1},{\"atoms\":[19,2],\"order\":1},{\"atoms\":[20,2],\"order\":1},{\"atoms\":[9,13],\"order\":1},{\"atoms\":[2,17],\"order\":1},{\"atoms\":[6,8],\"order\":2},{\"atoms\":[26,23],\"order\":1},{\"atoms\":[13,16],\"order\":1},{\"atoms\":[13,11],\"order\":2},{\"atoms\":[30,25],\"order\":1},{\"atoms\":[23,25],\"order\":2},{\"atoms\":[23,22],\"order\":1},{\"atoms\":[8,11],\"order\":1},{\"atoms\":[8,12],\"order\":1},{\"atoms\":[17,21],\"order\":1},{\"atoms\":[17,18],\"order\":1},{\"atoms\":[17,22],\"order\":1},{\"atoms\":[35,18],\"order\":1},{\"atoms\":[36,18],\"order\":1},{\"atoms\":[25,29],\"order\":1},{\"atoms\":[11,15],\"order\":1},{\"atoms\":[18,33],\"order\":1},{\"atoms\":[22,24],\"order\":2},{\"atoms\":[42,39],\"order\":1},{\"atoms\":[29,32],\"order\":1},{\"atoms\":[29,27],\"order\":2},{\"atoms\":[46,41],\"order\":1},{\"atoms\":[39,41],\"order\":2},{\"atoms\":[39,38],\"order\":1},{\"atoms\":[24,27],\"order\":1},{\"atoms\":[24,28],\"order\":1},{\"atoms\":[33,37],\"order\":1},{\"atoms\":[33,34],\"order\":1},{\"atoms\":[33,38],\"order\":1},{\"atoms\":[51,34],\"order\":1},{\"atoms\":[52,34],\"order\":1},{\"atoms\":[41,45],\"order\":1},{\"atoms\":[27,31],\"order\":1},{\"atoms\":[34,49],\"order\":1},{\"atoms\":[38,40],\"order\":2},{\"atoms\":[58,55],\"order\":1},{\"atoms\":[45,48],\"order\":1},{\"atoms\":[45,43],\"order\":2},{\"atoms\":[62,57],\"order\":1},{\"atoms\":[55,57],\"order\":2},{\"atoms\":[55,54],\"order\":1},{\"atoms\":[40,43],\"order\":1},{\"atoms\":[40,44],\"order\":1},{\"atoms\":[49,53],\"order\":1},{\"atoms\":[49,50],\"order\":1},{\"atoms\":[49,54],\"order\":1},{\"atoms\":[67,50],\"order\":1},{\"atoms\":[68,50],\"order\":1},{\"atoms\":[57,61],\"order\":1},{\"atoms\":[43,47],\"order\":1},{\"atoms\":[50,65],\"order\":1},{\"atoms\":[54,56],\"order\":2},{\"atoms\":[74,71],\"order\":1},{\"atoms\":[61,64],\"order\":1},{\"atoms\":[61,59],\"order\":2},{\"atoms\":[78,73],\"order\":1},{\"atoms\":[71,73],\"order\":2},{\"atoms\":[71,70],\"order\":1},{\"atoms\":[56,59],\"order\":1},{\"atoms\":[56,60],\"order\":1},{\"atoms\":[65,69],\"order\":1},{\"atoms\":[65,66],\"order\":1},{\"atoms\":[65,70],\"order\":1},{\"atoms\":[82,66],\"order\":1},{\"atoms\":[83,66],\"order\":1},{\"atoms\":[73,77],\"order\":1},{\"atoms\":[59,63],\"order\":1},{\"atoms\":[66,81],\"order\":1},{\"atoms\":[70,72],\"order\":2},{\"atoms\":[89,86],\"order\":1},{\"atoms\":[77,80],\"order\":1},{\"atoms\":[77,75],\"order\":2},{\"atoms\":[93,88],\"order\":1},{\"atoms\":[86,88],\"order\":2},{\"atoms\":[86,85],\"order\":1},{\"atoms\":[72,75],\"order\":1},{\"atoms\":[72,76],\"order\":1},{\"atoms\":[81,84],\"order\":1},{\"atoms\":[81,85],\"order\":1},{\"atoms\":[88,92],\"order\":1},{\"atoms\":[75,79],\"order\":1},{\"atoms\":[85,87],\"order\":2},{\"atoms\":[92,95],\"order\":1},{\"atoms\":[92,90],\"order\":2},{\"atoms\":[87,90],\"order\":1},{\"atoms\":[87,91],\"order\":1},{\"atoms\":[90,94],\"order\":1}],\"formula\":\"C48H48\",\"molecular_weight\":626.9105999999998,\"units\":{\"molecular_weight\":\"g / mol\"}});\n",
       "\n",
       "               $d.resizable({\n",
       "                   aspectRatio: 1000 / 300,\n",
       "                   resize: function (evt, ui) {\n",
       "                       $d.imolecule.renderer.setSize(ui.size.width,\n",
       "                                                     ui.size.height);\n",
       "                   }\n",
       "               });\n",
       "           });\n",
       "           </script>"
      ],
      "text/plain": [
       "<IPython.core.display.HTML object>"
      ]
     },
     "metadata": {},
     "output_type": "display_data"
    }
   ],
   "source": [
    "#visualize final snapshot of structure\n",
    "pdbFile = r.read('PDBview',raw=True)\n",
    "imolecule.draw(pdbFile[7:],size=(1000, 300))\n",
    "#imolecule.draw(r.outdir+\"/\"+r.read('Helix Name')+\".pdb\",size=(1000, 300))#, camera_type=\"orthographic\") "
   ]
  },
  {
   "cell_type": "code",
   "execution_count": null,
   "metadata": {},
   "outputs": [],
   "source": []
  }
 ],
 "metadata": {
  "kernelspec": {
   "display_name": "Python 3",
   "language": "python",
   "name": "python3"
  },
  "language_info": {
   "codemirror_mode": {
    "name": "ipython",
    "version": 3
   },
   "file_extension": ".py",
   "mimetype": "text/x-python",
   "name": "python",
   "nbconvert_exporter": "python",
   "pygments_lexer": "ipython3",
   "version": "3.7.7"
  }
 },
 "nbformat": 4,
 "nbformat_minor": 2
}
