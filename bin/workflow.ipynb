{
 "cells": [
  {
   "cell_type": "markdown",
   "metadata": {},
   "source": [
    "# Workflow notebook for the PolymerXtal SimTool #\n",
    "### Tongtong Shen, Jessica Nash and Alejandro Strachan ###\n",
    "### School of Materials Engineering, Purdue University and The Molecular Sciences Software Institute###\n",
    "\n",
    "The PolymerXtal SimTool is based on PolymerXtal software designed to build and analyze molecular-level polymer crystal structures. PolymerXtal provides a standardized process to generate polymer crystal structure based on monomer, tacticity, helicity, chiriality and unit cell information and analyze the crystallinity in polymer systems with given atom trajectories. These features have allowed PolymerXtal to lead further investigations of semi-crystalline polymers where most properties are governed by the crystalline microstructure and promote future research endeavors in the area of crystalline polymer simulations.\n",
    "\n",
    "In general, users need to specify as inputs the polymer type they wish to run, the helice structure, tacticity and chiriality. The SimTool generates the chain helix structure and a visual snapshot of it.\n",
    "\n",
    "The goal of the workflow notebook is to set up and run the PolymerXtal SimTool, which is demonstrated both for the case a single build, or as a high-throughput study, exploring various polymer types and helicity at once."
   ]
  },
  {
   "cell_type": "markdown",
   "metadata": {},
   "source": [
    "## Set up imports ##\n",
    "\n",
    "We will first import the necessary libraries and packages, including the simtool package which helps locate the SimTool we wish to run and pass it inputs and outputs"
   ]
  },
  {
   "cell_type": "code",
   "execution_count": 1,
   "metadata": {},
   "outputs": [],
   "source": [
    "from hublib.tool import get_inputs, run_simtool, rdisplay, read, get_outputs_df, get_outputs, get_output_files\n",
    "from simtool import findInstalledSimToolNotebooks, searchForSimTool, findSimToolNotebook\n",
    "from simtool import getSimToolInputs, getSimToolOutputs, Run\n",
    "\n",
    "import os"
   ]
  },
  {
   "cell_type": "markdown",
   "metadata": {},
   "source": [
    "## SimTool information ##\n",
    "\n",
    "We will first create a dictionary containing the SimTool information using the \"findSimToolNotebook\" function"
   ]
  },
  {
   "cell_type": "code",
   "execution_count": 2,
   "metadata": {},
   "outputs": [
    {
     "data": {
      "text/plain": [
       "{'notebookPath': '/home/nanohub/shen276/polymerxtal/bin/Chain_Helix.ipynb',\n",
       " 'simToolName': 'Chain_Helix',\n",
       " 'simToolRevision': None,\n",
       " 'published': False}"
      ]
     },
     "execution_count": 2,
     "metadata": {},
     "output_type": "execute_result"
    }
   ],
   "source": [
    "os.environ[\"TOOLDIR\"] = \"/home/nanohub/shen276/polymerxtal/bin\"\n",
    "nb = findSimToolNotebook(os.environ[\"TOOLDIR\"] + \"/\" + 'Chain_Helix.ipynb')\n",
    "nb"
   ]
  },
  {
   "cell_type": "markdown",
   "metadata": {},
   "source": [
    "### SimTool Inputs and Outputs ###\n",
    "We will then create an object for the simtool inputs using the \"getSimToolInputs\" function - this object is validated by the simtool library so only allowed values are passed to the simtool"
   ]
  },
  {
   "cell_type": "code",
   "execution_count": 3,
   "metadata": {},
   "outputs": [
    {
     "name": "stdout",
     "output_type": "stream",
     "text": [
      "polymer_type:\n",
      "    type: Text\n",
      "    description: Select the polymer type.\n",
      "    options: ['PAN', 'PE', 'PP', 'PS', 'POM', 'PTFE', 'PVC']\n",
      "    value: PAN\n",
      "\n",
      "helice_atoms:\n",
      "    type: Integer\n",
      "    description: Number of chain (backbone) atoms of a motif of the helix\n",
      "    min: 2\n",
      "    max: 2\n",
      "    value: 2\n",
      "\n",
      "helice_motifs:\n",
      "    type: Integer\n",
      "    description: Number of motifs of the helix\n",
      "    min: 1\n",
      "    max: 3\n",
      "    value: 3\n",
      "\n",
      "helice_turns:\n",
      "    type: Integer\n",
      "    description: Number of motifs of the helix\n",
      "    min: 1\n",
      "    max: 1\n",
      "    value: 1\n",
      "\n",
      "monomers:\n",
      "    type: Number\n",
      "    description: Number of monomers\n",
      "    min: 1\n",
      "    max: 5000\n",
      "    value: 40\n",
      "\n",
      "tacticity:\n",
      "    type: Text\n",
      "    description: Select the tacticity of the polymer chain.\n",
      "    options: ['isotactic', 'atactic', 'syndiotactic', 'None']\n",
      "    value: isotactic\n",
      "\n",
      "chiriality:\n",
      "    type: Text\n",
      "    description: Select the chiriality of the polymer chain.\n",
      "    options: ['left', 'right', 'None']\n",
      "    value: right\n",
      "\n",
      "head_tail_defect_ratio:\n",
      "    type: Number\n",
      "    description: Ratio of head-to-head and tail-to-tail connections\n",
      "    min: 0\n",
      "    max: 1\n",
      "    value: 0\n",
      "\n",
      "configs:\n",
      "    type: Number\n",
      "    description: Number of attempts to find a configuration\n",
      "    min: 1\n",
      "    max: 5000\n",
      "    value: 30\n",
      "\n"
     ]
    }
   ],
   "source": [
    "# get the list of inputs\n",
    "inputs = getSimToolInputs(nb)\n",
    "print(inputs)"
   ]
  },
  {
   "cell_type": "code",
   "execution_count": 4,
   "metadata": {},
   "outputs": [
    {
     "data": {
      "text/plain": [
       "Helix Name:\n",
       "    type: Text\n",
       "\n",
       "Output PDBfile:\n",
       "    type: Text\n",
       "\n",
       "Output PDB:\n",
       "    type: Text"
      ]
     },
     "execution_count": 4,
     "metadata": {},
     "output_type": "execute_result"
    }
   ],
   "source": [
    "# we can get a list of expected outputs\n",
    "getSimToolOutputs(nb)"
   ]
  },
  {
   "cell_type": "markdown",
   "metadata": {},
   "source": [
    "## Setting SimTool Inputs ##\n",
    "\n",
    "Now we will setup the inputs and run a first simulation. Important aspects on SimTool inputs are:\n",
    " * Inputs are validated"
   ]
  },
  {
   "cell_type": "code",
   "execution_count": 5,
   "metadata": {},
   "outputs": [
    {
     "ename": "ValueError",
     "evalue": "Maximum value is 5000",
     "output_type": "error",
     "traceback": [
      "\u001b[0;31m---------------------------------------------------------------------------\u001b[0m",
      "\u001b[0;31mValueError\u001b[0m                                Traceback (most recent call last)",
      "\u001b[0;32m<ipython-input-5-0a4459da09b4>\u001b[0m in \u001b[0;36m<module>\u001b[0;34m\u001b[0m\n\u001b[1;32m      1\u001b[0m \u001b[0;31m# range checking\u001b[0m\u001b[0;34m\u001b[0m\u001b[0;34m\u001b[0m\u001b[0;34m\u001b[0m\u001b[0m\n\u001b[0;32m----> 2\u001b[0;31m \u001b[0minputs\u001b[0m\u001b[0;34m.\u001b[0m\u001b[0mmonomers\u001b[0m\u001b[0;34m.\u001b[0m\u001b[0mvalue\u001b[0m \u001b[0;34m=\u001b[0m \u001b[0;36m6000\u001b[0m\u001b[0;34m\u001b[0m\u001b[0;34m\u001b[0m\u001b[0m\n\u001b[0m",
      "\u001b[0;32m/apps/share64/debian7/anaconda/anaconda-6/lib/python3.7/site-packages/simtool/params.py\u001b[0m in \u001b[0;36mvalue\u001b[0;34m(self, newval)\u001b[0m\n\u001b[1;32m    491\u001b[0m                     \u001b[0;32mraise\u001b[0m \u001b[0mValueError\u001b[0m\u001b[0;34m(\u001b[0m\u001b[0;34m\"Minimum value is %g\"\u001b[0m \u001b[0;34m%\u001b[0m \u001b[0mself\u001b[0m\u001b[0;34m.\u001b[0m\u001b[0mmin\u001b[0m\u001b[0;34m)\u001b[0m\u001b[0;34m\u001b[0m\u001b[0;34m\u001b[0m\u001b[0m\n\u001b[1;32m    492\u001b[0m                 \u001b[0;32mif\u001b[0m \u001b[0mself\u001b[0m\u001b[0;34m.\u001b[0m\u001b[0mmax\u001b[0m \u001b[0;32mis\u001b[0m \u001b[0;32mnot\u001b[0m \u001b[0;32mNone\u001b[0m \u001b[0;32mand\u001b[0m \u001b[0mnewval\u001b[0m \u001b[0;34m>\u001b[0m \u001b[0mself\u001b[0m\u001b[0;34m.\u001b[0m\u001b[0mmax\u001b[0m\u001b[0;34m:\u001b[0m\u001b[0;34m\u001b[0m\u001b[0;34m\u001b[0m\u001b[0m\n\u001b[0;32m--> 493\u001b[0;31m                     \u001b[0;32mraise\u001b[0m \u001b[0mValueError\u001b[0m\u001b[0;34m(\u001b[0m\u001b[0;34m\"Maximum value is %g\"\u001b[0m \u001b[0;34m%\u001b[0m \u001b[0mself\u001b[0m\u001b[0;34m.\u001b[0m\u001b[0mmax\u001b[0m\u001b[0;34m)\u001b[0m\u001b[0;34m\u001b[0m\u001b[0;34m\u001b[0m\u001b[0m\n\u001b[0m\u001b[1;32m    494\u001b[0m         \u001b[0mself\u001b[0m\u001b[0;34m.\u001b[0m\u001b[0m_value\u001b[0m \u001b[0;34m=\u001b[0m \u001b[0mnewval\u001b[0m\u001b[0;34m\u001b[0m\u001b[0;34m\u001b[0m\u001b[0m\n\u001b[1;32m    495\u001b[0m \u001b[0;34m\u001b[0m\u001b[0m\n",
      "\u001b[0;31mValueError\u001b[0m: Maximum value is 5000"
     ]
    }
   ],
   "source": [
    "# range checking\n",
    "inputs.monomers.value = 6000"
   ]
  },
  {
   "cell_type": "markdown",
   "metadata": {},
   "source": [
    "## Run the SimTool ###"
   ]
  },
  {
   "cell_type": "code",
   "execution_count": 6,
   "metadata": {},
   "outputs": [],
   "source": [
    "inputs.polymer_type.value = 'PE'"
   ]
  },
  {
   "cell_type": "code",
   "execution_count": 7,
   "metadata": {},
   "outputs": [
    {
     "name": "stdout",
     "output_type": "stream",
     "text": [
      "runname   = 5f07a34002fd4c23bfa8347b89ef0eb6\n",
      "outdir    = RUNS/5f07a34002fd4c23bfa8347b89ef0eb6\n",
      "cached    = False\n",
      "published = False\n",
      "submit --local papermill -f inputs.yaml\n",
      "       /home/nanohub/shen276/polymerxtal/bin/Chain_Helix.ipynb Chain_Helix.ipynb\n"
     ]
    },
    {
     "name": "stderr",
     "output_type": "stream",
     "text": [
      "Input Notebook:  /home/nanohub/shen276/polymerxtal/bin/Chain_Helix.ipynb\n",
      "Output Notebook: Chain_Helix.ipynb\n",
      "Executing: 100%|██████████| 12/12 [03:21<00:00, 16.76s/cell]\n"
     ]
    }
   ],
   "source": [
    "r = Run(nb, inputs)"
   ]
  },
  {
   "cell_type": "markdown",
   "metadata": {},
   "source": [
    "## Explore PolymerXtal outputs ##\n",
    "The Run object contains a useful method called \"getResultSummary\", which we can use to view the SimTool outputs at a high level in a pandas dataframe."
   ]
  },
  {
   "cell_type": "code",
   "execution_count": 8,
   "metadata": {},
   "outputs": [
    {
     "data": {
      "text/html": [
       "<div>\n",
       "<style scoped>\n",
       "    .dataframe tbody tr th:only-of-type {\n",
       "        vertical-align: middle;\n",
       "    }\n",
       "\n",
       "    .dataframe tbody tr th {\n",
       "        vertical-align: top;\n",
       "    }\n",
       "\n",
       "    .dataframe thead th {\n",
       "        text-align: right;\n",
       "    }\n",
       "</style>\n",
       "<table border=\"1\" class=\"dataframe\">\n",
       "  <thead>\n",
       "    <tr style=\"text-align: right;\">\n",
       "      <th></th>\n",
       "      <th>name</th>\n",
       "      <th>data</th>\n",
       "      <th>encoder</th>\n",
       "      <th>display</th>\n",
       "      <th>filename</th>\n",
       "    </tr>\n",
       "  </thead>\n",
       "  <tbody>\n",
       "    <tr>\n",
       "      <th>0</th>\n",
       "      <td>simToolSaveErrorOccurred</td>\n",
       "      <td>0</td>\n",
       "      <td>text</td>\n",
       "      <td>None</td>\n",
       "      <td>Chain_Helix.ipynb</td>\n",
       "    </tr>\n",
       "    <tr>\n",
       "      <th>1</th>\n",
       "      <td>simToolAllOutputsSaved</td>\n",
       "      <td>1</td>\n",
       "      <td>text</td>\n",
       "      <td>None</td>\n",
       "      <td>Chain_Helix.ipynb</td>\n",
       "    </tr>\n",
       "    <tr>\n",
       "      <th>2</th>\n",
       "      <td>Helix Name</td>\n",
       "      <td>\"PE_helix_2_3_1_iso+\"</td>\n",
       "      <td>text</td>\n",
       "      <td>None</td>\n",
       "      <td>Chain_Helix.ipynb</td>\n",
       "    </tr>\n",
       "    <tr>\n",
       "      <th>3</th>\n",
       "      <td>Output PDBfile</td>\n",
       "      <td>file://PE_helix_2_3_1_iso+.pdb</td>\n",
       "      <td>text</td>\n",
       "      <td>None</td>\n",
       "      <td>Chain_Helix.ipynb</td>\n",
       "    </tr>\n",
       "    <tr>\n",
       "      <th>4</th>\n",
       "      <td>Output PDB</td>\n",
       "      <td>\"ATOM      1    H UNK A   1      79.470-184.20...</td>\n",
       "      <td>text</td>\n",
       "      <td>None</td>\n",
       "      <td>Chain_Helix.ipynb</td>\n",
       "    </tr>\n",
       "  </tbody>\n",
       "</table>\n",
       "</div>"
      ],
      "text/plain": [
       "                       name  \\\n",
       "0  simToolSaveErrorOccurred   \n",
       "1    simToolAllOutputsSaved   \n",
       "2                Helix Name   \n",
       "3            Output PDBfile   \n",
       "4                Output PDB   \n",
       "\n",
       "                                                data encoder display  \\\n",
       "0                                                  0    text    None   \n",
       "1                                                  1    text    None   \n",
       "2                              \"PE_helix_2_3_1_iso+\"    text    None   \n",
       "3                     file://PE_helix_2_3_1_iso+.pdb    text    None   \n",
       "4  \"ATOM      1    H UNK A   1      79.470-184.20...    text    None   \n",
       "\n",
       "            filename  \n",
       "0  Chain_Helix.ipynb  \n",
       "1  Chain_Helix.ipynb  \n",
       "2  Chain_Helix.ipynb  \n",
       "3  Chain_Helix.ipynb  \n",
       "4  Chain_Helix.ipynb  "
      ]
     },
     "execution_count": 8,
     "metadata": {},
     "output_type": "execute_result"
    }
   ],
   "source": [
    "r.getResultSummary()"
   ]
  },
  {
   "cell_type": "code",
   "execution_count": 9,
   "metadata": {},
   "outputs": [
    {
     "data": {
      "text/html": [
       "<div id=\"molecule_d24da067-5569-463b-8661-cf96b3996862\"></div>\n",
       "           <script type=\"text/javascript\">\n",
       "           require.config({baseUrl: '/',\n",
       "                           paths: {imolecule: ['nbextensions/imolecule.min', 'https://rawgit.com/patrickfuller/imolecule/master/imolecule/js/build/imolecule.min']}});\n",
       "           require(['imolecule'], function () {\n",
       "               var $d = $('#molecule_d24da067-5569-463b-8661-cf96b3996862');\n",
       "               $d.width(1000); $d.height(300);\n",
       "               $d.imolecule = jQuery.extend({}, imolecule);\n",
       "               $d.imolecule.create($d, {drawingType: 'ball and stick',\n",
       "                                        cameraType: 'perspective',\n",
       "                                        shader: 'lambert',\n",
       "                                        showSave: false});\n",
       "               $d.imolecule.addElements({});\n",
       "               $d.imolecule.draw({\"atoms\":[{\"charge\":0.022977512114045025,\"element\":\"H\",\"location\":[0.8075619834711176,-0.08387190082632401,-42.50074793388404]},{\"charge\":-0.06527627911912873,\"element\":\"C\",\"location\":[0.8085619834711224,-0.08387190082632401,-41.411747933884044]},{\"charge\":-0.0559109602061563,\"element\":\"C\",\"location\":[-0.49543801652887964,-0.6438719008262979,-40.83774793388403]},{\"charge\":-0.053305879218276994,\"element\":\"C\",\"location\":[-0.4964380165288844,-0.6438719008262979,-39.30374793388404]},{\"charge\":0.022977512114045025,\"element\":\"H\",\"location\":[1.6165619834711151,-0.6898719008263186,-41.00374793388403]},{\"charge\":0.022977512114045025,\"element\":\"H\",\"location\":[1.012561983471116,0.9051280991736803,-41.00374793388403]},{\"charge\":0.026264641346796454,\"element\":\"H\",\"location\":[-0.6144380165288794,-1.6468719008263122,-41.24674793388402]},{\"charge\":0.026264641346796454,\"element\":\"H\",\"location\":[-1.2964380165288816,0.01412809917368918,-41.17474793388402]},{\"charge\":-0.053065378113835784,\"element\":\"C\",\"location\":[-0.3294380165288828,0.765128099173694,-38.72974793388403]},{\"charge\":-0.053057015807534656,\"element\":\"C\",\"location\":[-0.3294380165288828,0.7661280991736987,-37.194747933884]},{\"charge\":0.026520049006504384,\"element\":\"H\",\"location\":[-1.4254380165288865,-1.0418719008263224,-38.895747933884024]},{\"charge\":0.026520049006504384,\"element\":\"H\",\"location\":[0.25856198347112525,-1.3158719008263233,-38.89474793388405]},{\"charge\":0.02652834582757616,\"element\":\"H\",\"location\":[-1.1384380165288803,1.369128099173679,-39.13874793388402]},{\"charge\":0.02652834582757616,\"element\":\"H\",\"location\":[0.640561983471116,1.1291280991736983,-39.06674793388402]},{\"charge\":-0.05305690552499095,\"element\":\"C\",\"location\":[0.8075619834711176,-0.08387190082632401,-36.62174793388402]},{\"charge\":-0.05305690507293987,\"element\":\"C\",\"location\":[0.8075619834711176,-0.08387190082632401,-35.086747933884055]},{\"charge\":0.026528452106547227,\"element\":\"H\",\"location\":[-0.20843801652888772,1.7691280991736846,-36.78774793388402]},{\"charge\":0.026528452106547227,\"element\":\"H\",\"location\":[-1.288438016528886,0.4481280991736867,-36.786747933884044]},{\"charge\":0.02652845253646993,\"element\":\"H\",\"location\":[1.735561983471115,0.3151280991736769,-37.02974793388404]},{\"charge\":0.02652845253646993,\"element\":\"H\",\"location\":[0.6375619834711159,-1.1068719008263201,-36.957747933884036]},{\"charge\":-0.05305690507293987,\"element\":\"C\",\"location\":[-0.49543801652887964,-0.6438719008262979,-34.51274793388404]},{\"charge\":-0.05305690507293987,\"element\":\"C\",\"location\":[-0.4964380165288844,-0.6448719008263026,-32.97774793388402]},{\"charge\":0.02652845253646993,\"element\":\"H\",\"location\":[1.61756198347112,-0.6898719008263186,-34.67874793388404]},{\"charge\":0.02652845253646993,\"element\":\"H\",\"location\":[1.0135619834711207,0.9051280991736803,-34.67874793388404]},{\"charge\":0.02652845253646993,\"element\":\"H\",\"location\":[-0.6144380165288794,-1.6468719008263122,-34.921747933884035]},{\"charge\":0.02652845253646993,\"element\":\"H\",\"location\":[-1.2964380165288816,0.01412809917368918,-34.85074793388401]},{\"charge\":-0.05305690507293987,\"element\":\"C\",\"location\":[-0.3294380165288828,0.765128099173694,-32.40474793388404]},{\"charge\":-0.05305690507293987,\"element\":\"C\",\"location\":[-0.3294380165288828,0.765128099173694,-30.869747933884014]},{\"charge\":0.02652845253646993,\"element\":\"H\",\"location\":[-1.4254380165288865,-1.0428719008262988,-32.570747933884036]},{\"charge\":0.02652845253646993,\"element\":\"H\",\"location\":[0.25756198347112047,-1.3168719008262997,-32.569747933884]},{\"charge\":0.02652845253646993,\"element\":\"H\",\"location\":[-1.139438016528885,1.369128099173679,-32.81374793388403]},{\"charge\":0.02652845253646993,\"element\":\"H\",\"location\":[0.6415619834711208,1.1291280991736983,-32.74174793388403]},{\"charge\":-0.05305690507293987,\"element\":\"C\",\"location\":[0.8075619834711176,-0.08387190082632401,-30.295747933884]},{\"charge\":-0.05305690507293987,\"element\":\"C\",\"location\":[0.8075619834711176,-0.08487190082630036,-28.76174793388401]},{\"charge\":0.02652845253646993,\"element\":\"H\",\"location\":[-0.20843801652888772,1.7691280991736846,-30.46274793388403]},{\"charge\":0.02652845253646993,\"element\":\"H\",\"location\":[-1.2894380165288766,0.4481280991736867,-30.461747933884055]},{\"charge\":0.02652845253646993,\"element\":\"H\",\"location\":[1.7365619834711197,0.3151280991736769,-30.705747933884027]},{\"charge\":0.02652845253646993,\"element\":\"H\",\"location\":[0.6385619834711207,-1.1058719008263154,-30.632747933884048]},{\"charge\":-0.05305690507293987,\"element\":\"C\",\"location\":[-0.4964380165288844,-0.6438719008262979,-28.187747933884054]},{\"charge\":-0.05305690507293987,\"element\":\"C\",\"location\":[-0.49543801652887964,-0.6448719008263026,-26.65274793388403]},{\"charge\":0.02652845253646993,\"element\":\"H\",\"location\":[1.61756198347112,-0.6898719008263186,-28.35374793388405]},{\"charge\":0.02652845253646993,\"element\":\"H\",\"location\":[1.0135619834711207,0.9051280991736803,-28.35374793388405]},{\"charge\":0.02652845253646993,\"element\":\"H\",\"location\":[-0.6144380165288794,-1.6468719008263122,-28.596747933884046]},{\"charge\":0.02652845253646993,\"element\":\"H\",\"location\":[-1.2964380165288816,0.01412809917368918,-28.524747933884044]},{\"charge\":-0.05305690507293987,\"element\":\"C\",\"location\":[-0.3294380165288828,0.765128099173694,-26.07974793388405]},{\"charge\":-0.05305690507293987,\"element\":\"C\",\"location\":[-0.32843801652887805,0.765128099173694,-24.54374793388405]},{\"charge\":0.02652845253646993,\"element\":\"H\",\"location\":[-1.426438016528877,-1.0418719008263224,-26.245747933884047]},{\"charge\":0.02652845253646993,\"element\":\"H\",\"location\":[0.25856198347112525,-1.3168719008262997,-26.244747933884014]},{\"charge\":0.02652845253646993,\"element\":\"H\",\"location\":[-1.1384380165288803,1.369128099173679,-26.488747933884042]},{\"charge\":0.02652845253646993,\"element\":\"H\",\"location\":[0.6415619834711208,1.1291280991736983,-26.415747933884006]},{\"charge\":-0.05305690507293987,\"element\":\"C\",\"location\":[0.8075619834711176,-0.08387190082632401,-23.970747933884013]},{\"charge\":-0.05305690507293987,\"element\":\"C\",\"location\":[0.8085619834711224,-0.08387190082632401,-22.43674793388402]},{\"charge\":0.02652845253646993,\"element\":\"H\",\"location\":[-0.20943801652887828,1.7691280991736846,-24.13674793388401]},{\"charge\":0.02652845253646993,\"element\":\"H\",\"location\":[-1.288438016528886,0.4481280991736867,-24.13674793388401]},{\"charge\":0.02652845253646993,\"element\":\"H\",\"location\":[1.735561983471115,0.3151280991736769,-24.379747933884005]},{\"charge\":0.02652845253646993,\"element\":\"H\",\"location\":[0.6375619834711159,-1.1068719008263201,-24.307747933884002]},{\"charge\":-0.05305690507293987,\"element\":\"C\",\"location\":[-0.49543801652887964,-0.6438719008262979,-21.86274793388401]},{\"charge\":-0.05305690507293987,\"element\":\"C\",\"location\":[-0.4964380165288844,-0.6438719008262979,-20.32774793388404]},{\"charge\":0.02652845253646993,\"element\":\"H\",\"location\":[1.61756198347112,-0.6898719008263186,-22.028747933884006]},{\"charge\":0.02652845253646993,\"element\":\"H\",\"location\":[1.012561983471116,0.9051280991736803,-22.028747933884006]},{\"charge\":0.02652845253646993,\"element\":\"H\",\"location\":[-0.6144380165288794,-1.6468719008263122,-22.271747933884]},{\"charge\":0.02652845253646993,\"element\":\"H\",\"location\":[-1.2964380165288816,0.01412809917368918,-22.199747933884055]},{\"charge\":-0.05305690507293987,\"element\":\"C\",\"location\":[-0.3294380165288828,0.765128099173694,-19.754747933884005]},{\"charge\":-0.05305690507293987,\"element\":\"C\",\"location\":[-0.3294380165288828,0.765128099173694,-18.218747933884003]},{\"charge\":0.02652845253646993,\"element\":\"H\",\"location\":[-1.4254380165288865,-1.0418719008263224,-19.920747933884]},{\"charge\":0.02652845253646993,\"element\":\"H\",\"location\":[0.25856198347112525,-1.3158719008263233,-19.919747933884025]},{\"charge\":0.02652845253646993,\"element\":\"H\",\"location\":[-1.1384380165288803,1.369128099173679,-20.163747933884054]},{\"charge\":0.02652845253646993,\"element\":\"H\",\"location\":[0.640561983471116,1.1291280991736983,-20.09174793388405]},{\"charge\":-0.05305690507293987,\"element\":\"C\",\"location\":[0.8085619834711224,-0.08387190082632401,-17.645747933884024]},{\"charge\":-0.05305690507293987,\"element\":\"C\",\"location\":[0.8075619834711176,-0.08387190082632401,-16.110747933884]},{\"charge\":0.02652845253646993,\"element\":\"H\",\"location\":[-0.20943801652887828,1.7691280991736846,-17.81174793388402]},{\"charge\":0.02652845253646993,\"element\":\"H\",\"location\":[-1.288438016528886,0.4481280991736867,-17.81174793388402]},{\"charge\":0.02652845253646993,\"element\":\"H\",\"location\":[1.735561983471115,0.3151280991736769,-18.054747933884016]},{\"charge\":0.02652845253646993,\"element\":\"H\",\"location\":[0.6375619834711159,-1.1068719008263201,-17.982747933884013]},{\"charge\":-0.05305690507293987,\"element\":\"C\",\"location\":[-0.49543801652887964,-0.6438719008262979,-15.53774793388402]},{\"charge\":-0.05305690507293987,\"element\":\"C\",\"location\":[-0.4964380165288844,-0.6448719008263026,-14.002747933884052]},{\"charge\":0.02652845253646993,\"element\":\"H\",\"location\":[1.61756198347112,-0.6908719008263233,-15.70274793388404]},{\"charge\":0.02652845253646993,\"element\":\"H\",\"location\":[1.012561983471116,0.9051280991736803,-15.70274793388404]},{\"charge\":0.02652845253646993,\"element\":\"H\",\"location\":[-0.6144380165288794,-1.6468719008263122,-15.946747933884012]},{\"charge\":0.02652845253646993,\"element\":\"H\",\"location\":[-1.2964380165288816,0.01412809917368918,-15.87474793388401]},{\"charge\":-0.05305690507293987,\"element\":\"C\",\"location\":[-0.3294380165288828,0.7641280991736892,-13.42874793388404]},{\"charge\":-0.05305690507293987,\"element\":\"C\",\"location\":[-0.3294380165288828,0.765128099173694,-11.894747933884048]},{\"charge\":0.02652845253646993,\"element\":\"H\",\"location\":[-1.4254380165288865,-1.0418719008263224,-13.595747933884013]},{\"charge\":0.02652845253646993,\"element\":\"H\",\"location\":[0.25756198347112047,-1.3168719008262997,-13.594747933884037]},{\"charge\":0.02652845253646993,\"element\":\"H\",\"location\":[-1.1384380165288803,1.369128099173679,-13.838747933884008]},{\"charge\":0.02652845253646993,\"element\":\"H\",\"location\":[0.6415619834711208,1.1291280991736983,-13.766747933884005]},{\"charge\":-0.05305690507293987,\"element\":\"C\",\"location\":[0.8075619834711176,-0.08387190082632401,-11.320747933884036]},{\"charge\":-0.05305690507293987,\"element\":\"C\",\"location\":[0.8075619834711176,-0.08387190082632401,-9.78574793388401]},{\"charge\":0.02652845253646993,\"element\":\"H\",\"location\":[-0.20843801652888772,1.7691280991736846,-11.487747933884009]},{\"charge\":0.02652845253646993,\"element\":\"H\",\"location\":[-1.2894380165288766,0.4481280991736867,-11.486747933884033]},{\"charge\":0.02652845253646993,\"element\":\"H\",\"location\":[1.7365619834711197,0.3151280991736769,-11.729747933884028]},{\"charge\":0.02652845253646993,\"element\":\"H\",\"location\":[0.6385619834711207,-1.1058719008263154,-11.657747933884025]},{\"charge\":-0.05305690507293987,\"element\":\"C\",\"location\":[-0.4964380165288844,-0.6438719008262979,-9.212747933884032]},{\"charge\":-0.05305690507293987,\"element\":\"C\",\"location\":[-0.49543801652887964,-0.6448719008263026,-7.677747933884007]},{\"charge\":0.02652845253646993,\"element\":\"H\",\"location\":[1.61756198347112,-0.6898719008263186,-9.378747933884028]},{\"charge\":0.02652845253646993,\"element\":\"H\",\"location\":[1.0135619834711207,0.9051280991736803,-9.378747933884028]},{\"charge\":0.02652845253646993,\"element\":\"H\",\"location\":[-0.6144380165288794,-1.6468719008263122,-9.621747933884023]},{\"charge\":0.02652845253646993,\"element\":\"H\",\"location\":[-1.2964380165288816,0.01412809917368918,-9.54974793388402]},{\"charge\":-0.05305690507293987,\"element\":\"C\",\"location\":[-0.3294380165288828,0.765128099173694,-7.104747933884028]},{\"charge\":-0.05305690507293987,\"element\":\"C\",\"location\":[-0.3294380165288828,0.765128099173694,-5.568747933884026]},{\"charge\":0.02652845253646993,\"element\":\"H\",\"location\":[-1.4254380165288865,-1.0428719008262988,-7.269747933884048]},{\"charge\":0.02652845253646993,\"element\":\"H\",\"location\":[0.25756198347112047,-1.3168719008262997,-7.269747933884048]},{\"charge\":0.02652845253646993,\"element\":\"H\",\"location\":[-1.1384380165288803,1.369128099173679,-7.513747933884019]},{\"charge\":0.02652845253646993,\"element\":\"H\",\"location\":[0.6415619834711208,1.1291280991736983,-7.44074793388404]},{\"charge\":-0.05305690507293987,\"element\":\"C\",\"location\":[0.8075619834711176,-0.08387190082632401,-4.995747933884047]},{\"charge\":-0.05305690507293987,\"element\":\"C\",\"location\":[0.8085619834711224,-0.08387190082632401,-3.459747933884046]},{\"charge\":0.02652845253646993,\"element\":\"H\",\"location\":[-0.20943801652887828,1.7691280991736846,-5.161747933884044]},{\"charge\":0.02652845253646993,\"element\":\"H\",\"location\":[-1.288438016528886,0.4481280991736867,-5.161747933884044]},{\"charge\":0.02652845253646993,\"element\":\"H\",\"location\":[1.735561983471115,0.3151280991736769,-5.404747933884039]},{\"charge\":0.02652845253646993,\"element\":\"H\",\"location\":[0.6375619834711159,-1.1058719008263154,-5.332747933884036]},{\"charge\":-0.05305690507293987,\"element\":\"C\",\"location\":[-0.49543801652887964,-0.6448719008263026,-2.88674793388401]},{\"charge\":-0.05305690507293987,\"element\":\"C\",\"location\":[-0.49543801652887964,-0.6448719008263026,-1.3517479338840417]},{\"charge\":0.02652845253646993,\"element\":\"H\",\"location\":[1.61756198347112,-0.6898719008263186,-3.05374793388404]},{\"charge\":0.02652845253646993,\"element\":\"H\",\"location\":[1.012561983471116,0.9061280991736851,-3.0527479338840067]},{\"charge\":0.02652845253646993,\"element\":\"H\",\"location\":[-0.6144380165288794,-1.647871900826317,-3.2957479338840017]},{\"charge\":0.02652845253646993,\"element\":\"H\",\"location\":[-1.2964380165288816,0.01412809917368918,-3.224747933884032]},{\"charge\":-0.05305690507293987,\"element\":\"C\",\"location\":[-0.3294380165288828,0.765128099173694,-0.7787479338840058]},{\"charge\":-0.05305690507293987,\"element\":\"C\",\"location\":[-0.3294380165288828,0.765128099173694,0.7562520661159624]},{\"charge\":0.02652845253646993,\"element\":\"H\",\"location\":[-1.4254380165288865,-1.0418719008263224,-0.9457479338840358]},{\"charge\":0.02652845253646993,\"element\":\"H\",\"location\":[0.25856198347112525,-1.3168719008262997,-0.9437479338840262]},{\"charge\":0.02652845253646993,\"element\":\"H\",\"location\":[-1.1384380165288803,1.369128099173679,-1.1877479338840544]},{\"charge\":0.02652845253646993,\"element\":\"H\",\"location\":[0.640561983471116,1.1281280991736935,-1.1157479338840517]},{\"charge\":-0.05305690507293987,\"element\":\"C\",\"location\":[0.8085619834711224,-0.08387190082632401,1.3292520661159983]},{\"charge\":-0.05305690507293987,\"element\":\"C\",\"location\":[0.8085619834711224,-0.08387190082632401,2.8642520661159665]},{\"charge\":0.02652845253646993,\"element\":\"H\",\"location\":[-0.20943801652887828,1.7691280991736846,1.1642520661159779]},{\"charge\":0.02652845253646993,\"element\":\"H\",\"location\":[-1.288438016528886,0.4481280991736867,1.1642520661159779]},{\"charge\":0.02652845253646993,\"element\":\"H\",\"location\":[1.735561983471115,0.3151280991736769,0.9202520661159497]},{\"charge\":0.02652845253646993,\"element\":\"H\",\"location\":[0.6375619834711159,-1.1068719008263201,0.9922520661159524]},{\"charge\":-0.05305690507293987,\"element\":\"C\",\"location\":[-0.49543801652887964,-0.6438719008262979,3.4372520661159456]},{\"charge\":-0.05305690507293987,\"element\":\"C\",\"location\":[-0.4964380165288844,-0.6448719008263026,4.972252066115971]},{\"charge\":0.02652845253646993,\"element\":\"H\",\"location\":[1.6165619834711151,-0.6908719008263233,3.272252066115982]},{\"charge\":0.02652845253646993,\"element\":\"H\",\"location\":[1.012561983471116,0.9051280991736803,3.272252066115982]},{\"charge\":0.02652845253646993,\"element\":\"H\",\"location\":[-0.6144380165288794,-1.6468719008263122,3.0282520661159538]},{\"charge\":0.02652845253646993,\"element\":\"H\",\"location\":[-1.2964380165288816,0.01412809917368918,3.1012520661159897]},{\"charge\":-0.05305690507293987,\"element\":\"C\",\"location\":[-0.32843801652887805,0.7641280991736892,5.546252066115983]},{\"charge\":-0.05305690507293987,\"element\":\"C\",\"location\":[-0.3294380165288828,0.765128099173694,7.081252066115951]},{\"charge\":0.02652845253646993,\"element\":\"H\",\"location\":[-1.4254380165288865,-1.0418719008263224,5.380252066115986]},{\"charge\":0.02652845253646993,\"element\":\"H\",\"location\":[0.25856198347112525,-1.3168719008262997,5.380252066115986]},{\"charge\":0.02652845253646993,\"element\":\"H\",\"location\":[-1.1384380165288803,1.369128099173679,5.136252066115958]},{\"charge\":0.02652845253646993,\"element\":\"H\",\"location\":[0.6415619834711208,1.1301280991736746,5.209252066115994]},{\"charge\":-0.05305690507293987,\"element\":\"C\",\"location\":[0.8075619834711176,-0.08387190082632401,7.654252066115987]},{\"charge\":-0.05305690507293987,\"element\":\"C\",\"location\":[0.8075619834711176,-0.08387190082632401,9.189252066115955]},{\"charge\":0.02652845253646993,\"element\":\"H\",\"location\":[-0.20843801652888772,1.7691280991736846,7.4892520661159665]},{\"charge\":0.02652845253646993,\"element\":\"H\",\"location\":[-1.2894380165288766,0.4481280991736867,7.48825206611599]},{\"charge\":0.02652845253646993,\"element\":\"H\",\"location\":[1.7365619834711197,0.3151280991736769,7.2462520661159715]},{\"charge\":0.02652845253646993,\"element\":\"H\",\"location\":[0.6385619834711207,-1.1068719008263201,7.318252066115974]},{\"charge\":-0.05305690507293987,\"element\":\"C\",\"location\":[-0.4964380165288844,-0.6438719008262979,9.763252066115967]},{\"charge\":-0.05305690507293987,\"element\":\"C\",\"location\":[-0.49543801652887964,-0.6448719008263026,11.29725206611596]},{\"charge\":0.02652845253646993,\"element\":\"H\",\"location\":[1.61756198347112,-0.6908719008263233,9.59725206611597]},{\"charge\":0.02652845253646993,\"element\":\"H\",\"location\":[1.0135619834711207,0.9051280991736803,9.598252066115947]},{\"charge\":0.02652845253646993,\"element\":\"H\",\"location\":[-0.6144380165288794,-1.6468719008263122,9.354252066115976]},{\"charge\":0.02652845253646993,\"element\":\"H\",\"location\":[-1.2964380165288816,0.01412809917368918,9.426252066115978]},{\"charge\":-0.05305690507293987,\"element\":\"C\",\"location\":[-0.3294380165288828,0.7641280991736892,11.871252066115972]},{\"charge\":-0.05305690507293987,\"element\":\"C\",\"location\":[-0.3294380165288828,0.765128099173694,13.406252066115997]},{\"charge\":0.02652845253646993,\"element\":\"H\",\"location\":[-1.4254380165288865,-1.0428719008262988,11.705252066115975]},{\"charge\":0.02652845253646993,\"element\":\"H\",\"location\":[0.25756198347112047,-1.3168719008262997,11.706252066115951]},{\"charge\":0.02652845253646993,\"element\":\"H\",\"location\":[-1.1384380165288803,1.369128099173679,11.461252066115946]},{\"charge\":0.02652845253646993,\"element\":\"H\",\"location\":[0.6415619834711208,1.1291280991736983,11.535252066115959]},{\"charge\":-0.05305690507293987,\"element\":\"C\",\"location\":[0.8075619834711176,-0.08387190082632401,13.979252066115976]},{\"charge\":-0.05305690507293987,\"element\":\"C\",\"location\":[0.8085619834711224,-0.08387190082632401,15.515252066115977]},{\"charge\":0.02652845253646993,\"element\":\"H\",\"location\":[-0.20843801652888772,1.7701280991736894,13.814252066115955]},{\"charge\":0.02652845253646993,\"element\":\"H\",\"location\":[-1.288438016528886,0.4481280991736867,13.814252066115955]},{\"charge\":0.02652845253646993,\"element\":\"H\",\"location\":[1.7365619834711197,0.3151280991736769,13.570252066115984]},{\"charge\":0.02652845253646993,\"element\":\"H\",\"location\":[0.6385619834711207,-1.1058719008263154,13.642252066115987]},{\"charge\":-0.05305690507293987,\"element\":\"C\",\"location\":[-0.49543801652887964,-0.6448719008263026,16.088252066115956]},{\"charge\":-0.05305690507293987,\"element\":\"C\",\"location\":[-0.49543801652887964,-0.6438719008262979,17.62325206611598]},{\"charge\":0.02652845253646993,\"element\":\"H\",\"location\":[1.61756198347112,-0.6898719008263186,15.92225206611596]},{\"charge\":0.02652845253646993,\"element\":\"H\",\"location\":[1.0135619834711207,0.9061280991736851,15.92225206611596]},{\"charge\":0.02652845253646993,\"element\":\"H\",\"location\":[-0.6144380165288794,-1.647871900826317,15.679252066115964]},{\"charge\":0.02652845253646993,\"element\":\"H\",\"location\":[-1.2964380165288816,0.015128099173693954,15.751252066115967]},{\"charge\":-0.05305690507293987,\"element\":\"C\",\"location\":[-0.3294380165288828,0.765128099173694,18.19625206611596]},{\"charge\":-0.05305690507293987,\"element\":\"C\",\"location\":[-0.3294380165288828,0.765128099173694,19.731252066115985]},{\"charge\":0.02652845253646993,\"element\":\"H\",\"location\":[-1.426438016528877,-1.0418719008263224,18.031252066115997]},{\"charge\":0.02652845253646993,\"element\":\"H\",\"location\":[0.25856198347112525,-1.3168719008262997,18.031252066115997]},{\"charge\":0.02652845253646993,\"element\":\"H\",\"location\":[-1.1384380165288803,1.369128099173679,17.78725206611597]},{\"charge\":0.02652845253646993,\"element\":\"H\",\"location\":[0.640561983471116,1.1291280991736983,17.860252066115947]},{\"charge\":-0.05305690507293987,\"element\":\"C\",\"location\":[0.8075619834711176,-0.08387190082632401,20.305252066115997]},{\"charge\":-0.05305690507293987,\"element\":\"C\",\"location\":[0.8085619834711224,-0.08387190082632401,21.840252066115966]},{\"charge\":0.02652845253646993,\"element\":\"H\",\"location\":[-0.20943801652887828,1.7691280991736846,20.139252066116]},{\"charge\":0.02652845253646993,\"element\":\"H\",\"location\":[-1.288438016528886,0.4481280991736867,20.139252066116]},{\"charge\":0.02652845253646993,\"element\":\"H\",\"location\":[1.735561983471115,0.3151280991736769,19.895252066115972]},{\"charge\":0.02652845253646993,\"element\":\"H\",\"location\":[0.6375619834711159,-1.1068719008263201,19.967252066115975]},{\"charge\":-0.05305690507293987,\"element\":\"C\",\"location\":[-0.49543801652887964,-0.6438719008262979,22.41225206611597]},{\"charge\":-0.05305690507293987,\"element\":\"C\",\"location\":[-0.4964380165288844,-0.6438719008262979,23.949252066115946]},{\"charge\":0.02652845253646993,\"element\":\"H\",\"location\":[1.6165619834711151,-0.6898719008263186,22.247252066115948]},{\"charge\":0.02652845253646993,\"element\":\"H\",\"location\":[1.012561983471116,0.9051280991736803,22.24825206611598]},{\"charge\":0.02652845253646993,\"element\":\"H\",\"location\":[-0.6154380165288842,-1.647871900826317,22.004252066115953]},{\"charge\":0.02652845253646993,\"element\":\"H\",\"location\":[-1.2964380165288816,0.01412809917368918,22.076252066115956]},{\"charge\":-0.05305690507293987,\"element\":\"C\",\"location\":[-0.32843801652887805,0.7641280991736892,24.52125206611595]},{\"charge\":-0.05305690507293987,\"element\":\"C\",\"location\":[-0.3294380165288828,0.765128099173694,26.056252066115974]},{\"charge\":0.02652845253646993,\"element\":\"H\",\"location\":[-1.4254380165288865,-1.0418719008263224,24.355252066115952]},{\"charge\":0.02652845253646993,\"element\":\"H\",\"location\":[0.25856198347112525,-1.3168719008262997,24.355252066115952]},{\"charge\":0.02652845253646993,\"element\":\"H\",\"location\":[-1.1384380165288803,1.369128099173679,24.11325206611599]},{\"charge\":0.02652845253646993,\"element\":\"H\",\"location\":[0.640561983471116,1.1291280991736983,24.185252066115993]},{\"charge\":-0.05305690507293987,\"element\":\"C\",\"location\":[0.8075619834711176,-0.08387190082632401,26.629252066115953]},{\"charge\":-0.05305690507293987,\"element\":\"C\",\"location\":[0.8075619834711176,-0.08387190082632401,28.165252066115954]},{\"charge\":0.02652845253646993,\"element\":\"H\",\"location\":[-0.20843801652888772,1.7691280991736846,26.46425206611599]},{\"charge\":0.02652845253646993,\"element\":\"H\",\"location\":[-1.288438016528886,0.4471280991736819,26.46425206611599]},{\"charge\":0.02652845253646993,\"element\":\"H\",\"location\":[1.735561983471115,0.3151280991736769,26.221252066115994]},{\"charge\":0.02652845253646993,\"element\":\"H\",\"location\":[0.6385619834711207,-1.1068719008263201,26.293252066115997]},{\"charge\":-0.05305690507293987,\"element\":\"C\",\"location\":[-0.49543801652887964,-0.6438719008262979,28.73825206611599]},{\"charge\":-0.05305690507293987,\"element\":\"C\",\"location\":[-0.49543801652887964,-0.6438719008262979,30.27325206611596]},{\"charge\":0.02652845253646993,\"element\":\"H\",\"location\":[1.61756198347112,-0.6908719008263233,28.572252066115993]},{\"charge\":0.02652845253646993,\"element\":\"H\",\"location\":[1.0135619834711207,0.9051280991736803,28.57325206611597]},{\"charge\":0.02652845253646993,\"element\":\"H\",\"location\":[-0.6144380165288794,-1.6468719008263122,28.329252066116]},{\"charge\":0.02652845253646993,\"element\":\"H\",\"location\":[-1.2964380165288816,0.01412809917368918,28.402252066115977]},{\"charge\":-0.05305690507293987,\"element\":\"C\",\"location\":[-0.3294380165288828,0.7641280991736892,30.846252066115994]},{\"charge\":-0.05305690507293987,\"element\":\"C\",\"location\":[-0.3294380165288828,0.765128099173694,32.382252066115996]},{\"charge\":0.02652845253646993,\"element\":\"H\",\"location\":[-1.4254380165288865,-1.0418719008263224,30.681252066115974]},{\"charge\":0.02652845253646993,\"element\":\"H\",\"location\":[0.25756198347112047,-1.3168719008262997,30.681252066115974]},{\"charge\":0.02652845253646993,\"element\":\"H\",\"location\":[-1.1384380165288803,1.3701280991736837,30.437252066115946]},{\"charge\":0.02652845253646993,\"element\":\"H\",\"location\":[0.6415619834711208,1.1291280991736983,30.51025206611598]},{\"charge\":-0.05305690507293987,\"element\":\"C\",\"location\":[0.8075619834711176,-0.08387190082632401,32.954252066116]},{\"charge\":-0.05305690507293987,\"element\":\"C\",\"location\":[0.8075619834711176,-0.08387190082632401,34.490252066116]},{\"charge\":0.02652845253646993,\"element\":\"H\",\"location\":[-0.20843801652888772,1.7691280991736846,32.78925206611598]},{\"charge\":0.02652845253646993,\"element\":\"H\",\"location\":[-1.288438016528886,0.4481280991736867,32.78925206611598]},{\"charge\":0.02652845253646993,\"element\":\"H\",\"location\":[1.7365619834711197,0.31412809917370055,32.54625206611598]},{\"charge\":0.02652845253646993,\"element\":\"H\",\"location\":[0.6385619834711207,-1.1068719008263201,32.618252066115986]},{\"charge\":-0.05305690507293987,\"element\":\"C\",\"location\":[-0.49543801652887964,-0.6448719008263026,35.06325206611598]},{\"charge\":-0.05305690552499095,\"element\":\"C\",\"location\":[-0.49543801652887964,-0.6438719008262979,36.59825206611595]},{\"charge\":0.02652845253646993,\"element\":\"H\",\"location\":[1.61756198347112,-0.6898719008263186,34.89725206611598]},{\"charge\":0.02652845253646993,\"element\":\"H\",\"location\":[1.0135619834711207,0.9061280991736851,34.89725206611598]},{\"charge\":0.02652845253646993,\"element\":\"H\",\"location\":[-0.6144380165288794,-1.647871900826317,34.65425206611599]},{\"charge\":0.02652845253646993,\"element\":\"H\",\"location\":[-1.2964380165288816,0.01412809917368918,34.727252066115966]},{\"charge\":-0.053057015807534656,\"element\":\"C\",\"location\":[-0.3294380165288828,0.7641280991736892,37.17225206611596]},{\"charge\":-0.053065378113835784,\"element\":\"C\",\"location\":[-0.32843801652887805,0.765128099173694,38.70625206611595]},{\"charge\":0.02652845253646993,\"element\":\"H\",\"location\":[-1.426438016528877,-1.0418719008263224,37.00625206611596]},{\"charge\":0.02652845253646993,\"element\":\"H\",\"location\":[0.25856198347112525,-1.3168719008262997,37.00625206611596]},{\"charge\":0.026528452106547227,\"element\":\"H\",\"location\":[-1.1384380165288803,1.3701280991736837,36.76325206611597]},{\"charge\":0.026528452106547227,\"element\":\"H\",\"location\":[0.640561983471116,1.1291280991736983,36.83525206611597]},{\"charge\":-0.053305879218276994,\"element\":\"C\",\"location\":[0.8075619834711176,-0.08387190082632401,39.28025206611596]},{\"charge\":-0.0559109602061563,\"element\":\"C\",\"location\":[0.8085619834711224,-0.08387190082632401,40.81525206611599]},{\"charge\":0.02652834582757616,\"element\":\"H\",\"location\":[-0.20943801652887828,1.7691280991736846,39.11425206611597]},{\"charge\":0.02652834582757616,\"element\":\"H\",\"location\":[-1.288438016528886,0.4481280991736867,39.11425206611597]},{\"charge\":0.026520049006504384,\"element\":\"H\",\"location\":[1.735561983471115,0.3151280991736769,38.870252066115995]},{\"charge\":0.026520049006504384,\"element\":\"H\",\"location\":[0.6375619834711159,-1.1068719008263201,38.943252066115974]},{\"charge\":-0.06527627911912873,\"element\":\"C\",\"location\":[-0.49543801652887964,-0.6448719008263026,41.38825206611597]},{\"charge\":0.022977512114045025,\"element\":\"H\",\"location\":[-0.49543801652887964,-0.6438719008262979,42.478252066116]},{\"charge\":0.026264641346796454,\"element\":\"H\",\"location\":[1.61756198347112,-0.6898719008263186,41.22225206611597]},{\"charge\":0.026264641346796454,\"element\":\"H\",\"location\":[1.012561983471116,0.9061280991736851,41.22325206611595]},{\"charge\":0.022977512114045025,\"element\":\"H\",\"location\":[-0.6144380165288794,-1.647871900826317,40.979252066115976]},{\"charge\":0.022977512114045025,\"element\":\"H\",\"location\":[-1.2964380165288816,0.01412809917368918,41.05125206611598]}],\"bonds\":[{\"atoms\":[0,1],\"order\":1},{\"atoms\":[1,4],\"order\":1},{\"atoms\":[1,5],\"order\":1},{\"atoms\":[1,2],\"order\":1},{\"atoms\":[6,2],\"order\":1},{\"atoms\":[7,2],\"order\":1},{\"atoms\":[2,3],\"order\":1},{\"atoms\":[3,10],\"order\":1},{\"atoms\":[3,11],\"order\":1},{\"atoms\":[3,8],\"order\":1},{\"atoms\":[12,8],\"order\":1},{\"atoms\":[13,8],\"order\":1},{\"atoms\":[8,9],\"order\":1},{\"atoms\":[9,16],\"order\":1},{\"atoms\":[9,17],\"order\":1},{\"atoms\":[9,14],\"order\":1},{\"atoms\":[18,14],\"order\":1},{\"atoms\":[19,14],\"order\":1},{\"atoms\":[14,15],\"order\":1},{\"atoms\":[15,22],\"order\":1},{\"atoms\":[15,23],\"order\":1},{\"atoms\":[15,20],\"order\":1},{\"atoms\":[24,20],\"order\":1},{\"atoms\":[25,20],\"order\":1},{\"atoms\":[20,21],\"order\":1},{\"atoms\":[21,28],\"order\":1},{\"atoms\":[21,29],\"order\":1},{\"atoms\":[21,26],\"order\":1},{\"atoms\":[30,26],\"order\":1},{\"atoms\":[31,26],\"order\":1},{\"atoms\":[26,27],\"order\":1},{\"atoms\":[27,34],\"order\":1},{\"atoms\":[27,35],\"order\":1},{\"atoms\":[27,32],\"order\":1},{\"atoms\":[36,32],\"order\":1},{\"atoms\":[37,32],\"order\":1},{\"atoms\":[32,33],\"order\":1},{\"atoms\":[33,40],\"order\":1},{\"atoms\":[33,41],\"order\":1},{\"atoms\":[33,38],\"order\":1},{\"atoms\":[42,38],\"order\":1},{\"atoms\":[43,38],\"order\":1},{\"atoms\":[38,39],\"order\":1},{\"atoms\":[39,46],\"order\":1},{\"atoms\":[39,47],\"order\":1},{\"atoms\":[39,44],\"order\":1},{\"atoms\":[48,44],\"order\":1},{\"atoms\":[49,44],\"order\":1},{\"atoms\":[44,45],\"order\":1},{\"atoms\":[45,52],\"order\":1},{\"atoms\":[45,53],\"order\":1},{\"atoms\":[45,50],\"order\":1},{\"atoms\":[54,50],\"order\":1},{\"atoms\":[55,50],\"order\":1},{\"atoms\":[50,51],\"order\":1},{\"atoms\":[51,59],\"order\":1},{\"atoms\":[51,58],\"order\":1},{\"atoms\":[51,56],\"order\":1},{\"atoms\":[60,56],\"order\":1},{\"atoms\":[61,56],\"order\":1},{\"atoms\":[56,57],\"order\":1},{\"atoms\":[57,64],\"order\":1},{\"atoms\":[57,65],\"order\":1},{\"atoms\":[57,62],\"order\":1},{\"atoms\":[66,62],\"order\":1},{\"atoms\":[67,62],\"order\":1},{\"atoms\":[62,63],\"order\":1},{\"atoms\":[63,70],\"order\":1},{\"atoms\":[63,71],\"order\":1},{\"atoms\":[63,68],\"order\":1},{\"atoms\":[72,68],\"order\":1},{\"atoms\":[73,68],\"order\":1},{\"atoms\":[68,69],\"order\":1},{\"atoms\":[69,76],\"order\":1},{\"atoms\":[69,77],\"order\":1},{\"atoms\":[69,74],\"order\":1},{\"atoms\":[78,74],\"order\":1},{\"atoms\":[79,74],\"order\":1},{\"atoms\":[74,75],\"order\":1},{\"atoms\":[75,82],\"order\":1},{\"atoms\":[75,83],\"order\":1},{\"atoms\":[75,80],\"order\":1},{\"atoms\":[84,80],\"order\":1},{\"atoms\":[85,80],\"order\":1},{\"atoms\":[80,81],\"order\":1},{\"atoms\":[81,88],\"order\":1},{\"atoms\":[81,89],\"order\":1},{\"atoms\":[81,86],\"order\":1},{\"atoms\":[90,86],\"order\":1},{\"atoms\":[91,86],\"order\":1},{\"atoms\":[86,87],\"order\":1},{\"atoms\":[87,94],\"order\":1},{\"atoms\":[87,95],\"order\":1},{\"atoms\":[87,92],\"order\":1},{\"atoms\":[96,92],\"order\":1},{\"atoms\":[97,92],\"order\":1},{\"atoms\":[92,93],\"order\":1},{\"atoms\":[93,100],\"order\":1},{\"atoms\":[93,101],\"order\":1},{\"atoms\":[93,98],\"order\":1},{\"atoms\":[102,98],\"order\":1},{\"atoms\":[103,98],\"order\":1},{\"atoms\":[98,99],\"order\":1},{\"atoms\":[99,106],\"order\":1},{\"atoms\":[99,107],\"order\":1},{\"atoms\":[99,104],\"order\":1},{\"atoms\":[108,104],\"order\":1},{\"atoms\":[109,104],\"order\":1},{\"atoms\":[104,105],\"order\":1},{\"atoms\":[105,112],\"order\":1},{\"atoms\":[105,113],\"order\":1},{\"atoms\":[105,110],\"order\":1},{\"atoms\":[114,110],\"order\":1},{\"atoms\":[115,110],\"order\":1},{\"atoms\":[110,111],\"order\":1},{\"atoms\":[111,118],\"order\":1},{\"atoms\":[111,119],\"order\":1},{\"atoms\":[111,116],\"order\":1},{\"atoms\":[120,116],\"order\":1},{\"atoms\":[121,116],\"order\":1},{\"atoms\":[116,117],\"order\":1},{\"atoms\":[117,124],\"order\":1},{\"atoms\":[117,125],\"order\":1},{\"atoms\":[117,122],\"order\":1},{\"atoms\":[126,122],\"order\":1},{\"atoms\":[127,122],\"order\":1},{\"atoms\":[122,123],\"order\":1},{\"atoms\":[123,131],\"order\":1},{\"atoms\":[123,130],\"order\":1},{\"atoms\":[123,128],\"order\":1},{\"atoms\":[132,128],\"order\":1},{\"atoms\":[133,128],\"order\":1},{\"atoms\":[128,129],\"order\":1},{\"atoms\":[129,136],\"order\":1},{\"atoms\":[129,137],\"order\":1},{\"atoms\":[129,134],\"order\":1},{\"atoms\":[138,134],\"order\":1},{\"atoms\":[139,134],\"order\":1},{\"atoms\":[134,135],\"order\":1},{\"atoms\":[135,143],\"order\":1},{\"atoms\":[135,142],\"order\":1},{\"atoms\":[135,140],\"order\":1},{\"atoms\":[144,140],\"order\":1},{\"atoms\":[145,140],\"order\":1},{\"atoms\":[140,141],\"order\":1},{\"atoms\":[141,148],\"order\":1},{\"atoms\":[141,149],\"order\":1},{\"atoms\":[141,146],\"order\":1},{\"atoms\":[150,146],\"order\":1},{\"atoms\":[151,146],\"order\":1},{\"atoms\":[146,147],\"order\":1},{\"atoms\":[147,154],\"order\":1},{\"atoms\":[147,155],\"order\":1},{\"atoms\":[147,152],\"order\":1},{\"atoms\":[156,152],\"order\":1},{\"atoms\":[157,152],\"order\":1},{\"atoms\":[152,153],\"order\":1},{\"atoms\":[153,161],\"order\":1},{\"atoms\":[153,160],\"order\":1},{\"atoms\":[153,158],\"order\":1},{\"atoms\":[162,158],\"order\":1},{\"atoms\":[163,158],\"order\":1},{\"atoms\":[158,159],\"order\":1},{\"atoms\":[159,166],\"order\":1},{\"atoms\":[159,167],\"order\":1},{\"atoms\":[159,164],\"order\":1},{\"atoms\":[168,164],\"order\":1},{\"atoms\":[169,164],\"order\":1},{\"atoms\":[164,165],\"order\":1},{\"atoms\":[165,172],\"order\":1},{\"atoms\":[165,173],\"order\":1},{\"atoms\":[165,170],\"order\":1},{\"atoms\":[174,170],\"order\":1},{\"atoms\":[175,170],\"order\":1},{\"atoms\":[170,171],\"order\":1},{\"atoms\":[171,178],\"order\":1},{\"atoms\":[171,179],\"order\":1},{\"atoms\":[171,176],\"order\":1},{\"atoms\":[180,176],\"order\":1},{\"atoms\":[181,176],\"order\":1},{\"atoms\":[176,177],\"order\":1},{\"atoms\":[177,184],\"order\":1},{\"atoms\":[177,185],\"order\":1},{\"atoms\":[177,182],\"order\":1},{\"atoms\":[186,182],\"order\":1},{\"atoms\":[187,182],\"order\":1},{\"atoms\":[182,183],\"order\":1},{\"atoms\":[183,191],\"order\":1},{\"atoms\":[183,190],\"order\":1},{\"atoms\":[183,188],\"order\":1},{\"atoms\":[192,188],\"order\":1},{\"atoms\":[193,188],\"order\":1},{\"atoms\":[188,189],\"order\":1},{\"atoms\":[189,196],\"order\":1},{\"atoms\":[189,197],\"order\":1},{\"atoms\":[189,194],\"order\":1},{\"atoms\":[198,194],\"order\":1},{\"atoms\":[199,194],\"order\":1},{\"atoms\":[194,195],\"order\":1},{\"atoms\":[195,202],\"order\":1},{\"atoms\":[195,203],\"order\":1},{\"atoms\":[195,200],\"order\":1},{\"atoms\":[204,200],\"order\":1},{\"atoms\":[205,200],\"order\":1},{\"atoms\":[200,201],\"order\":1},{\"atoms\":[201,209],\"order\":1},{\"atoms\":[201,208],\"order\":1},{\"atoms\":[201,206],\"order\":1},{\"atoms\":[210,206],\"order\":1},{\"atoms\":[211,206],\"order\":1},{\"atoms\":[206,207],\"order\":1},{\"atoms\":[207,214],\"order\":1},{\"atoms\":[207,215],\"order\":1},{\"atoms\":[207,212],\"order\":1},{\"atoms\":[216,212],\"order\":1},{\"atoms\":[217,212],\"order\":1},{\"atoms\":[212,213],\"order\":1},{\"atoms\":[213,220],\"order\":1},{\"atoms\":[213,221],\"order\":1},{\"atoms\":[213,218],\"order\":1},{\"atoms\":[222,218],\"order\":1},{\"atoms\":[223,218],\"order\":1},{\"atoms\":[218,219],\"order\":1},{\"atoms\":[219,226],\"order\":1},{\"atoms\":[219,227],\"order\":1},{\"atoms\":[219,224],\"order\":1},{\"atoms\":[228,224],\"order\":1},{\"atoms\":[229,224],\"order\":1},{\"atoms\":[224,225],\"order\":1},{\"atoms\":[225,232],\"order\":1},{\"atoms\":[225,233],\"order\":1},{\"atoms\":[225,230],\"order\":1},{\"atoms\":[234,230],\"order\":1},{\"atoms\":[235,230],\"order\":1},{\"atoms\":[230,231],\"order\":1},{\"atoms\":[231,238],\"order\":1},{\"atoms\":[231,239],\"order\":1},{\"atoms\":[231,236],\"order\":1},{\"atoms\":[240,236],\"order\":1},{\"atoms\":[241,236],\"order\":1},{\"atoms\":[236,237],\"order\":1}],\"formula\":\"C80H162\",\"molecular_weight\":1124.1422799999984,\"units\":{\"molecular_weight\":\"g / mol\"}});\n",
       "\n",
       "               $d.resizable({\n",
       "                   aspectRatio: 1000 / 300,\n",
       "                   resize: function (evt, ui) {\n",
       "                       $d.imolecule.renderer.setSize(ui.size.width,\n",
       "                                                     ui.size.height);\n",
       "                   }\n",
       "               });\n",
       "           });\n",
       "           </script>"
      ],
      "text/plain": [
       "<IPython.core.display.HTML object>"
      ]
     },
     "metadata": {},
     "output_type": "display_data"
    }
   ],
   "source": [
    "# Let's look at the final structure first\n",
    "import imolecule\n",
    "imolecule.draw(r.outdir+\"/\"+r.read('Helix Name')+\".pdb\",size=(1000, 300))#, camera_type=\"orthographic\") "
   ]
  },
  {
   "cell_type": "markdown",
   "metadata": {},
   "source": [
    "## Scripting multiple PolymerXtal builds ##\n",
    "\n",
    "The above cells demonstrated a single build using the simtool library. We will now demonstrate a high-throughput approach to setting up multiple builds, where will demonstrated various polymer types and helices."
   ]
  },
  {
   "cell_type": "code",
   "execution_count": 10,
   "metadata": {},
   "outputs": [
    {
     "name": "stdout",
     "output_type": "stream",
     "text": [
      "Polymer Type:  PP\n",
      "runname   = cbb949fd56d34df8b7d4fe461755f126\n",
      "outdir    = RUNS/cbb949fd56d34df8b7d4fe461755f126\n",
      "cached    = False\n",
      "published = False\n",
      "submit --local papermill -f inputs.yaml\n",
      "       /home/nanohub/shen276/polymerxtal/bin/Chain_Helix.ipynb Chain_Helix.ipynb\n"
     ]
    },
    {
     "name": "stderr",
     "output_type": "stream",
     "text": [
      "Input Notebook:  /home/nanohub/shen276/polymerxtal/bin/Chain_Helix.ipynb\n",
      "Output Notebook: Chain_Helix.ipynb\n",
      "Executing: 100%|██████████| 12/12 [05:28<00:00, 27.37s/cell]\n"
     ]
    },
    {
     "name": "stdout",
     "output_type": "stream",
     "text": [
      "Polymer Type:  PS\n",
      "runname   = 24ae77e2b92b403ba44f777ccd27f6ba\n",
      "outdir    = RUNS/24ae77e2b92b403ba44f777ccd27f6ba\n",
      "cached    = False\n",
      "published = False\n",
      "submit --local papermill -f inputs.yaml\n",
      "       /home/nanohub/shen276/polymerxtal/bin/Chain_Helix.ipynb Chain_Helix.ipynb\n"
     ]
    },
    {
     "name": "stderr",
     "output_type": "stream",
     "text": [
      "Input Notebook:  /home/nanohub/shen276/polymerxtal/bin/Chain_Helix.ipynb\n",
      "Output Notebook: Chain_Helix.ipynb\n",
      "Executing:  58%|█████▊    | 7/12 [00:09<00:08,  1.60s/cell]Kernel died while waiting for execute reply.\n",
      "Executing:  67%|██████▋   | 8/12 [17:25<08:42, 130.64s/cell]\n",
      "Traceback (most recent call last):\n",
      "  File \"/apps/share64/debian7/anaconda/anaconda-6/lib/python3.7/site-packages/nbconvert/preprocessors/execute.py\", line 478, in _poll_for_reply\n",
      "    msg = self.kc.shell_channel.get_msg(timeout=timeout)\n",
      "  File \"/apps/share64/debian7/anaconda/anaconda-6/lib/python3.7/site-packages/jupyter_client/blocking/channels.py\", line 57, in get_msg\n",
      "    raise Empty\n",
      "_queue.Empty\n",
      "\n",
      "During handling of the above exception, another exception occurred:\n",
      "\n",
      "Traceback (most recent call last):\n",
      "  File \"/apps/share64/debian7/anaconda/anaconda-6/bin/papermill\", line 10, in <module>\n",
      "    sys.exit(papermill())\n",
      "  File \"/apps/share64/debian7/anaconda/anaconda-6/lib/python3.7/site-packages/click/core.py\", line 764, in __call__\n",
      "    return self.main(*args, **kwargs)\n",
      "  File \"/apps/share64/debian7/anaconda/anaconda-6/lib/python3.7/site-packages/click/core.py\", line 717, in main\n",
      "    rv = self.invoke(ctx)\n",
      "  File \"/apps/share64/debian7/anaconda/anaconda-6/lib/python3.7/site-packages/click/core.py\", line 956, in invoke\n",
      "    return ctx.invoke(self.callback, **ctx.params)\n",
      "  File \"/apps/share64/debian7/anaconda/anaconda-6/lib/python3.7/site-packages/click/core.py\", line 555, in invoke\n",
      "    return callback(*args, **kwargs)\n",
      "  File \"/apps/share64/debian7/anaconda/anaconda-6/lib/python3.7/site-packages/papermill/cli.py\", line 254, in papermill\n",
      "    cwd=cwd,\n",
      "  File \"/apps/share64/debian7/anaconda/anaconda-6/lib/python3.7/site-packages/papermill/execute.py\", line 100, in execute_notebook\n",
      "    **engine_kwargs\n",
      "  File \"/apps/share64/debian7/anaconda/anaconda-6/lib/python3.7/site-packages/papermill/engines.py\", line 49, in execute_notebook_with_engine\n",
      "    return self.get_engine(engine_name).execute_notebook(nb, kernel_name, **kwargs)\n",
      "  File \"/apps/share64/debian7/anaconda/anaconda-6/lib/python3.7/site-packages/papermill/engines.py\", line 304, in execute_notebook\n",
      "    nb = cls.execute_managed_notebook(nb_man, kernel_name, log_output=log_output, **kwargs)\n",
      "  File \"/apps/share64/debian7/anaconda/anaconda-6/lib/python3.7/site-packages/papermill/engines.py\", line 366, in execute_managed_notebook\n",
      "    preprocessor.preprocess(nb_man, safe_kwargs)\n",
      "  File \"/apps/share64/debian7/anaconda/anaconda-6/lib/python3.7/site-packages/papermill/preprocess.py\", line 21, in preprocess\n",
      "    nb, resources = self.papermill_process(nb_man, resources)\n",
      "  File \"/apps/share64/debian7/anaconda/anaconda-6/lib/python3.7/site-packages/papermill/preprocess.py\", line 61, in papermill_process\n",
      "    nb.cells[index], resources = self.preprocess_cell(cell, resources, index)\n",
      "  File \"/apps/share64/debian7/anaconda/anaconda-6/lib/python3.7/site-packages/nbconvert/preprocessors/execute.py\", line 438, in preprocess_cell\n",
      "    reply, outputs = self.run_cell(cell, cell_index, store_history)\n",
      "  File \"/apps/share64/debian7/anaconda/anaconda-6/lib/python3.7/site-packages/nbconvert/preprocessors/execute.py\", line 578, in run_cell\n",
      "    exec_reply = self._poll_for_reply(parent_msg_id, cell, timeout)\n",
      "  File \"/apps/share64/debian7/anaconda/anaconda-6/lib/python3.7/site-packages/nbconvert/preprocessors/execute.py\", line 483, in _poll_for_reply\n",
      "    self._check_alive()\n",
      "  File \"/apps/share64/debian7/anaconda/anaconda-6/lib/python3.7/site-packages/nbconvert/preprocessors/execute.py\", line 510, in _check_alive\n",
      "    raise DeadKernelError(\"Kernel died\")\n",
      "nbconvert.preprocessors.execute.DeadKernelError: Kernel died\n"
     ]
    },
    {
     "name": "stdout",
     "output_type": "stream",
     "text": [
      "SimTool execution failed\n",
      "The following outputs are missing: ['Output PDB', 'Output PDBfile', 'Helix Name']\n",
      "simToolSaveErrorOccurred is not available in results\n"
     ]
    },
    {
     "ename": "TypeError",
     "evalue": "Input string must be text, not bytes",
     "output_type": "error",
     "traceback": [
      "\u001b[0;31m---------------------------------------------------------------------------\u001b[0m",
      "\u001b[0;31mTypeError\u001b[0m                                 Traceback (most recent call last)",
      "\u001b[0;32m<ipython-input-10-2b87266aeb62>\u001b[0m in \u001b[0;36m<module>\u001b[0;34m\u001b[0m\n\u001b[1;32m      7\u001b[0m \u001b[0;34m\u001b[0m\u001b[0m\n\u001b[1;32m      8\u001b[0m     \u001b[0;31m# run the SimTool with the input values\u001b[0m\u001b[0;34m\u001b[0m\u001b[0;34m\u001b[0m\u001b[0;34m\u001b[0m\u001b[0m\n\u001b[0;32m----> 9\u001b[0;31m     \u001b[0mr\u001b[0m \u001b[0;34m=\u001b[0m \u001b[0mRun\u001b[0m\u001b[0;34m(\u001b[0m\u001b[0mnb\u001b[0m\u001b[0;34m,\u001b[0m \u001b[0minputs\u001b[0m\u001b[0;34m)\u001b[0m\u001b[0;34m\u001b[0m\u001b[0;34m\u001b[0m\u001b[0m\n\u001b[0m\u001b[1;32m     10\u001b[0m \u001b[0;34m\u001b[0m\u001b[0m\n",
      "\u001b[0;32m/apps/share64/debian7/anaconda/anaconda-6/lib/python3.7/site-packages/simtool/run.py\u001b[0m in \u001b[0;36m__new__\u001b[0;34m(cls, simToolLocation, inputs, run_name, cache, venue)\u001b[0m\n\u001b[1;32m    408\u001b[0m \u001b[0;34m\u001b[0m\u001b[0m\n\u001b[1;32m    409\u001b[0m        \u001b[0;32mif\u001b[0m   \u001b[0mvenue\u001b[0m \u001b[0;34m==\u001b[0m \u001b[0;34m'local'\u001b[0m\u001b[0;34m:\u001b[0m\u001b[0;34m\u001b[0m\u001b[0;34m\u001b[0m\u001b[0m\n\u001b[0;32m--> 410\u001b[0;31m           \u001b[0mnewclass\u001b[0m \u001b[0;34m=\u001b[0m \u001b[0mSubmitLocalRun\u001b[0m\u001b[0;34m(\u001b[0m\u001b[0msimToolLocation\u001b[0m\u001b[0;34m,\u001b[0m\u001b[0minputs\u001b[0m\u001b[0;34m,\u001b[0m\u001b[0mrun_name\u001b[0m\u001b[0;34m,\u001b[0m\u001b[0mcache\u001b[0m\u001b[0;34m)\u001b[0m\u001b[0;34m\u001b[0m\u001b[0;34m\u001b[0m\u001b[0m\n\u001b[0m\u001b[1;32m    411\u001b[0m        \u001b[0;32melif\u001b[0m \u001b[0mvenue\u001b[0m \u001b[0;34m==\u001b[0m \u001b[0;34m'trusted'\u001b[0m \u001b[0;32mand\u001b[0m \u001b[0mcache\u001b[0m\u001b[0;34m:\u001b[0m\u001b[0;34m\u001b[0m\u001b[0;34m\u001b[0m\u001b[0m\n\u001b[1;32m    412\u001b[0m           \u001b[0mnewclass\u001b[0m \u001b[0;34m=\u001b[0m \u001b[0mTrustedUserRun\u001b[0m\u001b[0;34m(\u001b[0m\u001b[0msimToolLocation\u001b[0m\u001b[0;34m,\u001b[0m\u001b[0minputs\u001b[0m\u001b[0;34m,\u001b[0m\u001b[0mrun_name\u001b[0m\u001b[0;34m,\u001b[0m\u001b[0mcache\u001b[0m\u001b[0;34m)\u001b[0m\u001b[0;34m\u001b[0m\u001b[0;34m\u001b[0m\u001b[0m\n",
      "\u001b[0;32m/apps/share64/debian7/anaconda/anaconda-6/lib/python3.7/site-packages/simtool/run.py\u001b[0m in \u001b[0;36m__init__\u001b[0;34m(self, simToolLocation, inputs, run_name, cache)\u001b[0m\n\u001b[1;32m    234\u001b[0m                 \u001b[0mprint\u001b[0m\u001b[0;34m(\u001b[0m\u001b[0;34m\"The following additional outputs were returned: %s\"\u001b[0m \u001b[0;34m%\u001b[0m \u001b[0;34m(\u001b[0m\u001b[0mlist\u001b[0m\u001b[0;34m(\u001b[0m\u001b[0mextraOutputs\u001b[0m\u001b[0;34m)\u001b[0m\u001b[0;34m)\u001b[0m\u001b[0;34m)\u001b[0m\u001b[0;34m\u001b[0m\u001b[0;34m\u001b[0m\u001b[0m\n\u001b[1;32m    235\u001b[0m \u001b[0;34m\u001b[0m\u001b[0m\n\u001b[0;32m--> 236\u001b[0;31m             \u001b[0msimToolSaveErrorOccurred\u001b[0m \u001b[0;34m=\u001b[0m \u001b[0mself\u001b[0m\u001b[0;34m.\u001b[0m\u001b[0mdb\u001b[0m\u001b[0;34m.\u001b[0m\u001b[0mgetSimToolSaveErrorOccurred\u001b[0m\u001b[0;34m(\u001b[0m\u001b[0;34m)\u001b[0m\u001b[0;34m\u001b[0m\u001b[0;34m\u001b[0m\u001b[0m\n\u001b[0m\u001b[1;32m    237\u001b[0m \u001b[0;31m#           print(\"simToolSaveErrorOccurred = %d\" % (simToolSaveErrorOccurred))\u001b[0m\u001b[0;34m\u001b[0m\u001b[0;34m\u001b[0m\u001b[0;34m\u001b[0m\u001b[0m\n\u001b[1;32m    238\u001b[0m             \u001b[0msimToolAllOutputsSaved\u001b[0m \u001b[0;34m=\u001b[0m \u001b[0mself\u001b[0m\u001b[0;34m.\u001b[0m\u001b[0mdb\u001b[0m\u001b[0;34m.\u001b[0m\u001b[0mgetSimToolAllOutputsSaved\u001b[0m\u001b[0;34m(\u001b[0m\u001b[0;34m)\u001b[0m\u001b[0;34m\u001b[0m\u001b[0;34m\u001b[0m\u001b[0m\n",
      "\u001b[0;32m/apps/share64/debian7/anaconda/anaconda-6/lib/python3.7/site-packages/simtool/db.py\u001b[0m in \u001b[0;36mgetSimToolSaveErrorOccurred\u001b[0;34m(self)\u001b[0m\n\u001b[1;32m     26\u001b[0m \u001b[0;34m\u001b[0m\u001b[0m\n\u001b[1;32m     27\u001b[0m     \u001b[0;32mdef\u001b[0m \u001b[0mgetSimToolSaveErrorOccurred\u001b[0m\u001b[0;34m(\u001b[0m\u001b[0mself\u001b[0m\u001b[0;34m)\u001b[0m\u001b[0;34m:\u001b[0m\u001b[0;34m\u001b[0m\u001b[0;34m\u001b[0m\u001b[0m\n\u001b[0;32m---> 28\u001b[0;31m         \u001b[0msimToolSaveErrorOccurred\u001b[0m \u001b[0;34m=\u001b[0m \u001b[0mDB\u001b[0m\u001b[0;34m.\u001b[0m\u001b[0mencoder\u001b[0m\u001b[0;34m.\u001b[0m\u001b[0mdecode\u001b[0m\u001b[0;34m(\u001b[0m\u001b[0mself\u001b[0m\u001b[0;34m.\u001b[0m\u001b[0mread\u001b[0m\u001b[0;34m(\u001b[0m\u001b[0;34m'simToolSaveErrorOccurred'\u001b[0m\u001b[0;34m,\u001b[0m\u001b[0mdisplay\u001b[0m\u001b[0;34m=\u001b[0m\u001b[0;32mFalse\u001b[0m\u001b[0;34m,\u001b[0m\u001b[0mraw\u001b[0m\u001b[0;34m=\u001b[0m\u001b[0;32mFalse\u001b[0m\u001b[0;34m)\u001b[0m\u001b[0;34m)\u001b[0m\u001b[0;34m\u001b[0m\u001b[0;34m\u001b[0m\u001b[0m\n\u001b[0m\u001b[1;32m     29\u001b[0m         \u001b[0;32mreturn\u001b[0m \u001b[0msimToolSaveErrorOccurred\u001b[0m\u001b[0;34m\u001b[0m\u001b[0;34m\u001b[0m\u001b[0m\n\u001b[1;32m     30\u001b[0m \u001b[0;34m\u001b[0m\u001b[0m\n",
      "\u001b[0;32m/apps/share64/debian7/anaconda/anaconda-6/lib/python3.7/site-packages/simtool/encode.py\u001b[0m in \u001b[0;36mdecode\u001b[0;34m(self, val)\u001b[0m\n\u001b[1;32m     20\u001b[0m \u001b[0;34m\u001b[0m\u001b[0m\n\u001b[1;32m     21\u001b[0m     \u001b[0;32mdef\u001b[0m \u001b[0mdecode\u001b[0m\u001b[0;34m(\u001b[0m\u001b[0mself\u001b[0m\u001b[0;34m,\u001b[0m \u001b[0mval\u001b[0m\u001b[0;34m)\u001b[0m\u001b[0;34m:\u001b[0m\u001b[0;34m\u001b[0m\u001b[0;34m\u001b[0m\u001b[0m\n\u001b[0;32m---> 22\u001b[0;31m         \u001b[0;32mreturn\u001b[0m \u001b[0mjsonpickle\u001b[0m\u001b[0;34m.\u001b[0m\u001b[0mloads\u001b[0m\u001b[0;34m(\u001b[0m\u001b[0mval\u001b[0m\u001b[0;34m)\u001b[0m\u001b[0;34m\u001b[0m\u001b[0;34m\u001b[0m\u001b[0m\n\u001b[0m\u001b[1;32m     23\u001b[0m \u001b[0;34m\u001b[0m\u001b[0m\n\u001b[1;32m     24\u001b[0m \u001b[0;34m\u001b[0m\u001b[0m\n",
      "\u001b[0;32m/apps/share64/debian7/anaconda/anaconda-6/lib/python3.7/site-packages/jsonpickle/unpickler.py\u001b[0m in \u001b[0;36mdecode\u001b[0;34m(string, backend, context, keys, reset, safe, classes)\u001b[0m\n\u001b[1;32m     38\u001b[0m     \u001b[0mbackend\u001b[0m \u001b[0;34m=\u001b[0m \u001b[0mbackend\u001b[0m \u001b[0;32mor\u001b[0m \u001b[0mjson\u001b[0m\u001b[0;34m\u001b[0m\u001b[0;34m\u001b[0m\u001b[0m\n\u001b[1;32m     39\u001b[0m     \u001b[0mcontext\u001b[0m \u001b[0;34m=\u001b[0m \u001b[0mcontext\u001b[0m \u001b[0;32mor\u001b[0m \u001b[0mUnpickler\u001b[0m\u001b[0;34m(\u001b[0m\u001b[0mkeys\u001b[0m\u001b[0;34m=\u001b[0m\u001b[0mkeys\u001b[0m\u001b[0;34m,\u001b[0m \u001b[0mbackend\u001b[0m\u001b[0;34m=\u001b[0m\u001b[0mbackend\u001b[0m\u001b[0;34m,\u001b[0m \u001b[0msafe\u001b[0m\u001b[0;34m=\u001b[0m\u001b[0msafe\u001b[0m\u001b[0;34m)\u001b[0m\u001b[0;34m\u001b[0m\u001b[0;34m\u001b[0m\u001b[0m\n\u001b[0;32m---> 40\u001b[0;31m     \u001b[0mdata\u001b[0m \u001b[0;34m=\u001b[0m \u001b[0mbackend\u001b[0m\u001b[0;34m.\u001b[0m\u001b[0mdecode\u001b[0m\u001b[0;34m(\u001b[0m\u001b[0mstring\u001b[0m\u001b[0;34m)\u001b[0m\u001b[0;34m\u001b[0m\u001b[0;34m\u001b[0m\u001b[0m\n\u001b[0m\u001b[1;32m     41\u001b[0m     \u001b[0;32mreturn\u001b[0m \u001b[0mcontext\u001b[0m\u001b[0;34m.\u001b[0m\u001b[0mrestore\u001b[0m\u001b[0;34m(\u001b[0m\u001b[0mdata\u001b[0m\u001b[0;34m,\u001b[0m \u001b[0mreset\u001b[0m\u001b[0;34m=\u001b[0m\u001b[0mreset\u001b[0m\u001b[0;34m,\u001b[0m \u001b[0mclasses\u001b[0m\u001b[0;34m=\u001b[0m\u001b[0mclasses\u001b[0m\u001b[0;34m)\u001b[0m\u001b[0;34m\u001b[0m\u001b[0;34m\u001b[0m\u001b[0m\n\u001b[1;32m     42\u001b[0m \u001b[0;34m\u001b[0m\u001b[0m\n",
      "\u001b[0;32m/apps/share64/debian7/anaconda/anaconda-6/lib/python3.7/site-packages/jsonpickle/backend.py\u001b[0m in \u001b[0;36mdecode\u001b[0;34m(self, string)\u001b[0m\n\u001b[1;32m    189\u001b[0m         \u001b[0;32mfor\u001b[0m \u001b[0midx\u001b[0m\u001b[0;34m,\u001b[0m \u001b[0mname\u001b[0m \u001b[0;32min\u001b[0m \u001b[0menumerate\u001b[0m\u001b[0;34m(\u001b[0m\u001b[0mself\u001b[0m\u001b[0;34m.\u001b[0m\u001b[0m_backend_names\u001b[0m\u001b[0;34m)\u001b[0m\u001b[0;34m:\u001b[0m\u001b[0;34m\u001b[0m\u001b[0;34m\u001b[0m\u001b[0m\n\u001b[1;32m    190\u001b[0m             \u001b[0;32mtry\u001b[0m\u001b[0;34m:\u001b[0m\u001b[0;34m\u001b[0m\u001b[0;34m\u001b[0m\u001b[0m\n\u001b[0;32m--> 191\u001b[0;31m                 \u001b[0;32mreturn\u001b[0m \u001b[0mself\u001b[0m\u001b[0;34m.\u001b[0m\u001b[0mbackend_decode\u001b[0m\u001b[0;34m(\u001b[0m\u001b[0mname\u001b[0m\u001b[0;34m,\u001b[0m \u001b[0mstring\u001b[0m\u001b[0;34m)\u001b[0m\u001b[0;34m\u001b[0m\u001b[0;34m\u001b[0m\u001b[0m\n\u001b[0m\u001b[1;32m    192\u001b[0m             \u001b[0;32mexcept\u001b[0m \u001b[0mself\u001b[0m\u001b[0;34m.\u001b[0m\u001b[0m_decoder_exceptions\u001b[0m\u001b[0;34m[\u001b[0m\u001b[0mname\u001b[0m\u001b[0;34m]\u001b[0m \u001b[0;32mas\u001b[0m \u001b[0me\u001b[0m\u001b[0;34m:\u001b[0m\u001b[0;34m\u001b[0m\u001b[0;34m\u001b[0m\u001b[0m\n\u001b[1;32m    193\u001b[0m                 \u001b[0;32mif\u001b[0m \u001b[0midx\u001b[0m \u001b[0;34m==\u001b[0m \u001b[0mlen\u001b[0m\u001b[0;34m(\u001b[0m\u001b[0mself\u001b[0m\u001b[0;34m.\u001b[0m\u001b[0m_backend_names\u001b[0m\u001b[0;34m)\u001b[0m \u001b[0;34m-\u001b[0m \u001b[0;36m1\u001b[0m\u001b[0;34m:\u001b[0m\u001b[0;34m\u001b[0m\u001b[0;34m\u001b[0m\u001b[0m\n",
      "\u001b[0;32m/apps/share64/debian7/anaconda/anaconda-6/lib/python3.7/site-packages/jsonpickle/backend.py\u001b[0m in \u001b[0;36mbackend_decode\u001b[0;34m(self, name, string)\u001b[0m\n\u001b[1;32m    201\u001b[0m         \u001b[0moptargs\u001b[0m\u001b[0;34m,\u001b[0m \u001b[0moptkwargs\u001b[0m \u001b[0;34m=\u001b[0m \u001b[0mself\u001b[0m\u001b[0;34m.\u001b[0m\u001b[0m_decoder_options\u001b[0m\u001b[0;34m.\u001b[0m\u001b[0mget\u001b[0m\u001b[0;34m(\u001b[0m\u001b[0mname\u001b[0m\u001b[0;34m,\u001b[0m \u001b[0;34m(\u001b[0m\u001b[0;34m(\u001b[0m\u001b[0;34m)\u001b[0m\u001b[0;34m,\u001b[0m \u001b[0;34m{\u001b[0m\u001b[0;34m}\u001b[0m\u001b[0;34m)\u001b[0m\u001b[0;34m)\u001b[0m\u001b[0;34m\u001b[0m\u001b[0;34m\u001b[0m\u001b[0m\n\u001b[1;32m    202\u001b[0m         \u001b[0mdecoder_kwargs\u001b[0m \u001b[0;34m=\u001b[0m \u001b[0moptkwargs\u001b[0m\u001b[0;34m.\u001b[0m\u001b[0mcopy\u001b[0m\u001b[0;34m(\u001b[0m\u001b[0;34m)\u001b[0m\u001b[0;34m\u001b[0m\u001b[0;34m\u001b[0m\u001b[0m\n\u001b[0;32m--> 203\u001b[0;31m         \u001b[0;32mreturn\u001b[0m \u001b[0mself\u001b[0m\u001b[0;34m.\u001b[0m\u001b[0m_decoders\u001b[0m\u001b[0;34m[\u001b[0m\u001b[0mname\u001b[0m\u001b[0;34m]\u001b[0m\u001b[0;34m(\u001b[0m\u001b[0mstring\u001b[0m\u001b[0;34m,\u001b[0m \u001b[0;34m*\u001b[0m\u001b[0moptargs\u001b[0m\u001b[0;34m,\u001b[0m \u001b[0;34m**\u001b[0m\u001b[0mdecoder_kwargs\u001b[0m\u001b[0;34m)\u001b[0m\u001b[0;34m\u001b[0m\u001b[0;34m\u001b[0m\u001b[0m\n\u001b[0m\u001b[1;32m    204\u001b[0m \u001b[0;34m\u001b[0m\u001b[0m\n\u001b[1;32m    205\u001b[0m     \u001b[0;32mdef\u001b[0m \u001b[0mset_preferred_backend\u001b[0m\u001b[0;34m(\u001b[0m\u001b[0mself\u001b[0m\u001b[0;34m,\u001b[0m \u001b[0mname\u001b[0m\u001b[0;34m)\u001b[0m\u001b[0;34m:\u001b[0m\u001b[0;34m\u001b[0m\u001b[0;34m\u001b[0m\u001b[0m\n",
      "\u001b[0;32m/apps/share64/debian7/anaconda/anaconda-6/lib/python3.7/site-packages/simplejson/__init__.py\u001b[0m in \u001b[0;36mloads\u001b[0;34m(s, encoding, cls, object_hook, parse_float, parse_int, parse_constant, object_pairs_hook, use_decimal, **kw)\u001b[0m\n\u001b[1;32m    516\u001b[0m             \u001b[0mparse_constant\u001b[0m \u001b[0;32mis\u001b[0m \u001b[0;32mNone\u001b[0m \u001b[0;32mand\u001b[0m \u001b[0mobject_pairs_hook\u001b[0m \u001b[0;32mis\u001b[0m \u001b[0;32mNone\u001b[0m\u001b[0;34m\u001b[0m\u001b[0;34m\u001b[0m\u001b[0m\n\u001b[1;32m    517\u001b[0m             and not use_decimal and not kw):\n\u001b[0;32m--> 518\u001b[0;31m         \u001b[0;32mreturn\u001b[0m \u001b[0m_default_decoder\u001b[0m\u001b[0;34m.\u001b[0m\u001b[0mdecode\u001b[0m\u001b[0;34m(\u001b[0m\u001b[0ms\u001b[0m\u001b[0;34m)\u001b[0m\u001b[0;34m\u001b[0m\u001b[0;34m\u001b[0m\u001b[0m\n\u001b[0m\u001b[1;32m    519\u001b[0m     \u001b[0;32mif\u001b[0m \u001b[0mcls\u001b[0m \u001b[0;32mis\u001b[0m \u001b[0;32mNone\u001b[0m\u001b[0;34m:\u001b[0m\u001b[0;34m\u001b[0m\u001b[0;34m\u001b[0m\u001b[0m\n\u001b[1;32m    520\u001b[0m         \u001b[0mcls\u001b[0m \u001b[0;34m=\u001b[0m \u001b[0mJSONDecoder\u001b[0m\u001b[0;34m\u001b[0m\u001b[0;34m\u001b[0m\u001b[0m\n",
      "\u001b[0;32m/apps/share64/debian7/anaconda/anaconda-6/lib/python3.7/site-packages/simplejson/decoder.py\u001b[0m in \u001b[0;36mdecode\u001b[0;34m(self, s, _w, _PY3)\u001b[0m\n\u001b[1;32m    368\u001b[0m         \u001b[0;32mif\u001b[0m \u001b[0m_PY3\u001b[0m \u001b[0;32mand\u001b[0m \u001b[0misinstance\u001b[0m\u001b[0;34m(\u001b[0m\u001b[0ms\u001b[0m\u001b[0;34m,\u001b[0m \u001b[0mbytes\u001b[0m\u001b[0;34m)\u001b[0m\u001b[0;34m:\u001b[0m\u001b[0;34m\u001b[0m\u001b[0;34m\u001b[0m\u001b[0m\n\u001b[1;32m    369\u001b[0m             \u001b[0ms\u001b[0m \u001b[0;34m=\u001b[0m \u001b[0mstr\u001b[0m\u001b[0;34m(\u001b[0m\u001b[0ms\u001b[0m\u001b[0;34m,\u001b[0m \u001b[0mself\u001b[0m\u001b[0;34m.\u001b[0m\u001b[0mencoding\u001b[0m\u001b[0;34m)\u001b[0m\u001b[0;34m\u001b[0m\u001b[0;34m\u001b[0m\u001b[0m\n\u001b[0;32m--> 370\u001b[0;31m         \u001b[0mobj\u001b[0m\u001b[0;34m,\u001b[0m \u001b[0mend\u001b[0m \u001b[0;34m=\u001b[0m \u001b[0mself\u001b[0m\u001b[0;34m.\u001b[0m\u001b[0mraw_decode\u001b[0m\u001b[0;34m(\u001b[0m\u001b[0ms\u001b[0m\u001b[0;34m)\u001b[0m\u001b[0;34m\u001b[0m\u001b[0;34m\u001b[0m\u001b[0m\n\u001b[0m\u001b[1;32m    371\u001b[0m         \u001b[0mend\u001b[0m \u001b[0;34m=\u001b[0m \u001b[0m_w\u001b[0m\u001b[0;34m(\u001b[0m\u001b[0ms\u001b[0m\u001b[0;34m,\u001b[0m \u001b[0mend\u001b[0m\u001b[0;34m)\u001b[0m\u001b[0;34m.\u001b[0m\u001b[0mend\u001b[0m\u001b[0;34m(\u001b[0m\u001b[0;34m)\u001b[0m\u001b[0;34m\u001b[0m\u001b[0;34m\u001b[0m\u001b[0m\n\u001b[1;32m    372\u001b[0m         \u001b[0;32mif\u001b[0m \u001b[0mend\u001b[0m \u001b[0;34m!=\u001b[0m \u001b[0mlen\u001b[0m\u001b[0;34m(\u001b[0m\u001b[0ms\u001b[0m\u001b[0;34m)\u001b[0m\u001b[0;34m:\u001b[0m\u001b[0;34m\u001b[0m\u001b[0;34m\u001b[0m\u001b[0m\n",
      "\u001b[0;32m/apps/share64/debian7/anaconda/anaconda-6/lib/python3.7/site-packages/simplejson/decoder.py\u001b[0m in \u001b[0;36mraw_decode\u001b[0;34m(self, s, idx, _w, _PY3)\u001b[0m\n\u001b[1;32m    390\u001b[0m             \u001b[0;32mraise\u001b[0m \u001b[0mJSONDecodeError\u001b[0m\u001b[0;34m(\u001b[0m\u001b[0;34m'Expecting value'\u001b[0m\u001b[0;34m,\u001b[0m \u001b[0ms\u001b[0m\u001b[0;34m,\u001b[0m \u001b[0midx\u001b[0m\u001b[0;34m)\u001b[0m\u001b[0;34m\u001b[0m\u001b[0;34m\u001b[0m\u001b[0m\n\u001b[1;32m    391\u001b[0m         \u001b[0;32mif\u001b[0m \u001b[0m_PY3\u001b[0m \u001b[0;32mand\u001b[0m \u001b[0;32mnot\u001b[0m \u001b[0misinstance\u001b[0m\u001b[0;34m(\u001b[0m\u001b[0ms\u001b[0m\u001b[0;34m,\u001b[0m \u001b[0mstr\u001b[0m\u001b[0;34m)\u001b[0m\u001b[0;34m:\u001b[0m\u001b[0;34m\u001b[0m\u001b[0;34m\u001b[0m\u001b[0m\n\u001b[0;32m--> 392\u001b[0;31m             \u001b[0;32mraise\u001b[0m \u001b[0mTypeError\u001b[0m\u001b[0;34m(\u001b[0m\u001b[0;34m\"Input string must be text, not bytes\"\u001b[0m\u001b[0;34m)\u001b[0m\u001b[0;34m\u001b[0m\u001b[0;34m\u001b[0m\u001b[0m\n\u001b[0m\u001b[1;32m    393\u001b[0m         \u001b[0;31m# strip UTF-8 bom\u001b[0m\u001b[0;34m\u001b[0m\u001b[0;34m\u001b[0m\u001b[0;34m\u001b[0m\u001b[0m\n\u001b[1;32m    394\u001b[0m         \u001b[0;32mif\u001b[0m \u001b[0mlen\u001b[0m\u001b[0;34m(\u001b[0m\u001b[0ms\u001b[0m\u001b[0;34m)\u001b[0m \u001b[0;34m>\u001b[0m \u001b[0midx\u001b[0m\u001b[0;34m:\u001b[0m\u001b[0;34m\u001b[0m\u001b[0;34m\u001b[0m\u001b[0m\n",
      "\u001b[0;31mTypeError\u001b[0m: Input string must be text, not bytes"
     ]
    }
   ],
   "source": [
    "polymer_type_list = ['PP', 'PS']\n",
    "\n",
    "for polymer_type in polymer_type_list:\n",
    "    print (\"Polymer Type: \", polymer_type)\n",
    "   \n",
    "    inputs.polymer_type.value = polymer_type\n",
    "    \n",
    "    # run the SimTool with the input values\n",
    "    r = Run(nb, inputs)\n",
    "    "
   ]
  },
  {
   "cell_type": "code",
   "execution_count": 8,
   "metadata": {},
   "outputs": [
    {
     "data": {
      "application/vnd.jupyter.widget-view+json": {
       "model_id": "86e147f0f6e340f3b833c1c05394c466",
       "version_major": 2,
       "version_minor": 0
      },
      "text/plain": [
       "HBox(children=(FloatProgress(value=0.0, description='Executing', max=11.0, style=ProgressStyle(description_wid…"
      ]
     },
     "metadata": {},
     "output_type": "display_data"
    },
    {
     "name": "stdout",
     "output_type": "stream",
     "text": [
      "\n"
     ]
    }
   ],
   "source": [
    "#visualize final snapshot of structure\n",
    "imolecule.draw(r.outdir+\"/\"+r.read('Helix Name')+\".pdb\",size=(1000, 300))#, camera_type=\"orthographic\") "
   ]
  }
 ],
 "metadata": {
  "kernelspec": {
   "display_name": "Python 3",
   "language": "python",
   "name": "python3"
  },
  "language_info": {
   "codemirror_mode": {
    "name": "ipython",
    "version": 3
   },
   "file_extension": ".py",
   "mimetype": "text/x-python",
   "name": "python",
   "nbconvert_exporter": "python",
   "pygments_lexer": "ipython3",
   "version": "3.7.7"
  }
 },
 "nbformat": 4,
 "nbformat_minor": 2
}
