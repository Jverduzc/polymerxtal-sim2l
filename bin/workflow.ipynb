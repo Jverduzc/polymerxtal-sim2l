{
 "cells": [
  {
   "cell_type": "markdown",
   "metadata": {},
   "source": [
    "# Workflow notebook for the PolymerXtal SimTool #\n",
    "### Tongtong Shen, Jessica Nash and Alejandro Strachan ###\n",
    "### School of Materials Engineering, Purdue University and The Molecular Sciences Software Institute###\n",
    "\n",
    "The PolymerXtal SimTool is based on PolymerXtal software designed to build and analyze molecular-level polymer crystal structures. PolymerXtal provides a standardized process to generate polymer crystal structure based on monomer, tacticity, helicity, chiriality and unit cell information and analyze the crystallinity in polymer systems with given atom trajectories. These features have allowed PolymerXtal to lead further investigations of semi-crystalline polymers where most properties are governed by the crystalline microstructure and promote future research endeavors in the area of crystalline polymer simulations.\n",
    "\n",
    "In general, users need to specify as inputs the polymer type they wish to run, the helice structure, tacticity and chiriality. The SimTool generates the chain helix structure and a visual snapshot of it.\n",
    "\n",
    "The goal of the workflow notebook is to set up and run the PolymerXtal SimTool, which is demonstrated both for the case a single build, or as a high-throughput study, exploring various polymer types and helicity at once.\n",
    "\n",
    "To access the code, please use \"Edit App\" (top right).\n",
    " * **Important** \"Terminate Session\" (top right) will kill your entire Jupyter session."
   ]
  },
  {
   "cell_type": "markdown",
   "metadata": {},
   "source": [
    "## Set up imports ##\n",
    "\n",
    "We will first import the necessary libraries and packages, including the simtool package which helps locate the SimTool we wish to run and pass it inputs and outputs"
   ]
  },
  {
   "cell_type": "code",
   "execution_count": 1,
   "metadata": {},
   "outputs": [],
   "source": [
    "from hublib.tool import get_inputs, run_simtool, rdisplay, read, get_outputs_df, get_outputs, get_output_files\n",
    "from simtool import findInstalledSimToolNotebooks, searchForSimTool, findSimToolNotebook\n",
    "from simtool import getSimToolInputs, getSimToolOutputs, Run\n",
    "\n",
    "import os"
   ]
  },
  {
   "cell_type": "markdown",
   "metadata": {},
   "source": [
    "## SimTool information ##\n",
    "\n",
    "We will first create a dictionary containing the SimTool information using the \"findSimToolNotebook\" function"
   ]
  },
  {
   "cell_type": "code",
   "execution_count": 2,
   "metadata": {},
   "outputs": [
    {
     "name": "stdout",
     "output_type": "stream",
     "text": [
      "      notebookPath = /home/nanohub/shen276/polymerxtal/simtool/polymerxtal.ipynb\n",
      "       simToolName = polymerxtal\n",
      "   simToolRevision = None\n",
      "         published = False\n"
     ]
    }
   ],
   "source": [
    "# Identify the simtool and retrieve its status\n",
    "simToolName = \"polymerxtal\"\n",
    "nb = searchForSimTool('polymerxtal')\n",
    "for key in nb.keys():\n",
    "    print(\"%18s = %s\" % (key,nb[key]))"
   ]
  },
  {
   "cell_type": "markdown",
   "metadata": {},
   "source": [
    "### SimTool Inputs and Outputs ###\n",
    "We will then create an object for the simtool inputs using the \"getSimToolInputs\" function - this object is validated by the simtool library so only allowed values are passed to the simtool"
   ]
  },
  {
   "cell_type": "code",
   "execution_count": 3,
   "metadata": {},
   "outputs": [
    {
     "name": "stdout",
     "output_type": "stream",
     "text": [
      "polymer_type:\n",
      "    type: Text\n",
      "    description: Select the polymer type.\n",
      "    options: ['PAN', 'PE', 'PP', 'PS', 'POM', 'PTFE', 'PVC']\n",
      "    value: PAN\n",
      "\n",
      "helicity:\n",
      "    type: Text\n",
      "    description: Select the helicity of the polymer chain.\n",
      "    options: ['Helix 2*3/1', 'Helix 2*2/1', 'Helix 2*1/1']\n",
      "    value: Helix 2*3/1\n",
      "\n",
      "monomers:\n",
      "    type: Number\n",
      "    description: Number of monomers\n",
      "    min: 1\n",
      "    max: 100\n",
      "    value: 30\n",
      "\n",
      "tacticity:\n",
      "    type: Text\n",
      "    description: Select the tacticity of the polymer chain.\n",
      "    options: ['isotactic', 'atactic', 'syndiotactic', 'N/A']\n",
      "    value: isotactic\n",
      "\n",
      "chiriality:\n",
      "    type: Text\n",
      "    description: Select the chiriality of the polymer chain.\n",
      "    options: ['left', 'right', 'N/A']\n",
      "    value: right\n",
      "\n",
      "head_tail_defect_ratio:\n",
      "    type: Number\n",
      "    description: Ratio of head-to-head and tail-to-tail connections\n",
      "    min: 0\n",
      "    max: 1\n",
      "    value: 0\n",
      "\n",
      "configs:\n",
      "    type: Number\n",
      "    description: Number of attempts to find a configuration\n",
      "    min: 1\n",
      "    max: 5000\n",
      "    value: 30\n",
      "\n",
      "infinite:\n",
      "    type: Boolean\n",
      "    description: Whether to create periodic infinite chain\n",
      "    value: True\n",
      "\n",
      "create_lmpdata_file:\n",
      "    type: Boolean\n",
      "    description: Whether to create corresponding LAMMPS data file or not\n",
      "    value: True\n",
      "\n",
      "create_lmpinput_file:\n",
      "    type: Boolean\n",
      "    description: Whether to create corresponding LAMMPS input File or not\n",
      "    value: True\n",
      "\n",
      "ffield:\n",
      "    type: Text\n",
      "    description: Force field\n",
      "    options: ['Dreiding', 'PCFF']\n",
      "    value: Dreiding\n",
      "\n",
      "bondscale:\n",
      "    type: Number\n",
      "    description: Applied to equilibrium bond lengths\n",
      "    min: 1\n",
      "    max: 2\n",
      "    value: 1.1\n",
      "\n",
      "charge:\n",
      "    type: Text\n",
      "    description: Charge equilibration method\n",
      "    options: ['Gasteiger']\n",
      "    value: Gasteiger\n",
      "\n"
     ]
    }
   ],
   "source": [
    "# get the list of inputs\n",
    "inputs = getSimToolInputs(nb)\n",
    "print(inputs)"
   ]
  },
  {
   "cell_type": "code",
   "execution_count": 4,
   "metadata": {},
   "outputs": [
    {
     "data": {
      "text/plain": [
       "HelixName:\n",
       "    type: Text\n",
       "\n",
       "PDBview:\n",
       "    type: Text\n",
       "\n",
       "PDB:\n",
       "    type: Text\n",
       "\n",
       "LAMMPSDataFile:\n",
       "    type: Text\n",
       "\n",
       "Datafile_warnings:\n",
       "    type: Text\n",
       "\n",
       "X6paircoeffs:\n",
       "    type: Text\n",
       "\n",
       "LAMMPSinputfile:\n",
       "    type: Text"
      ]
     },
     "execution_count": 4,
     "metadata": {},
     "output_type": "execute_result"
    }
   ],
   "source": [
    "# we can get a list of expected outputs\n",
    "getSimToolOutputs(nb)"
   ]
  },
  {
   "cell_type": "markdown",
   "metadata": {},
   "source": [
    "## Setting SimTool Inputs ##\n",
    "\n",
    "Now we will setup the inputs and run a first simulation. Important aspects on SimTool inputs are:\n",
    " * Inputs are validated"
   ]
  },
  {
   "cell_type": "code",
   "execution_count": 5,
   "metadata": {},
   "outputs": [],
   "source": [
    "# range checking\n",
    "inputs.polymer_type.value = 'PE'\n",
    "inputs.monomers.value = 6\n",
    "inputs.infinite.value = False\n",
    "inputs.create_lmpdata_file.value = False\n",
    "inputs.create_lmpinput_file.value = False"
   ]
  },
  {
   "cell_type": "markdown",
   "metadata": {},
   "source": [
    "## Run the SimTool ###"
   ]
  },
  {
   "cell_type": "code",
   "execution_count": 6,
   "metadata": {},
   "outputs": [
    {
     "name": "stdout",
     "output_type": "stream",
     "text": [
      "runname   = 4710d23bdb944e5b9ff803991e0ee356\n",
      "outdir    = RUNS/4710d23bdb944e5b9ff803991e0ee356\n",
      "cached    = False\n",
      "published = False\n",
      "submit --local papermill -f inputs.yaml\n",
      "       /home/nanohub/shen276/polymerxtal/simtool/polymerxtal.ipynb\n",
      "       polymerxtal.ipynb\n"
     ]
    },
    {
     "name": "stderr",
     "output_type": "stream",
     "text": [
      "Input Notebook:  /home/nanohub/shen276/polymerxtal/simtool/polymerxtal.ipynb\n",
      "Output Notebook: polymerxtal.ipynb\n",
      "Executing: 100%|██████████| 13/13 [00:15<00:00,  1.21s/cell]\n"
     ]
    }
   ],
   "source": [
    "r = Run(nb, inputs)"
   ]
  },
  {
   "cell_type": "markdown",
   "metadata": {},
   "source": [
    "## Explore PolymerXtal outputs ##\n",
    "The Run object contains a useful method called \"getResultSummary\", which we can use to view the SimTool outputs at a high level in a pandas dataframe."
   ]
  },
  {
   "cell_type": "code",
   "execution_count": 7,
   "metadata": {},
   "outputs": [
    {
     "data": {
      "text/html": [
       "<div>\n",
       "<style scoped>\n",
       "    .dataframe tbody tr th:only-of-type {\n",
       "        vertical-align: middle;\n",
       "    }\n",
       "\n",
       "    .dataframe tbody tr th {\n",
       "        vertical-align: top;\n",
       "    }\n",
       "\n",
       "    .dataframe thead th {\n",
       "        text-align: right;\n",
       "    }\n",
       "</style>\n",
       "<table border=\"1\" class=\"dataframe\">\n",
       "  <thead>\n",
       "    <tr style=\"text-align: right;\">\n",
       "      <th></th>\n",
       "      <th>name</th>\n",
       "      <th>data</th>\n",
       "      <th>encoder</th>\n",
       "      <th>display</th>\n",
       "      <th>filename</th>\n",
       "    </tr>\n",
       "  </thead>\n",
       "  <tbody>\n",
       "    <tr>\n",
       "      <th>0</th>\n",
       "      <td>simToolSaveErrorOccurred</td>\n",
       "      <td>0</td>\n",
       "      <td>text</td>\n",
       "      <td>None</td>\n",
       "      <td>polymerxtal.ipynb</td>\n",
       "    </tr>\n",
       "    <tr>\n",
       "      <th>1</th>\n",
       "      <td>simToolAllOutputsSaved</td>\n",
       "      <td>1</td>\n",
       "      <td>text</td>\n",
       "      <td>None</td>\n",
       "      <td>polymerxtal.ipynb</td>\n",
       "    </tr>\n",
       "    <tr>\n",
       "      <th>2</th>\n",
       "      <td>HelixName</td>\n",
       "      <td>\"PE_helix_2_3_1_iso+\"</td>\n",
       "      <td>text</td>\n",
       "      <td>None</td>\n",
       "      <td>polymerxtal.ipynb</td>\n",
       "    </tr>\n",
       "    <tr>\n",
       "      <th>3</th>\n",
       "      <td>PDBview</td>\n",
       "      <td>file://PE_helix_2_3_1_iso+_view.pdb</td>\n",
       "      <td>text</td>\n",
       "      <td>None</td>\n",
       "      <td>polymerxtal.ipynb</td>\n",
       "    </tr>\n",
       "    <tr>\n",
       "      <th>4</th>\n",
       "      <td>PDB</td>\n",
       "      <td>file://PE_helix_2_3_1_iso+.pdb</td>\n",
       "      <td>text</td>\n",
       "      <td>None</td>\n",
       "      <td>polymerxtal.ipynb</td>\n",
       "    </tr>\n",
       "    <tr>\n",
       "      <th>5</th>\n",
       "      <td>Datafile_warnings</td>\n",
       "      <td>file://Datafile_warnings.txt</td>\n",
       "      <td>text</td>\n",
       "      <td>None</td>\n",
       "      <td>polymerxtal.ipynb</td>\n",
       "    </tr>\n",
       "    <tr>\n",
       "      <th>6</th>\n",
       "      <td>LAMMPSDataFile</td>\n",
       "      <td>file://PE_helix_2_3_1_iso+.data</td>\n",
       "      <td>text</td>\n",
       "      <td>None</td>\n",
       "      <td>polymerxtal.ipynb</td>\n",
       "    </tr>\n",
       "    <tr>\n",
       "      <th>7</th>\n",
       "      <td>X6paircoeffs</td>\n",
       "      <td>file://X6paircoeffs.txt</td>\n",
       "      <td>text</td>\n",
       "      <td>None</td>\n",
       "      <td>polymerxtal.ipynb</td>\n",
       "    </tr>\n",
       "    <tr>\n",
       "      <th>8</th>\n",
       "      <td>LAMMPSinputfile</td>\n",
       "      <td>file://LAMMPSinputfile.txt</td>\n",
       "      <td>text</td>\n",
       "      <td>None</td>\n",
       "      <td>polymerxtal.ipynb</td>\n",
       "    </tr>\n",
       "  </tbody>\n",
       "</table>\n",
       "</div>"
      ],
      "text/plain": [
       "                       name                                 data encoder  \\\n",
       "0  simToolSaveErrorOccurred                                    0    text   \n",
       "1    simToolAllOutputsSaved                                    1    text   \n",
       "2                 HelixName                \"PE_helix_2_3_1_iso+\"    text   \n",
       "3                   PDBview  file://PE_helix_2_3_1_iso+_view.pdb    text   \n",
       "4                       PDB       file://PE_helix_2_3_1_iso+.pdb    text   \n",
       "5         Datafile_warnings         file://Datafile_warnings.txt    text   \n",
       "6            LAMMPSDataFile      file://PE_helix_2_3_1_iso+.data    text   \n",
       "7              X6paircoeffs              file://X6paircoeffs.txt    text   \n",
       "8           LAMMPSinputfile           file://LAMMPSinputfile.txt    text   \n",
       "\n",
       "  display           filename  \n",
       "0    None  polymerxtal.ipynb  \n",
       "1    None  polymerxtal.ipynb  \n",
       "2    None  polymerxtal.ipynb  \n",
       "3    None  polymerxtal.ipynb  \n",
       "4    None  polymerxtal.ipynb  \n",
       "5    None  polymerxtal.ipynb  \n",
       "6    None  polymerxtal.ipynb  \n",
       "7    None  polymerxtal.ipynb  \n",
       "8    None  polymerxtal.ipynb  "
      ]
     },
     "execution_count": 7,
     "metadata": {},
     "output_type": "execute_result"
    }
   ],
   "source": [
    "r.getResultSummary()"
   ]
  },
  {
   "cell_type": "code",
   "execution_count": 8,
   "metadata": {},
   "outputs": [
    {
     "data": {
      "text/html": [
       "<div id=\"molecule_e409ea6e-9982-4c51-91a0-f5e1887a9f63\"></div>\n",
       "           <script type=\"text/javascript\">\n",
       "           require.config({baseUrl: '/',\n",
       "                           paths: {imolecule: ['nbextensions/imolecule.min', 'https://rawgit.com/patrickfuller/imolecule/master/imolecule/js/build/imolecule.min']}});\n",
       "           require(['imolecule'], function () {\n",
       "               var $d = $('#molecule_e409ea6e-9982-4c51-91a0-f5e1887a9f63');\n",
       "               $d.width(1000); $d.height(300);\n",
       "               $d.imolecule = jQuery.extend({}, imolecule);\n",
       "               $d.imolecule.create($d, {drawingType: 'ball and stick',\n",
       "                                        cameraType: 'perspective',\n",
       "                                        shader: 'lambert',\n",
       "                                        showSave: false});\n",
       "               $d.imolecule.addElements({});\n",
       "               $d.imolecule.draw({\"atoms\":[{\"charge\":0.022977512114045025,\"element\":\"H\",\"location\":[-0.6281578947368418,0.4562105263157892,-6.658342105263158]},{\"charge\":-0.06527627911912873,\"element\":\"C\",\"location\":[-0.6281578947368418,0.4562105263157892,-5.5683421052631585]},{\"charge\":-0.0559109602061563,\"element\":\"C\",\"location\":[0.7828421052631582,0.30721052631578916,-4.995342105263158]},{\"charge\":-0.053305879218276994,\"element\":\"C\",\"location\":[0.7828421052631582,0.30721052631578916,-3.4603421052631584]},{\"charge\":0.022977512114045025,\"element\":\"H\",\"location\":[-1.0381578947368417,1.3812105263157894,-5.1613421052631585]},{\"charge\":0.022977512114045025,\"element\":\"H\",\"location\":[-1.2901578947368417,-0.3057894736842106,-5.160342105263158]},{\"charge\":0.026264641346796454,\"element\":\"H\",\"location\":[1.376842105263158,1.1242105263157893,-5.404342105263158]},{\"charge\":0.026264641346796454,\"element\":\"H\",\"location\":[1.1598421052631585,-0.6577894736842107,-5.331342105263158]},{\"charge\":-0.053065378113835784,\"element\":\"C\",\"location\":[-0.050157894736841735,-0.8397894736842106,-2.8873421052631585]},{\"charge\":-0.053057015807534656,\"element\":\"C\",\"location\":[-0.050157894736841735,-0.8407894736842106,-1.351342105263158]},{\"charge\":0.026520049006504384,\"element\":\"H\",\"location\":[1.7888421052631585,0.20121052631578928,-3.0523421052631585]},{\"charge\":0.026520049006504384,\"element\":\"H\",\"location\":[0.4538421052631585,1.2632105263157891,-3.0523421052631585]},{\"charge\":0.02652834582757616,\"element\":\"H\",\"location\":[0.3598421052631584,-1.7627894736842107,-3.2963421052631583]},{\"charge\":0.02652834582757616,\"element\":\"H\",\"location\":[-1.0751578947368416,-0.6837894736842107,-3.2233421052631583]},{\"charge\":-0.05305690552499095,\"element\":\"C\",\"location\":[-0.6281578947368418,0.4562105263157892,-0.7783421052631585]},{\"charge\":-0.05305690552499095,\"element\":\"C\",\"location\":[-0.6281578947368418,0.4562105263157892,0.7566578947368416]},{\"charge\":0.026528452106547227,\"element\":\"H\",\"location\":[-0.6461578947368417,-1.6567894736842106,-0.944342105263158]},{\"charge\":0.026528452106547227,\"element\":\"H\",\"location\":[0.9418421052631585,-1.0327894736842107,-0.944342105263158]},{\"charge\":0.02652845253646993,\"element\":\"H\",\"location\":[-1.6331578947368417,0.5622105263157895,-1.1873421052631583]},{\"charge\":0.02652845253646993,\"element\":\"H\",\"location\":[0.019842105263158327,1.2652105263157893,-1.1153421052631582]},{\"charge\":-0.053057015807534656,\"element\":\"C\",\"location\":[0.7828421052631582,0.30721052631578916,1.329657894736842]},{\"charge\":-0.053065378113835784,\"element\":\"C\",\"location\":[0.7828421052631582,0.30721052631578916,2.8646578947368413]},{\"charge\":0.02652845253646993,\"element\":\"H\",\"location\":[-1.0371578947368416,1.3812105263157894,1.164657894736842]},{\"charge\":0.02652845253646993,\"element\":\"H\",\"location\":[-1.2901578947368417,-0.3057894736842106,1.164657894736842]},{\"charge\":0.026528452106547227,\"element\":\"H\",\"location\":[1.376842105263158,1.1242105263157893,0.9206578947368413]},{\"charge\":0.026528452106547227,\"element\":\"H\",\"location\":[1.1598421052631585,-0.6577894736842107,0.9936578947368417]},{\"charge\":-0.053305879218276994,\"element\":\"C\",\"location\":[-0.050157894736841735,-0.8397894736842106,3.4376578947368417]},{\"charge\":-0.0559109602061563,\"element\":\"C\",\"location\":[-0.050157894736841735,-0.8407894736842106,4.973657894736841]},{\"charge\":0.02652834582757616,\"element\":\"H\",\"location\":[1.7888421052631585,0.20121052631578928,3.2726578947368408]},{\"charge\":0.02652834582757616,\"element\":\"H\",\"location\":[0.4548421052631584,1.2632105263157891,3.2726578947368408]},{\"charge\":0.026520049006504384,\"element\":\"H\",\"location\":[0.3598421052631584,-1.7627894736842107,3.028657894736841]},{\"charge\":0.026520049006504384,\"element\":\"H\",\"location\":[-1.0751578947368416,-0.6837894736842107,3.1016578947368414]},{\"charge\":-0.06527627911912873,\"element\":\"C\",\"location\":[-0.6281578947368418,0.4562105263157892,5.546657894736842]},{\"charge\":0.022977512114045025,\"element\":\"H\",\"location\":[-0.6281578947368418,0.4562105263157892,6.635657894736842]},{\"charge\":0.026264641346796454,\"element\":\"H\",\"location\":[-0.6461578947368417,-1.6567894736842106,5.380657894736841]},{\"charge\":0.026264641346796454,\"element\":\"H\",\"location\":[0.9418421052631585,-1.0327894736842107,5.380657894736841]},{\"charge\":0.022977512114045025,\"element\":\"H\",\"location\":[-1.6331578947368417,0.5622105263157895,5.137657894736841]},{\"charge\":0.022977512114045025,\"element\":\"H\",\"location\":[0.019842105263158327,1.2652105263157893,5.209657894736842]}],\"bonds\":[{\"atoms\":[0,1],\"order\":1},{\"atoms\":[1,4],\"order\":1},{\"atoms\":[1,5],\"order\":1},{\"atoms\":[1,2],\"order\":1},{\"atoms\":[6,2],\"order\":1},{\"atoms\":[7,2],\"order\":1},{\"atoms\":[2,3],\"order\":1},{\"atoms\":[3,10],\"order\":1},{\"atoms\":[3,11],\"order\":1},{\"atoms\":[3,8],\"order\":1},{\"atoms\":[12,8],\"order\":1},{\"atoms\":[13,8],\"order\":1},{\"atoms\":[8,9],\"order\":1},{\"atoms\":[9,17],\"order\":1},{\"atoms\":[9,16],\"order\":1},{\"atoms\":[9,14],\"order\":1},{\"atoms\":[18,14],\"order\":1},{\"atoms\":[19,14],\"order\":1},{\"atoms\":[14,15],\"order\":1},{\"atoms\":[15,22],\"order\":1},{\"atoms\":[15,23],\"order\":1},{\"atoms\":[15,20],\"order\":1},{\"atoms\":[24,20],\"order\":1},{\"atoms\":[25,20],\"order\":1},{\"atoms\":[20,21],\"order\":1},{\"atoms\":[21,28],\"order\":1},{\"atoms\":[21,29],\"order\":1},{\"atoms\":[21,26],\"order\":1},{\"atoms\":[30,26],\"order\":1},{\"atoms\":[31,26],\"order\":1},{\"atoms\":[26,27],\"order\":1},{\"atoms\":[27,34],\"order\":1},{\"atoms\":[27,35],\"order\":1},{\"atoms\":[27,32],\"order\":1},{\"atoms\":[36,32],\"order\":1},{\"atoms\":[37,32],\"order\":1},{\"atoms\":[32,33],\"order\":1}],\"formula\":\"C12H26\",\"molecular_weight\":170.33483999999996,\"units\":{\"molecular_weight\":\"g / mol\"}});\n",
       "\n",
       "               $d.resizable({\n",
       "                   aspectRatio: 1000 / 300,\n",
       "                   resize: function (evt, ui) {\n",
       "                       $d.imolecule.renderer.setSize(ui.size.width,\n",
       "                                                     ui.size.height);\n",
       "                   }\n",
       "               });\n",
       "           });\n",
       "           </script>"
      ],
      "text/plain": [
       "<IPython.core.display.HTML object>"
      ]
     },
     "metadata": {},
     "output_type": "display_data"
    }
   ],
   "source": [
    "# Let's look at the final structure first\n",
    "pdbFile = r.read('PDBview',raw=True)\n",
    "import imolecule\n",
    "imolecule.draw(pdbFile[7:],size=(1000, 300))\n",
    "#imolecule.draw(r.outdir+\"/\"+r.read('Helix Name')+\".pdb\",size=(1000, 300))#, camera_type=\"orthographic\") "
   ]
  },
  {
   "cell_type": "markdown",
   "metadata": {},
   "source": [
    "## Scripting multiple PolymerXtal builds ##\n",
    "\n",
    "The above cells demonstrated a single build using the simtool library. We will now demonstrate a high-throughput approach to setting up multiple builds, where will demonstrated various polymer types and helices."
   ]
  },
  {
   "cell_type": "code",
   "execution_count": 9,
   "metadata": {},
   "outputs": [
    {
     "name": "stdout",
     "output_type": "stream",
     "text": [
      "Polymer Type:  PP\n",
      "runname   = 7b062e86f5f64a38aa6cfbc4beb3150c\n",
      "outdir    = RUNS/7b062e86f5f64a38aa6cfbc4beb3150c\n",
      "cached    = False\n",
      "published = False\n",
      "submit --local papermill -f inputs.yaml\n",
      "       /home/nanohub/shen276/polymerxtal/simtool/polymerxtal.ipynb\n",
      "       polymerxtal.ipynb\n"
     ]
    },
    {
     "name": "stderr",
     "output_type": "stream",
     "text": [
      "Input Notebook:  /home/nanohub/shen276/polymerxtal/simtool/polymerxtal.ipynb\n",
      "Output Notebook: polymerxtal.ipynb\n",
      "Executing:  62%|██████▏   | 8/13 [00:06<00:06,  1.29s/cell]1 molecule converted\n",
      "1 molecule converted\n",
      "Executing: 100%|██████████| 13/13 [00:21<00:00,  1.67s/cell]\n"
     ]
    },
    {
     "name": "stdout",
     "output_type": "stream",
     "text": [
      "Polymer Type:  PS\n",
      "runname   = f941b0788ce54a3ea205a3393f7f807d\n",
      "outdir    = RUNS/f941b0788ce54a3ea205a3393f7f807d\n",
      "cached    = False\n",
      "published = False\n",
      "submit --local papermill -f inputs.yaml\n",
      "       /home/nanohub/shen276/polymerxtal/simtool/polymerxtal.ipynb\n",
      "       polymerxtal.ipynb\n"
     ]
    },
    {
     "name": "stderr",
     "output_type": "stream",
     "text": [
      "Input Notebook:  /home/nanohub/shen276/polymerxtal/simtool/polymerxtal.ipynb\n",
      "Output Notebook: polymerxtal.ipynb\n",
      "Executing:  62%|██████▏   | 8/13 [00:05<00:06,  1.23s/cell]1 molecule converted\n",
      "1 molecule converted\n",
      "Executing: 100%|██████████| 13/13 [00:58<00:00,  4.52s/cell]\n"
     ]
    }
   ],
   "source": [
    "polymer_type_list = ['PP', 'PS']\n",
    "inputs.infinite.value = True\n",
    "inputs.create_lmpdata_file.value = True\n",
    "inputs.create_lmpinput_file.value = True\n",
    "\n",
    "for i,polymer_type in enumerate(polymer_type_list):\n",
    "    print (\"Polymer Type: \", polymer_type)\n",
    "   \n",
    "    inputs.polymer_type.value = polymer_type\n",
    "    if i:\n",
    "        inputs.ffield.value = \"PCFF\"\n",
    "    \n",
    "    # run the SimTool with the input values\n",
    "    r = Run(nb, inputs)\n",
    "    "
   ]
  },
  {
   "cell_type": "code",
   "execution_count": 10,
   "metadata": {},
   "outputs": [
    {
     "data": {
      "text/html": [
       "<div id=\"molecule_f8c72de2-bd7e-4eae-97d9-4262b8c1c395\"></div>\n",
       "           <script type=\"text/javascript\">\n",
       "           require.config({baseUrl: '/',\n",
       "                           paths: {imolecule: ['nbextensions/imolecule.min', 'https://rawgit.com/patrickfuller/imolecule/master/imolecule/js/build/imolecule.min']}});\n",
       "           require(['imolecule'], function () {\n",
       "               var $d = $('#molecule_f8c72de2-bd7e-4eae-97d9-4262b8c1c395');\n",
       "               $d.width(1000); $d.height(300);\n",
       "               $d.imolecule = jQuery.extend({}, imolecule);\n",
       "               $d.imolecule.create($d, {drawingType: 'ball and stick',\n",
       "                                        cameraType: 'perspective',\n",
       "                                        shader: 'lambert',\n",
       "                                        showSave: false});\n",
       "               $d.imolecule.addElements({});\n",
       "               $d.imolecule.draw({\"atoms\":[{\"charge\":-0.045641613875987704,\"element\":\"C\",\"location\":[-0.5310937499999997,0.6459270833333299,-7.150208333333331]},{\"charge\":-0.015284016248213565,\"element\":\"C\",\"location\":[-0.5300937499999998,0.6449270833333305,-5.620208333333331]},{\"charge\":-0.039344575287683155,\"element\":\"C\",\"location\":[0.8249062500000006,0.13692708333333048,-5.108208333333331]},{\"charge\":0.02712494237916344,\"element\":\"H\",\"location\":[-1.4500937499999997,1.03992708333333,-7.583208333333331]},{\"charge\":0.02712494237916344,\"element\":\"H\",\"location\":[0.2639062500000007,1.29792708333333,-7.512208333333331]},{\"charge\":0.0348970929123312,\"element\":\"H\",\"location\":[-1.3770937499999998,0.0619270833333303,-5.256208333333331]},{\"charge\":-0.044253062489588886,\"element\":\"C\",\"location\":[-0.7620937499999996,2.0439270833333305,-5.046208333333331]},{\"charge\":-0.05830659125002761,\"element\":\"C\",\"location\":[-1.4090937499999998,3.0169270833333304,-5.81620833333333]},{\"charge\":-0.0583065912500276,\"element\":\"C\",\"location\":[-0.37109374999999956,2.33492708333333,-3.733208333333331]},{\"charge\":-0.061492586737945554,\"element\":\"C\",\"location\":[-1.6630937499999998,4.2829270833333295,-5.273208333333331]},{\"charge\":0.06203762109486897,\"element\":\"H\",\"location\":[-1.7490937499999997,2.7799270833333303,-6.824208333333331]},{\"charge\":-0.061492586737945554,\"element\":\"C\",\"location\":[-0.6260937499999994,3.5989270833333302,-3.1912083333333308]},{\"charge\":0.06203762109486897,\"element\":\"H\",\"location\":[0.13290625000000045,1.5759270833333305,-3.134208333333331]},{\"charge\":-0.0617414849269433,\"element\":\"C\",\"location\":[-1.2710937499999995,4.574927083333331,-3.9612083333333308]},{\"charge\":0.061766555669687265,\"element\":\"H\",\"location\":[-2.1670937499999994,5.04192708333333,-5.872208333333331]},{\"charge\":0.061766555669687265,\"element\":\"H\",\"location\":[-0.3220937499999996,3.82692708333333,-2.169208333333331]},{\"charge\":0.06175835637668205,\"element\":\"H\",\"location\":[-1.4700937499999998,5.5599270833333305,-3.540208333333331]},{\"charge\":-0.01475504600157922,\"element\":\"C\",\"location\":[0.8239062500000003,0.13692708333333048,-3.5782083333333308]},{\"charge\":-0.03932650489236828,\"element\":\"C\",\"location\":[-0.2940937499999996,-0.7830729166666694,-3.066208333333331]},{\"charge\":0.027686636281323257,\"element\":\"H\",\"location\":[1.6249062500000004,0.7359270833333307,-5.541208333333331]},{\"charge\":0.027686636281323257,\"element\":\"H\",\"location\":[0.9929062500000008,-0.8780729166666696,-5.469208333333331]},{\"charge\":0.034915016865956494,\"element\":\"H\",\"location\":[0.7429062500000008,1.1609270833333305,-3.214208333333331]},{\"charge\":-0.04423477651735536,\"element\":\"C\",\"location\":[2.1509062500000002,-0.3620729166666701,-3.004208333333331]},{\"charge\":-0.05830635603376135,\"element\":\"C\",\"location\":[3.3189062500000004,-0.29007291666667,-3.773208333333331]},{\"charge\":-0.058306356033761345,\"element\":\"C\",\"location\":[2.2069062500000003,-0.8460729166666696,-1.6922083333333306]},{\"charge\":-0.06149258579804686,\"element\":\"C\",\"location\":[4.54190625,-0.7010729166666696,-3.231208333333331]},{\"charge\":0.06203762201598847,\"element\":\"H\",\"location\":[3.2819062500000005,0.12392708333333058,-4.78120833333333]},{\"charge\":-0.06149258579804686,\"element\":\"C\",\"location\":[3.4309062500000005,-1.2570729166666696,-1.1492083333333305]},{\"charge\":0.06203762201598847,\"element\":\"H\",\"location\":[1.29890625,-0.9030729166666696,-1.092208333333331]},{\"charge\":-0.0617414849269433,\"element\":\"C\",\"location\":[4.597906250000001,-1.1870729166666698,-1.9182083333333306]},{\"charge\":0.061766555669687265,\"element\":\"H\",\"location\":[5.44990625,-0.6440729166666697,-3.830208333333331]},{\"charge\":0.061766555669687265,\"element\":\"H\",\"location\":[3.47490625,-1.6340729166666699,-0.12720833333333115]},{\"charge\":0.06175835637668205,\"element\":\"H\",\"location\":[5.549906250000001,-1.5070729166666696,-1.4972083333333313]},{\"charge\":-0.014754809694131099,\"element\":\"C\",\"location\":[-0.2940937499999996,-0.7820729166666696,-1.536208333333331]},{\"charge\":-0.039326503913762335,\"element\":\"C\",\"location\":[-0.5310937499999997,0.6459270833333299,-1.0252083333333308]},{\"charge\":0.02768686409625518,\"element\":\"H\",\"location\":[-0.17509374999999983,-1.7760729166666698,-3.4982083333333307]},{\"charge\":0.02768686409625518,\"element\":\"H\",\"location\":[-1.2560937499999998,-0.4210729166666698,-3.428208333333331]},{\"charge\":0.034915017796658655,\"element\":\"H\",\"location\":[0.6339062500000008,-1.2240729166666697,-1.1732083333333305]},{\"charge\":-0.04423477553874942,\"element\":\"C\",\"location\":[-1.3890937499999998,-1.6820729166666695,-0.9622083333333311]},{\"charge\":-0.05830635603376135,\"element\":\"C\",\"location\":[-1.9100937499999997,-2.7290729166666696,-1.730208333333331]},{\"charge\":-0.058306356033761345,\"element\":\"C\",\"location\":[-1.8360937499999994,-1.4880729166666695,0.3507916666666695]},{\"charge\":-0.06149258579804686,\"element\":\"C\",\"location\":[-2.8780937499999997,-3.58207291666667,-1.188208333333331]},{\"charge\":0.06203762201598847,\"element\":\"H\",\"location\":[-1.5330937499999995,-2.90407291666667,-2.7392083333333312]},{\"charge\":-0.06149258579804686,\"element\":\"C\",\"location\":[-2.80409375,-2.3420729166666696,0.8927916666666684]},{\"charge\":0.06203762201598847,\"element\":\"H\",\"location\":[-1.4310937499999996,-0.6740729166666695,0.9497916666666688]},{\"charge\":-0.0617414849269433,\"element\":\"C\",\"location\":[-3.3260937499999996,-3.38807291666667,0.12379166666666919]},{\"charge\":0.061766555669687265,\"element\":\"H\",\"location\":[-3.2830937499999995,-4.39807291666667,-1.789208333333331]},{\"charge\":0.061766555669687265,\"element\":\"H\",\"location\":[-3.1530937499999996,-2.1930729166666696,1.91579166666667]},{\"charge\":0.06175835637668205,\"element\":\"H\",\"location\":[-4.079093749999999,-4.05307291666667,0.5447916666666694]},{\"charge\":-0.014754808712181594,\"element\":\"C\",\"location\":[-0.5300937499999998,0.6449270833333305,0.5057916666666689]},{\"charge\":-0.03932626436256212,\"element\":\"C\",\"location\":[0.8249062500000006,0.13692708333333048,1.0177916666666684]},{\"charge\":0.02768686409625518,\"element\":\"H\",\"location\":[-1.4500937499999997,1.0389270833333306,-1.4572083333333312]},{\"charge\":0.02768686409625518,\"element\":\"H\",\"location\":[0.26290625000000034,1.2989270833333304,-1.3862083333333306]},{\"charge\":0.034915017796658655,\"element\":\"H\",\"location\":[-1.3760937499999994,0.0619270833333303,0.8687916666666693]},{\"charge\":-0.04423477553874942,\"element\":\"C\",\"location\":[-0.7620937499999996,2.0439270833333305,1.0787916666666684]},{\"charge\":-0.05830635603376135,\"element\":\"C\",\"location\":[-1.4090937499999998,3.0179270833333307,0.31079166666666946]},{\"charge\":-0.058306356033761345,\"element\":\"C\",\"location\":[-0.37009374999999967,2.33492708333333,2.3927916666666684]},{\"charge\":-0.06149258579804686,\"element\":\"C\",\"location\":[-1.6630937499999998,4.283927083333331,0.8527916666666693]},{\"charge\":0.06203762201598847,\"element\":\"H\",\"location\":[-1.7480937499999998,2.7799270833333303,-0.6982083333333309]},{\"charge\":-0.06149258579804686,\"element\":\"C\",\"location\":[-0.6260937499999994,3.5999270833333306,2.9357916666666695]},{\"charge\":0.06203762201598847,\"element\":\"H\",\"location\":[0.1319062500000001,1.57692708333333,2.9917916666666686]},{\"charge\":-0.0617414849269433,\"element\":\"C\",\"location\":[-1.2710937499999995,4.574927083333331,2.16579166666667]},{\"charge\":0.061766555669687265,\"element\":\"H\",\"location\":[-2.1670937499999994,5.04192708333333,0.25279166666666875]},{\"charge\":0.061766555669687265,\"element\":\"H\",\"location\":[-0.3220937499999996,3.827927083333331,3.9567916666666685]},{\"charge\":0.06175835637668205,\"element\":\"H\",\"location\":[-1.4700937499999998,5.5599270833333305,2.5867916666666693]},{\"charge\":-0.014736698554931768,\"element\":\"C\",\"location\":[0.82290625,0.13692708333333048,2.5477916666666696]},{\"charge\":-0.03879011320264148,\"element\":\"C\",\"location\":[-0.2940937499999996,-0.7830729166666694,3.05979166666667]},{\"charge\":0.027686865030137228,\"element\":\"H\",\"location\":[1.6249062500000004,0.7359270833333307,0.5857916666666689]},{\"charge\":0.027686865030137228,\"element\":\"H\",\"location\":[0.9929062500000008,-0.8780729166666696,0.6557916666666692]},{\"charge\":0.03491524865589348,\"element\":\"H\",\"location\":[0.7429062500000008,1.1609270833333305,2.910791666666669]},{\"charge\":-0.04423453509354747,\"element\":\"C\",\"location\":[2.1509062500000002,-0.3620729166666701,3.122791666666669]},{\"charge\":-0.05830635506438401,\"element\":\"C\",\"location\":[3.3189062500000004,-0.2890729166666697,2.3527916666666693]},{\"charge\":-0.058306355064384,\"element\":\"C\",\"location\":[2.2079062500000006,-0.8460729166666696,4.43479166666667]},{\"charge\":-0.06149258579804686,\"element\":\"C\",\"location\":[4.540906250000001,-0.7000729166666697,2.894791666666669]},{\"charge\":0.06203762201598847,\"element\":\"H\",\"location\":[3.2819062500000005,0.12392708333333058,1.343791666666669]},{\"charge\":-0.06149258579804686,\"element\":\"C\",\"location\":[3.42990625,-1.2570729166666696,4.977791666666669]},{\"charge\":0.06203762201598847,\"element\":\"H\",\"location\":[1.29890625,-0.9030729166666696,5.03479166666667]},{\"charge\":-0.0617414849269433,\"element\":\"C\",\"location\":[4.59690625,-1.1860729166666695,4.2067916666666685]},{\"charge\":0.061766555669687265,\"element\":\"H\",\"location\":[5.44990625,-0.6440729166666697,2.2947916666666694]},{\"charge\":0.061766555669687265,\"element\":\"H\",\"location\":[3.47490625,-1.6340729166666699,5.9997916666666695]},{\"charge\":0.06175835637668205,\"element\":\"H\",\"location\":[5.549906250000001,-1.5070729166666696,4.628791666666669]},{\"charge\":-0.008481057863612801,\"element\":\"C\",\"location\":[-0.2930937499999997,-0.7810729166666697,4.589791666666669]},{\"charge\":0.0277048489680112,\"element\":\"H\",\"location\":[-0.17509374999999983,-1.7750729166666694,2.6267916666666684]},{\"charge\":0.0277048489680112,\"element\":\"H\",\"location\":[-1.2560937499999998,-0.4210729166666698,2.69779166666667]},{\"charge\":0.035483068605888984,\"element\":\"H\",\"location\":[0.6339062500000008,-1.2230729166666698,4.953791666666668]},{\"charge\":-0.04368179113068766,\"element\":\"C\",\"location\":[-1.3890937499999998,-1.6820729166666695,5.163791666666669]},{\"charge\":-0.05828800240467291,\"element\":\"C\",\"location\":[-1.9100937499999997,-2.7300729166666695,4.394791666666669]},{\"charge\":-0.05828800240467291,\"element\":\"C\",\"location\":[-1.8370937499999997,-1.4880729166666695,6.47679166666667]},{\"charge\":-0.061492352791038866,\"element\":\"C\",\"location\":[-2.8780937499999997,-3.58207291666667,4.936791666666669]},{\"charge\":0.06203785247223468,\"element\":\"H\",\"location\":[-1.5340937499999998,-2.90407291666667,3.38679166666667]},{\"charge\":-0.061492352791038866,\"element\":\"C\",\"location\":[-2.80409375,-2.3410729166666697,7.019791666666669]},{\"charge\":0.06203785247223468,\"element\":\"H\",\"location\":[-1.4310937499999996,-0.6730729166666696,7.07579166666667]},{\"charge\":-0.06174148307396156,\"element\":\"C\",\"location\":[-3.3260937499999996,-3.38807291666667,6.248791666666668]},{\"charge\":0.061766556577666824,\"element\":\"H\",\"location\":[-3.2830937499999995,-4.397072916666669,4.337791666666669]},{\"charge\":0.061766556577666824,\"element\":\"H\",\"location\":[-3.1520937499999997,-2.1920729166666697,8.041791666666668]},{\"charge\":0.06175835637668205,\"element\":\"H\",\"location\":[-4.08009375,-4.05207291666667,6.670791666666669]}],\"bonds\":[{\"atoms\":[3,0],\"order\":1},{\"atoms\":[4,0],\"order\":1},{\"atoms\":[0,1],\"order\":1},{\"atoms\":[10,7],\"order\":1},{\"atoms\":[14,9],\"order\":1},{\"atoms\":[7,9],\"order\":2},{\"atoms\":[7,6],\"order\":1},{\"atoms\":[1,5],\"order\":1},{\"atoms\":[1,2],\"order\":1},{\"atoms\":[1,6],\"order\":1},{\"atoms\":[19,2],\"order\":1},{\"atoms\":[20,2],\"order\":1},{\"atoms\":[9,13],\"order\":1},{\"atoms\":[2,17],\"order\":1},{\"atoms\":[6,8],\"order\":2},{\"atoms\":[26,23],\"order\":1},{\"atoms\":[13,16],\"order\":1},{\"atoms\":[13,11],\"order\":2},{\"atoms\":[30,25],\"order\":1},{\"atoms\":[23,25],\"order\":2},{\"atoms\":[23,22],\"order\":1},{\"atoms\":[8,11],\"order\":1},{\"atoms\":[8,12],\"order\":1},{\"atoms\":[17,21],\"order\":1},{\"atoms\":[17,18],\"order\":1},{\"atoms\":[17,22],\"order\":1},{\"atoms\":[35,18],\"order\":1},{\"atoms\":[36,18],\"order\":1},{\"atoms\":[25,29],\"order\":1},{\"atoms\":[11,15],\"order\":1},{\"atoms\":[18,33],\"order\":1},{\"atoms\":[22,24],\"order\":2},{\"atoms\":[42,39],\"order\":1},{\"atoms\":[29,32],\"order\":1},{\"atoms\":[29,27],\"order\":2},{\"atoms\":[46,41],\"order\":1},{\"atoms\":[39,41],\"order\":2},{\"atoms\":[39,38],\"order\":1},{\"atoms\":[24,27],\"order\":1},{\"atoms\":[24,28],\"order\":1},{\"atoms\":[33,37],\"order\":1},{\"atoms\":[33,34],\"order\":1},{\"atoms\":[33,38],\"order\":1},{\"atoms\":[51,34],\"order\":1},{\"atoms\":[52,34],\"order\":1},{\"atoms\":[41,45],\"order\":1},{\"atoms\":[27,31],\"order\":1},{\"atoms\":[34,49],\"order\":1},{\"atoms\":[38,40],\"order\":2},{\"atoms\":[58,55],\"order\":1},{\"atoms\":[45,48],\"order\":1},{\"atoms\":[45,43],\"order\":2},{\"atoms\":[62,57],\"order\":1},{\"atoms\":[55,57],\"order\":2},{\"atoms\":[55,54],\"order\":1},{\"atoms\":[40,43],\"order\":1},{\"atoms\":[40,44],\"order\":1},{\"atoms\":[49,53],\"order\":1},{\"atoms\":[49,50],\"order\":1},{\"atoms\":[49,54],\"order\":1},{\"atoms\":[67,50],\"order\":1},{\"atoms\":[68,50],\"order\":1},{\"atoms\":[57,61],\"order\":1},{\"atoms\":[43,47],\"order\":1},{\"atoms\":[50,65],\"order\":1},{\"atoms\":[54,56],\"order\":2},{\"atoms\":[74,71],\"order\":1},{\"atoms\":[61,64],\"order\":1},{\"atoms\":[61,59],\"order\":2},{\"atoms\":[78,73],\"order\":1},{\"atoms\":[71,73],\"order\":2},{\"atoms\":[71,70],\"order\":1},{\"atoms\":[56,59],\"order\":1},{\"atoms\":[56,60],\"order\":1},{\"atoms\":[65,69],\"order\":1},{\"atoms\":[65,66],\"order\":1},{\"atoms\":[65,70],\"order\":1},{\"atoms\":[82,66],\"order\":1},{\"atoms\":[83,66],\"order\":1},{\"atoms\":[73,77],\"order\":1},{\"atoms\":[59,63],\"order\":1},{\"atoms\":[66,81],\"order\":1},{\"atoms\":[70,72],\"order\":2},{\"atoms\":[89,86],\"order\":1},{\"atoms\":[77,80],\"order\":1},{\"atoms\":[77,75],\"order\":2},{\"atoms\":[93,88],\"order\":1},{\"atoms\":[86,88],\"order\":2},{\"atoms\":[86,85],\"order\":1},{\"atoms\":[72,75],\"order\":1},{\"atoms\":[72,76],\"order\":1},{\"atoms\":[81,84],\"order\":1},{\"atoms\":[81,85],\"order\":1},{\"atoms\":[88,92],\"order\":1},{\"atoms\":[75,79],\"order\":1},{\"atoms\":[85,87],\"order\":2},{\"atoms\":[92,95],\"order\":1},{\"atoms\":[92,90],\"order\":2},{\"atoms\":[87,90],\"order\":1},{\"atoms\":[87,91],\"order\":1},{\"atoms\":[90,94],\"order\":1}],\"formula\":\"C48H48\",\"molecular_weight\":626.9105999999998,\"units\":{\"molecular_weight\":\"g / mol\"}});\n",
       "\n",
       "               $d.resizable({\n",
       "                   aspectRatio: 1000 / 300,\n",
       "                   resize: function (evt, ui) {\n",
       "                       $d.imolecule.renderer.setSize(ui.size.width,\n",
       "                                                     ui.size.height);\n",
       "                   }\n",
       "               });\n",
       "           });\n",
       "           </script>"
      ],
      "text/plain": [
       "<IPython.core.display.HTML object>"
      ]
     },
     "metadata": {},
     "output_type": "display_data"
    }
   ],
   "source": [
    "#visualize final snapshot of structure\n",
    "pdbFile = r.read('PDBview',raw=True)\n",
    "imolecule.draw(pdbFile[7:],size=(1000, 300))\n",
    "#imolecule.draw(r.outdir+\"/\"+r.read('Helix Name')+\".pdb\",size=(1000, 300))#, camera_type=\"orthographic\") "
   ]
  },
  {
   "cell_type": "code",
   "execution_count": null,
   "metadata": {},
   "outputs": [],
   "source": []
  }
 ],
 "metadata": {
  "kernelspec": {
   "display_name": "Python 3",
   "language": "python",
   "name": "python3"
  },
  "language_info": {
   "codemirror_mode": {
    "name": "ipython",
    "version": 3
   },
   "file_extension": ".py",
   "mimetype": "text/x-python",
   "name": "python",
   "nbconvert_exporter": "python",
   "pygments_lexer": "ipython3",
   "version": "3.7.7"
  }
 },
 "nbformat": 4,
 "nbformat_minor": 2
}
