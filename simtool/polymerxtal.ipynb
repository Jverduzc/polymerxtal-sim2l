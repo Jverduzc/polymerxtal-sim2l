{
 "cells": [
  {
   "cell_type": "markdown",
   "metadata": {},
   "source": [
    "# PolymerXtal - Polymer Crystal Structure Generator and Analysis Software"
   ]
  },
  {
   "cell_type": "code",
   "execution_count": 1,
   "metadata": {},
   "outputs": [],
   "source": [
    "from hublib import use\n",
    "from hublib.cmd import runCommand"
   ]
  },
  {
   "cell_type": "code",
   "execution_count": 2,
   "metadata": {},
   "outputs": [],
   "source": [
    "%load_ext yamlmagic"
   ]
  },
  {
   "cell_type": "code",
   "execution_count": 3,
   "metadata": {},
   "outputs": [
    {
     "data": {
      "application/javascript": [
       "\n",
       "            require(\n",
       "                [\n",
       "                    \"notebook/js/codecell\",\n",
       "                    \"codemirror/mode/yaml/yaml\"\n",
       "                ],\n",
       "                function(cc){\n",
       "                    cc.CodeCell.options_default.highlight_modes.magic_yaml = {\n",
       "                        reg: [\"^%%yaml\"]\n",
       "                    }\n",
       "                }\n",
       "            );\n",
       "            "
      ],
      "text/plain": [
       "<IPython.core.display.Javascript object>"
      ]
     },
     "metadata": {},
     "output_type": "display_data"
    }
   ],
   "source": [
    "%%yaml INPUTS\n",
    "\n",
    "polymer_type:\n",
    "    type: Text\n",
    "    value: PAN\n",
    "    description: Select the polymer type.\n",
    "    options: [PAN, PE, PP, PS, POM, PTFE, PVC]\n",
    "\n",
    "helice_atoms:\n",
    "    type: Integer\n",
    "    description: Number of chain (backbone) atoms of a motif of the helix\n",
    "    value: 2\n",
    "    min: 2\n",
    "    max: 2\n",
    "\n",
    "helice_motifs:\n",
    "    type: Integer\n",
    "    description: Number of motifs of the helix\n",
    "    value: 3\n",
    "    min: 1\n",
    "    max: 3\n",
    "\n",
    "helice_turns:\n",
    "    type: Integer\n",
    "    description: Number of motifs of the helix\n",
    "    value: 1\n",
    "    min: 1\n",
    "    max: 1\n",
    "\n",
    "monomers:\n",
    "    type: Number\n",
    "    description: Number of monomers\n",
    "    value: 40\n",
    "    min: 1\n",
    "    max: 5000\n",
    "\n",
    "tacticity:\n",
    "    type: Text\n",
    "    value: isotactic\n",
    "    description: Select the tacticity of the polymer chain.\n",
    "    options: [isotactic, atactic, syndiotactic, None]\n",
    "\n",
    "chiriality:\n",
    "    type: Text\n",
    "    value: right\n",
    "    description: Select the chiriality of the polymer chain.\n",
    "    options: [left, right, None]\n",
    "\n",
    "head_tail_defect_ratio:\n",
    "    type: Number\n",
    "    description: Ratio of head-to-head and tail-to-tail connections\n",
    "    value: 0\n",
    "    min: 0\n",
    "    max: 1\n",
    "        \n",
    "configs:\n",
    "    type: Number\n",
    "    description: Number of attempts to find a configuration\n",
    "    value: 30\n",
    "    min: 1\n",
    "    max: 5000\n"
   ]
  },
  {
   "cell_type": "code",
   "execution_count": 4,
   "metadata": {
    "tags": [
     "parameters"
    ]
   },
   "outputs": [],
   "source": [
    "polymer_type = \"PAN\"\n",
    "helice_atoms = 2\n",
    "helice_motifs = 3\n",
    "helice_turns = 1\n",
    "monomers = 40\n",
    "tacticity = \"isotactic\"\n",
    "chiriality = \"right\"\n",
    "head_tail_defect_ratio = 0\n",
    "configs = 30"
   ]
  },
  {
   "cell_type": "code",
   "execution_count": 5,
   "metadata": {},
   "outputs": [
    {
     "name": "stderr",
     "output_type": "stream",
     "text": [
      "PySide2/__init__.py: Unable to import shiboken2 from /home/nanohub/shen276/polymerxtal, /home/nanohub/shen276/polymerxtal/simtool, /apps/share64/debian7/anaconda/anaconda-6/lib/python37.zip, /apps/share64/debian7/anaconda/anaconda-6/lib/python3.7, /apps/share64/debian7/anaconda/anaconda-6/lib/python3.7/lib-dynload, , /apps/share64/debian7/anaconda/anaconda-6/lib/python3.7/site-packages, /apps/share64/debian7/anaconda/anaconda-6/lib/python3.7/site-packages/IPython/extensions, /home/nanohub/shen276/.ipython\n"
     ]
    }
   ],
   "source": [
    "import os\n",
    "import sys\n",
    "#os.environ[\"TOOLDIR\"] = \"/home/nanohub/shen276/polymerxtal\"\n",
    "sys.path.insert(0, os.environ[\"TOOLDIR\"])\n",
    "from polymerxtal import Helice, Chain\n",
    "from simtool import DB"
   ]
  },
  {
   "cell_type": "code",
   "execution_count": 6,
   "metadata": {},
   "outputs": [
    {
     "name": "stdout",
     "output_type": "stream",
     "text": [
      "Total 4 possible configurations found for Helice 2_3_1\n",
      "Try Configuration 1\n",
      "\n",
      "========================================\n",
      "========================================\n",
      "\n",
      "OpenMP threading disabled\n",
      "\n",
      "MAX_BONDS: 32\n",
      "\n",
      "========================================\n",
      "========================================\n",
      "\n",
      "\n",
      "Read data from /home/nanohub/shen276/polymerxtal/polymerxtal/polymod/../data\n",
      "\n",
      "Element info: /home/nanohub/shen276/polymerxtal/polymerxtal/polymod/../data/elements\n",
      "\n",
      "\n",
      "Scale equilibrium bond lengths by 1.200000 to identify bonds\n",
      "\n",
      "\n",
      "4 known atom types:\n",
      "\n",
      "   \n",
      "N with 1 bond\n",
      "\n",
      "\n",
      "   \n",
      "C with 2 bonds\n",
      "\n",
      "\n",
      "   \n",
      "C with 4 bonds\n",
      "\n",
      "\n",
      "   \n",
      "H with 1 bond\n",
      "\n",
      "\n",
      "4 known bond types:\n",
      "\n",
      "   (\n",
      "C with 2 bonds\n",
      ") -- (\n",
      "N with 1 bond\n",
      ")\n",
      "\n",
      "   (\n",
      "C with 4 bonds\n",
      ") -- (\n",
      "C with 2 bonds\n",
      ")\n",
      "\n",
      "   (\n",
      "C with 4 bonds\n",
      ") -- (\n",
      "C with 4 bonds\n",
      ")\n",
      "\n",
      "   (\n",
      "H with 1 bond\n",
      ") -- (\n",
      "C with 4 bonds\n",
      ")\n",
      "\n",
      "\n",
      "\n",
      "Monomer h_m1T60T180:\n",
      "\n",
      " H\n",
      "\n",
      "\n",
      " C\n",
      "   1   1.09\n",
      "\n",
      "\n",
      " C\n",
      "   2   1.53\n",
      "   1  109.45\n",
      "\n",
      "\n",
      " H\n",
      "   3   1.10\n",
      "   2  109.49\n",
      "   1    60.03\n",
      "\n",
      "\n",
      " H\n",
      "   2   1.10\n",
      "   1  109.52\n",
      "   3   120.04\n",
      "\n",
      "\n",
      " H\n",
      "   2   1.10\n",
      "   1  109.44\n",
      "   3   234.92\n",
      "\n",
      "\n",
      " C\n",
      "   3   1.47\n",
      "   2  109.49\n",
      "   1   179.99\n",
      "\n",
      "\n",
      " H\n",
      "   3   1.10\n",
      "   2  109.49\n",
      "   1   294.94\n",
      "\n",
      "\n",
      " N\n",
      "   7   1.16\n",
      "   3  179.94\n",
      "   2    61.70\n",
      "\n",
      "\n",
      "Internal coordinates with Dreiding types:\n",
      "\n",
      "H\n",
      "_\n",
      "\n",
      "\n",
      "C\n",
      "_\n",
      "3\n",
      "   1   1.09\n",
      "\n",
      "\n",
      "C\n",
      "_\n",
      "3\n",
      "   2   1.53\n",
      "   1  109.45\n",
      "\n",
      "\n",
      "H\n",
      "_\n",
      "   3   1.10\n",
      "   2  109.49\n",
      "   1    60.03\n",
      "\n",
      "\n",
      "H\n",
      "_\n",
      "   2   1.10\n",
      "   1  109.52\n",
      "   3   120.04\n",
      "\n",
      "\n",
      "H\n",
      "_\n",
      "   2   1.10\n",
      "   1  109.44\n",
      "   3   234.92\n",
      "\n",
      "\n",
      "C\n",
      "_\n",
      "1\n",
      "   3   1.47\n",
      "   2  109.49\n",
      "   1   179.99\n",
      "\n",
      "\n",
      "H\n",
      "_\n",
      "   3   1.10\n",
      "   2  109.49\n",
      "   1   294.94\n",
      "\n",
      "\n",
      "N\n",
      "_\n",
      "0\n",
      "   7   1.16\n",
      "   3  179.94\n",
      "   2    61.70\n",
      "\n",
      "\n",
      "   4 backbone atoms\n",
      "\n",
      "   mass (without head and tail): 53.062500 amu\n",
      "\n",
      "   Backbone atom 3 torsion angle: \n",
      "fixed\n",
      "\n",
      "   Backbone atom 4 torsion angle: \n",
      "fixed\n",
      "\n",
      "   0 extra bonds not represented in z-matrix\n",
      "\n",
      "\n",
      "Stereochemistry options:\n",
      "\n",
      "   s1 (pattern): \n",
      "h_m1T60T180 \n",
      "h_m1T60T180 \n",
      "(repeat)\n",
      "\n",
      "\n",
      "\n",
      "System dimensions:\n",
      "\n",
      "   Minimum (0.000000, 0.000000, 0.000000)\n",
      "\n",
      "   Maximum (327.865354, 327.865354, 327.865354)\n",
      "\n",
      "Total polymer volume: 3.52441e+07 A^3\n",
      "\n",
      "\n",
      "Total domains: 1\n",
      "\n",
      "   1 domain in X (size 327.865354)\n",
      "\n",
      "   1 domain in Y (size 327.865354)\n",
      "\n",
      "   1 domain in Z (size 327.865354)\n",
      "\n",
      "\n",
      "Chain density: 0.000100 g/cm^3\n",
      "\n",
      "1 chains\n",
      "\n",
      "40 monomers per chain\n",
      "\n",
      "   0.000000 deviation in monomers per chain\n",
      "\n",
      "\n",
      "100.000000 % of chains will be s1\n",
      "\n",
      "\n",
      "Chain growth:\n",
      "\n",
      "   consider 50 configurations\n",
      "\n",
      "   Monte Carlo sampling\n",
      "\n",
      "   Temperature: 300.000000 K\n",
      "\n",
      "   Energy expression: \n",
      "Lennard-Jones\n",
      "\n",
      "   Bond cutoff for bonded interactions: 4\n",
      "\n",
      "   Interaction range for non-bonded interactions: 6.000000 A\n",
      "\n",
      "   Grid size for neighbor bins: 6.000000 A\n",
      "\n",
      "   Rotate varying torsions 0.000000 degrees when packing\n",
      "\n",
      "   Backbone bond length between monomers: 1.535100 A\n",
      "\n",
      "\n",
      "RNG seed: 1607892389\n",
      "\n",
      "Store atomic positions\n",
      "\n",
      "Write PDB file with unfolded positions\n",
      "\n",
      "Write intermediate files for LAMMPS preprocessing\n",
      "\n",
      "\n",
      "Maximum atoms: 282\n",
      "\n",
      "Rough estimate of density: 0.000100 g/cm^3\n",
      "\n",
      "\n",
      "Monomer selection:\n",
      "\n",
      "   h_m1T60T180: 100.00 %\n",
      "\n",
      "\n",
      "Stereochemistry selection:\n",
      "\n",
      "   s1: 100.00 %\n",
      "\n",
      "Mean polymerization: 40.000000\n",
      "\n",
      "   Standard deviation: 0.000000\n",
      "\n",
      "Total atoms: 282\n",
      "\n",
      "Final density: 0.000100 g/cm^3\n",
      "\n",
      "Total build and analysis time: 23.3525 s\n",
      "\n",
      "Success for Configuration 1\n"
     ]
    }
   ],
   "source": [
    "chain=Chain(polymer_type=polymer_type,helice=Helice(helice_atoms,helice_motifs,helice_turns),num_monomers=monomers,tacticity=tacticity,\n",
    "            chiriality=chiriality,head_tail_defect_ratio=head_tail_defect_ratio)\n",
    "helix_name=chain.build_chain()"
   ]
  },
  {
   "cell_type": "code",
   "execution_count": 7,
   "metadata": {},
   "outputs": [
    {
     "data": {
      "application/javascript": [
       "\n",
       "            require(\n",
       "                [\n",
       "                    \"notebook/js/codecell\",\n",
       "                    \"codemirror/mode/yaml/yaml\"\n",
       "                ],\n",
       "                function(cc){\n",
       "                    cc.CodeCell.options_default.highlight_modes.magic_yaml = {\n",
       "                        reg: [\"^%%yaml\"]\n",
       "                    }\n",
       "                }\n",
       "            );\n",
       "            "
      ],
      "text/plain": [
       "<IPython.core.display.Javascript object>"
      ]
     },
     "metadata": {},
     "output_type": "display_data"
    }
   ],
   "source": [
    "%%yaml OUTPUTS\n",
    "Helix Name:\n",
    "    type: Text\n",
    "    \n",
    "Output PDBfile:\n",
    "    type: Text   \n",
    "\n",
    "Output PDB:\n",
    "    type: Text"
   ]
  },
  {
   "cell_type": "code",
   "execution_count": 8,
   "metadata": {},
   "outputs": [],
   "source": [
    "import os\n",
    "\n",
    "def copyAndSaveFileAsOutput(outputVariableName,inputPath):\n",
    "    if inputPath.startswith('file://'):\n",
    "        resultFile = os.path.basename(inputPath[7:])\n",
    "        if resultFile != inputPath[7:]:\n",
    "            shutil.copy2(inputPath[7:],resultFile)\n",
    "    else:\n",
    "        resultFile = os.path.basename(inputPath)\n",
    "        if resultFile != inputPath:\n",
    "            shutil.copy2(inputPath,resultFile)\n",
    "    db.save(outputVariableName,file=resultFile)"
   ]
  },
  {
   "cell_type": "code",
   "execution_count": 9,
   "metadata": {},
   "outputs": [
    {
     "data": {
      "application/scrapbook.scrap.text+json": {
       "data": "0",
       "encoder": "text",
       "name": "simToolSaveErrorOccurred",
       "version": 1
      }
     },
     "metadata": {
      "scrapbook": {
       "data": true,
       "display": false,
       "name": "simToolSaveErrorOccurred"
      }
     },
     "output_type": "display_data"
    },
    {
     "data": {
      "application/scrapbook.scrap.text+json": {
       "data": "0",
       "encoder": "text",
       "name": "simToolAllOutputsSaved",
       "version": 1
      }
     },
     "metadata": {
      "scrapbook": {
       "data": true,
       "display": false,
       "name": "simToolAllOutputsSaved"
      }
     },
     "output_type": "display_data"
    },
    {
     "name": "stdout",
     "output_type": "stream",
     "text": [
      "<simtool.db.DB object at 0x7efe533d93d0>\n"
     ]
    },
    {
     "data": {
      "application/scrapbook.scrap.text+json": {
       "data": "\"PAN_helix_2_3_1_iso+\"",
       "encoder": "text",
       "name": "Helix Name",
       "version": 1
      }
     },
     "metadata": {
      "scrapbook": {
       "data": true,
       "display": false,
       "name": "Helix Name"
      }
     },
     "output_type": "display_data"
    },
    {
     "data": {
      "application/scrapbook.scrap.text+json": {
       "data": "file://PAN_helix_2_3_1_iso+.pdb",
       "encoder": "text",
       "name": "Output PDBfile",
       "version": 1
      }
     },
     "metadata": {
      "scrapbook": {
       "data": true,
       "display": false,
       "name": "Output PDBfile"
      }
     },
     "output_type": "display_data"
    },
    {
     "data": {
      "application/scrapbook.scrap.text+json": {
       "data": "\"ATOM      1    H UNK A   1       2.697   3.032   0.076\\nATOM      2    C UNK A   1       3.410   3.773   0.439\\nATOM      3    C UNK A   1       3.411   3.772   1.974\\nATOM      4    C UNK A   1       3.811   2.381   2.485\\nATOM      5    H UNK A   1       4.417   3.524   0.073\\nATOM      6    H UNK A   1       3.176   4.754   0.000\\nATOM      7    C UNK A   1       4.370   4.770   2.465\\nATOM      8    H UNK A   1       2.429   4.109   2.341\\nATOM      9    N UNK A   1       5.128   5.559   2.852\\nATOM     10    C UNK A   1       3.811   2.382   4.020\\nATOM     11    C UNK A   1       2.406   2.729   4.532\\nATOM     12    H UNK A   1       3.094   1.633   2.119\\nATOM     13    H UNK A   1       4.778   2.094   2.045\\nATOM     14    C UNK A   1       4.195   1.051   4.511\\nATOM     15    H UNK A   1       4.593   3.063   4.387\\nATOM     16    N UNK A   1       4.499   0.000   4.898\\nATOM     17    C UNK A   1       2.406   2.729   6.066\\nATOM     18    C UNK A   1       3.410   3.773   6.578\\nATOM     19    H UNK A   1       2.117   3.725   4.164\\nATOM     20    H UNK A   1       1.674   2.036   4.092\\nATOM     21    C UNK A   1       1.062   3.063   6.557\\nATOM     22    H UNK A   1       2.605   1.712   6.433\\nATOM     23    N UNK A   1       0.000   3.324   6.944\\nATOM     24    C UNK A   1       3.410   3.772   8.113\\nATOM     25    C UNK A   1       3.811   2.381   8.625\\nATOM     26    H UNK A   1       4.417   3.524   6.211\\nATOM     27    H UNK A   1       3.176   4.754   6.138\\nATOM     28    C UNK A   1       4.371   4.770   8.604\\nATOM     29    H UNK A   1       2.429   4.109   8.479\\nATOM     30    N UNK A   1       5.129   5.559   8.991\\nATOM     31    C UNK A   1       3.811   2.382  10.158\\nATOM     32    C UNK A   1       2.406   2.729  10.670\\nATOM     33    H UNK A   1       3.093   1.633   8.257\\nATOM     34    H UNK A   1       4.778   2.094   8.184\\nATOM     35    C UNK A   1       4.194   1.051  10.650\\nATOM     36    H UNK A   1       4.593   3.063  10.525\\nATOM     37    N UNK A   1       4.499   0.000  11.037\\nATOM     38    C UNK A   1       2.407   2.729  12.204\\nATOM     39    C UNK A   1       3.410   3.773  12.717\\nATOM     40    H UNK A   1       2.118   3.725  10.303\\nATOM     41    H UNK A   1       1.674   2.036  10.231\\nATOM     42    C UNK A   1       1.061   3.063  12.695\\nATOM     43    H UNK A   1       2.606   1.712  12.572\\nATOM     44    N UNK A   1       0.001   3.324  13.083\\nATOM     45    C UNK A   1       3.410   3.772  14.251\\nATOM     46    C UNK A   1       3.811   2.381  14.763\\nATOM     47    H UNK A   1       4.417   3.524  12.349\\nATOM     48    H UNK A   1       3.175   4.754  12.277\\nATOM     49    C UNK A   1       4.371   4.770  14.742\\nATOM     50    H UNK A   1       2.430   4.109  14.618\\nATOM     51    N UNK A   1       5.128   5.559  15.129\\nATOM     52    C UNK A   1       3.811   2.382  16.297\\nATOM     53    C UNK A   1       2.406   2.729  16.809\\nATOM     54    H UNK A   1       3.093   1.633  14.395\\nATOM     55    H UNK A   1       4.778   2.094  14.323\\nATOM     56    C UNK A   1       4.195   1.051  16.788\\nATOM     57    H UNK A   1       4.592   3.063  16.665\\nATOM     58    N UNK A   1       4.499   0.000  17.175\\nATOM     59    C UNK A   1       2.407   2.729  18.343\\nATOM     60    C UNK A   1       3.410   3.773  18.855\\nATOM     61    H UNK A   1       2.117   3.725  16.442\\nATOM     62    H UNK A   1       1.674   2.036  16.369\\nATOM     63    C UNK A   1       1.062   3.063  18.834\\nATOM     64    H UNK A   1       2.605   1.712  18.710\\nATOM     65    N UNK A   1       0.000   3.324  19.221\\nATOM     66    C UNK A   1       3.410   3.771  20.389\\nATOM     67    C UNK A   1       3.812   2.381  20.901\\nATOM     68    H UNK A   1       4.417   3.524  18.488\\nATOM     69    H UNK A   1       3.175   4.754  18.415\\nATOM     70    C UNK A   1       4.371   4.770  20.880\\nATOM     71    H UNK A   1       2.429   4.109  20.757\\nATOM     72    N UNK A   1       5.128   5.559  21.267\\nATOM     73    C UNK A   1       3.811   2.382  22.436\\nATOM     74    C UNK A   1       2.406   2.729  22.947\\nATOM     75    H UNK A   1       3.094   1.633  20.533\\nATOM     76    H UNK A   1       4.778   2.094  20.461\\nATOM     77    C UNK A   1       4.195   1.051  22.926\\nATOM     78    H UNK A   1       4.593   3.063  22.803\\nATOM     79    N UNK A   1       4.498   0.000  23.313\\nATOM     80    C UNK A   1       2.406   2.729  24.482\\nATOM     81    C UNK A   1       3.410   3.773  24.993\\nATOM     82    H UNK A   1       2.118   3.725  22.580\\nATOM     83    H UNK A   1       1.674   2.036  22.507\\nATOM     84    C UNK A   1       1.062   3.063  24.973\\nATOM     85    H UNK A   1       2.606   1.712  24.849\\nATOM     86    N UNK A   1       0.000   3.324  25.359\\nATOM     87    C UNK A   1       3.410   3.772  26.528\\nATOM     88    C UNK A   1       3.811   2.381  27.039\\nATOM     89    H UNK A   1       4.417   3.524  24.626\\nATOM     90    H UNK A   1       3.175   4.754  24.553\\nATOM     91    C UNK A   1       4.371   4.770  27.018\\nATOM     92    H UNK A   1       2.429   4.109  26.895\\nATOM     93    N UNK A   1       5.129   5.559  27.405\\nATOM     94    C UNK A   1       3.811   2.382  28.574\\nATOM     95    C UNK A   1       2.406   2.729  29.085\\nATOM     96    H UNK A   1       3.093   1.633  26.673\\nATOM     97    H UNK A   1       4.778   2.094  26.599\\nATOM     98    C UNK A   1       4.194   1.051  29.065\\nATOM     99    H UNK A   1       4.593   3.063  28.941\\nATOM    100    N UNK A   1       4.499   0.000  29.451\\nATOM    101    C UNK A   1       2.407   2.729  30.620\\nATOM    102    C UNK A   1       3.410   3.773  31.132\\nATOM    103    H UNK A   1       2.117   3.725  28.718\\nATOM    104    H UNK A   1       1.674   2.036  28.645\\nATOM    105    C UNK A   1       1.061   3.063  31.111\\nATOM    106    H UNK A   1       2.605   1.712  30.987\\nATOM    107    N UNK A   1       0.001   3.324  31.497\\nATOM    108    C UNK A   1       3.410   3.772  32.666\\nATOM    109    C UNK A   1       3.811   2.381  33.177\\nATOM    110    H UNK A   1       4.416   3.525  30.765\\nATOM    111    H UNK A   1       3.175   4.754  30.692\\nATOM    112    C UNK A   1       4.371   4.770  33.157\\nATOM    113    H UNK A   1       2.430   4.109  33.033\\nATOM    114    N UNK A   1       5.128   5.559  33.544\\nATOM    115    C UNK A   1       3.811   2.382  34.712\\nATOM    116    C UNK A   1       2.406   2.729  35.224\\nATOM    117    H UNK A   1       3.093   1.633  32.811\\nATOM    118    H UNK A   1       4.778   2.094  32.738\\nATOM    119    C UNK A   1       4.195   1.051  35.203\\nATOM    120    H UNK A   1       4.592   3.063  35.079\\nATOM    121    N UNK A   1       4.499   0.000  35.591\\nATOM    122    C UNK A   1       2.407   2.729  36.758\\nATOM    123    C UNK A   1       3.410   3.773  37.270\\nATOM    124    H UNK A   1       2.118   3.725  34.858\\nATOM    125    H UNK A   1       1.674   2.036  34.785\\nATOM    126    C UNK A   1       1.062   3.063  37.249\\nATOM    127    H UNK A   1       2.606   1.712  37.126\\nATOM    128    N UNK A   1       0.000   3.324  37.637\\nATOM    129    C UNK A   1       3.410   3.772  38.805\\nATOM    130    C UNK A   1       3.812   2.381  39.317\\nATOM    131    H UNK A   1       4.417   3.525  36.903\\nATOM    132    H UNK A   1       3.176   4.754  36.830\\nATOM    133    C UNK A   1       4.371   4.770  39.296\\nATOM    134    H UNK A   1       2.429   4.109  39.171\\nATOM    135    N UNK A   1       5.129   5.559  39.683\\nATOM    136    C UNK A   1       3.811   2.382  40.851\\nATOM    137    C UNK A   1       2.406   2.729  41.363\\nATOM    138    H UNK A   1       3.094   1.633  38.949\\nATOM    139    H UNK A   1       4.779   2.094  38.877\\nATOM    140    C UNK A   1       4.195   1.051  41.342\\nATOM    141    H UNK A   1       4.593   3.063  41.217\\nATOM    142    N UNK A   1       4.499   0.000  41.729\\nATOM    143    C UNK A   1       2.406   2.729  42.897\\nATOM    144    C UNK A   1       3.411   3.773  43.409\\nATOM    145    H UNK A   1       2.118   3.725  40.996\\nATOM    146    H UNK A   1       1.674   2.036  40.923\\nATOM    147    C UNK A   1       1.062   3.063  43.388\\nATOM    148    H UNK A   1       2.606   1.712  43.264\\nATOM    149    N UNK A   1       0.001   3.324  43.775\\nATOM    150    C UNK A   1       3.410   3.772  44.943\\nATOM    151    C UNK A   1       3.811   2.381  45.455\\nATOM    152    H UNK A   1       4.417   3.525  43.041\\nATOM    153    H UNK A   1       3.175   4.754  42.969\\nATOM    154    C UNK A   1       4.371   4.770  45.434\\nATOM    155    H UNK A   1       2.430   4.109  45.310\\nATOM    156    N UNK A   1       5.129   5.559  45.821\\nATOM    157    C UNK A   1       3.811   2.382  46.990\\nATOM    158    C UNK A   1       2.407   2.730  47.501\\nATOM    159    H UNK A   1       3.093   1.633  45.087\\nATOM    160    H UNK A   1       4.778   2.094  45.015\\nATOM    161    C UNK A   1       4.195   1.051  47.480\\nATOM    162    H UNK A   1       4.593   3.063  47.357\\nATOM    163    N UNK A   1       4.499   0.000  47.867\\nATOM    164    C UNK A   1       2.407   2.729  49.036\\nATOM    165    C UNK A   1       3.410   3.773  49.547\\nATOM    166    H UNK A   1       2.117   3.725  47.134\\nATOM    167    H UNK A   1       1.674   2.036  47.061\\nATOM    168    C UNK A   1       1.062   3.063  49.527\\nATOM    169    H UNK A   1       2.605   1.712  49.403\\nATOM    170    N UNK A   1       0.001   3.324  49.913\\nATOM    171    C UNK A   1       3.410   3.772  51.081\\nATOM    172    C UNK A   1       3.812   2.381  51.593\\nATOM    173    H UNK A   1       4.417   3.525  49.181\\nATOM    174    H UNK A   1       3.175   4.754  49.107\\nATOM    175    C UNK A   1       4.370   4.770  51.573\\nATOM    176    H UNK A   1       2.429   4.109  51.449\\nATOM    177    N UNK A   1       5.128   5.559  51.959\\nATOM    178    C UNK A   1       3.811   2.382  53.128\\nATOM    179    C UNK A   1       2.406   2.729  53.639\\nATOM    180    H UNK A   1       3.094   1.633  51.227\\nATOM    181    H UNK A   1       4.778   2.094  51.153\\nATOM    182    C UNK A   1       4.195   1.051  53.619\\nATOM    183    H UNK A   1       4.593   3.063  53.495\\nATOM    184    N UNK A   1       4.499   0.000  54.005\\nATOM    185    C UNK A   1       2.407   2.730  55.174\\nATOM    186    C UNK A   1       3.410   3.773  55.685\\nATOM    187    H UNK A   1       2.117   3.725  53.272\\nATOM    188    H UNK A   1       1.674   2.036  53.199\\nATOM    189    C UNK A   1       1.062   3.063  55.665\\nATOM    190    H UNK A   1       2.605   1.713  55.541\\nATOM    191    N UNK A   1       0.000   3.324  56.052\\nATOM    192    C UNK A   1       3.410   3.772  57.220\\nATOM    193    C UNK A   1       3.812   2.381  57.731\\nATOM    194    H UNK A   1       4.417   3.525  55.319\\nATOM    195    H UNK A   1       3.176   4.754  55.246\\nATOM    196    C UNK A   1       4.371   4.770  57.711\\nATOM    197    H UNK A   1       2.429   4.109  57.587\\nATOM    198    N UNK A   1       5.129   5.559  58.097\\nATOM    199    C UNK A   1       3.811   2.382  59.266\\nATOM    200    C UNK A   1       2.406   2.729  59.778\\nATOM    201    H UNK A   1       3.094   1.633  57.365\\nATOM    202    H UNK A   1       4.778   2.094  57.292\\nATOM    203    C UNK A   1       4.195   1.051  59.757\\nATOM    204    H UNK A   1       4.593   3.063  59.633\\nATOM    205    N UNK A   1       4.499   0.000  60.145\\nATOM    206    C UNK A   1       2.407   2.729  61.312\\nATOM    207    C UNK A   1       3.410   3.773  61.823\\nATOM    208    H UNK A   1       2.118   3.725  59.410\\nATOM    209    H UNK A   1       1.674   2.036  59.338\\nATOM    210    C UNK A   1       1.062   3.063  61.803\\nATOM    211    H UNK A   1       2.605   1.713  61.679\\nATOM    212    N UNK A   1       0.000   3.324  62.190\\nATOM    213    C UNK A   1       3.410   3.772  63.358\\nATOM    214    C UNK A   1       3.812   2.381  63.871\\nATOM    215    H UNK A   1       4.417   3.525  61.457\\nATOM    216    H UNK A   1       3.175   4.754  61.384\\nATOM    217    C UNK A   1       4.371   4.770  63.850\\nATOM    218    H UNK A   1       2.430   4.109  63.725\\nATOM    219    N UNK A   1       5.128   5.559  64.237\\nATOM    220    C UNK A   1       3.811   2.382  65.404\\nATOM    221    C UNK A   1       2.406   2.730  65.916\\nATOM    222    H UNK A   1       3.093   1.633  63.503\\nATOM    223    H UNK A   1       4.778   2.094  63.430\\nATOM    224    C UNK A   1       4.195   1.051  65.896\\nATOM    225    H UNK A   1       4.593   3.063  65.771\\nATOM    226    N UNK A   1       4.499   0.000  66.283\\nATOM    227    C UNK A   1       2.407   2.730  67.450\\nATOM    228    C UNK A   1       3.410   3.773  67.963\\nATOM    229    H UNK A   1       2.117   3.725  65.550\\nATOM    230    H UNK A   1       1.675   2.036  65.477\\nATOM    231    C UNK A   1       1.062   3.063  67.941\\nATOM    232    H UNK A   1       2.605   1.713  67.818\\nATOM    233    N UNK A   1       0.000   3.324  68.329\\nATOM    234    C UNK A   1       3.411   3.772  69.497\\nATOM    235    C UNK A   1       3.812   2.381  70.009\\nATOM    236    H UNK A   1       4.417   3.525  67.595\\nATOM    237    H UNK A   1       3.176   4.754  67.522\\nATOM    238    C UNK A   1       4.371   4.770  69.988\\nATOM    239    H UNK A   1       2.429   4.109  69.865\\nATOM    240    N UNK A   1       5.128   5.559  70.375\\nATOM    241    C UNK A   1       3.811   2.382  71.543\\nATOM    242    C UNK A   1       2.406   2.729  72.055\\nATOM    243    H UNK A   1       3.094   1.633  69.641\\nATOM    244    H UNK A   1       4.779   2.094  69.569\\nATOM    245    C UNK A   1       4.195   1.051  72.034\\nATOM    246    H UNK A   1       4.593   3.063  71.911\\nATOM    247    N UNK A   1       4.499   0.000  72.421\\nATOM    248    C UNK A   1       2.406   2.730  73.590\\nATOM    249    C UNK A   1       3.410   3.773  74.101\\nATOM    250    H UNK A   1       2.117   3.726  71.688\\nATOM    251    H UNK A   1       1.674   2.036  71.615\\nATOM    252    C UNK A   1       1.062   3.063  74.080\\nATOM    253    H UNK A   1       2.605   1.713  73.956\\nATOM    254    N UNK A   1       0.000   3.325  74.467\\nATOM    255    C UNK A   1       3.410   3.772  75.635\\nATOM    256    C UNK A   1       3.811   2.381  76.147\\nATOM    257    H UNK A   1       4.417   3.525  73.734\\nATOM    258    H UNK A   1       3.176   4.754  73.661\\nATOM    259    C UNK A   1       4.371   4.770  76.126\\nATOM    260    H UNK A   1       2.430   4.109  76.003\\nATOM    261    N UNK A   1       5.129   5.559  76.513\\nATOM    262    C UNK A   1       3.811   2.382  77.682\\nATOM    263    C UNK A   1       2.406   2.729  78.193\\nATOM    264    H UNK A   1       3.093   1.633  75.780\\nATOM    265    H UNK A   1       4.778   2.094  75.707\\nATOM    266    C UNK A   1       4.195   1.051  78.172\\nATOM    267    H UNK A   1       4.593   3.063  78.049\\nATOM    268    N UNK A   1       4.499   0.000  78.559\\nATOM    269    C UNK A   1       2.407   2.730  79.728\\nATOM    270    C UNK A   1       3.410   3.773  80.239\\nATOM    271    H UNK A   1       2.118   3.726  77.826\\nATOM    272    H UNK A   1       1.674   2.036  77.753\\nATOM    273    C UNK A   1       1.063   3.063  80.219\\nATOM    274    H UNK A   1       2.606   1.713  80.095\\nATOM    275    N UNK A   1       0.000   3.325  80.605\\nATOM    276    C UNK A   1       3.410   3.773  81.774\\nATOM    277    H UNK A   1       3.698   2.775  82.141\\nATOM    278    H UNK A   1       4.417   3.525  79.872\\nATOM    279    H UNK A   1       3.175   4.754  79.799\\nATOM    280    C UNK A   1       4.371   4.770  82.264\\nATOM    281    H UNK A   1       2.430   4.109  82.141\\nATOM    282    N UNK A   1       5.128   5.559  82.652\\nTER     283\\n\"",
       "encoder": "text",
       "name": "Output PDB",
       "version": 1
      }
     },
     "metadata": {
      "scrapbook": {
       "data": true,
       "display": false,
       "name": "Output PDB"
      }
     },
     "output_type": "display_data"
    },
    {
     "data": {
      "application/scrapbook.scrap.text+json": {
       "data": "1",
       "encoder": "text",
       "name": "simToolAllOutputsSaved",
       "version": 1
      }
     },
     "metadata": {
      "scrapbook": {
       "data": true,
       "display": false,
       "name": "simToolAllOutputsSaved"
      }
     },
     "output_type": "display_data"
    }
   ],
   "source": [
    "db = DB(OUTPUTS)\n",
    "print(db)\n",
    "db.save('Helix Name', helix_name)\n",
    "copyAndSaveFileAsOutput('Output PDBfile', helix_name+'.pdb')\n",
    "output_pdb = \"\"\n",
    "with open(helix_name+'.pdb', 'r') as input_text:\n",
    "    output_pdb = input_text.read()\n",
    "db.save('Output PDB', output_pdb)"
   ]
  },
  {
   "cell_type": "code",
   "execution_count": null,
   "metadata": {},
   "outputs": [],
   "source": []
  }
 ],
 "metadata": {
  "celltoolbar": "Tags",
  "kernelspec": {
   "display_name": "Python 3",
   "language": "python",
   "name": "python3"
  },
  "language_info": {
   "codemirror_mode": {
    "name": "ipython",
    "version": 3
   },
   "file_extension": ".py",
   "mimetype": "text/x-python",
   "name": "python",
   "nbconvert_exporter": "python",
   "pygments_lexer": "ipython3",
   "version": "3.7.7"
  }
 },
 "nbformat": 4,
 "nbformat_minor": 2
}
