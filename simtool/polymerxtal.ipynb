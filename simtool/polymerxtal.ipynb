{
 "cells": [
  {
   "cell_type": "markdown",
   "metadata": {},
   "source": [
    "# PolymerXtal - Polymer Crystal Structure Generator and Analysis Software"
   ]
  },
  {
   "cell_type": "code",
   "execution_count": null,
   "metadata": {},
   "outputs": [],
   "source": [
    "from hublib import use\n",
    "from hublib.cmd import runCommand"
   ]
  },
  {
   "cell_type": "code",
   "execution_count": null,
   "metadata": {},
   "outputs": [],
   "source": [
    "%load_ext yamlmagic"
   ]
  },
  {
   "cell_type": "code",
   "execution_count": null,
   "metadata": {},
   "outputs": [],
   "source": [
    "%%yaml INPUTS\n",
    "\n",
    "polymer_type:\n",
    "    type: Text\n",
    "    value: PAN\n",
    "    description: Select the polymer type.\n",
    "    options: [PAN, PE, PP, PS, POM, PTFE, PVC]\n",
    "\n",
    "helice_atoms:\n",
    "    type: Integer\n",
    "    description: Number of chain (backbone) atoms of a motif of the helix\n",
    "    value: 2\n",
    "    min: 2\n",
    "    max: 2\n",
    "\n",
    "helice_motifs:\n",
    "    type: Integer\n",
    "    description: Number of motifs of the helix\n",
    "    value: 3\n",
    "    min: 1\n",
    "    max: 3\n",
    "\n",
    "helice_turns:\n",
    "    type: Integer\n",
    "    description: Number of motifs of the helix\n",
    "    value: 1\n",
    "    min: 1\n",
    "    max: 1\n",
    "\n",
    "monomers:\n",
    "    type: Number\n",
    "    description: Number of monomers\n",
    "    value: 40\n",
    "    min: 1\n",
    "    max: 5000\n",
    "\n",
    "tacticity:\n",
    "    type: Text\n",
    "    value: isotactic\n",
    "    description: Select the tacticity of the polymer chain.\n",
    "    options: [isotactic, atactic, syndiotactic, None]\n",
    "\n",
    "chiriality:\n",
    "    type: Text\n",
    "    value: right\n",
    "    description: Select the chiriality of the polymer chain.\n",
    "    options: [left, right, None]\n",
    "\n",
    "head_tail_defect_ratio:\n",
    "    type: Number\n",
    "    description: Ratio of head-to-head and tail-to-tail connections\n",
    "    value: 0\n",
    "    min: 0\n",
    "    max: 1\n",
    "        \n",
    "configs:\n",
    "    type: Number\n",
    "    description: Number of attempts to find a configuration\n",
    "    value: 30\n",
    "    min: 1\n",
    "    max: 5000\n"
   ]
  },
  {
   "cell_type": "code",
   "execution_count": null,
   "metadata": {
    "tags": [
     "parameters"
    ]
   },
   "outputs": [],
   "source": [
    "polymer_type = \"PAN\"\n",
    "helice_atoms = 2\n",
    "helice_motifs = 3\n",
    "helice_turns = 1\n",
    "monomers = 40\n",
    "tacticity = \"isotactic\"\n",
    "chiriality = \"right\"\n",
    "head_tail_defect_ratio = 0\n",
    "configs = 30"
   ]
  },
  {
   "cell_type": "code",
   "execution_count": null,
   "metadata": {
    "tags": [
     "FILES"
    ]
   },
   "outputs": [],
   "source": [
    "EXTRA_FILES = ['polymerxtal']"
   ]
  },
  {
   "cell_type": "code",
   "execution_count": null,
   "metadata": {},
   "outputs": [],
   "source": [
    "import os\n",
    "import sys\n",
    "from polymerxtal import Helice, Chain\n",
    "from simtool import DB"
   ]
  },
  {
   "cell_type": "code",
   "execution_count": null,
   "metadata": {},
   "outputs": [],
   "source": [
    "chain=Chain(polymer_type=polymer_type,helice=Helice(helice_atoms,helice_motifs,helice_turns),num_monomers=monomers,tacticity=tacticity,\n",
    "            chiriality=chiriality,head_tail_defect_ratio=head_tail_defect_ratio)\n",
    "helix_name=chain.build_chain()"
   ]
  },
  {
   "cell_type": "code",
   "execution_count": null,
   "metadata": {},
   "outputs": [],
   "source": [
    "%%yaml OUTPUTS\n",
    "Helix Name:\n",
    "    type: Text\n",
    "    \n",
    "Output PDBfile:\n",
    "    type: Text   \n",
    "\n",
    "Output PDB:\n",
    "    type: Text"
   ]
  },
  {
   "cell_type": "code",
   "execution_count": null,
   "metadata": {},
   "outputs": [],
   "source": [
    "import os\n",
    "\n",
    "def copyAndSaveFileAsOutput(outputVariableName,inputPath):\n",
    "    if inputPath.startswith('file://'):\n",
    "        resultFile = os.path.basename(inputPath[7:])\n",
    "        if resultFile != inputPath[7:]:\n",
    "            shutil.copy2(inputPath[7:],resultFile)\n",
    "    else:\n",
    "        resultFile = os.path.basename(inputPath)\n",
    "        if resultFile != inputPath:\n",
    "            shutil.copy2(inputPath,resultFile)\n",
    "    db.save(outputVariableName,file=resultFile)"
   ]
  },
  {
   "cell_type": "code",
   "execution_count": null,
   "metadata": {},
   "outputs": [],
   "source": [
    "db = DB(OUTPUTS)\n",
    "print(db)\n",
    "db.save('Helix Name', helix_name)\n",
    "copyAndSaveFileAsOutput('Output PDBfile', helix_name+'.pdb')\n",
    "output_pdb = \"\"\n",
    "with open(helix_name+'.pdb', 'r') as input_text:\n",
    "    output_pdb = input_text.read()\n",
    "db.save('Output PDB', output_pdb)"
   ]
  },
  {
   "cell_type": "code",
   "execution_count": null,
   "metadata": {},
   "outputs": [],
   "source": []
  }
 ],
 "metadata": {
  "celltoolbar": "Tags",
  "kernelspec": {
   "display_name": "Python 3",
   "language": "python",
   "name": "python3"
  },
  "language_info": {
   "codemirror_mode": {
    "name": "ipython",
    "version": 3
   },
   "file_extension": ".py",
   "mimetype": "text/x-python",
   "name": "python",
   "nbconvert_exporter": "python",
   "pygments_lexer": "ipython3",
   "version": "3.7.7"
  }
 },
 "nbformat": 4,
 "nbformat_minor": 2
}
