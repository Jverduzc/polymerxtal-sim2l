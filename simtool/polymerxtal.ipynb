{
 "cells": [
  {
   "cell_type": "markdown",
   "metadata": {},
   "source": [
    "# PolymerXtal - Polymer Crystal Structure Generator and Analysis Software"
   ]
  },
  {
   "cell_type": "code",
   "execution_count": 1,
   "metadata": {},
   "outputs": [],
   "source": [
    "from hublib import use\n",
    "from hublib.cmd import runCommand"
   ]
  },
  {
   "cell_type": "code",
   "execution_count": 2,
   "metadata": {},
   "outputs": [],
   "source": [
    "%load_ext yamlmagic"
   ]
  },
  {
   "cell_type": "code",
   "execution_count": 3,
   "metadata": {},
   "outputs": [
    {
     "data": {
      "application/javascript": [
       "\n",
       "            require(\n",
       "                [\n",
       "                    \"notebook/js/codecell\",\n",
       "                    \"codemirror/mode/yaml/yaml\"\n",
       "                ],\n",
       "                function(cc){\n",
       "                    cc.CodeCell.options_default.highlight_modes.magic_yaml = {\n",
       "                        reg: [\"^%%yaml\"]\n",
       "                    }\n",
       "                }\n",
       "            );\n",
       "            "
      ],
      "text/plain": [
       "<IPython.core.display.Javascript object>"
      ]
     },
     "metadata": {},
     "output_type": "display_data"
    }
   ],
   "source": [
    "%%yaml INPUTS\n",
    "\n",
    "polymer_type:\n",
    "    type: Text\n",
    "    value: PAN\n",
    "    description: Select the polymer type.\n",
    "    options: [PAN, PE, PP, PS, POM, PTFE, PVC]\n",
    "\n",
    "helice_atoms:\n",
    "    type: Integer\n",
    "    description: Number of chain (backbone) atoms of a motif of the helix\n",
    "    value: 2\n",
    "    min: 2\n",
    "    max: 2\n",
    "\n",
    "helice_motifs:\n",
    "    type: Integer\n",
    "    description: Number of motifs of the helix\n",
    "    value: 3\n",
    "    min: 1\n",
    "    max: 3\n",
    "\n",
    "helice_turns:\n",
    "    type: Integer\n",
    "    description: Number of motifs of the helix\n",
    "    value: 1\n",
    "    min: 1\n",
    "    max: 1\n",
    "\n",
    "monomers:\n",
    "    type: Number\n",
    "    description: Number of monomers\n",
    "    value: 40\n",
    "    min: 1\n",
    "    max: 5000\n",
    "\n",
    "tacticity:\n",
    "    type: Text\n",
    "    value: isotactic\n",
    "    description: Select the tacticity of the polymer chain.\n",
    "    options: [isotactic, atactic, syndiotactic, None]\n",
    "\n",
    "chiriality:\n",
    "    type: Text\n",
    "    value: right\n",
    "    description: Select the chiriality of the polymer chain.\n",
    "    options: [left, right, None]\n",
    "\n",
    "head_tail_defect_ratio:\n",
    "    type: Number\n",
    "    description: Ratio of head-to-head and tail-to-tail connections\n",
    "    value: 0\n",
    "    min: 0\n",
    "    max: 1\n",
    "        \n",
    "configs:\n",
    "    type: Number\n",
    "    description: Number of attempts to find a configuration\n",
    "    value: 30\n",
    "    min: 1\n",
    "    max: 5000\n"
   ]
  },
  {
   "cell_type": "code",
   "execution_count": 4,
   "metadata": {
    "tags": [
     "parameters"
    ]
   },
   "outputs": [],
   "source": [
    "polymer_type = \"PAN\"\n",
    "helice_atoms = 2\n",
    "helice_motifs = 3\n",
    "helice_turns = 1\n",
    "monomers = 40\n",
    "tacticity = \"isotactic\"\n",
    "chiriality = \"right\"\n",
    "head_tail_defect_ratio = 0\n",
    "configs = 30"
   ]
  },
  {
   "cell_type": "code",
   "execution_count": 5,
   "metadata": {},
   "outputs": [
    {
     "name": "stderr",
     "output_type": "stream",
     "text": [
      "PySide2/__init__.py: Unable to import shiboken2 from /home/nanohub/shen276/polymerxtal, /home/nanohub/shen276/polymerxtal/simtool, /apps/share64/debian7/anaconda/anaconda-6/lib/python37.zip, /apps/share64/debian7/anaconda/anaconda-6/lib/python3.7, /apps/share64/debian7/anaconda/anaconda-6/lib/python3.7/lib-dynload, , /apps/share64/debian7/anaconda/anaconda-6/lib/python3.7/site-packages, /apps/share64/debian7/anaconda/anaconda-6/lib/python3.7/site-packages/IPython/extensions, /home/nanohub/shen276/.ipython\n"
     ]
    }
   ],
   "source": [
    "import os\n",
    "import sys\n",
    "#os.environ[\"TOOLDIR\"] = \"/home/nanohub/shen276/polymerxtal\"\n",
    "sys.path.insert(0, os.environ[\"TOOLDIR\"])\n",
    "\n",
    "from polymerxtal import Helice, Chain\n",
    "from simtool import DB"
   ]
  },
  {
   "cell_type": "code",
   "execution_count": 6,
   "metadata": {},
   "outputs": [
    {
     "name": "stdout",
     "output_type": "stream",
     "text": [
      "Total 4 possible configurations found for Helice 2_3_1\n",
      "Try Configuration 1\n",
      "\n",
      "========================================\n",
      "========================================\n",
      "\n",
      "OpenMP threading disabled\n",
      "\n",
      "MAX_BONDS: 32\n",
      "\n",
      "========================================\n",
      "========================================\n",
      "\n",
      "\n",
      "Read data from /home/nanohub/shen276/polymerxtal/polymerxtal/polymod/../data\n",
      "\n",
      "Element info: /home/nanohub/shen276/polymerxtal/polymerxtal/polymod/../data/elements\n",
      "\n",
      "\n",
      "Scale equilibrium bond lengths by 1.200000 to identify bonds\n",
      "\n",
      "\n",
      "4 known atom types:\n",
      "\n",
      "   \n",
      "N with 1 bond\n",
      "\n",
      "\n",
      "   \n",
      "C with 2 bonds\n",
      "\n",
      "\n",
      "   \n",
      "C with 4 bonds\n",
      "\n",
      "\n",
      "   \n",
      "H with 1 bond\n",
      "\n",
      "\n",
      "4 known bond types:\n",
      "\n",
      "   (\n",
      "C with 2 bonds\n",
      ") -- (\n",
      "N with 1 bond\n",
      ")\n",
      "\n",
      "   (\n",
      "C with 4 bonds\n",
      ") -- (\n",
      "C with 2 bonds\n",
      ")\n",
      "\n",
      "   (\n",
      "C with 4 bonds\n",
      ") -- (\n",
      "C with 4 bonds\n",
      ")\n",
      "\n",
      "   (\n",
      "H with 1 bond\n",
      ") -- (\n",
      "C with 4 bonds\n",
      ")\n",
      "\n",
      "\n",
      "\n",
      "Monomer h_m1T60T180:\n",
      "\n",
      " H\n",
      "\n",
      "\n",
      " C\n",
      "   1   1.09\n",
      "\n",
      "\n",
      " C\n",
      "   2   1.53\n",
      "   1  109.45\n",
      "\n",
      "\n",
      " H\n",
      "   3   1.10\n",
      "   2  109.49\n",
      "   1    60.03\n",
      "\n",
      "\n",
      " H\n",
      "   2   1.10\n",
      "   1  109.52\n",
      "   3   120.04\n",
      "\n",
      "\n",
      " H\n",
      "   2   1.10\n",
      "   1  109.44\n",
      "   3   234.92\n",
      "\n",
      "\n",
      " C\n",
      "   3   1.47\n",
      "   2  109.49\n",
      "   1   179.99\n",
      "\n",
      "\n",
      " H\n",
      "   3   1.10\n",
      "   2  109.49\n",
      "   1   294.94\n",
      "\n",
      "\n",
      " N\n",
      "   7   1.16\n",
      "   3  179.94\n",
      "   2    61.70\n",
      "\n",
      "\n",
      "Internal coordinates with Dreiding types:\n",
      "\n",
      "H\n",
      "_\n",
      "\n",
      "\n",
      "C\n",
      "_\n",
      "3\n",
      "   1   1.09\n",
      "\n",
      "\n",
      "C\n",
      "_\n",
      "3\n",
      "   2   1.53\n",
      "   1  109.45\n",
      "\n",
      "\n",
      "H\n",
      "_\n",
      "   3   1.10\n",
      "   2  109.49\n",
      "   1    60.03\n",
      "\n",
      "\n",
      "H\n",
      "_\n",
      "   2   1.10\n",
      "   1  109.52\n",
      "   3   120.04\n",
      "\n",
      "\n",
      "H\n",
      "_\n",
      "   2   1.10\n",
      "   1  109.44\n",
      "   3   234.92\n",
      "\n",
      "\n",
      "C\n",
      "_\n",
      "1\n",
      "   3   1.47\n",
      "   2  109.49\n",
      "   1   179.99\n",
      "\n",
      "\n",
      "H\n",
      "_\n",
      "   3   1.10\n",
      "   2  109.49\n",
      "   1   294.94\n",
      "\n",
      "\n",
      "N\n",
      "_\n",
      "0\n",
      "   7   1.16\n",
      "   3  179.94\n",
      "   2    61.70\n",
      "\n",
      "\n",
      "   4 backbone atoms\n",
      "\n",
      "   mass (without head and tail): 53.062500 amu\n",
      "\n",
      "   Backbone atom 3 torsion angle: \n",
      "fixed\n",
      "\n",
      "   Backbone atom 4 torsion angle: \n",
      "fixed\n",
      "\n",
      "   0 extra bonds not represented in z-matrix\n",
      "\n",
      "\n",
      "Stereochemistry options:\n",
      "\n",
      "   s1 (pattern): \n",
      "h_m1T60T180 \n",
      "h_m1T60T180 \n",
      "(repeat)\n",
      "\n",
      "\n",
      "\n",
      "System dimensions:\n",
      "\n",
      "   Minimum (0.000000, 0.000000, 0.000000)\n",
      "\n",
      "   Maximum (327.865354, 327.865354, 327.865354)\n",
      "\n",
      "Total polymer volume: 3.52441e+07 A^3\n",
      "\n",
      "\n",
      "Total domains: 1\n",
      "\n",
      "   1 domain in X (size 327.865354)\n",
      "\n",
      "   1 domain in Y (size 327.865354)\n",
      "\n",
      "   1 domain in Z (size 327.865354)\n",
      "\n",
      "\n",
      "Chain density: 0.000100 g/cm^3\n",
      "\n",
      "1 chains\n",
      "\n",
      "40 monomers per chain\n",
      "\n",
      "   0.000000 deviation in monomers per chain\n",
      "\n",
      "\n",
      "100.000000 % of chains will be s1\n",
      "\n",
      "\n",
      "Chain growth:\n",
      "\n",
      "   consider 50 configurations\n",
      "\n",
      "   Monte Carlo sampling\n",
      "\n",
      "   Temperature: 300.000000 K\n",
      "\n",
      "   Energy expression: \n",
      "Lennard-Jones\n",
      "\n",
      "   Bond cutoff for bonded interactions: 4\n",
      "\n",
      "   Interaction range for non-bonded interactions: 6.000000 A\n",
      "\n",
      "   Grid size for neighbor bins: 6.000000 A\n",
      "\n",
      "   Rotate varying torsions 0.000000 degrees when packing\n",
      "\n",
      "   Backbone bond length between monomers: 1.535100 A\n",
      "\n",
      "\n",
      "RNG seed: 1607880906\n",
      "\n",
      "Store atomic positions\n",
      "\n",
      "Write PDB file with unfolded positions\n",
      "\n",
      "Write intermediate files for LAMMPS preprocessing\n",
      "\n",
      "\n",
      "Maximum atoms: 282\n",
      "\n",
      "Rough estimate of density: 0.000100 g/cm^3\n",
      "\n",
      "\n",
      "Monomer selection:\n",
      "\n",
      "   h_m1T60T180: 100.00 %\n",
      "\n",
      "\n",
      "Stereochemistry selection:\n",
      "\n",
      "   s1: 100.00 %\n",
      "\n",
      "Mean polymerization: 40.000000\n",
      "\n",
      "   Standard deviation: 0.000000\n",
      "\n",
      "Total atoms: 282\n",
      "\n",
      "Final density: 0.000100 g/cm^3\n",
      "\n",
      "Total build and analysis time: 24.5962 s\n",
      "\n",
      "Success for Configuration 1\n"
     ]
    }
   ],
   "source": [
    "chain=Chain(polymer_type=polymer_type,helice=Helice(helice_atoms,helice_motifs,helice_turns),num_monomers=monomers,tacticity=tacticity,\n",
    "            chiriality=chiriality,head_tail_defect_ratio=head_tail_defect_ratio)\n",
    "helix_name=chain.build_chain()"
   ]
  },
  {
   "cell_type": "code",
   "execution_count": 7,
   "metadata": {},
   "outputs": [
    {
     "data": {
      "application/javascript": [
       "\n",
       "            require(\n",
       "                [\n",
       "                    \"notebook/js/codecell\",\n",
       "                    \"codemirror/mode/yaml/yaml\"\n",
       "                ],\n",
       "                function(cc){\n",
       "                    cc.CodeCell.options_default.highlight_modes.magic_yaml = {\n",
       "                        reg: [\"^%%yaml\"]\n",
       "                    }\n",
       "                }\n",
       "            );\n",
       "            "
      ],
      "text/plain": [
       "<IPython.core.display.Javascript object>"
      ]
     },
     "metadata": {},
     "output_type": "display_data"
    }
   ],
   "source": [
    "%%yaml OUTPUTS\n",
    "Helix Name:\n",
    "    type: Text\n",
    "    \n",
    "Output PDBfile:\n",
    "    type: Text   \n",
    "\n",
    "Output PDB:\n",
    "    type: Text"
   ]
  },
  {
   "cell_type": "code",
   "execution_count": 8,
   "metadata": {},
   "outputs": [],
   "source": [
    "import os\n",
    "\n",
    "def copyAndSaveFileAsOutput(outputVariableName,inputPath):\n",
    "    if inputPath.startswith('file://'):\n",
    "        resultFile = os.path.basename(inputPath[7:])\n",
    "        if resultFile != inputPath[7:]:\n",
    "            shutil.copy2(inputPath[7:],resultFile)\n",
    "    else:\n",
    "        resultFile = os.path.basename(inputPath)\n",
    "        if resultFile != inputPath:\n",
    "            shutil.copy2(inputPath,resultFile)\n",
    "    db.save(outputVariableName,file=resultFile)"
   ]
  },
  {
   "cell_type": "code",
   "execution_count": 9,
   "metadata": {},
   "outputs": [
    {
     "data": {
      "application/scrapbook.scrap.text+json": {
       "data": "0",
       "encoder": "text",
       "name": "simToolSaveErrorOccurred",
       "version": 1
      }
     },
     "metadata": {
      "scrapbook": {
       "data": true,
       "display": false,
       "name": "simToolSaveErrorOccurred"
      }
     },
     "output_type": "display_data"
    },
    {
     "data": {
      "application/scrapbook.scrap.text+json": {
       "data": "0",
       "encoder": "text",
       "name": "simToolAllOutputsSaved",
       "version": 1
      }
     },
     "metadata": {
      "scrapbook": {
       "data": true,
       "display": false,
       "name": "simToolAllOutputsSaved"
      }
     },
     "output_type": "display_data"
    },
    {
     "name": "stdout",
     "output_type": "stream",
     "text": [
      "<simtool.db.DB object at 0x7faf69766790>\n"
     ]
    },
    {
     "data": {
      "application/scrapbook.scrap.text+json": {
       "data": "\"PAN_helix_2_3_1_iso+\"",
       "encoder": "text",
       "name": "Helix Name",
       "version": 1
      }
     },
     "metadata": {
      "scrapbook": {
       "data": true,
       "display": false,
       "name": "Helix Name"
      }
     },
     "output_type": "display_data"
    },
    {
     "data": {
      "application/scrapbook.scrap.text+json": {
       "data": "file://PAN_helix_2_3_1_iso+.pdb",
       "encoder": "text",
       "name": "Output PDBfile",
       "version": 1
      }
     },
     "metadata": {
      "scrapbook": {
       "data": true,
       "display": false,
       "name": "Output PDBfile"
      }
     },
     "output_type": "display_data"
    },
    {
     "data": {
      "application/scrapbook.scrap.text+json": {
       "data": "\"ATOM      1    H UNK A   1       2.247   1.520   0.077\\nATOM      2    C UNK A   1       2.313   2.547   0.440\\nATOM      3    C UNK A   1       2.313   2.546   1.974\\nATOM      4    C UNK A   1       3.518   1.744   2.486\\nATOM      5    H UNK A   1       3.241   3.008   0.073\\nATOM      6    H UNK A   1       1.499   3.143   0.000\\nATOM      7    C UNK A   1       2.401   3.929   2.465\\nATOM      8    H UNK A   1       1.347   2.168   2.342\\nATOM      9    N UNK A   1       2.469   5.020   2.852\\nATOM     10    C UNK A   1       3.517   1.744   4.021\\nATOM     11    C UNK A   1       2.221   1.101   4.532\\nATOM     12    H UNK A   1       3.454   0.710   2.120\\nATOM     13    H UNK A   1       4.441   2.149   2.047\\nATOM     14    C UNK A   1       4.671   0.976   4.511\\nATOM     15    H UNK A   1       3.674   2.769   4.388\\nATOM     16    N UNK A   1       5.581   0.372   4.899\\nATOM     17    C UNK A   1       2.221   1.102   6.067\\nATOM     18    C UNK A   1       2.312   2.547   6.579\\nATOM     19    H UNK A   1       1.357   1.675   4.165\\nATOM     20    H UNK A   1       2.111   0.098   4.093\\nATOM     21    C UNK A   1       0.980   0.487   6.558\\nATOM     22    H UNK A   1       3.030   0.454   6.434\\nATOM     23    N UNK A   1       0.000   0.001   6.945\\nATOM     24    C UNK A   1       2.313   2.546   8.113\\nATOM     25    C UNK A   1       3.518   1.744   8.625\\nATOM     26    H UNK A   1       3.241   3.008   6.211\\nATOM     27    H UNK A   1       1.499   3.143   6.138\\nATOM     28    C UNK A   1       2.401   3.928   8.603\\nATOM     29    H UNK A   1       1.347   2.169   8.480\\nATOM     30    N UNK A   1       2.469   5.020   8.991\\nATOM     31    C UNK A   1       3.517   1.744  10.159\\nATOM     32    C UNK A   1       2.221   1.102  10.671\\nATOM     33    H UNK A   1       3.454   0.710   8.258\\nATOM     34    H UNK A   1       4.441   2.150   8.185\\nATOM     35    C UNK A   1       4.670   0.977  10.650\\nATOM     36    H UNK A   1       3.674   2.769  10.526\\nATOM     37    N UNK A   1       5.582   0.372  11.037\\nATOM     38    C UNK A   1       2.221   1.102  12.206\\nATOM     39    C UNK A   1       2.312   2.547  12.717\\nATOM     40    H UNK A   1       1.357   1.675  10.304\\nATOM     41    H UNK A   1       2.111   0.099  10.231\\nATOM     42    C UNK A   1       0.979   0.486  12.696\\nATOM     43    H UNK A   1       3.030   0.454  12.572\\nATOM     44    N UNK A   1       0.000   0.001  13.083\\nATOM     45    C UNK A   1       2.313   2.546  14.252\\nATOM     46    C UNK A   1       3.518   1.744  14.764\\nATOM     47    H UNK A   1       3.241   3.008  12.350\\nATOM     48    H UNK A   1       1.500   3.143  12.277\\nATOM     49    C UNK A   1       2.401   3.928  14.742\\nATOM     50    H UNK A   1       1.347   2.169  14.619\\nATOM     51    N UNK A   1       2.469   5.019  15.129\\nATOM     52    C UNK A   1       3.517   1.744  16.298\\nATOM     53    C UNK A   1       2.220   1.102  16.810\\nATOM     54    H UNK A   1       3.454   0.710  14.396\\nATOM     55    H UNK A   1       4.441   2.150  14.323\\nATOM     56    C UNK A   1       4.670   0.977  16.788\\nATOM     57    H UNK A   1       3.673   2.769  16.665\\nATOM     58    N UNK A   1       5.582   0.372  17.175\\nATOM     59    C UNK A   1       2.221   1.102  18.344\\nATOM     60    C UNK A   1       2.313   2.546  18.855\\nATOM     61    H UNK A   1       1.357   1.674  16.442\\nATOM     62    H UNK A   1       2.111   0.099  16.369\\nATOM     63    C UNK A   1       0.980   0.487  18.835\\nATOM     64    H UNK A   1       3.030   0.454  18.710\\nATOM     65    N UNK A   1       0.001   0.000  19.222\\nATOM     66    C UNK A   1       2.313   2.546  20.390\\nATOM     67    C UNK A   1       3.518   1.744  20.902\\nATOM     68    H UNK A   1       3.241   3.008  18.489\\nATOM     69    H UNK A   1       1.500   3.143  18.415\\nATOM     70    C UNK A   1       2.401   3.928  20.881\\nATOM     71    H UNK A   1       1.347   2.169  20.757\\nATOM     72    N UNK A   1       2.470   5.020  21.268\\nATOM     73    C UNK A   1       3.518   1.745  22.436\\nATOM     74    C UNK A   1       2.221   1.102  22.948\\nATOM     75    H UNK A   1       3.454   0.709  20.534\\nATOM     76    H UNK A   1       4.441   2.150  20.462\\nATOM     77    C UNK A   1       4.670   0.977  22.927\\nATOM     78    H UNK A   1       3.674   2.769  22.803\\nATOM     79    N UNK A   1       5.582   0.372  23.313\\nATOM     80    C UNK A   1       2.221   1.102  24.483\\nATOM     81    C UNK A   1       2.313   2.546  24.994\\nATOM     82    H UNK A   1       1.356   1.674  22.581\\nATOM     83    H UNK A   1       2.110   0.099  22.508\\nATOM     84    C UNK A   1       0.980   0.487  24.973\\nATOM     85    H UNK A   1       3.030   0.454  24.849\\nATOM     86    N UNK A   1       0.001   0.000  25.360\\nATOM     87    C UNK A   1       2.313   2.545  26.528\\nATOM     88    C UNK A   1       3.518   1.744  27.040\\nATOM     89    H UNK A   1       3.241   3.008  24.627\\nATOM     90    H UNK A   1       1.499   3.143  24.554\\nATOM     91    C UNK A   1       2.401   3.928  27.020\\nATOM     92    H UNK A   1       1.347   2.169  26.895\\nATOM     93    N UNK A   1       2.469   5.020  27.407\\nATOM     94    C UNK A   1       3.518   1.745  28.574\\nATOM     95    C UNK A   1       2.221   1.101  29.086\\nATOM     96    H UNK A   1       3.453   0.709  26.673\\nATOM     97    H UNK A   1       4.441   2.150  26.600\\nATOM     98    C UNK A   1       4.670   0.977  29.065\\nATOM     99    H UNK A   1       3.674   2.770  28.942\\nATOM    100    N UNK A   1       5.581   0.372  29.452\\nATOM    101    C UNK A   1       2.221   1.102  30.621\\nATOM    102    C UNK A   1       2.313   2.546  31.132\\nATOM    103    H UNK A   1       1.356   1.675  28.719\\nATOM    104    H UNK A   1       2.110   0.099  28.647\\nATOM    105    C UNK A   1       0.980   0.487  31.111\\nATOM    106    H UNK A   1       3.031   0.454  30.988\\nATOM    107    N UNK A   1       0.000   0.000  31.499\\nATOM    108    C UNK A   1       2.313   2.546  32.667\\nATOM    109    C UNK A   1       3.518   1.745  33.179\\nATOM    110    H UNK A   1       3.241   3.008  30.765\\nATOM    111    H UNK A   1       1.499   3.143  30.692\\nATOM    112    C UNK A   1       2.401   3.928  33.158\\nATOM    113    H UNK A   1       1.347   2.169  33.034\\nATOM    114    N UNK A   1       2.469   5.020  33.545\\nATOM    115    C UNK A   1       3.517   1.744  34.713\\nATOM    116    C UNK A   1       2.221   1.101  35.224\\nATOM    117    H UNK A   1       3.454   0.709  32.812\\nATOM    118    H UNK A   1       4.441   2.150  32.739\\nATOM    119    C UNK A   1       4.671   0.977  35.203\\nATOM    120    H UNK A   1       3.674   2.770  35.080\\nATOM    121    N UNK A   1       5.581   0.372  35.591\\nATOM    122    C UNK A   1       2.221   1.103  36.759\\nATOM    123    C UNK A   1       2.312   2.546  37.271\\nATOM    124    H UNK A   1       1.356   1.675  34.857\\nATOM    125    H UNK A   1       2.111   0.099  34.785\\nATOM    126    C UNK A   1       0.980   0.487  37.250\\nATOM    127    H UNK A   1       3.031   0.454  37.126\\nATOM    128    N UNK A   1       0.000   0.000  37.637\\nATOM    129    C UNK A   1       2.313   2.546  38.805\\nATOM    130    C UNK A   1       3.518   1.745  39.317\\nATOM    131    H UNK A   1       3.241   3.008  36.904\\nATOM    132    H UNK A   1       1.499   3.144  36.830\\nATOM    133    C UNK A   1       2.401   3.929  39.296\\nATOM    134    H UNK A   1       1.347   2.169  39.172\\nATOM    135    N UNK A   1       2.469   5.020  39.683\\nATOM    136    C UNK A   1       3.517   1.744  40.851\\nATOM    137    C UNK A   1       2.221   1.101  41.363\\nATOM    138    H UNK A   1       3.454   0.710  38.950\\nATOM    139    H UNK A   1       4.441   2.150  38.877\\nATOM    140    C UNK A   1       4.671   0.977  41.342\\nATOM    141    H UNK A   1       3.674   2.769  41.218\\nATOM    142    N UNK A   1       5.581   0.372  41.729\\nATOM    143    C UNK A   1       2.221   1.102  42.898\\nATOM    144    C UNK A   1       2.312   2.547  43.409\\nATOM    145    H UNK A   1       1.357   1.675  40.996\\nATOM    146    H UNK A   1       2.111   0.099  40.923\\nATOM    147    C UNK A   1       0.979   0.487  43.389\\nATOM    148    H UNK A   1       3.031   0.454  43.265\\nATOM    149    N UNK A   1       0.000   0.001  43.775\\nATOM    150    C UNK A   1       2.312   2.546  44.944\\nATOM    151    C UNK A   1       3.518   1.745  45.456\\nATOM    152    H UNK A   1       3.241   3.008  43.042\\nATOM    153    H UNK A   1       1.500   3.143  42.969\\nATOM    154    C UNK A   1       2.401   3.929  45.435\\nATOM    155    H UNK A   1       1.347   2.169  45.311\\nATOM    156    N UNK A   1       2.470   5.020  45.822\\nATOM    157    C UNK A   1       3.517   1.744  46.990\\nATOM    158    C UNK A   1       2.220   1.102  47.502\\nATOM    159    H UNK A   1       3.454   0.710  45.088\\nATOM    160    H UNK A   1       4.441   2.151  45.015\\nATOM    161    C UNK A   1       4.671   0.977  47.481\\nATOM    162    H UNK A   1       3.673   2.769  47.357\\nATOM    163    N UNK A   1       5.582   0.372  47.867\\nATOM    164    C UNK A   1       2.221   1.102  49.036\\nATOM    165    C UNK A   1       2.312   2.547  49.547\\nATOM    166    H UNK A   1       1.357   1.675  47.134\\nATOM    167    H UNK A   1       2.111   0.100  47.061\\nATOM    168    C UNK A   1       0.979   0.487  49.527\\nATOM    169    H UNK A   1       3.031   0.454  49.403\\nATOM    170    N UNK A   1       0.001   0.001  49.914\\nATOM    171    C UNK A   1       2.313   2.546  51.082\\nATOM    172    C UNK A   1       3.518   1.744  51.594\\nATOM    173    H UNK A   1       3.241   3.008  49.181\\nATOM    174    H UNK A   1       1.500   3.143  49.108\\nATOM    175    C UNK A   1       2.401   3.929  51.574\\nATOM    176    H UNK A   1       1.347   2.169  51.449\\nATOM    177    N UNK A   1       2.470   5.020  51.960\\nATOM    178    C UNK A   1       3.517   1.744  53.128\\nATOM    179    C UNK A   1       2.220   1.102  53.640\\nATOM    180    H UNK A   1       3.454   0.710  51.227\\nATOM    181    H UNK A   1       4.441   2.151  51.154\\nATOM    182    C UNK A   1       4.671   0.977  53.620\\nATOM    183    H UNK A   1       3.673   2.769  53.495\\nATOM    184    N UNK A   1       5.582   0.372  54.006\\nATOM    185    C UNK A   1       2.221   1.102  55.174\\nATOM    186    C UNK A   1       2.313   2.547  55.686\\nATOM    187    H UNK A   1       1.357   1.675  53.274\\nATOM    188    H UNK A   1       2.110   0.100  53.200\\nATOM    189    C UNK A   1       0.980   0.488  55.665\\nATOM    190    H UNK A   1       3.030   0.454  55.542\\nATOM    191    N UNK A   1       0.001   0.001  56.052\\nATOM    192    C UNK A   1       2.313   2.546  57.220\\nATOM    193    C UNK A   1       3.518   1.744  57.732\\nATOM    194    H UNK A   1       3.241   3.008  55.319\\nATOM    195    H UNK A   1       1.500   3.143  55.247\\nATOM    196    C UNK A   1       2.401   3.929  57.712\\nATOM    197    H UNK A   1       1.347   2.169  57.587\\nATOM    198    N UNK A   1       2.469   5.020  58.099\\nATOM    199    C UNK A   1       3.518   1.745  59.266\\nATOM    200    C UNK A   1       2.221   1.102  59.778\\nATOM    201    H UNK A   1       3.453   0.710  57.366\\nATOM    202    H UNK A   1       4.441   2.150  57.292\\nATOM    203    C UNK A   1       4.671   0.977  59.758\\nATOM    204    H UNK A   1       3.674   2.769  59.634\\nATOM    205    N UNK A   1       5.581   0.373  60.144\\nATOM    206    C UNK A   1       2.221   1.102  61.313\\nATOM    207    C UNK A   1       2.313   2.547  61.824\\nATOM    208    H UNK A   1       1.357   1.675  59.412\\nATOM    209    H UNK A   1       2.110   0.099  59.339\\nATOM    210    C UNK A   1       0.980   0.487  61.803\\nATOM    211    H UNK A   1       3.030   0.454  61.680\\nATOM    212    N UNK A   1       0.000   0.001  62.191\\nATOM    213    C UNK A   1       2.313   2.546  63.359\\nATOM    214    C UNK A   1       3.518   1.744  63.871\\nATOM    215    H UNK A   1       3.241   3.008  61.457\\nATOM    216    H UNK A   1       1.500   3.143  61.385\\nATOM    217    C UNK A   1       2.401   3.928  63.850\\nATOM    218    H UNK A   1       1.347   2.169  63.726\\nATOM    219    N UNK A   1       2.469   5.020  64.237\\nATOM    220    C UNK A   1       3.517   1.745  65.405\\nATOM    221    C UNK A   1       2.221   1.102  65.917\\nATOM    222    H UNK A   1       3.453   0.710  63.504\\nATOM    223    H UNK A   1       4.441   2.150  63.431\\nATOM    224    C UNK A   1       4.671   0.977  65.896\\nATOM    225    H UNK A   1       3.674   2.770  65.772\\nATOM    226    N UNK A   1       5.582   0.373  66.284\\nATOM    227    C UNK A   1       2.221   1.102  67.451\\nATOM    228    C UNK A   1       2.312   2.546  67.963\\nATOM    229    H UNK A   1       1.357   1.675  65.550\\nATOM    230    H UNK A   1       2.110   0.099  65.477\\nATOM    231    C UNK A   1       0.980   0.487  67.942\\nATOM    232    H UNK A   1       3.031   0.454  67.819\\nATOM    233    N UNK A   1       0.000   0.001  68.329\\nATOM    234    C UNK A   1       2.313   2.547  69.497\\nATOM    235    C UNK A   1       3.518   1.745  70.009\\nATOM    236    H UNK A   1       3.241   3.009  67.596\\nATOM    237    H UNK A   1       1.500   3.143  67.523\\nATOM    238    C UNK A   1       2.401   3.928  69.988\\nATOM    239    H UNK A   1       1.347   2.169  69.864\\nATOM    240    N UNK A   1       2.469   5.020  70.375\\nATOM    241    C UNK A   1       3.517   1.745  71.544\\nATOM    242    C UNK A   1       2.221   1.102  72.055\\nATOM    243    H UNK A   1       3.454   0.710  69.642\\nATOM    244    H UNK A   1       4.441   2.150  69.569\\nATOM    245    C UNK A   1       4.671   0.977  72.034\\nATOM    246    H UNK A   1       3.674   2.770  71.910\\nATOM    247    N UNK A   1       5.582   0.373  72.422\\nATOM    248    C UNK A   1       2.221   1.103  73.590\\nATOM    249    C UNK A   1       2.312   2.546  74.101\\nATOM    250    H UNK A   1       1.357   1.675  71.688\\nATOM    251    H UNK A   1       2.111   0.099  71.615\\nATOM    252    C UNK A   1       0.979   0.487  74.081\\nATOM    253    H UNK A   1       3.031   0.455  73.957\\nATOM    254    N UNK A   1       0.000   0.000  74.467\\nATOM    255    C UNK A   1       2.312   2.547  75.636\\nATOM    256    C UNK A   1       3.518   1.745  76.148\\nATOM    257    H UNK A   1       3.241   3.009  73.734\\nATOM    258    H UNK A   1       1.500   3.144  73.662\\nATOM    259    C UNK A   1       2.401   3.929  76.127\\nATOM    260    H UNK A   1       1.347   2.169  76.003\\nATOM    261    N UNK A   1       2.469   5.020  76.514\\nATOM    262    C UNK A   1       3.517   1.745  77.682\\nATOM    263    C UNK A   1       2.220   1.102  78.194\\nATOM    264    H UNK A   1       3.454   0.709  75.780\\nATOM    265    H UNK A   1       4.441   2.150  75.707\\nATOM    266    C UNK A   1       4.671   0.977  78.173\\nATOM    267    H UNK A   1       3.673   2.770  78.049\\nATOM    268    N UNK A   1       5.582   0.372  78.560\\nATOM    269    C UNK A   1       2.221   1.103  79.728\\nATOM    270    C UNK A   1       2.313   2.547  80.240\\nATOM    271    H UNK A   1       1.357   1.675  77.827\\nATOM    272    H UNK A   1       2.111   0.099  77.754\\nATOM    273    C UNK A   1       0.979   0.487  80.219\\nATOM    274    H UNK A   1       3.031   0.455  80.095\\nATOM    275    N UNK A   1       0.000   0.001  80.606\\nATOM    276    C UNK A   1       2.312   2.546  81.774\\nATOM    277    H UNK A   1       3.177   1.971  82.141\\nATOM    278    H UNK A   1       3.241   3.009  79.873\\nATOM    279    H UNK A   1       1.500   3.144  79.800\\nATOM    280    C UNK A   1       2.401   3.929  82.266\\nATOM    281    H UNK A   1       1.347   2.169  82.141\\nATOM    282    N UNK A   1       2.470   5.020  82.652\\nTER     283\\n\"",
       "encoder": "text",
       "name": "Output PDB",
       "version": 1
      }
     },
     "metadata": {
      "scrapbook": {
       "data": true,
       "display": false,
       "name": "Output PDB"
      }
     },
     "output_type": "display_data"
    },
    {
     "data": {
      "application/scrapbook.scrap.text+json": {
       "data": "1",
       "encoder": "text",
       "name": "simToolAllOutputsSaved",
       "version": 1
      }
     },
     "metadata": {
      "scrapbook": {
       "data": true,
       "display": false,
       "name": "simToolAllOutputsSaved"
      }
     },
     "output_type": "display_data"
    }
   ],
   "source": [
    "db = DB(OUTPUTS)\n",
    "print(db)\n",
    "db.save('Helix Name', helix_name)\n",
    "copyAndSaveFileAsOutput('Output PDBfile', helix_name+'.pdb')\n",
    "output_pdb = \"\"\n",
    "with open(helix_name+'.pdb', 'r') as input_text:\n",
    "    output_pdb = input_text.read()\n",
    "db.save('Output PDB', output_pdb)"
   ]
  },
  {
   "cell_type": "code",
   "execution_count": null,
   "metadata": {},
   "outputs": [],
   "source": []
  }
 ],
 "metadata": {
  "celltoolbar": "Tags",
  "kernelspec": {
   "display_name": "Python 3",
   "language": "python",
   "name": "python3"
  },
  "language_info": {
   "codemirror_mode": {
    "name": "ipython",
    "version": 3
   },
   "file_extension": ".py",
   "mimetype": "text/x-python",
   "name": "python",
   "nbconvert_exporter": "python",
   "pygments_lexer": "ipython3",
   "version": "3.7.7"
  }
 },
 "nbformat": 4,
 "nbformat_minor": 2
}
