{
 "cells": [
  {
   "cell_type": "markdown",
   "metadata": {},
   "source": [
    "# PolymerXtal - Polymer Crystal Structure Generator and Analysis Software"
   ]
  },
  {
   "cell_type": "code",
   "execution_count": 1,
   "metadata": {},
   "outputs": [],
   "source": [
    "from hublib import use\n",
    "from hublib.cmd import runCommand"
   ]
  },
  {
   "cell_type": "code",
   "execution_count": 2,
   "metadata": {},
   "outputs": [],
   "source": [
    "%load_ext yamlmagic"
   ]
  },
  {
   "cell_type": "code",
   "execution_count": 3,
   "metadata": {},
   "outputs": [
    {
     "data": {
      "application/javascript": [
       "\n",
       "            require(\n",
       "                [\n",
       "                    \"notebook/js/codecell\",\n",
       "                    \"codemirror/mode/yaml/yaml\"\n",
       "                ],\n",
       "                function(cc){\n",
       "                    cc.CodeCell.options_default.highlight_modes.magic_yaml = {\n",
       "                        reg: [\"^%%yaml\"]\n",
       "                    }\n",
       "                }\n",
       "            );\n",
       "            "
      ],
      "text/plain": [
       "<IPython.core.display.Javascript object>"
      ]
     },
     "metadata": {},
     "output_type": "display_data"
    }
   ],
   "source": [
    "%%yaml INPUTS\n",
    "\n",
    "polymer_type:\n",
    "    type: Text\n",
    "    value: PAN\n",
    "    description: Select the polymer type.\n",
    "    options: [PAN, PE, PP, PS, POM, PTFE, PVC]\n",
    "\n",
    "helice_atoms:\n",
    "    type: Integer\n",
    "    description: Number of chain (backbone) atoms of a motif of the helix\n",
    "    value: 2\n",
    "    min: 2\n",
    "    max: 2\n",
    "\n",
    "helice_motifs:\n",
    "    type: Integer\n",
    "    description: Number of motifs of the helix\n",
    "    value: 3\n",
    "    min: 1\n",
    "    max: 3\n",
    "\n",
    "helice_turns:\n",
    "    type: Integer\n",
    "    description: Number of motifs of the helix\n",
    "    value: 1\n",
    "    min: 1\n",
    "    max: 1\n",
    "\n",
    "monomers:\n",
    "    type: Number\n",
    "    description: Number of monomers\n",
    "    value: 40\n",
    "    min: 1\n",
    "    max: 5000\n",
    "\n",
    "tacticity:\n",
    "    type: Text\n",
    "    value: isotactic\n",
    "    description: Select the tacticity of the polymer chain.\n",
    "    options: [isotactic, atactic, syndiotactic, None]\n",
    "\n",
    "chiriality:\n",
    "    type: Text\n",
    "    value: right\n",
    "    description: Select the chiriality of the polymer chain.\n",
    "    options: [left, right, None]\n",
    "\n",
    "head_tail_defect_ratio:\n",
    "    type: Number\n",
    "    description: Ratio of head-to-head and tail-to-tail connections\n",
    "    value: 0\n",
    "    min: 0\n",
    "    max: 1\n",
    "        \n",
    "configs:\n",
    "    type: Number\n",
    "    description: Number of attempts to find a configuration\n",
    "    value: 30\n",
    "    min: 1\n",
    "    max: 5000\n"
   ]
  },
  {
   "cell_type": "code",
   "execution_count": 4,
   "metadata": {
    "tags": [
     "parameters"
    ]
   },
   "outputs": [],
   "source": [
    "polymer_type = \"PAN\"\n",
    "helice_atoms = 2\n",
    "helice_motifs = 3\n",
    "helice_turns = 1\n",
    "monomers = 40\n",
    "tacticity = \"isotactic\"\n",
    "chiriality = \"right\"\n",
    "head_tail_defect_ratio = 0\n",
    "configs = 30"
   ]
  },
  {
   "cell_type": "code",
   "execution_count": 5,
   "metadata": {},
   "outputs": [
    {
     "name": "stderr",
     "output_type": "stream",
     "text": [
      "PySide2/__init__.py: Unable to import shiboken2 from /home/nanohub/shen276/polymerxtal, /home/nanohub/shen276/polymerxtal/simtool, /apps/share64/debian7/anaconda/anaconda-6/lib/python37.zip, /apps/share64/debian7/anaconda/anaconda-6/lib/python3.7, /apps/share64/debian7/anaconda/anaconda-6/lib/python3.7/lib-dynload, , /apps/share64/debian7/anaconda/anaconda-6/lib/python3.7/site-packages, /apps/share64/debian7/anaconda/anaconda-6/lib/python3.7/site-packages/IPython/extensions, /home/nanohub/shen276/.ipython\n"
     ]
    }
   ],
   "source": [
    "import os\n",
    "import sys\n",
    "\n",
    "# Get the location of the current module\n",
    "current_location = os.getcwd()\n",
    "\n",
    "# Build the path to polymerxtal python module.\n",
    "path_list=current_location.split('/')\n",
    "polymerxtal_path = '/'.join(path_list[:path_list.index('polymerxtal')+1])\n",
    "\n",
    "sys.path.insert(0, polymerxtal_path)\n",
    "from polymerxtal import Helice, Chain\n",
    "from simtool import DB"
   ]
  },
  {
   "cell_type": "code",
   "execution_count": 6,
   "metadata": {},
   "outputs": [
    {
     "name": "stdout",
     "output_type": "stream",
     "text": [
      "Total 4 possible configurations found for Helice 2_3_1\n",
      "Try Configuration 1\n",
      "\n",
      "========================================\n",
      "========================================\n",
      "\n",
      "OpenMP threading disabled\n",
      "\n",
      "MAX_BONDS: 32\n",
      "\n",
      "========================================\n",
      "========================================\n",
      "\n",
      "\n",
      "Read data from /home/nanohub/shen276/polymerxtal/polymerxtal/polymod/../data\n",
      "\n",
      "Element info: /home/nanohub/shen276/polymerxtal/polymerxtal/polymod/../data/elements\n",
      "\n",
      "\n",
      "Scale equilibrium bond lengths by 1.200000 to identify bonds\n",
      "\n",
      "\n",
      "4 known atom types:\n",
      "\n",
      "   \n",
      "N with 1 bond\n",
      "\n",
      "\n",
      "   \n",
      "C with 2 bonds\n",
      "\n",
      "\n",
      "   \n",
      "C with 4 bonds\n",
      "\n",
      "\n",
      "   \n",
      "H with 1 bond\n",
      "\n",
      "\n",
      "4 known bond types:\n",
      "\n",
      "   (\n",
      "C with 2 bonds\n",
      ") -- (\n",
      "N with 1 bond\n",
      ")\n",
      "\n",
      "   (\n",
      "C with 4 bonds\n",
      ") -- (\n",
      "C with 2 bonds\n",
      ")\n",
      "\n",
      "   (\n",
      "C with 4 bonds\n",
      ") -- (\n",
      "C with 4 bonds\n",
      ")\n",
      "\n",
      "   (\n",
      "H with 1 bond\n",
      ") -- (\n",
      "C with 4 bonds\n",
      ")\n",
      "\n",
      "\n",
      "\n",
      "Monomer h_m1T60T180:\n",
      "\n",
      " H\n",
      "\n",
      "\n",
      " C\n",
      "   1   1.09\n",
      "\n",
      "\n",
      " C\n",
      "   2   1.53\n",
      "   1  109.45\n",
      "\n",
      "\n",
      " H\n",
      "   3   1.10\n",
      "   2  109.49\n",
      "   1    60.03\n",
      "\n",
      "\n",
      " H\n",
      "   2   1.10\n",
      "   1  109.52\n",
      "   3   120.04\n",
      "\n",
      "\n",
      " H\n",
      "   2   1.10\n",
      "   1  109.44\n",
      "   3   234.92\n",
      "\n",
      "\n",
      " C\n",
      "   3   1.47\n",
      "   2  109.49\n",
      "   1   179.99\n",
      "\n",
      "\n",
      " H\n",
      "   3   1.10\n",
      "   2  109.49\n",
      "   1   294.94\n",
      "\n",
      "\n",
      " N\n",
      "   7   1.16\n",
      "   3  179.94\n",
      "   2    61.70\n",
      "\n",
      "\n",
      "Internal coordinates with Dreiding types:\n",
      "\n",
      "H\n",
      "_\n",
      "\n",
      "\n",
      "C\n",
      "_\n",
      "3\n",
      "   1   1.09\n",
      "\n",
      "\n",
      "C\n",
      "_\n",
      "3\n",
      "   2   1.53\n",
      "   1  109.45\n",
      "\n",
      "\n",
      "H\n",
      "_\n",
      "   3   1.10\n",
      "   2  109.49\n",
      "   1    60.03\n",
      "\n",
      "\n",
      "H\n",
      "_\n",
      "   2   1.10\n",
      "   1  109.52\n",
      "   3   120.04\n",
      "\n",
      "\n",
      "H\n",
      "_\n",
      "   2   1.10\n",
      "   1  109.44\n",
      "   3   234.92\n",
      "\n",
      "\n",
      "C\n",
      "_\n",
      "1\n",
      "   3   1.47\n",
      "   2  109.49\n",
      "   1   179.99\n",
      "\n",
      "\n",
      "H\n",
      "_\n",
      "   3   1.10\n",
      "   2  109.49\n",
      "   1   294.94\n",
      "\n",
      "\n",
      "N\n",
      "_\n",
      "0\n",
      "   7   1.16\n",
      "   3  179.94\n",
      "   2    61.70\n",
      "\n",
      "\n",
      "   4 backbone atoms\n",
      "\n",
      "   mass (without head and tail): 53.062500 amu\n",
      "\n",
      "   Backbone atom 3 torsion angle: \n",
      "fixed\n",
      "\n",
      "   Backbone atom 4 torsion angle: \n",
      "fixed\n",
      "\n",
      "   0 extra bonds not represented in z-matrix\n",
      "\n",
      "\n",
      "Stereochemistry options:\n",
      "\n",
      "   s1 (pattern): \n",
      "h_m1T60T180 \n",
      "h_m1T60T180 \n",
      "(repeat)\n",
      "\n",
      "\n",
      "\n",
      "System dimensions:\n",
      "\n",
      "   Minimum (0.000000, 0.000000, 0.000000)\n",
      "\n",
      "   Maximum (327.865354, 327.865354, 327.865354)\n",
      "\n",
      "Total polymer volume: 3.52441e+07 A^3\n",
      "\n",
      "\n",
      "Total domains: 1\n",
      "\n",
      "   1 domain in X (size 327.865354)\n",
      "\n",
      "   1 domain in Y (size 327.865354)\n",
      "\n",
      "   1 domain in Z (size 327.865354)\n",
      "\n",
      "\n",
      "Chain density: 0.000100 g/cm^3\n",
      "\n",
      "1 chains\n",
      "\n",
      "40 monomers per chain\n",
      "\n",
      "   0.000000 deviation in monomers per chain\n",
      "\n",
      "\n",
      "100.000000 % of chains will be s1\n",
      "\n",
      "\n",
      "Chain growth:\n",
      "\n",
      "   consider 50 configurations\n",
      "\n",
      "   Monte Carlo sampling\n",
      "\n",
      "   Temperature: 300.000000 K\n",
      "\n",
      "   Energy expression: \n",
      "Lennard-Jones\n",
      "\n",
      "   Bond cutoff for bonded interactions: 4\n",
      "\n",
      "   Interaction range for non-bonded interactions: 6.000000 A\n",
      "\n",
      "   Grid size for neighbor bins: 6.000000 A\n",
      "\n",
      "   Rotate varying torsions 0.000000 degrees when packing\n",
      "\n",
      "   Backbone bond length between monomers: 1.535100 A\n",
      "\n",
      "\n",
      "RNG seed: 1607718191\n",
      "\n",
      "Store atomic positions\n",
      "\n",
      "Write PDB file with unfolded positions\n",
      "\n",
      "Write intermediate files for LAMMPS preprocessing\n",
      "\n",
      "\n",
      "Maximum atoms: 282\n",
      "\n",
      "Rough estimate of density: 0.000100 g/cm^3\n",
      "\n",
      "\n",
      "Monomer selection:\n",
      "\n",
      "   h_m1T60T180: 100.00 %\n",
      "\n",
      "\n",
      "Stereochemistry selection:\n",
      "\n",
      "   s1: 100.00 %\n",
      "\n",
      "Mean polymerization: 40.000000\n",
      "\n",
      "   Standard deviation: 0.000000\n",
      "\n",
      "Total atoms: 282\n",
      "\n",
      "Final density: 0.000100 g/cm^3\n",
      "\n",
      "Total build and analysis time: 26.9652 s\n",
      "\n",
      "Success for Configuration 1\n"
     ]
    }
   ],
   "source": [
    "chain=Chain(polymer_type=polymer_type,helice=Helice(helice_atoms,helice_motifs,helice_turns),num_monomers=monomers,tacticity=tacticity,\n",
    "            chiriality=chiriality,head_tail_defect_ratio=head_tail_defect_ratio)\n",
    "helix_name=chain.build_chain()"
   ]
  },
  {
   "cell_type": "code",
   "execution_count": 7,
   "metadata": {},
   "outputs": [
    {
     "data": {
      "application/javascript": [
       "\n",
       "            require(\n",
       "                [\n",
       "                    \"notebook/js/codecell\",\n",
       "                    \"codemirror/mode/yaml/yaml\"\n",
       "                ],\n",
       "                function(cc){\n",
       "                    cc.CodeCell.options_default.highlight_modes.magic_yaml = {\n",
       "                        reg: [\"^%%yaml\"]\n",
       "                    }\n",
       "                }\n",
       "            );\n",
       "            "
      ],
      "text/plain": [
       "<IPython.core.display.Javascript object>"
      ]
     },
     "metadata": {},
     "output_type": "display_data"
    }
   ],
   "source": [
    "%%yaml OUTPUTS\n",
    "Helix Name:\n",
    "    type: Text\n",
    "    \n",
    "Output PDBfile:\n",
    "    type: Text   \n",
    "\n",
    "Output PDB:\n",
    "    type: Text"
   ]
  },
  {
   "cell_type": "code",
   "execution_count": 8,
   "metadata": {},
   "outputs": [],
   "source": [
    "import os\n",
    "\n",
    "def copyAndSaveFileAsOutput(outputVariableName,inputPath):\n",
    "    if inputPath.startswith('file://'):\n",
    "        resultFile = os.path.basename(inputPath[7:])\n",
    "        if resultFile != inputPath[7:]:\n",
    "            shutil.copy2(inputPath[7:],resultFile)\n",
    "    else:\n",
    "        resultFile = os.path.basename(inputPath)\n",
    "        if resultFile != inputPath:\n",
    "            shutil.copy2(inputPath,resultFile)\n",
    "    db.save(outputVariableName,file=resultFile)"
   ]
  },
  {
   "cell_type": "code",
   "execution_count": 9,
   "metadata": {},
   "outputs": [
    {
     "data": {
      "application/scrapbook.scrap.text+json": {
       "data": "0",
       "encoder": "text",
       "name": "simToolSaveErrorOccurred",
       "version": 1
      }
     },
     "metadata": {
      "scrapbook": {
       "data": true,
       "display": false,
       "name": "simToolSaveErrorOccurred"
      }
     },
     "output_type": "display_data"
    },
    {
     "data": {
      "application/scrapbook.scrap.text+json": {
       "data": "0",
       "encoder": "text",
       "name": "simToolAllOutputsSaved",
       "version": 1
      }
     },
     "metadata": {
      "scrapbook": {
       "data": true,
       "display": false,
       "name": "simToolAllOutputsSaved"
      }
     },
     "output_type": "display_data"
    },
    {
     "name": "stdout",
     "output_type": "stream",
     "text": [
      "<simtool.db.DB object at 0x7f6b83b43a10>\n"
     ]
    },
    {
     "data": {
      "application/scrapbook.scrap.text+json": {
       "data": "\"PAN_helix_2_3_1_iso+\"",
       "encoder": "text",
       "name": "Helix Name",
       "version": 1
      }
     },
     "metadata": {
      "scrapbook": {
       "data": true,
       "display": false,
       "name": "Helix Name"
      }
     },
     "output_type": "display_data"
    },
    {
     "data": {
      "application/scrapbook.scrap.text+json": {
       "data": "file://PAN_helix_2_3_1_iso+.pdb",
       "encoder": "text",
       "name": "Output PDBfile",
       "version": 1
      }
     },
     "metadata": {
      "scrapbook": {
       "data": true,
       "display": false,
       "name": "Output PDBfile"
      }
     },
     "output_type": "display_data"
    },
    {
     "data": {
      "application/scrapbook.scrap.text+json": {
       "data": "\"ATOM      1    H UNK A   1       2.989   1.834   0.077\\nATOM      2    C UNK A   1       2.113   1.296   0.441\\nATOM      3    C UNK A   1       2.113   1.297   1.975\\nATOM      4    C UNK A   1       2.075   2.743   2.487\\nATOM      5    H UNK A   1       1.201   1.789   0.073\\nATOM      6    H UNK A   1       2.093   0.288   0.000\\nATOM      7    C UNK A   1       0.933   0.573   2.466\\nATOM      8    H UNK A   1       2.978   0.724   2.342\\nATOM      9    N UNK A   1       0.000   0.000   2.853\\nATOM     10    C UNK A   1       2.075   2.743   4.021\\nATOM     11    C UNK A   1       3.347   2.053   4.533\\nATOM     12    H UNK A   1       2.958   3.286   2.120\\nATOM     13    H UNK A   1       1.211   3.264   2.046\\nATOM     14    C UNK A   1       2.039   4.128   4.512\\nATOM     15    H UNK A   1       1.147   2.281   4.388\\nATOM     16    N UNK A   1       2.009   5.221   4.899\\nATOM     17    C UNK A   1       3.347   2.053   6.067\\nATOM     18    C UNK A   1       2.113   1.296   6.579\\nATOM     19    H UNK A   1       3.376   1.017   4.166\\nATOM     20    H UNK A   1       4.231   2.540   4.092\\nATOM     21    C UNK A   1       4.565   1.392   6.558\\nATOM     22    H UNK A   1       3.410   3.088   6.435\\nATOM     23    N UNK A   1       5.526   0.872   6.945\\nATOM     24    C UNK A   1       2.113   1.297   8.114\\nATOM     25    C UNK A   1       2.074   2.743   8.625\\nATOM     26    H UNK A   1       1.201   1.789   6.212\\nATOM     27    H UNK A   1       2.093   0.288   6.139\\nATOM     28    C UNK A   1       0.933   0.572   8.604\\nATOM     29    H UNK A   1       2.978   0.724   8.481\\nATOM     30    N UNK A   1       0.000   0.000   8.991\\nATOM     31    C UNK A   1       2.075   2.743  10.159\\nATOM     32    C UNK A   1       3.347   2.053  10.671\\nATOM     33    H UNK A   1       2.958   3.287   8.258\\nATOM     34    H UNK A   1       1.211   3.264   8.185\\nATOM     35    C UNK A   1       2.038   4.128  10.650\\nATOM     36    H UNK A   1       1.147   2.281  10.526\\nATOM     37    N UNK A   1       2.008   5.221  11.037\\nATOM     38    C UNK A   1       3.347   2.053  12.206\\nATOM     39    C UNK A   1       2.113   1.296  12.718\\nATOM     40    H UNK A   1       3.376   1.017  10.305\\nATOM     41    H UNK A   1       4.230   2.540  10.231\\nATOM     42    C UNK A   1       4.564   1.392  12.696\\nATOM     43    H UNK A   1       3.411   3.088  12.573\\nATOM     44    N UNK A   1       5.526   0.872  13.084\\nATOM     45    C UNK A   1       2.113   1.297  14.252\\nATOM     46    C UNK A   1       2.074   2.743  14.763\\nATOM     47    H UNK A   1       1.201   1.789  12.350\\nATOM     48    H UNK A   1       2.093   0.288  12.278\\nATOM     49    C UNK A   1       0.932   0.573  14.743\\nATOM     50    H UNK A   1       2.978   0.725  14.619\\nATOM     51    N UNK A   1       0.001   0.000  15.129\\nATOM     52    C UNK A   1       2.075   2.743  16.298\\nATOM     53    C UNK A   1       3.347   2.053  16.810\\nATOM     54    H UNK A   1       2.958   3.287  14.396\\nATOM     55    H UNK A   1       1.211   3.264  14.323\\nATOM     56    C UNK A   1       2.038   4.128  16.789\\nATOM     57    H UNK A   1       1.147   2.280  16.665\\nATOM     58    N UNK A   1       2.008   5.221  17.176\\nATOM     59    C UNK A   1       3.347   2.053  18.345\\nATOM     60    C UNK A   1       2.113   1.297  18.856\\nATOM     61    H UNK A   1       3.376   1.017  16.443\\nATOM     62    H UNK A   1       4.230   2.540  16.370\\nATOM     63    C UNK A   1       4.564   1.392  18.835\\nATOM     64    H UNK A   1       3.410   3.088  18.711\\nATOM     65    N UNK A   1       5.526   0.872  19.222\\nATOM     66    C UNK A   1       2.113   1.297  20.391\\nATOM     67    C UNK A   1       2.075   2.743  20.902\\nATOM     68    H UNK A   1       1.200   1.789  18.489\\nATOM     69    H UNK A   1       2.093   0.288  18.415\\nATOM     70    C UNK A   1       0.933   0.573  20.881\\nATOM     71    H UNK A   1       2.978   0.724  20.758\\nATOM     72    N UNK A   1       0.001   0.000  21.268\\nATOM     73    C UNK A   1       2.075   2.743  22.437\\nATOM     74    C UNK A   1       3.348   2.053  22.948\\nATOM     75    H UNK A   1       2.958   3.287  20.535\\nATOM     76    H UNK A   1       1.211   3.265  20.462\\nATOM     77    C UNK A   1       2.039   4.128  22.927\\nATOM     78    H UNK A   1       1.146   2.281  22.804\\nATOM     79    N UNK A   1       2.009   5.221  23.314\\nATOM     80    C UNK A   1       3.347   2.054  24.482\\nATOM     81    C UNK A   1       2.113   1.297  24.994\\nATOM     82    H UNK A   1       3.376   1.016  22.581\\nATOM     83    H UNK A   1       4.230   2.540  22.508\\nATOM     84    C UNK A   1       4.564   1.392  24.973\\nATOM     85    H UNK A   1       3.410   3.088  24.850\\nATOM     86    N UNK A   1       5.526   0.872  25.361\\nATOM     87    C UNK A   1       2.113   1.297  26.529\\nATOM     88    C UNK A   1       2.075   2.743  27.040\\nATOM     89    H UNK A   1       1.201   1.789  24.627\\nATOM     90    H UNK A   1       2.093   0.288  24.554\\nATOM     91    C UNK A   1       0.932   0.573  27.020\\nATOM     92    H UNK A   1       2.978   0.724  26.896\\nATOM     93    N UNK A   1       0.000   0.001  27.407\\nATOM     94    C UNK A   1       2.075   2.743  28.575\\nATOM     95    C UNK A   1       3.347   2.054  29.086\\nATOM     96    H UNK A   1       2.958   3.288  26.673\\nATOM     97    H UNK A   1       1.211   3.265  26.600\\nATOM     98    C UNK A   1       2.038   4.128  29.066\\nATOM     99    H UNK A   1       1.147   2.281  28.942\\nATOM    100    N UNK A   1       2.009   5.221  29.453\\nATOM    101    C UNK A   1       3.347   2.053  30.621\\nATOM    102    C UNK A   1       2.113   1.296  31.133\\nATOM    103    H UNK A   1       3.376   1.016  28.720\\nATOM    104    H UNK A   1       4.230   2.540  28.647\\nATOM    105    C UNK A   1       4.564   1.393  31.112\\nATOM    106    H UNK A   1       3.411   3.088  30.988\\nATOM    107    N UNK A   1       5.526   0.872  31.499\\nATOM    108    C UNK A   1       2.113   1.298  32.667\\nATOM    109    C UNK A   1       2.075   2.744  33.178\\nATOM    110    H UNK A   1       1.201   1.789  30.766\\nATOM    111    H UNK A   1       2.093   0.288  30.693\\nATOM    112    C UNK A   1       0.932   0.573  33.159\\nATOM    113    H UNK A   1       2.977   0.725  33.034\\nATOM    114    N UNK A   1       0.001   0.001  33.545\\nATOM    115    C UNK A   1       2.075   2.743  34.714\\nATOM    116    C UNK A   1       3.347   2.054  35.225\\nATOM    117    H UNK A   1       2.958   3.287  32.812\\nATOM    118    H UNK A   1       1.211   3.265  32.739\\nATOM    119    C UNK A   1       2.038   4.128  35.204\\nATOM    120    H UNK A   1       1.147   2.281  35.080\\nATOM    121    N UNK A   1       2.008   5.221  35.591\\nATOM    122    C UNK A   1       3.347   2.053  36.760\\nATOM    123    C UNK A   1       2.112   1.297  37.271\\nATOM    124    H UNK A   1       3.376   1.017  34.857\\nATOM    125    H UNK A   1       4.230   2.540  34.785\\nATOM    126    C UNK A   1       4.564   1.393  37.250\\nATOM    127    H UNK A   1       3.411   3.088  37.127\\nATOM    128    N UNK A   1       5.526   0.872  37.638\\nATOM    129    C UNK A   1       2.113   1.297  38.806\\nATOM    130    C UNK A   1       2.074   2.744  39.317\\nATOM    131    H UNK A   1       1.200   1.790  36.904\\nATOM    132    H UNK A   1       2.094   0.288  36.831\\nATOM    133    C UNK A   1       0.932   0.573  39.296\\nATOM    134    H UNK A   1       2.977   0.725  39.173\\nATOM    135    N UNK A   1       0.001   0.000  39.684\\nATOM    136    C UNK A   1       2.074   2.744  40.852\\nATOM    137    C UNK A   1       3.348   2.054  41.363\\nATOM    138    H UNK A   1       2.958   3.287  38.951\\nATOM    139    H UNK A   1       1.211   3.264  38.877\\nATOM    140    C UNK A   1       2.039   4.128  41.343\\nATOM    141    H UNK A   1       1.147   2.281  41.218\\nATOM    142    N UNK A   1       2.008   5.221  41.729\\nATOM    143    C UNK A   1       3.347   2.054  42.898\\nATOM    144    C UNK A   1       2.113   1.297  43.410\\nATOM    145    H UNK A   1       3.376   1.017  40.996\\nATOM    146    H UNK A   1       4.230   2.540  40.923\\nATOM    147    C UNK A   1       4.564   1.392  43.389\\nATOM    148    H UNK A   1       3.410   3.089  43.265\\nATOM    149    N UNK A   1       5.526   0.872  43.776\\nATOM    150    C UNK A   1       2.113   1.297  44.944\\nATOM    151    C UNK A   1       2.074   2.743  45.456\\nATOM    152    H UNK A   1       1.201   1.790  43.042\\nATOM    153    H UNK A   1       2.093   0.288  42.969\\nATOM    154    C UNK A   1       0.932   0.573  45.435\\nATOM    155    H UNK A   1       2.978   0.725  45.311\\nATOM    156    N UNK A   1       0.000   0.001  45.822\\nATOM    157    C UNK A   1       2.075   2.744  46.990\\nATOM    158    C UNK A   1       3.348   2.053  47.502\\nATOM    159    H UNK A   1       2.958   3.287  45.089\\nATOM    160    H UNK A   1       1.211   3.265  45.015\\nATOM    161    C UNK A   1       2.038   4.129  47.481\\nATOM    162    H UNK A   1       1.147   2.281  47.357\\nATOM    163    N UNK A   1       2.008   5.221  47.868\\nATOM    164    C UNK A   1       3.347   2.054  49.036\\nATOM    165    C UNK A   1       2.113   1.297  49.548\\nATOM    166    H UNK A   1       3.376   1.017  47.134\\nATOM    167    H UNK A   1       4.230   2.540  47.062\\nATOM    168    C UNK A   1       4.564   1.392  49.527\\nATOM    169    H UNK A   1       3.411   3.089  49.403\\nATOM    170    N UNK A   1       5.526   0.872  49.914\\nATOM    171    C UNK A   1       2.113   1.297  51.082\\nATOM    172    C UNK A   1       2.074   2.744  51.593\\nATOM    173    H UNK A   1       1.201   1.790  49.181\\nATOM    174    H UNK A   1       2.093   0.288  49.108\\nATOM    175    C UNK A   1       0.932   0.573  51.574\\nATOM    176    H UNK A   1       2.978   0.725  51.450\\nATOM    177    N UNK A   1       0.001   0.001  51.960\\nATOM    178    C UNK A   1       2.075   2.744  53.129\\nATOM    179    C UNK A   1       3.347   2.054  53.641\\nATOM    180    H UNK A   1       2.958   3.288  51.227\\nATOM    181    H UNK A   1       1.211   3.265  51.154\\nATOM    182    C UNK A   1       2.038   4.128  53.620\\nATOM    183    H UNK A   1       1.147   2.281  53.496\\nATOM    184    N UNK A   1       2.008   5.222  54.007\\nATOM    185    C UNK A   1       3.346   2.053  55.175\\nATOM    186    C UNK A   1       2.113   1.297  55.687\\nATOM    187    H UNK A   1       3.376   1.016  53.273\\nATOM    188    H UNK A   1       4.230   2.540  53.201\\nATOM    189    C UNK A   1       4.564   1.393  55.665\\nATOM    190    H UNK A   1       3.411   3.088  55.542\\nATOM    191    N UNK A   1       5.526   0.872  56.053\\nATOM    192    C UNK A   1       2.112   1.297  57.221\\nATOM    193    C UNK A   1       2.074   2.744  57.732\\nATOM    194    H UNK A   1       1.201   1.790  55.319\\nATOM    195    H UNK A   1       2.093   0.288  55.246\\nATOM    196    C UNK A   1       0.932   0.574  57.712\\nATOM    197    H UNK A   1       2.977   0.725  57.588\\nATOM    198    N UNK A   1       0.000   0.001  58.099\\nATOM    199    C UNK A   1       2.075   2.743  59.268\\nATOM    200    C UNK A   1       3.347   2.054  59.779\\nATOM    201    H UNK A   1       2.958   3.287  57.366\\nATOM    202    H UNK A   1       1.211   3.265  57.293\\nATOM    203    C UNK A   1       2.039   4.128  59.758\\nATOM    204    H UNK A   1       1.147   2.281  59.634\\nATOM    205    N UNK A   1       2.008   5.222  60.145\\nATOM    206    C UNK A   1       3.347   2.053  61.313\\nATOM    207    C UNK A   1       2.113   1.297  61.825\\nATOM    208    H UNK A   1       3.375   1.017  59.412\\nATOM    209    H UNK A   1       4.230   2.541  59.338\\nATOM    210    C UNK A   1       4.564   1.393  61.804\\nATOM    211    H UNK A   1       3.410   3.089  61.681\\nATOM    212    N UNK A   1       5.525   0.873  62.191\\nATOM    213    C UNK A   1       2.113   1.297  63.359\\nATOM    214    C UNK A   1       2.074   2.744  63.871\\nATOM    215    H UNK A   1       1.201   1.790  61.458\\nATOM    216    H UNK A   1       2.093   0.289  61.385\\nATOM    217    C UNK A   1       0.932   0.574  63.850\\nATOM    218    H UNK A   1       2.977   0.725  63.726\\nATOM    219    N UNK A   1       0.000   0.001  64.238\\nATOM    220    C UNK A   1       2.075   2.744  65.405\\nATOM    221    C UNK A   1       3.347   2.053  65.917\\nATOM    222    H UNK A   1       2.958   3.287  63.504\\nATOM    223    H UNK A   1       1.211   3.265  63.430\\nATOM    224    C UNK A   1       2.039   4.128  65.897\\nATOM    225    H UNK A   1       1.147   2.282  65.772\\nATOM    226    N UNK A   1       2.008   5.221  66.283\\nATOM    227    C UNK A   1       3.346   2.054  67.452\\nATOM    228    C UNK A   1       2.113   1.297  67.964\\nATOM    229    H UNK A   1       3.376   1.017  65.550\\nATOM    230    H UNK A   1       4.230   2.541  65.477\\nATOM    231    C UNK A   1       4.564   1.393  67.943\\nATOM    232    H UNK A   1       3.410   3.089  67.819\\nATOM    233    N UNK A   1       5.526   0.872  68.329\\nATOM    234    C UNK A   1       2.113   1.297  69.498\\nATOM    235    C UNK A   1       2.075   2.744  70.009\\nATOM    236    H UNK A   1       1.200   1.790  67.596\\nATOM    237    H UNK A   1       2.093   0.289  67.524\\nATOM    238    C UNK A   1       0.932   0.573  69.989\\nATOM    239    H UNK A   1       2.977   0.724  69.865\\nATOM    240    N UNK A   1       0.000   0.001  70.375\\nATOM    241    C UNK A   1       2.075   2.744  71.544\\nATOM    242    C UNK A   1       3.346   2.054  72.055\\nATOM    243    H UNK A   1       2.958   3.287  69.643\\nATOM    244    H UNK A   1       1.211   3.265  69.569\\nATOM    245    C UNK A   1       2.038   4.129  72.035\\nATOM    246    H UNK A   1       1.146   2.281  71.911\\nATOM    247    N UNK A   1       2.008   5.221  72.422\\nATOM    248    C UNK A   1       3.346   2.054  73.591\\nATOM    249    C UNK A   1       2.113   1.297  74.102\\nATOM    250    H UNK A   1       3.376   1.017  71.688\\nATOM    251    H UNK A   1       4.230   2.540  71.616\\nATOM    252    C UNK A   1       4.564   1.393  74.081\\nATOM    253    H UNK A   1       3.410   3.089  73.958\\nATOM    254    N UNK A   1       5.525   0.872  74.468\\nATOM    255    C UNK A   1       2.113   1.297  75.636\\nATOM    256    C UNK A   1       2.074   2.744  76.148\\nATOM    257    H UNK A   1       1.201   1.790  73.734\\nATOM    258    H UNK A   1       2.093   0.289  73.662\\nATOM    259    C UNK A   1       0.933   0.573  76.127\\nATOM    260    H UNK A   1       2.977   0.724  76.003\\nATOM    261    N UNK A   1       0.000   0.001  76.514\\nATOM    262    C UNK A   1       2.075   2.744  77.682\\nATOM    263    C UNK A   1       3.347   2.054  78.193\\nATOM    264    H UNK A   1       2.957   3.288  75.781\\nATOM    265    H UNK A   1       1.211   3.265  75.708\\nATOM    266    C UNK A   1       2.038   4.129  78.173\\nATOM    267    H UNK A   1       1.147   2.281  78.049\\nATOM    268    N UNK A   1       2.008   5.222  78.560\\nATOM    269    C UNK A   1       3.347   2.054  79.729\\nATOM    270    C UNK A   1       2.113   1.296  80.240\\nATOM    271    H UNK A   1       3.375   1.017  77.827\\nATOM    272    H UNK A   1       4.230   2.541  77.754\\nATOM    273    C UNK A   1       4.564   1.393  80.219\\nATOM    274    H UNK A   1       3.410   3.088  80.096\\nATOM    275    N UNK A   1       5.525   0.872  80.607\\nATOM    276    C UNK A   1       2.113   1.297  81.774\\nATOM    277    H UNK A   1       2.085   2.335  82.142\\nATOM    278    H UNK A   1       1.200   1.790  79.873\\nATOM    279    H UNK A   1       2.093   0.288  79.800\\nATOM    280    C UNK A   1       0.932   0.574  82.266\\nATOM    281    H UNK A   1       2.977   0.725  82.141\\nATOM    282    N UNK A   1       0.000   0.001  82.653\\nTER     283\\n\"",
       "encoder": "text",
       "name": "Output PDB",
       "version": 1
      }
     },
     "metadata": {
      "scrapbook": {
       "data": true,
       "display": false,
       "name": "Output PDB"
      }
     },
     "output_type": "display_data"
    },
    {
     "data": {
      "application/scrapbook.scrap.text+json": {
       "data": "1",
       "encoder": "text",
       "name": "simToolAllOutputsSaved",
       "version": 1
      }
     },
     "metadata": {
      "scrapbook": {
       "data": true,
       "display": false,
       "name": "simToolAllOutputsSaved"
      }
     },
     "output_type": "display_data"
    }
   ],
   "source": [
    "db = DB(OUTPUTS)\n",
    "print(db)\n",
    "db.save('Helix Name', helix_name)\n",
    "copyAndSaveFileAsOutput('Output PDBfile', helix_name+'.pdb')\n",
    "output_pdb = \"\"\n",
    "with open(helix_name+'.pdb', 'r') as input_text:\n",
    "    output_pdb = input_text.read()\n",
    "db.save('Output PDB', output_pdb)"
   ]
  },
  {
   "cell_type": "code",
   "execution_count": null,
   "metadata": {},
   "outputs": [],
   "source": []
  }
 ],
 "metadata": {
  "celltoolbar": "Tags",
  "kernelspec": {
   "display_name": "Python 3",
   "language": "python",
   "name": "python3"
  },
  "language_info": {
   "codemirror_mode": {
    "name": "ipython",
    "version": 3
   },
   "file_extension": ".py",
   "mimetype": "text/x-python",
   "name": "python",
   "nbconvert_exporter": "python",
   "pygments_lexer": "ipython3",
   "version": "3.7.7"
  }
 },
 "nbformat": 4,
 "nbformat_minor": 2
}
