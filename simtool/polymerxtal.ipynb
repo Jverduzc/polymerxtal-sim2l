{
 "cells": [
  {
   "cell_type": "markdown",
   "metadata": {},
   "source": [
    "# PolymerXtal - Polymer Crystal Structure Generator and Analysis Software"
   ]
  },
  {
   "cell_type": "code",
   "execution_count": 1,
   "metadata": {},
   "outputs": [],
   "source": [
    "from hublib import use\n",
    "from hublib.cmd import runCommand"
   ]
  },
  {
   "cell_type": "code",
   "execution_count": 2,
   "metadata": {},
   "outputs": [],
   "source": [
    "%load_ext yamlmagic"
   ]
  },
  {
   "cell_type": "code",
   "execution_count": 3,
   "metadata": {},
   "outputs": [
    {
     "data": {
      "application/javascript": [
       "\n",
       "            require(\n",
       "                [\n",
       "                    \"notebook/js/codecell\",\n",
       "                    \"codemirror/mode/yaml/yaml\"\n",
       "                ],\n",
       "                function(cc){\n",
       "                    cc.CodeCell.options_default.highlight_modes.magic_yaml = {\n",
       "                        reg: [\"^%%yaml\"]\n",
       "                    }\n",
       "                }\n",
       "            );\n",
       "            "
      ],
      "text/plain": [
       "<IPython.core.display.Javascript object>"
      ]
     },
     "metadata": {},
     "output_type": "display_data"
    }
   ],
   "source": [
    "%%yaml INPUTS\n",
    "\n",
    "polymer_type:\n",
    "    type: Text\n",
    "    value: PAN\n",
    "    description: Select the polymer type.\n",
    "    options: [PAN, PE, PP, PS, POM, PTFE, PVC]\n",
    "\n",
    "helice_atoms:\n",
    "    type: Integer\n",
    "    description: Number of chain (backbone) atoms of a motif of the helix\n",
    "    value: 2\n",
    "    min: 2\n",
    "    max: 2\n",
    "\n",
    "helice_motifs:\n",
    "    type: Integer\n",
    "    description: Number of motifs of the helix\n",
    "    value: 3\n",
    "    min: 1\n",
    "    max: 3\n",
    "\n",
    "helice_turns:\n",
    "    type: Integer\n",
    "    description: Number of motifs of the helix\n",
    "    value: 1\n",
    "    min: 1\n",
    "    max: 1\n",
    "\n",
    "monomers:\n",
    "    type: Number\n",
    "    description: Number of monomers\n",
    "    value: 40\n",
    "    min: 1\n",
    "    max: 5000\n",
    "\n",
    "tacticity:\n",
    "    type: Text\n",
    "    value: isotactic\n",
    "    description: Select the tacticity of the polymer chain.\n",
    "    options: [isotactic, atactic, syndiotactic, None]\n",
    "\n",
    "chiriality:\n",
    "    type: Text\n",
    "    value: right\n",
    "    description: Select the chiriality of the polymer chain.\n",
    "    options: [left, right, None]\n",
    "\n",
    "head_tail_defect_ratio:\n",
    "    type: Number\n",
    "    description: Ratio of head-to-head and tail-to-tail connections\n",
    "    value: 0\n",
    "    min: 0\n",
    "    max: 1\n",
    "        \n",
    "configs:\n",
    "    type: Number\n",
    "    description: Number of attempts to find a configuration\n",
    "    value: 30\n",
    "    min: 1\n",
    "    max: 5000\n"
   ]
  },
  {
   "cell_type": "code",
   "execution_count": 4,
   "metadata": {
    "tags": [
     "parameters"
    ]
   },
   "outputs": [],
   "source": [
    "polymer_type = \"PAN\"\n",
    "helice_atoms = 2\n",
    "helice_motifs = 3\n",
    "helice_turns = 1\n",
    "monomers = 40\n",
    "tacticity = \"isotactic\"\n",
    "chiriality = \"right\"\n",
    "head_tail_defect_ratio = 0\n",
    "configs = 30"
   ]
  },
  {
   "cell_type": "code",
   "execution_count": 5,
   "metadata": {
    "tags": [
     "FILES"
    ]
   },
   "outputs": [],
   "source": [
    "EXTRA_FILES = ['polymerxtal']"
   ]
  },
  {
   "cell_type": "code",
   "execution_count": 6,
   "metadata": {},
   "outputs": [
    {
     "name": "stderr",
     "output_type": "stream",
     "text": [
      "PySide2/__init__.py: Unable to import shiboken2 from /home/nanohub/shen276/polymerxtal/simtool, /apps/share64/debian7/anaconda/anaconda-6/lib/python37.zip, /apps/share64/debian7/anaconda/anaconda-6/lib/python3.7, /apps/share64/debian7/anaconda/anaconda-6/lib/python3.7/lib-dynload, , /apps/share64/debian7/anaconda/anaconda-6/lib/python3.7/site-packages, /apps/share64/debian7/anaconda/anaconda-6/lib/python3.7/site-packages/IPython/extensions, /home/nanohub/shen276/.ipython\n"
     ]
    }
   ],
   "source": [
    "import os\n",
    "import sys\n",
    "from polymerxtal import Helice, Chain\n",
    "from simtool import DB"
   ]
  },
  {
   "cell_type": "code",
   "execution_count": 7,
   "metadata": {},
   "outputs": [
    {
     "name": "stdout",
     "output_type": "stream",
     "text": [
      "Total 4 possible configurations found for Helice 2_3_1\n",
      "Try Configuration 1\n",
      "\n",
      "========================================\n",
      "========================================\n",
      "\n",
      "OpenMP threading disabled\n",
      "\n",
      "MAX_BONDS: 32\n",
      "\n",
      "========================================\n",
      "========================================\n",
      "\n",
      "\n",
      "Read data from /home/nanohub/shen276/polymerxtal/simtool/polymerxtal/polymod/../data\n",
      "\n",
      "Element info: /home/nanohub/shen276/polymerxtal/simtool/polymerxtal/polymod/../data/elements\n",
      "\n",
      "\n",
      "Scale equilibrium bond lengths by 1.200000 to identify bonds\n",
      "\n",
      "\n",
      "4 known atom types:\n",
      "\n",
      "   \n",
      "N with 1 bond\n",
      "\n",
      "\n",
      "   \n",
      "C with 2 bonds\n",
      "\n",
      "\n",
      "   \n",
      "C with 4 bonds\n",
      "\n",
      "\n",
      "   \n",
      "H with 1 bond\n",
      "\n",
      "\n",
      "4 known bond types:\n",
      "\n",
      "   (\n",
      "C with 2 bonds\n",
      ") -- (\n",
      "N with 1 bond\n",
      ")\n",
      "\n",
      "   (\n",
      "C with 4 bonds\n",
      ") -- (\n",
      "C with 2 bonds\n",
      ")\n",
      "\n",
      "   (\n",
      "C with 4 bonds\n",
      ") -- (\n",
      "C with 4 bonds\n",
      ")\n",
      "\n",
      "   (\n",
      "H with 1 bond\n",
      ") -- (\n",
      "C with 4 bonds\n",
      ")\n",
      "\n",
      "\n",
      "\n",
      "Monomer h_m1T60T180:\n",
      "\n",
      " H\n",
      "\n",
      "\n",
      " C\n",
      "   1   1.09\n",
      "\n",
      "\n",
      " C\n",
      "   2   1.53\n",
      "   1  109.45\n",
      "\n",
      "\n",
      " H\n",
      "   3   1.10\n",
      "   2  109.49\n",
      "   1    60.03\n",
      "\n",
      "\n",
      " H\n",
      "   2   1.10\n",
      "   1  109.52\n",
      "   3   120.04\n",
      "\n",
      "\n",
      " H\n",
      "   2   1.10\n",
      "   1  109.44\n",
      "   3   234.92\n",
      "\n",
      "\n",
      " C\n",
      "   3   1.47\n",
      "   2  109.49\n",
      "   1   179.99\n",
      "\n",
      "\n",
      " H\n",
      "   3   1.10\n",
      "   2  109.49\n",
      "   1   294.94\n",
      "\n",
      "\n",
      " N\n",
      "   7   1.16\n",
      "   3  179.94\n",
      "   2    61.70\n",
      "\n",
      "\n",
      "Internal coordinates with Dreiding types:\n",
      "\n",
      "H\n",
      "_\n",
      "\n",
      "\n",
      "C\n",
      "_\n",
      "3\n",
      "   1   1.09\n",
      "\n",
      "\n",
      "C\n",
      "_\n",
      "3\n",
      "   2   1.53\n",
      "   1  109.45\n",
      "\n",
      "\n",
      "H\n",
      "_\n",
      "   3   1.10\n",
      "   2  109.49\n",
      "   1    60.03\n",
      "\n",
      "\n",
      "H\n",
      "_\n",
      "   2   1.10\n",
      "   1  109.52\n",
      "   3   120.04\n",
      "\n",
      "\n",
      "H\n",
      "_\n",
      "   2   1.10\n",
      "   1  109.44\n",
      "   3   234.92\n",
      "\n",
      "\n",
      "C\n",
      "_\n",
      "1\n",
      "   3   1.47\n",
      "   2  109.49\n",
      "   1   179.99\n",
      "\n",
      "\n",
      "H\n",
      "_\n",
      "   3   1.10\n",
      "   2  109.49\n",
      "   1   294.94\n",
      "\n",
      "\n",
      "N\n",
      "_\n",
      "0\n",
      "   7   1.16\n",
      "   3  179.94\n",
      "   2    61.70\n",
      "\n",
      "\n",
      "   4 backbone atoms\n",
      "\n",
      "   mass (without head and tail): 53.062500 amu\n",
      "\n",
      "   Backbone atom 3 torsion angle: \n",
      "fixed\n",
      "\n",
      "   Backbone atom 4 torsion angle: \n",
      "fixed\n",
      "\n",
      "   0 extra bonds not represented in z-matrix\n",
      "\n",
      "\n",
      "Stereochemistry options:\n",
      "\n",
      "   s1 (pattern): \n",
      "h_m1T60T180 \n",
      "h_m1T60T180 \n",
      "(repeat)\n",
      "\n",
      "\n",
      "\n",
      "System dimensions:\n",
      "\n",
      "   Minimum (0.000000, 0.000000, 0.000000)\n",
      "\n",
      "   Maximum (327.865354, 327.865354, 327.865354)\n",
      "\n",
      "Total polymer volume: 3.52441e+07 A^3\n",
      "\n",
      "\n",
      "Total domains: 1\n",
      "\n",
      "   1 domain in X (size 327.865354)\n",
      "\n",
      "   1 domain in Y (size 327.865354)\n",
      "\n",
      "   1 domain in Z (size 327.865354)\n",
      "\n",
      "\n",
      "Chain density: 0.000100 g/cm^3\n",
      "\n",
      "1 chains\n",
      "\n",
      "40 monomers per chain\n",
      "\n",
      "   0.000000 deviation in monomers per chain\n",
      "\n",
      "\n",
      "100.000000 % of chains will be s1\n",
      "\n",
      "\n",
      "Chain growth:\n",
      "\n",
      "   consider 50 configurations\n",
      "\n",
      "   Monte Carlo sampling\n",
      "\n",
      "   Temperature: 300.000000 K\n",
      "\n",
      "   Energy expression: \n",
      "Lennard-Jones\n",
      "\n",
      "   Bond cutoff for bonded interactions: 4\n",
      "\n",
      "   Interaction range for non-bonded interactions: 6.000000 A\n",
      "\n",
      "   Grid size for neighbor bins: 6.000000 A\n",
      "\n",
      "   Rotate varying torsions 0.000000 degrees when packing\n",
      "\n",
      "   Backbone bond length between monomers: 1.535100 A\n",
      "\n",
      "\n",
      "RNG seed: 1607961016\n",
      "\n",
      "Store atomic positions\n",
      "\n",
      "Write PDB file with unfolded positions\n",
      "\n",
      "Write intermediate files for LAMMPS preprocessing\n",
      "\n",
      "\n",
      "Maximum atoms: 282\n",
      "\n",
      "Rough estimate of density: 0.000100 g/cm^3\n",
      "\n",
      "\n",
      "Monomer selection:\n",
      "\n",
      "   h_m1T60T180: 100.00 %\n",
      "\n",
      "\n",
      "Stereochemistry selection:\n",
      "\n",
      "   s1: 100.00 %\n",
      "\n",
      "Mean polymerization: 40.000000\n",
      "\n",
      "   Standard deviation: 0.000000\n",
      "\n",
      "Total atoms: 282\n",
      "\n",
      "Final density: 0.000100 g/cm^3\n",
      "\n",
      "Total build and analysis time: 25.4569 s\n",
      "\n",
      "Success for Configuration 1\n"
     ]
    }
   ],
   "source": [
    "chain=Chain(polymer_type=polymer_type,helice=Helice(helice_atoms,helice_motifs,helice_turns),num_monomers=monomers,tacticity=tacticity,\n",
    "            chiriality=chiriality,head_tail_defect_ratio=head_tail_defect_ratio)\n",
    "helix_name=chain.build_chain()"
   ]
  },
  {
   "cell_type": "code",
   "execution_count": 8,
   "metadata": {},
   "outputs": [
    {
     "data": {
      "application/javascript": [
       "\n",
       "            require(\n",
       "                [\n",
       "                    \"notebook/js/codecell\",\n",
       "                    \"codemirror/mode/yaml/yaml\"\n",
       "                ],\n",
       "                function(cc){\n",
       "                    cc.CodeCell.options_default.highlight_modes.magic_yaml = {\n",
       "                        reg: [\"^%%yaml\"]\n",
       "                    }\n",
       "                }\n",
       "            );\n",
       "            "
      ],
      "text/plain": [
       "<IPython.core.display.Javascript object>"
      ]
     },
     "metadata": {},
     "output_type": "display_data"
    }
   ],
   "source": [
    "%%yaml OUTPUTS\n",
    "Helix Name:\n",
    "    type: Text\n",
    "    \n",
    "Output PDBfile:\n",
    "    type: Text   \n",
    "\n",
    "Output PDB:\n",
    "    type: Text"
   ]
  },
  {
   "cell_type": "code",
   "execution_count": 9,
   "metadata": {},
   "outputs": [],
   "source": [
    "import os\n",
    "\n",
    "def copyAndSaveFileAsOutput(outputVariableName,inputPath):\n",
    "    if inputPath.startswith('file://'):\n",
    "        resultFile = os.path.basename(inputPath[7:])\n",
    "        if resultFile != inputPath[7:]:\n",
    "            shutil.copy2(inputPath[7:],resultFile)\n",
    "    else:\n",
    "        resultFile = os.path.basename(inputPath)\n",
    "        if resultFile != inputPath:\n",
    "            shutil.copy2(inputPath,resultFile)\n",
    "    db.save(outputVariableName,file=resultFile)"
   ]
  },
  {
   "cell_type": "code",
   "execution_count": 10,
   "metadata": {},
   "outputs": [
    {
     "data": {
      "application/scrapbook.scrap.text+json": {
       "data": "0",
       "encoder": "text",
       "name": "simToolSaveErrorOccurred",
       "version": 1
      }
     },
     "metadata": {
      "scrapbook": {
       "data": true,
       "display": false,
       "name": "simToolSaveErrorOccurred"
      }
     },
     "output_type": "display_data"
    },
    {
     "data": {
      "application/scrapbook.scrap.text+json": {
       "data": "0",
       "encoder": "text",
       "name": "simToolAllOutputsSaved",
       "version": 1
      }
     },
     "metadata": {
      "scrapbook": {
       "data": true,
       "display": false,
       "name": "simToolAllOutputsSaved"
      }
     },
     "output_type": "display_data"
    },
    {
     "name": "stdout",
     "output_type": "stream",
     "text": [
      "<simtool.db.DB object at 0x7f4f677e54d0>\n"
     ]
    },
    {
     "data": {
      "application/scrapbook.scrap.text+json": {
       "data": "\"PAN_helix_2_3_1_iso+\"",
       "encoder": "text",
       "name": "Helix Name",
       "version": 1
      }
     },
     "metadata": {
      "scrapbook": {
       "data": true,
       "display": false,
       "name": "Helix Name"
      }
     },
     "output_type": "display_data"
    },
    {
     "data": {
      "application/scrapbook.scrap.text+json": {
       "data": "file://PAN_helix_2_3_1_iso+.pdb",
       "encoder": "text",
       "name": "Output PDBfile",
       "version": 1
      }
     },
     "metadata": {
      "scrapbook": {
       "data": true,
       "display": false,
       "name": "Output PDBfile"
      }
     },
     "output_type": "display_data"
    },
    {
     "data": {
      "application/scrapbook.scrap.text+json": {
       "data": "\"ATOM      1    H UNK A   1       3.494   1.998   0.076\\nATOM      2    C UNK A   1       2.470   1.909   0.440\\nATOM      3    C UNK A   1       2.470   1.910   1.974\\nATOM      4    C UNK A   1       3.084   3.220   2.486\\nATOM      5    H UNK A   1       1.875   2.759   0.073\\nATOM      6    H UNK A   1       2.000   1.017   0.000\\nATOM      7    C UNK A   1       1.090   1.792   2.465\\nATOM      8    H UNK A   1       2.986   1.011   2.341\\nATOM      9    N UNK A   1       0.001   1.698   2.852\\nATOM     10    C UNK A   1       3.084   3.220   4.021\\nATOM     11    C UNK A   1       3.913   2.033   4.532\\nATOM     12    H UNK A   1       4.117   3.310   2.119\\nATOM     13    H UNK A   1       2.546   4.073   2.046\\nATOM     14    C UNK A   1       3.672   4.474   4.512\\nATOM     15    H UNK A   1       2.048   3.223   4.388\\nATOM     16    N UNK A   1       4.135   5.465   4.899\\nATOM     17    C UNK A   1       3.912   2.033   6.066\\nATOM     18    C UNK A   1       2.470   1.909   6.578\\nATOM     19    H UNK A   1       3.474   1.094   4.165\\nATOM     20    H UNK A   1       4.920   2.073   4.092\\nATOM     21    C UNK A   1       4.704   0.897   6.557\\nATOM     22    H UNK A   1       4.433   2.930   6.434\\nATOM     23    N UNK A   1       5.330   0.001   6.944\\nATOM     24    C UNK A   1       2.470   1.910   8.113\\nATOM     25    C UNK A   1       3.085   3.220   8.624\\nATOM     26    H UNK A   1       1.875   2.759   6.211\\nATOM     27    H UNK A   1       2.000   1.017   6.138\\nATOM     28    C UNK A   1       1.091   1.791   8.603\\nATOM     29    H UNK A   1       2.986   1.011   8.480\\nATOM     30    N UNK A   1       0.000   1.697   8.990\\nATOM     31    C UNK A   1       3.084   3.220  10.159\\nATOM     32    C UNK A   1       3.912   2.033  10.670\\nATOM     33    H UNK A   1       4.117   3.310   8.258\\nATOM     34    H UNK A   1       2.546   4.073   8.185\\nATOM     35    C UNK A   1       3.672   4.475  10.649\\nATOM     36    H UNK A   1       2.047   3.222  10.526\\nATOM     37    N UNK A   1       4.135   5.465  11.036\\nATOM     38    C UNK A   1       3.912   2.033  12.205\\nATOM     39    C UNK A   1       2.470   1.910  12.717\\nATOM     40    H UNK A   1       3.474   1.093  10.303\\nATOM     41    H UNK A   1       4.920   2.072  10.230\\nATOM     42    C UNK A   1       4.705   0.897  12.696\\nATOM     43    H UNK A   1       4.432   2.929  12.572\\nATOM     44    N UNK A   1       5.330   0.001  13.083\\nATOM     45    C UNK A   1       2.470   1.909  14.251\\nATOM     46    C UNK A   1       3.085   3.221  14.763\\nATOM     47    H UNK A   1       1.876   2.759  12.350\\nATOM     48    H UNK A   1       2.001   1.017  12.277\\nATOM     49    C UNK A   1       1.091   1.792  14.742\\nATOM     50    H UNK A   1       2.986   1.011  14.618\\nATOM     51    N UNK A   1       0.000   1.698  15.129\\nATOM     52    C UNK A   1       3.085   3.220  16.298\\nATOM     53    C UNK A   1       3.912   2.033  16.809\\nATOM     54    H UNK A   1       4.117   3.310  14.395\\nATOM     55    H UNK A   1       2.546   4.073  14.323\\nATOM     56    C UNK A   1       3.672   4.475  16.788\\nATOM     57    H UNK A   1       2.047   3.223  16.664\\nATOM     58    N UNK A   1       4.135   5.465  17.175\\nATOM     59    C UNK A   1       3.912   2.033  18.344\\nATOM     60    C UNK A   1       2.470   1.910  18.855\\nATOM     61    H UNK A   1       3.474   1.094  16.442\\nATOM     62    H UNK A   1       4.920   2.073  16.369\\nATOM     63    C UNK A   1       4.705   0.897  18.834\\nATOM     64    H UNK A   1       4.433   2.930  18.710\\nATOM     65    N UNK A   1       5.331   0.000  19.221\\nATOM     66    C UNK A   1       2.471   1.910  20.390\\nATOM     67    C UNK A   1       3.084   3.220  20.901\\nATOM     68    H UNK A   1       1.876   2.759  18.487\\nATOM     69    H UNK A   1       2.001   1.017  18.415\\nATOM     70    C UNK A   1       1.090   1.791  20.880\\nATOM     71    H UNK A   1       2.987   1.011  20.757\\nATOM     72    N UNK A   1       0.001   1.698  21.267\\nATOM     73    C UNK A   1       3.084   3.220  22.436\\nATOM     74    C UNK A   1       3.912   2.033  22.947\\nATOM     75    H UNK A   1       4.117   3.311  20.534\\nATOM     76    H UNK A   1       2.546   4.073  20.462\\nATOM     77    C UNK A   1       3.672   4.474  22.926\\nATOM     78    H UNK A   1       2.047   3.223  22.803\\nATOM     79    N UNK A   1       4.135   5.465  23.313\\nATOM     80    C UNK A   1       3.912   2.033  24.482\\nATOM     81    C UNK A   1       2.470   1.910  24.994\\nATOM     82    H UNK A   1       3.474   1.094  22.580\\nATOM     83    H UNK A   1       4.920   2.073  22.507\\nATOM     84    C UNK A   1       4.704   0.897  24.973\\nATOM     85    H UNK A   1       4.432   2.930  24.848\\nATOM     86    N UNK A   1       5.331   0.001  25.359\\nATOM     87    C UNK A   1       2.470   1.910  26.528\\nATOM     88    C UNK A   1       3.084   3.221  27.040\\nATOM     89    H UNK A   1       1.876   2.759  24.626\\nATOM     90    H UNK A   1       2.000   1.017  24.554\\nATOM     91    C UNK A   1       1.090   1.792  27.019\\nATOM     92    H UNK A   1       2.987   1.011  26.895\\nATOM     93    N UNK A   1       0.000   1.698  27.406\\nATOM     94    C UNK A   1       3.084   3.220  28.575\\nATOM     95    C UNK A   1       3.912   2.033  29.086\\nATOM     96    H UNK A   1       4.117   3.310  26.672\\nATOM     97    H UNK A   1       2.546   4.074  26.599\\nATOM     98    C UNK A   1       3.672   4.475  29.065\\nATOM     99    H UNK A   1       2.048   3.222  28.941\\nATOM    100    N UNK A   1       4.135   5.465  29.452\\nATOM    101    C UNK A   1       3.912   2.034  30.620\\nATOM    102    C UNK A   1       2.470   1.909  31.132\\nATOM    103    H UNK A   1       3.474   1.094  28.718\\nATOM    104    H UNK A   1       4.920   2.073  28.646\\nATOM    105    C UNK A   1       4.705   0.897  31.111\\nATOM    106    H UNK A   1       4.432   2.930  30.987\\nATOM    107    N UNK A   1       5.331   0.001  31.498\\nATOM    108    C UNK A   1       2.470   1.910  32.667\\nATOM    109    C UNK A   1       3.084   3.221  33.178\\nATOM    110    H UNK A   1       1.875   2.759  30.765\\nATOM    111    H UNK A   1       2.000   1.017  30.692\\nATOM    112    C UNK A   1       1.090   1.791  33.157\\nATOM    113    H UNK A   1       2.987   1.011  33.034\\nATOM    114    N UNK A   1       0.001   1.697  33.544\\nATOM    115    C UNK A   1       3.085   3.220  34.712\\nATOM    116    C UNK A   1       3.912   2.033  35.224\\nATOM    117    H UNK A   1       4.117   3.311  32.811\\nATOM    118    H UNK A   1       2.546   4.074  32.738\\nATOM    119    C UNK A   1       3.671   4.474  35.204\\nATOM    120    H UNK A   1       2.048   3.222  35.080\\nATOM    121    N UNK A   1       4.135   5.466  35.590\\nATOM    122    C UNK A   1       3.912   2.033  36.758\\nATOM    123    C UNK A   1       2.470   1.910  37.270\\nATOM    124    H UNK A   1       3.474   1.094  34.857\\nATOM    125    H UNK A   1       4.920   2.072  34.784\\nATOM    126    C UNK A   1       4.705   0.898  37.250\\nATOM    127    H UNK A   1       4.432   2.930  37.126\\nATOM    128    N UNK A   1       5.331   0.001  37.637\\nATOM    129    C UNK A   1       2.470   1.910  38.805\\nATOM    130    C UNK A   1       3.084   3.221  39.316\\nATOM    131    H UNK A   1       1.875   2.759  36.904\\nATOM    132    H UNK A   1       2.001   1.017  36.830\\nATOM    133    C UNK A   1       1.090   1.792  39.296\\nATOM    134    H UNK A   1       2.986   1.010  39.172\\nATOM    135    N UNK A   1       0.001   1.697  39.683\\nATOM    136    C UNK A   1       3.084   3.220  40.851\\nATOM    137    C UNK A   1       3.913   2.033  41.363\\nATOM    138    H UNK A   1       4.116   3.310  38.950\\nATOM    139    H UNK A   1       2.546   4.073  38.876\\nATOM    140    C UNK A   1       3.673   4.475  41.342\\nATOM    141    H UNK A   1       2.047   3.222  41.218\\nATOM    142    N UNK A   1       4.136   5.465  41.729\\nATOM    143    C UNK A   1       3.912   2.034  42.897\\nATOM    144    C UNK A   1       2.470   1.910  43.409\\nATOM    145    H UNK A   1       3.473   1.094  40.995\\nATOM    146    H UNK A   1       4.920   2.073  40.923\\nATOM    147    C UNK A   1       4.704   0.897  43.388\\nATOM    148    H UNK A   1       4.432   2.930  43.265\\nATOM    149    N UNK A   1       5.330   0.001  43.775\\nATOM    150    C UNK A   1       2.471   1.911  44.943\\nATOM    151    C UNK A   1       3.084   3.221  45.455\\nATOM    152    H UNK A   1       1.875   2.759  43.042\\nATOM    153    H UNK A   1       2.000   1.017  42.969\\nATOM    154    C UNK A   1       1.090   1.792  45.434\\nATOM    155    H UNK A   1       2.987   1.011  45.310\\nATOM    156    N UNK A   1       0.000   1.697  45.821\\nATOM    157    C UNK A   1       3.084   3.220  46.989\\nATOM    158    C UNK A   1       3.912   2.033  47.501\\nATOM    159    H UNK A   1       4.118   3.311  45.088\\nATOM    160    H UNK A   1       2.546   4.073  45.015\\nATOM    161    C UNK A   1       3.672   4.474  47.480\\nATOM    162    H UNK A   1       2.048   3.223  47.356\\nATOM    163    N UNK A   1       4.135   5.465  47.867\\nATOM    164    C UNK A   1       3.911   2.033  49.035\\nATOM    165    C UNK A   1       2.470   1.910  49.548\\nATOM    166    H UNK A   1       3.473   1.094  47.134\\nATOM    167    H UNK A   1       4.920   2.073  47.061\\nATOM    168    C UNK A   1       4.704   0.898  49.527\\nATOM    169    H UNK A   1       4.433   2.930  49.402\\nATOM    170    N UNK A   1       5.330   0.001  49.914\\nATOM    171    C UNK A   1       2.470   1.910  51.082\\nATOM    172    C UNK A   1       3.084   3.221  51.594\\nATOM    173    H UNK A   1       1.875   2.760  49.180\\nATOM    174    H UNK A   1       2.000   1.017  49.107\\nATOM    175    C UNK A   1       1.090   1.792  51.573\\nATOM    176    H UNK A   1       2.986   1.011  51.449\\nATOM    177    N UNK A   1       0.001   1.698  51.960\\nATOM    178    C UNK A   1       3.084   3.220  53.128\\nATOM    179    C UNK A   1       3.912   2.033  53.640\\nATOM    180    H UNK A   1       4.117   3.310  51.226\\nATOM    181    H UNK A   1       2.546   4.074  51.153\\nATOM    182    C UNK A   1       3.672   4.475  53.619\\nATOM    183    H UNK A   1       2.047   3.223  53.495\\nATOM    184    N UNK A   1       4.135   5.465  54.006\\nATOM    185    C UNK A   1       3.912   2.033  55.174\\nATOM    186    C UNK A   1       2.470   1.910  55.686\\nATOM    187    H UNK A   1       3.474   1.093  53.272\\nATOM    188    H UNK A   1       4.920   2.073  53.200\\nATOM    189    C UNK A   1       4.704   0.897  55.665\\nATOM    190    H UNK A   1       4.433   2.930  55.541\\nATOM    191    N UNK A   1       5.330   0.001  56.051\\nATOM    192    C UNK A   1       2.470   1.911  57.221\\nATOM    193    C UNK A   1       3.084   3.220  57.732\\nATOM    194    H UNK A   1       1.875   2.759  55.318\\nATOM    195    H UNK A   1       2.000   1.017  55.246\\nATOM    196    C UNK A   1       1.090   1.791  57.711\\nATOM    197    H UNK A   1       2.986   1.011  57.588\\nATOM    198    N UNK A   1       0.000   1.698  58.098\\nATOM    199    C UNK A   1       3.084   3.220  59.267\\nATOM    200    C UNK A   1       3.912   2.033  59.777\\nATOM    201    H UNK A   1       4.117   3.311  57.365\\nATOM    202    H UNK A   1       2.546   4.074  57.292\\nATOM    203    C UNK A   1       3.672   4.474  59.757\\nATOM    204    H UNK A   1       2.047   3.223  59.634\\nATOM    205    N UNK A   1       4.135   5.465  60.144\\nATOM    206    C UNK A   1       3.912   2.033  61.312\\nATOM    207    C UNK A   1       2.470   1.910  61.825\\nATOM    208    H UNK A   1       3.474   1.094  59.411\\nATOM    209    H UNK A   1       4.920   2.073  59.338\\nATOM    210    C UNK A   1       4.705   0.897  61.804\\nATOM    211    H UNK A   1       4.432   2.930  61.679\\nATOM    212    N UNK A   1       5.330   0.001  62.190\\nATOM    213    C UNK A   1       2.470   1.910  63.359\\nATOM    214    C UNK A   1       3.085   3.221  63.870\\nATOM    215    H UNK A   1       1.876   2.759  61.457\\nATOM    216    H UNK A   1       2.001   1.017  61.384\\nATOM    217    C UNK A   1       1.091   1.792  63.849\\nATOM    218    H UNK A   1       2.986   1.011  63.726\\nATOM    219    N UNK A   1       0.000   1.698  64.237\\nATOM    220    C UNK A   1       3.084   3.220  65.404\\nATOM    221    C UNK A   1       3.912   2.034  65.916\\nATOM    222    H UNK A   1       4.117   3.310  63.503\\nATOM    223    H UNK A   1       2.546   4.074  63.430\\nATOM    224    C UNK A   1       3.672   4.475  65.896\\nATOM    225    H UNK A   1       2.047   3.223  65.772\\nATOM    226    N UNK A   1       4.135   5.466  66.283\\nATOM    227    C UNK A   1       3.912   2.033  67.451\\nATOM    228    C UNK A   1       2.470   1.910  67.962\\nATOM    229    H UNK A   1       3.474   1.093  65.549\\nATOM    230    H UNK A   1       4.920   2.073  65.477\\nATOM    231    C UNK A   1       4.705   0.897  67.942\\nATOM    232    H UNK A   1       4.432   2.930  67.818\\nATOM    233    N UNK A   1       5.331   0.000  68.329\\nATOM    234    C UNK A   1       2.470   1.910  69.498\\nATOM    235    C UNK A   1       3.084   3.221  70.008\\nATOM    236    H UNK A   1       1.875   2.759  67.596\\nATOM    237    H UNK A   1       2.001   1.017  67.522\\nATOM    238    C UNK A   1       1.090   1.792  69.988\\nATOM    239    H UNK A   1       2.987   1.011  69.864\\nATOM    240    N UNK A   1       0.000   1.698  70.375\\nATOM    241    C UNK A   1       3.084   3.220  71.543\\nATOM    242    C UNK A   1       3.912   2.033  72.055\\nATOM    243    H UNK A   1       4.117   3.311  69.642\\nATOM    244    H UNK A   1       2.546   4.074  69.569\\nATOM    245    C UNK A   1       3.672   4.475  72.034\\nATOM    246    H UNK A   1       2.047   3.223  71.910\\nATOM    247    N UNK A   1       4.135   5.465  72.421\\nATOM    248    C UNK A   1       3.912   2.033  73.589\\nATOM    249    C UNK A   1       2.470   1.910  74.101\\nATOM    250    H UNK A   1       3.474   1.094  71.688\\nATOM    251    H UNK A   1       4.919   2.073  71.615\\nATOM    252    C UNK A   1       4.704   0.897  74.080\\nATOM    253    H UNK A   1       4.432   2.930  73.956\\nATOM    254    N UNK A   1       5.331   0.001  74.468\\nATOM    255    C UNK A   1       2.470   1.910  75.635\\nATOM    256    C UNK A   1       3.084   3.221  76.147\\nATOM    257    H UNK A   1       1.876   2.760  73.734\\nATOM    258    H UNK A   1       2.001   1.017  73.661\\nATOM    259    C UNK A   1       1.090   1.792  76.127\\nATOM    260    H UNK A   1       2.987   1.011  76.002\\nATOM    261    N UNK A   1       0.000   1.698  76.513\\nATOM    262    C UNK A   1       3.084   3.220  77.681\\nATOM    263    C UNK A   1       3.912   2.033  78.194\\nATOM    264    H UNK A   1       4.117   3.311  75.780\\nATOM    265    H UNK A   1       2.545   4.074  75.707\\nATOM    266    C UNK A   1       3.672   4.475  78.173\\nATOM    267    H UNK A   1       2.048   3.222  78.048\\nATOM    268    N UNK A   1       4.135   5.466  78.560\\nATOM    269    C UNK A   1       3.912   2.033  79.728\\nATOM    270    C UNK A   1       2.470   1.909  80.239\\nATOM    271    H UNK A   1       3.474   1.094  77.826\\nATOM    272    H UNK A   1       4.920   2.074  77.753\\nATOM    273    C UNK A   1       4.704   0.897  80.219\\nATOM    274    H UNK A   1       4.432   2.931  80.095\\nATOM    275    N UNK A   1       5.330   0.000  80.606\\nATOM    276    C UNK A   1       2.470   1.910  81.774\\nATOM    277    H UNK A   1       2.911   2.850  82.141\\nATOM    278    H UNK A   1       1.875   2.759  79.872\\nATOM    279    H UNK A   1       2.000   1.017  79.799\\nATOM    280    C UNK A   1       1.090   1.792  82.265\\nATOM    281    H UNK A   1       2.987   1.011  82.141\\nATOM    282    N UNK A   1       0.001   1.698  82.652\\nTER     283\\n\"",
       "encoder": "text",
       "name": "Output PDB",
       "version": 1
      }
     },
     "metadata": {
      "scrapbook": {
       "data": true,
       "display": false,
       "name": "Output PDB"
      }
     },
     "output_type": "display_data"
    },
    {
     "data": {
      "application/scrapbook.scrap.text+json": {
       "data": "1",
       "encoder": "text",
       "name": "simToolAllOutputsSaved",
       "version": 1
      }
     },
     "metadata": {
      "scrapbook": {
       "data": true,
       "display": false,
       "name": "simToolAllOutputsSaved"
      }
     },
     "output_type": "display_data"
    }
   ],
   "source": [
    "db = DB(OUTPUTS)\n",
    "print(db)\n",
    "db.save('Helix Name', helix_name)\n",
    "copyAndSaveFileAsOutput('Output PDBfile', helix_name+'.pdb')\n",
    "output_pdb = \"\"\n",
    "with open(helix_name+'.pdb', 'r') as input_text:\n",
    "    output_pdb = input_text.read()\n",
    "db.save('Output PDB', output_pdb)"
   ]
  },
  {
   "cell_type": "code",
   "execution_count": null,
   "metadata": {},
   "outputs": [],
   "source": []
  }
 ],
 "metadata": {
  "celltoolbar": "Tags",
  "kernelspec": {
   "display_name": "Python 3",
   "language": "python",
   "name": "python3"
  },
  "language_info": {
   "codemirror_mode": {
    "name": "ipython",
    "version": 3
   },
   "file_extension": ".py",
   "mimetype": "text/x-python",
   "name": "python",
   "nbconvert_exporter": "python",
   "pygments_lexer": "ipython3",
   "version": "3.7.7"
  }
 },
 "nbformat": 4,
 "nbformat_minor": 2
}
