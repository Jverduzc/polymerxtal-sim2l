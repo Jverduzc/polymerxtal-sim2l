{
 "cells": [
  {
   "cell_type": "markdown",
   "metadata": {},
   "source": [
    "# PolymerXtal - Polymer Crystal Structure Generator and Analysis Software"
   ]
  },
  {
   "cell_type": "code",
   "execution_count": null,
   "metadata": {},
   "outputs": [],
   "source": [
    "from hublib import use\n",
    "from hublib.cmd import runCommand"
   ]
  },
  {
   "cell_type": "code",
   "execution_count": null,
   "metadata": {},
   "outputs": [],
   "source": [
    "%load_ext yamlmagic"
   ]
  },
  {
   "cell_type": "code",
   "execution_count": null,
   "metadata": {},
   "outputs": [],
   "source": [
    "%%yaml INPUTS\n",
    "\n",
    "polymer_type:\n",
    "    type: Text\n",
    "    value: PAN\n",
    "    description: Select the polymer type.\n",
    "    options: [PAN, PE, PP, PS, POM, PTFE, PVC]\n",
    "\n",
    "helicity:\n",
    "    type: Text\n",
    "    value: Helix 2*3/1\n",
    "    description: Select the helicity of the polymer chain.\n",
    "    options: [Helix 2*3/1, Helix 2*2/1, Helix 2*1/1]\n",
    "    \n",
    "monomers:\n",
    "    type: Number\n",
    "    description: Number of monomers\n",
    "    value: 30\n",
    "    min: 1\n",
    "    max: 100\n",
    "\n",
    "tacticity:\n",
    "    type: Text\n",
    "    value: isotactic\n",
    "    description: Select the tacticity of the polymer chain.\n",
    "    options: [isotactic, atactic, syndiotactic, None]\n",
    "\n",
    "chiriality:\n",
    "    type: Text\n",
    "    value: right\n",
    "    description: Select the chiriality of the polymer chain.\n",
    "    options: [left, right, None]\n",
    "\n",
    "head_tail_defect_ratio:\n",
    "    type: Number\n",
    "    description: Ratio of head-to-head and tail-to-tail connections\n",
    "    value: 0\n",
    "    min: 0\n",
    "    max: 1\n",
    "        \n",
    "configs:\n",
    "    type: Number\n",
    "    description: Number of attempts to find a configuration\n",
    "    value: 30\n",
    "    min: 1\n",
    "    max: 5000\n",
    "\n",
    "infinite:\n",
    "    type: Boolean\n",
    "    description: Whether to create periodic infinite chain\n",
    "    value: True\n",
    "        \n",
    "create_lmpdata_file:\n",
    "    type: Boolean\n",
    "    description: Whether to create corresponding LAMMPS data file or not\n",
    "    value: True\n",
    "\n",
    "create_lmpinput_file:\n",
    "    type: Boolean\n",
    "    description: Whether to create corresponding LAMMPS input File or not\n",
    "    value: True    \n",
    "\n",
    "ffield:\n",
    "    type: Text\n",
    "    value: Dreiding\n",
    "    description: Force field\n",
    "    options: [Dreiding, PCFF]\n",
    "\n",
    "bondscale:\n",
    "    type: Number\n",
    "    description: Applied to equilibrium bond lengths\n",
    "    value: 1.1\n",
    "    min: 1\n",
    "    max: 2\n",
    "\n",
    "charge:\n",
    "    type: Text\n",
    "    value: Gasteiger\n",
    "    description: Charge equilibration method\n",
    "    options: [Gasteiger]"
   ]
  },
  {
   "cell_type": "code",
   "execution_count": null,
   "metadata": {
    "tags": [
     "parameters"
    ]
   },
   "outputs": [],
   "source": [
    "polymer_type = \"PAN\"\n",
    "helicity = \"Helix 2*3/1\"\n",
    "monomers = 30\n",
    "tacticity = \"isotactic\"\n",
    "chiriality = \"right\"\n",
    "head_tail_defect_ratio = 0\n",
    "configs = 30\n",
    "infinite = True\n",
    "create_lmpdata_file = True\n",
    "create_lmpinput_file = True\n",
    "ffield = \"Dreiding\"\n",
    "bondscale = 1.1\n",
    "charge = \"Gasteiger\""
   ]
  },
  {
   "cell_type": "code",
   "execution_count": null,
   "metadata": {
    "tags": [
     "FILES"
    ]
   },
   "outputs": [],
   "source": [
    "EXTRA_FILES = ['polymerxtal']"
   ]
  },
  {
   "cell_type": "code",
   "execution_count": null,
   "metadata": {},
   "outputs": [],
   "source": [
    "import os\n",
    "import sys\n",
    "from polymerxtal import Helice, Chain\n",
    "from simtool import DB"
   ]
  },
  {
   "cell_type": "code",
   "execution_count": null,
   "metadata": {
    "scrolled": true
   },
   "outputs": [],
   "source": [
    "helix=helicity.split()[1]\n",
    "helice_atoms=eval(helix.split('*')[0])\n",
    "helice_motifs=eval(helix.split('*')[1].split('/')[0])\n",
    "helice_turns=eval(helix.split('/')[1])\n",
    "chain=Chain(polymer_type=polymer_type,helice=Helice(helice_atoms,helice_motifs,helice_turns),num_monomers=monomers,tacticity=tacticity,\n",
    "            chiriality=chiriality,head_tail_defect_ratio=head_tail_defect_ratio,configs=configs,infinite=infinite)\n",
    "helix_name=chain.build_chain(use_visualize=True, create_lmpdata_file=create_lmpdata_file, create_lmpinput_file=create_lmpinput_file,ffield=ffield,\n",
    "                             bondscale=bondscale,charge=charge)"
   ]
  },
  {
   "cell_type": "code",
   "execution_count": null,
   "metadata": {},
   "outputs": [],
   "source": [
    "%%yaml OUTPUTS\n",
    "HelixName:\n",
    "    type: Text\n",
    "    \n",
    "PDBview:\n",
    "    type: Text \n",
    "        \n",
    "PDB:\n",
    "    type: Text\n",
    "\n",
    "LAMMPSDataFile:\n",
    "    type: Text\n",
    "\n",
    "Datafile_warnings:\n",
    "    type: Text\n",
    "        \n",
    "X6paircoeffs:\n",
    "    type: Text\n",
    "\n",
    "LAMMPSinputfile:\n",
    "    type: Text"
   ]
  },
  {
   "cell_type": "code",
   "execution_count": null,
   "metadata": {},
   "outputs": [],
   "source": [
    "def copyAndSaveFileAsOutput(outputVariableName,inputPath):\n",
    "    if inputPath.startswith('file://'):\n",
    "        resultFile = os.path.basename(inputPath[7:])\n",
    "        if resultFile != inputPath[7:]:\n",
    "            shutil.copy2(inputPath[7:],resultFile)\n",
    "    else:\n",
    "        resultFile = os.path.basename(inputPath)\n",
    "        if resultFile != inputPath:\n",
    "            shutil.copy2(inputPath,resultFile)\n",
    "    db.save(outputVariableName,file=resultFile)"
   ]
  },
  {
   "cell_type": "code",
   "execution_count": null,
   "metadata": {},
   "outputs": [],
   "source": [
    "db = DB(OUTPUTS)\n",
    "print(db)\n",
    "db.save('HelixName', helix_name)\n",
    "copyAndSaveFileAsOutput('PDBview', helix_name+'_view.pdb')\n",
    "copyAndSaveFileAsOutput('PDB', helix_name+'.pdb')\n",
    "if os.path.exists(helix_name+'.data'):\n",
    "    copyAndSaveFileAsOutput('LAMMPSDataFile', helix_name+'.data')\n",
    "if os.path.exists('Datafile_warnings.txt'):\n",
    "    copyAndSaveFileAsOutput('Datafile_warnings', 'Datafile_warnings.txt')\n",
    "if os.path.exists('X6paircoeffs.txt'):\n",
    "    copyAndSaveFileAsOutput('X6paircoeffs', 'X6paircoeffs.txt')\n",
    "if os.path.exists('LAMMPSinputfile.txt'):\n",
    "    copyAndSaveFileAsOutput('LAMMPSinputfile', 'LAMMPSinputfile.txt')"
   ]
  },
  {
   "cell_type": "code",
   "execution_count": null,
   "metadata": {},
   "outputs": [],
   "source": []
  }
 ],
 "metadata": {
  "celltoolbar": "Tags",
  "kernelspec": {
   "display_name": "Python 3",
   "language": "python",
   "name": "python3"
  },
  "language_info": {
   "codemirror_mode": {
    "name": "ipython",
    "version": 3
   },
   "file_extension": ".py",
   "mimetype": "text/x-python",
   "name": "python",
   "nbconvert_exporter": "python",
   "pygments_lexer": "ipython3",
   "version": "3.7.7"
  }
 },
 "nbformat": 4,
 "nbformat_minor": 2
}
