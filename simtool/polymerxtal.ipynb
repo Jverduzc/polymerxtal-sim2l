{
 "cells": [
  {
   "cell_type": "markdown",
   "metadata": {},
   "source": [
    "# PolymerXtal - Polymer Crystal Structure Generator and Analysis Software"
   ]
  },
  {
   "cell_type": "code",
   "execution_count": 1,
   "metadata": {},
   "outputs": [],
   "source": [
    "from hublib import use\n",
    "from hublib.cmd import runCommand"
   ]
  },
  {
   "cell_type": "code",
   "execution_count": 2,
   "metadata": {},
   "outputs": [],
   "source": [
    "%load_ext yamlmagic"
   ]
  },
  {
   "cell_type": "code",
   "execution_count": 3,
   "metadata": {},
   "outputs": [
    {
     "data": {
      "application/javascript": [
       "\n",
       "            require(\n",
       "                [\n",
       "                    \"notebook/js/codecell\",\n",
       "                    \"codemirror/mode/yaml/yaml\"\n",
       "                ],\n",
       "                function(cc){\n",
       "                    cc.CodeCell.options_default.highlight_modes.magic_yaml = {\n",
       "                        reg: [\"^%%yaml\"]\n",
       "                    }\n",
       "                }\n",
       "            );\n",
       "            "
      ],
      "text/plain": [
       "<IPython.core.display.Javascript object>"
      ]
     },
     "metadata": {},
     "output_type": "display_data"
    }
   ],
   "source": [
    "%%yaml INPUTS\n",
    "\n",
    "polymer_type:\n",
    "    type: Text\n",
    "    value: PAN\n",
    "    description: Select the polymer type.\n",
    "    options: [PAN, PE, PP, PS, POM, PTFE, PVC]\n",
    "\n",
    "helicity:\n",
    "    type: Text\n",
    "    value: Helix 2*3/1\n",
    "    description: Select the helicity of the polymer chain.\n",
    "    options: [Helix 2*3/1, Helix 2*2/1, Helix 2*1/1]\n",
    "    \n",
    "monomers:\n",
    "    type: Number\n",
    "    description: Number of monomers\n",
    "    value: 30\n",
    "    min: 1\n",
    "    max: 100\n",
    "\n",
    "tacticity:\n",
    "    type: Text\n",
    "    value: isotactic\n",
    "    description: Select the tacticity of the polymer chain.\n",
    "    options: [isotactic, atactic, syndiotactic, None]\n",
    "\n",
    "chiriality:\n",
    "    type: Text\n",
    "    value: right\n",
    "    description: Select the chiriality of the polymer chain.\n",
    "    options: [left, right, None]\n",
    "\n",
    "head_tail_defect_ratio:\n",
    "    type: Number\n",
    "    description: Ratio of head-to-head and tail-to-tail connections\n",
    "    value: 0\n",
    "    min: 0\n",
    "    max: 1\n",
    "        \n",
    "configs:\n",
    "    type: Number\n",
    "    description: Number of attempts to find a configuration\n",
    "    value: 30\n",
    "    min: 1\n",
    "    max: 5000\n",
    "\n",
    "infinite:\n",
    "    type: Boolean\n",
    "    description: Whether to create corresponding LAMMPS Data File or not\n",
    "    value: True\n",
    "        \n",
    "create_lmpdata_file:\n",
    "    type: Boolean\n",
    "    description: Whether to create corresponding LAMMPS Data File or not\n",
    "    value: True\n",
    "\n",
    "create_lmpinput_file:\n",
    "    type: Boolean\n",
    "    description: Whether to create corresponding LAMMPS input File or not\n",
    "    value: True    \n",
    "        "
   ]
  },
  {
   "cell_type": "code",
   "execution_count": 4,
   "metadata": {
    "tags": [
     "parameters"
    ]
   },
   "outputs": [],
   "source": [
    "polymer_type = \"PAN\"\n",
    "helicity = \"Helix 2*3/1\"\n",
    "monomers = 30\n",
    "tacticity = \"isotactic\"\n",
    "chiriality = \"right\"\n",
    "head_tail_defect_ratio = 0\n",
    "configs = 30\n",
    "infinite = True\n",
    "create_lmpdata_file = True\n",
    "create_lmpinput_file = True"
   ]
  },
  {
   "cell_type": "code",
   "execution_count": 5,
   "metadata": {
    "tags": [
     "FILES"
    ]
   },
   "outputs": [],
   "source": [
    "EXTRA_FILES = ['polymerxtal']"
   ]
  },
  {
   "cell_type": "code",
   "execution_count": 6,
   "metadata": {},
   "outputs": [
    {
     "name": "stderr",
     "output_type": "stream",
     "text": [
      "PySide2/__init__.py: Unable to import shiboken2 from /home/nanohub/shen276/polymerxtal/simtool, /apps/share64/debian7/anaconda/anaconda-6/lib/python37.zip, /apps/share64/debian7/anaconda/anaconda-6/lib/python3.7, /apps/share64/debian7/anaconda/anaconda-6/lib/python3.7/lib-dynload, , /apps/share64/debian7/anaconda/anaconda-6/lib/python3.7/site-packages, /apps/share64/debian7/anaconda/anaconda-6/lib/python3.7/site-packages/IPython/extensions, /home/nanohub/shen276/.ipython\n",
      "PySide2/__init__.py: Unable to import shiboken2 from /home/nanohub/shen276/polymerxtal/simtool, /apps/share64/debian7/anaconda/anaconda-6/lib/python37.zip, /apps/share64/debian7/anaconda/anaconda-6/lib/python3.7, /apps/share64/debian7/anaconda/anaconda-6/lib/python3.7/lib-dynload, , /apps/share64/debian7/anaconda/anaconda-6/lib/python3.7/site-packages, /apps/share64/debian7/anaconda/anaconda-6/lib/python3.7/site-packages/IPython/extensions, /home/nanohub/shen276/.ipython\n",
      "PySide2/__init__.py: Unable to import shiboken2 from /home/nanohub/shen276/polymerxtal/simtool, /apps/share64/debian7/lammps/lammps-31Mar17/python2.7/site-packages, /apps/share64/debian7/anaconda/anaconda-6/lib/python37.zip, /apps/share64/debian7/anaconda/anaconda-6/lib/python3.7, /apps/share64/debian7/anaconda/anaconda-6/lib/python3.7/lib-dynload, , /apps/share64/debian7/anaconda/anaconda-6/lib/python3.7/site-packages, /apps/share64/debian7/anaconda/anaconda-6/lib/python3.7/site-packages/IPython/extensions, /home/nanohub/shen276/.ipython\n"
     ]
    }
   ],
   "source": [
    "import os\n",
    "import sys\n",
    "from polymerxtal import Helice, Chain\n",
    "from simtool import DB"
   ]
  },
  {
   "cell_type": "code",
   "execution_count": 7,
   "metadata": {
    "scrolled": true
   },
   "outputs": [
    {
     "name": "stdout",
     "output_type": "stream",
     "text": [
      "Total 4 possible configurations found for Helice 2_3_1\n",
      "Try Configuration 1\n",
      "\n",
      "========================================\n",
      "========================================\n",
      "\n",
      "OpenMP threading disabled\n",
      "\n",
      "MAX_BONDS: 32\n",
      "\n",
      "========================================\n",
      "========================================\n",
      "\n",
      "\n",
      "Read data from /home/nanohub/shen276/polymerxtal/simtool/polymerxtal/polymod/../data\n",
      "\n",
      "Element info: /home/nanohub/shen276/polymerxtal/simtool/polymerxtal/polymod/../data/elements\n",
      "\n",
      "\n",
      "Scale equilibrium bond lengths by 1.200000 to identify bonds\n",
      "\n",
      "\n",
      "4 known atom types:\n",
      "\n",
      "   \n",
      "N with 1 bond\n",
      "\n",
      "\n",
      "   \n",
      "C with 2 bonds\n",
      "\n",
      "\n",
      "   \n",
      "C with 4 bonds\n",
      "\n",
      "\n",
      "   \n",
      "H with 1 bond\n",
      "\n",
      "\n",
      "4 known bond types:\n",
      "\n",
      "   (\n",
      "C with 2 bonds\n",
      ") -- (\n",
      "N with 1 bond\n",
      ")\n",
      "\n",
      "   (\n",
      "C with 4 bonds\n",
      ") -- (\n",
      "C with 2 bonds\n",
      ")\n",
      "\n",
      "   (\n",
      "C with 4 bonds\n",
      ") -- (\n",
      "C with 4 bonds\n",
      ")\n",
      "\n",
      "   (\n",
      "H with 1 bond\n",
      ") -- (\n",
      "C with 4 bonds\n",
      ")\n",
      "\n",
      "\n",
      "\n",
      "Monomer h_m1T60T180:\n",
      "\n",
      " H\n",
      "\n",
      "\n",
      " C\n",
      "   1   1.09\n",
      "\n",
      "\n",
      " C\n",
      "   2   1.53\n",
      "   1  109.45\n",
      "\n",
      "\n",
      " H\n",
      "   3   1.10\n",
      "   2  109.49\n",
      "   1    60.03\n",
      "\n",
      "\n",
      " H\n",
      "   2   1.10\n",
      "   1  109.52\n",
      "   3   120.04\n",
      "\n",
      "\n",
      " H\n",
      "   2   1.10\n",
      "   1  109.44\n",
      "   3   234.92\n",
      "\n",
      "\n",
      " C\n",
      "   3   1.47\n",
      "   2  109.49\n",
      "   1   179.99\n",
      "\n",
      "\n",
      " H\n",
      "   3   1.10\n",
      "   2  109.49\n",
      "   1   294.94\n",
      "\n",
      "\n",
      " N\n",
      "   7   1.16\n",
      "   3  179.94\n",
      "   2    61.70\n",
      "\n",
      "\n",
      "Internal coordinates with Dreiding types:\n",
      "\n",
      "H\n",
      "_\n",
      "\n",
      "\n",
      "C\n",
      "_\n",
      "3\n",
      "   1   1.09\n",
      "\n",
      "\n",
      "C\n",
      "_\n",
      "3\n",
      "   2   1.53\n",
      "   1  109.45\n",
      "\n",
      "\n",
      "H\n",
      "_\n",
      "   3   1.10\n",
      "   2  109.49\n",
      "   1    60.03\n",
      "\n",
      "\n",
      "H\n",
      "_\n",
      "   2   1.10\n",
      "   1  109.52\n",
      "   3   120.04\n",
      "\n",
      "\n",
      "H\n",
      "_\n",
      "   2   1.10\n",
      "   1  109.44\n",
      "   3   234.92\n",
      "\n",
      "\n",
      "C\n",
      "_\n",
      "1\n",
      "   3   1.47\n",
      "   2  109.49\n",
      "   1   179.99\n",
      "\n",
      "\n",
      "H\n",
      "_\n",
      "   3   1.10\n",
      "   2  109.49\n",
      "   1   294.94\n",
      "\n",
      "\n",
      "N\n",
      "_\n",
      "0\n",
      "   7   1.16\n",
      "   3  179.94\n",
      "   2    61.70\n",
      "\n",
      "\n",
      "   4 backbone atoms\n",
      "\n",
      "   mass (without head and tail): 53.062500 amu\n",
      "\n",
      "   Backbone atom 3 torsion angle: \n",
      "fixed\n",
      "\n",
      "   Backbone atom 4 torsion angle: \n",
      "fixed\n",
      "\n",
      "   0 extra bonds not represented in z-matrix\n",
      "\n",
      "\n",
      "Stereochemistry options:\n",
      "\n",
      "   s1 (pattern): \n",
      "h_m1T60T180 \n",
      "h_m1T60T180 \n",
      "(repeat)\n",
      "\n",
      "\n",
      "\n",
      "System dimensions:\n",
      "\n",
      "   Minimum (0.000000, 0.000000, 0.000000)\n",
      "\n",
      "   Maximum (304.363233, 304.363233, 304.363233)\n",
      "\n",
      "Total polymer volume: 2.81953e+07 A^3\n",
      "\n",
      "\n",
      "Total domains: 1\n",
      "\n",
      "   1 domain in X (size 304.363233)\n",
      "\n",
      "   1 domain in Y (size 304.363233)\n",
      "\n",
      "   1 domain in Z (size 304.363233)\n",
      "\n",
      "\n",
      "Chain density: 0.000100 g/cm^3\n",
      "\n",
      "1 chains\n",
      "\n",
      "32 monomers per chain\n",
      "\n",
      "   0.000000 deviation in monomers per chain\n",
      "\n",
      "\n",
      "100.000000 % of chains will be s1\n",
      "\n",
      "\n",
      "Chain growth:\n",
      "\n",
      "   consider 50 configurations\n",
      "\n",
      "   Monte Carlo sampling\n",
      "\n",
      "   Temperature: 300.000000 K\n",
      "\n",
      "   Energy expression: \n",
      "Lennard-Jones\n",
      "\n",
      "   Bond cutoff for bonded interactions: 4\n",
      "\n",
      "   Interaction range for non-bonded interactions: 6.000000 A\n",
      "\n",
      "   Grid size for neighbor bins: 6.000000 A\n",
      "\n",
      "   Rotate varying torsions 0.000000 degrees when packing\n",
      "\n",
      "   Backbone bond length between monomers: 1.535100 A\n",
      "\n",
      "\n",
      "RNG seed: 1609615498\n",
      "\n",
      "Store atomic positions\n",
      "\n",
      "Write PDB file with unfolded positions\n",
      "\n",
      "Write intermediate files for LAMMPS preprocessing\n",
      "\n",
      "\n",
      "Maximum atoms: 226\n",
      "\n",
      "Rough estimate of density: 0.000100 g/cm^3\n",
      "\n",
      "\n",
      "Monomer selection:\n",
      "\n",
      "   h_m1T60T180: 100.00 %\n",
      "\n",
      "\n",
      "Stereochemistry selection:\n",
      "\n",
      "   s1: 100.00 %\n",
      "\n",
      "Mean polymerization: 32.000000\n",
      "\n",
      "   Standard deviation: 0.000000\n",
      "\n",
      "Total atoms: 226\n",
      "\n",
      "Final density: 0.000100 g/cm^3\n",
      "\n",
      "Total build and analysis time: 18.8333 s\n",
      "\n",
      "Success for Configuration 1\n",
      "Connectivity already in .tmp/bonds/pdbfile.pdb. Copying information ...\n",
      "Box size parameters read:\n",
      "x: 0.000 4.899\n",
      "y: 0.000 5.594\n",
      "z: 0.000 61.387\n",
      "210\n",
      "Getting information...\n",
      "Generating DREIDING atom types\n",
      "Equilibrating charge... \n",
      "\n",
      "Total charge= 0.0\n",
      "PAN_helix_2_3_1_iso+_inf.data created!\n",
      "Cannot use function ovito_view - the package ovito is not installed or cannot be found.\n",
      "Cannot use function ovito_view - the package ovito is not installed or cannot be found.\n"
     ]
    }
   ],
   "source": [
    "helix=helicity.split()[1]\n",
    "helice_atoms=eval(helix.split('*')[0])\n",
    "helice_motifs=eval(helix.split('*')[1].split('/')[0])\n",
    "helice_turns=eval(helix.split('/')[1])\n",
    "chain=Chain(polymer_type=polymer_type,helice=Helice(helice_atoms,helice_motifs,helice_turns),num_monomers=monomers,tacticity=tacticity,\n",
    "            chiriality=chiriality,head_tail_defect_ratio=head_tail_defect_ratio,configs=configs,infinite=infinite)\n",
    "helix_name=chain.build_chain(use_visualize=True, create_lmpdata_file=create_lmpdata_file, create_lmpinput_file=create_lmpinput_file)"
   ]
  },
  {
   "cell_type": "code",
   "execution_count": 8,
   "metadata": {},
   "outputs": [
    {
     "data": {
      "application/javascript": [
       "\n",
       "            require(\n",
       "                [\n",
       "                    \"notebook/js/codecell\",\n",
       "                    \"codemirror/mode/yaml/yaml\"\n",
       "                ],\n",
       "                function(cc){\n",
       "                    cc.CodeCell.options_default.highlight_modes.magic_yaml = {\n",
       "                        reg: [\"^%%yaml\"]\n",
       "                    }\n",
       "                }\n",
       "            );\n",
       "            "
      ],
      "text/plain": [
       "<IPython.core.display.Javascript object>"
      ]
     },
     "metadata": {},
     "output_type": "display_data"
    }
   ],
   "source": [
    "%%yaml OUTPUTS\n",
    "HelixName:\n",
    "    type: Text\n",
    "    \n",
    "PDBview:\n",
    "    type: Text \n",
    "        \n",
    "PDB:\n",
    "    type: Text\n",
    "\n",
    "LAMMPSDataFile:\n",
    "    type: Text\n",
    "\n",
    "Datafile_warnings:\n",
    "    type: Text\n",
    "        \n",
    "X6paircoeffs:\n",
    "    type: Text\n",
    "\n",
    "LAMMPSinputfile:\n",
    "    type: Text"
   ]
  },
  {
   "cell_type": "code",
   "execution_count": 9,
   "metadata": {},
   "outputs": [],
   "source": [
    "def copyAndSaveFileAsOutput(outputVariableName,inputPath):\n",
    "    if inputPath.startswith('file://'):\n",
    "        resultFile = os.path.basename(inputPath[7:])\n",
    "        if resultFile != inputPath[7:]:\n",
    "            shutil.copy2(inputPath[7:],resultFile)\n",
    "    else:\n",
    "        resultFile = os.path.basename(inputPath)\n",
    "        if resultFile != inputPath:\n",
    "            shutil.copy2(inputPath,resultFile)\n",
    "    db.save(outputVariableName,file=resultFile)"
   ]
  },
  {
   "cell_type": "code",
   "execution_count": 10,
   "metadata": {},
   "outputs": [
    {
     "data": {
      "application/scrapbook.scrap.text+json": {
       "data": "0",
       "encoder": "text",
       "name": "simToolSaveErrorOccurred",
       "version": 1
      }
     },
     "metadata": {
      "scrapbook": {
       "data": true,
       "display": false,
       "name": "simToolSaveErrorOccurred"
      }
     },
     "output_type": "display_data"
    },
    {
     "data": {
      "application/scrapbook.scrap.text+json": {
       "data": "0",
       "encoder": "text",
       "name": "simToolAllOutputsSaved",
       "version": 1
      }
     },
     "metadata": {
      "scrapbook": {
       "data": true,
       "display": false,
       "name": "simToolAllOutputsSaved"
      }
     },
     "output_type": "display_data"
    },
    {
     "name": "stdout",
     "output_type": "stream",
     "text": [
      "<simtool.db.DB object at 0x7fec28766d50>\n"
     ]
    },
    {
     "data": {
      "application/scrapbook.scrap.text+json": {
       "data": "\"PAN_helix_2_3_1_iso+_inf\"",
       "encoder": "text",
       "name": "HelixName",
       "version": 1
      }
     },
     "metadata": {
      "scrapbook": {
       "data": true,
       "display": false,
       "name": "HelixName"
      }
     },
     "output_type": "display_data"
    },
    {
     "data": {
      "application/scrapbook.scrap.text+json": {
       "data": "file://PAN_helix_2_3_1_iso+_inf_view.pdb",
       "encoder": "text",
       "name": "PDBview",
       "version": 1
      }
     },
     "metadata": {
      "scrapbook": {
       "data": true,
       "display": false,
       "name": "PDBview"
      }
     },
     "output_type": "display_data"
    },
    {
     "data": {
      "application/scrapbook.scrap.text+json": {
       "data": "file://PAN_helix_2_3_1_iso+_inf.pdb",
       "encoder": "text",
       "name": "PDB",
       "version": 1
      }
     },
     "metadata": {
      "scrapbook": {
       "data": true,
       "display": false,
       "name": "PDB"
      }
     },
     "output_type": "display_data"
    },
    {
     "data": {
      "application/scrapbook.scrap.text+json": {
       "data": "file://PAN_helix_2_3_1_iso+_inf.data",
       "encoder": "text",
       "name": "LAMMPSDataFile",
       "version": 1
      }
     },
     "metadata": {
      "scrapbook": {
       "data": true,
       "display": false,
       "name": "LAMMPSDataFile"
      }
     },
     "output_type": "display_data"
    },
    {
     "data": {
      "application/scrapbook.scrap.text+json": {
       "data": "file://Datafile_warnings.txt",
       "encoder": "text",
       "name": "Datafile_warnings",
       "version": 1
      }
     },
     "metadata": {
      "scrapbook": {
       "data": true,
       "display": false,
       "name": "Datafile_warnings"
      }
     },
     "output_type": "display_data"
    },
    {
     "data": {
      "application/scrapbook.scrap.text+json": {
       "data": "file://X6paircoeffs.txt",
       "encoder": "text",
       "name": "X6paircoeffs",
       "version": 1
      }
     },
     "metadata": {
      "scrapbook": {
       "data": true,
       "display": false,
       "name": "X6paircoeffs"
      }
     },
     "output_type": "display_data"
    },
    {
     "data": {
      "application/scrapbook.scrap.text+json": {
       "data": "file://LAMMPSinputfile.txt",
       "encoder": "text",
       "name": "LAMMPSinputfile",
       "version": 1
      }
     },
     "metadata": {
      "scrapbook": {
       "data": true,
       "display": false,
       "name": "LAMMPSinputfile"
      }
     },
     "output_type": "display_data"
    },
    {
     "data": {
      "application/scrapbook.scrap.text+json": {
       "data": "1",
       "encoder": "text",
       "name": "simToolAllOutputsSaved",
       "version": 1
      }
     },
     "metadata": {
      "scrapbook": {
       "data": true,
       "display": false,
       "name": "simToolAllOutputsSaved"
      }
     },
     "output_type": "display_data"
    }
   ],
   "source": [
    "db = DB(OUTPUTS)\n",
    "print(db)\n",
    "db.save('HelixName', helix_name)\n",
    "copyAndSaveFileAsOutput('PDBview', helix_name+'_view.pdb')\n",
    "copyAndSaveFileAsOutput('PDB', helix_name+'.pdb')\n",
    "if os.path.exists(helix_name+'.data'):\n",
    "    copyAndSaveFileAsOutput('LAMMPSDataFile', helix_name+'.data')\n",
    "if os.path.exists('Datafile_warnings.txt'):\n",
    "    copyAndSaveFileAsOutput('Datafile_warnings', 'Datafile_warnings.txt')\n",
    "if os.path.exists('X6paircoeffs.txt'):\n",
    "    copyAndSaveFileAsOutput('X6paircoeffs', 'X6paircoeffs.txt')\n",
    "if os.path.exists('LAMMPSinputfile.txt'):\n",
    "    copyAndSaveFileAsOutput('LAMMPSinputfile', 'LAMMPSinputfile.txt')"
   ]
  },
  {
   "cell_type": "code",
   "execution_count": null,
   "metadata": {},
   "outputs": [],
   "source": []
  }
 ],
 "metadata": {
  "celltoolbar": "Tags",
  "kernelspec": {
   "display_name": "Python 3",
   "language": "python",
   "name": "python3"
  },
  "language_info": {
   "codemirror_mode": {
    "name": "ipython",
    "version": 3
   },
   "file_extension": ".py",
   "mimetype": "text/x-python",
   "name": "python",
   "nbconvert_exporter": "python",
   "pygments_lexer": "ipython3",
   "version": "3.7.7"
  }
 },
 "nbformat": 4,
 "nbformat_minor": 2
}
